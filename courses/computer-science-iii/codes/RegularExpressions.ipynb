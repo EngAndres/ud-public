{
 "cells": [
  {
   "cell_type": "markdown",
   "id": "ac40292b",
   "metadata": {},
   "source": [
    "# Regular Expressions\n",
    "\n",
    "This is a notebook with different examples of _regular expressions_ in __Python__.\n",
    "\n",
    "Just need:\n",
    "```python\n",
    "import re\n",
    "```"
   ]
  },
  {
   "cell_type": "code",
   "execution_count": 2,
   "id": "255dba96",
   "metadata": {},
   "outputs": [],
   "source": [
    "# import package\n",
    "import re"
   ]
  },
  {
   "cell_type": "markdown",
   "id": "91b6d1b2",
   "metadata": {},
   "source": [
    "### Example 1\n",
    "\n",
    "Find all occurrences of a substring in a string.\n"
   ]
  },
  {
   "cell_type": "code",
   "execution_count": 10,
   "id": "9489b584",
   "metadata": {},
   "outputs": [
    {
     "name": "stdout",
     "output_type": "stream",
     "text": [
      "Matches for the pattern: ['son', 'sun'] . It appears:  2\n"
     ]
    }
   ],
   "source": [
    "text = \"Las rosas son rojas, las plantas sun verdes, esto es un poema\"\n",
    "matches = re.findall(r's[ou]n', text)\n",
    "print(\"Matches for the pattern:\", matches, \". It appears: \", len(matches))"
   ]
  },
  {
   "cell_type": "markdown",
   "id": "cf5aaa23",
   "metadata": {},
   "source": [
    "### Example 2\n",
    "\n",
    "Validate UD Email"
   ]
  },
  {
   "cell_type": "code",
   "execution_count": 12,
   "id": "65fb8880",
   "metadata": {},
   "outputs": [
    {
     "name": "stdout",
     "output_type": "stream",
     "text": [
      "mprestrepo@udistrital.edu.co is True\n",
      "lbeltran@udistrital.edu.co is True\n",
      "cgongora@udistrital.edu.co is True\n",
      "abs@ud.edu.co is False\n",
      "absudistrital.edu.co is False\n",
      "ads@udistrital.ed.co is False\n"
     ]
    }
   ],
   "source": [
    "pattern = r'^[a-z]+@udistrital.edu.co$'\n",
    "\n",
    "emails = [\"mprestrepo@udistrital.edu.co\", \"lbeltran@udistrital.edu.co\",\n",
    "          \"cgongora@udistrital.edu.co\", \"abs@ud.edu.co\",\n",
    "          \"absudistrital.edu.co\", \"ads@udistrital.ed.co\"]\n",
    "\n",
    "for email in emails:\n",
    "    print(f'{email} is {bool(re.fullmatch(pattern, email))}')"
   ]
  },
  {
   "cell_type": "markdown",
   "id": "b5c08317",
   "metadata": {},
   "source": [
    "### Example 3\n",
    "\n",
    "Colombian car plates\n"
   ]
  },
  {
   "cell_type": "code",
   "execution_count": null,
   "id": "4165e521",
   "metadata": {},
   "outputs": [],
   "source": [
    "pattern = r'^[A-Z]^3[0-9]^3$ | ^[A-Z]^3[0-9]^2[A-Z]$'\n",
    "pattern_2 = r'^[A-Z]^3[0-9]^2[A-Z0-9]$'\n",
    "pattern_pbx = r'pbx[:.\\s][0-9]^3-[0-9]^4'"
   ]
  }
 ],
 "metadata": {
  "kernelspec": {
   "display_name": "test",
   "language": "python",
   "name": "python3"
  },
  "language_info": {
   "codemirror_mode": {
    "name": "ipython",
    "version": 3
   },
   "file_extension": ".py",
   "mimetype": "text/x-python",
   "name": "python",
   "nbconvert_exporter": "python",
   "pygments_lexer": "ipython3",
   "version": "3.12.7"
  }
 },
 "nbformat": 4,
 "nbformat_minor": 5
}
