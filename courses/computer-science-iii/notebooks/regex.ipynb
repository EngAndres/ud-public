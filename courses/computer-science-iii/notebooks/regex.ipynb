{
 "cells": [
  {
   "cell_type": "markdown",
   "metadata": {},
   "source": [
    "# ReGex Package\n",
    "\n",
    "This is a _notebook_ where some examples for __regex__ package in python."
   ]
  },
  {
   "cell_type": "code",
   "execution_count": 1,
   "metadata": {},
   "outputs": [],
   "source": [
    "# python package to evaluate regular expressions\n",
    "import re"
   ]
  },
  {
   "cell_type": "markdown",
   "metadata": {},
   "source": [
    "Compile a pattern"
   ]
  },
  {
   "cell_type": "code",
   "execution_count": 3,
   "metadata": {},
   "outputs": [
    {
     "name": "stdout",
     "output_type": "stream",
     "text": [
      "['1', '2', '3']\n"
     ]
    }
   ],
   "source": [
    "pattern = \"[0-9]\" # match any digit\n",
    "compiled_pattern = re.compile(pattern)\n",
    "\n",
    "# test the pattern\n",
    "text = \"1 a 2 b 3 c\"\n",
    "\n",
    "# match the pattern any substring\n",
    "matches = compiled_pattern.findall(text)\n",
    "print(matches)"
   ]
  },
  {
   "cell_type": "code",
   "execution_count": 7,
   "metadata": {},
   "outputs": [
    {
     "name": "stdout",
     "output_type": "stream",
     "text": [
      "['1', '2', '34', '234567']\n"
     ]
    }
   ],
   "source": [
    "pattern = \"[0-9]+\" # match any digit\n",
    "compiled_pattern = re.compile(pattern)\n",
    "\n",
    "# test the pattern\n",
    "text = \"1 a 2 b 34 c 234567\"\n",
    "\n",
    "# match the pattern any substring\n",
    "matches = compiled_pattern.findall(text)\n",
    "print(matches)"
   ]
  },
  {
   "cell_type": "code",
   "execution_count": 9,
   "metadata": {},
   "outputs": [
    {
     "name": "stdout",
     "output_type": "stream",
     "text": [
      "['a', 'bas', 'cgfd', 'asdas', 'a', 'f', 'b']\n"
     ]
    }
   ],
   "source": [
    "# check letter\n",
    "\n",
    "pattern = \"[a-z]+\" # match any digit\n",
    "compiled_pattern = re.compile(pattern)\n",
    "\n",
    "# test the pattern\n",
    "text = \"1 a 2 bas 34 cgfd 234567 asdas a f b\"\n",
    "\n",
    "# match the pattern any substring\n",
    "matches = compiled_pattern.findall(text)\n",
    "print(matches)"
   ]
  },
  {
   "cell_type": "code",
   "execution_count": 39,
   "metadata": {},
   "outputs": [
    {
     "name": "stdout",
     "output_type": "stream",
     "text": [
      "[]\n"
     ]
    }
   ],
   "source": [
    "# check variable names\n",
    "pattern_variable = r\"\\b[a-z|_]+[a-z|A-Z|0-9|_]*\\b\"\n",
    "compiled_pattern = re.compile(pattern)\n",
    "\n",
    "# test the pattern\n",
    "text = \"1 a 2 bas 34 cgfd 234567 asdas a f _b var1 1var my_var myVar VAR var\"\n",
    "matches = compiled_pattern.findall(text)\n",
    "print(matches)"
   ]
  },
  {
   "cell_type": "code",
   "execution_count": 48,
   "metadata": {},
   "outputs": [
    {
     "name": "stdout",
     "output_type": "stream",
     "text": [
      "['var_1 ', ' var_2 ', ' 123 ', ' var3']\n",
      "var_1 is valid\n",
      "var_2 is valid\n",
      "123 is valid\n",
      "var3 is valid\n"
     ]
    }
   ],
   "source": [
    "# split an aritmectic expression\n",
    "pattern = r\"[=|+|\\-|*|/]\"\n",
    "compiled_aritmetic = re.compile(pattern)\n",
    "\n",
    "# test the pattern\n",
    "text = \"var_1 = var_2 + 123 - var3\"\n",
    "\n",
    "# split the expression based on aritmetic operators\n",
    "split_result = re.split(compiled_aritmetic, text)\n",
    "print(split_result)\n",
    "\n",
    "# validate if variable or number\n",
    "for token in split_result:\n",
    "    token = token.strip()\n",
    "    if re.match(pattern_variable, token) or re.match(r\"\\b[0-9]+\\b\", token):\n",
    "        print(f\"{token} is valid\")\n",
    "    else:\n",
    "        print(\"ERROR.\")\n",
    "        break    \n"
   ]
  },
  {
   "cell_type": "code",
   "execution_count": 60,
   "metadata": {},
   "outputs": [
    {
     "name": "stdout",
     "output_type": "stream",
     "text": [
      "Pass first filter\n",
      "Pass second filter\n",
      "Conditional is valid\n"
     ]
    }
   ],
   "source": [
    "# validate a conditional\n",
    "def validate_logic_operation(code_segment):\n",
    "    validation = False\n",
    "\n",
    "    logical_operators = r\"==|!=|<|>|<=|>=\"\n",
    "    tokens = re.split(logical_operators, code_segment)\n",
    "    for token in tokens:\n",
    "        token = token.strip()\n",
    "        if re.match(pattern_variable, token) or re.match(r\"\\b[0-9]+\\b\", token):\n",
    "            validation = True\n",
    "    \n",
    "    return validation\n",
    "\n",
    "def validate_conditional(code_segment):\n",
    "    result = False\n",
    "\n",
    "    pattern_start = r\"^if\\(.*}$\"\n",
    "    check_if = re.match(pattern_start, code_segment)\n",
    "    if check_if:\n",
    "        print(\"Pass first filter\")\n",
    "        split_condition = re.findall(r\"\\(.*\\)\", code_segment)[0].strip(\"()\")\n",
    "        if validate_logic_operation(split_condition):\n",
    "            print(\"Pass second filter\")\n",
    "            result = True\n",
    "    \n",
    "    return result\n",
    "\n",
    "text = \"if(var_1==1){x=5}else{y=6}\"\n",
    "if validate_conditional(text):\n",
    "    print(\"Conditional is valid\")\n",
    "else:\n",
    "    print(\"Conditional is not valid\")"
   ]
  }
 ],
 "metadata": {
  "kernelspec": {
   "display_name": "Python 3",
   "language": "python",
   "name": "python3"
  },
  "language_info": {
   "codemirror_mode": {
    "name": "ipython",
    "version": 3
   },
   "file_extension": ".py",
   "mimetype": "text/x-python",
   "name": "python",
   "nbconvert_exporter": "python",
   "pygments_lexer": "ipython3",
   "version": "3.11.10"
  }
 },
 "nbformat": 4,
 "nbformat_minor": 2
}
