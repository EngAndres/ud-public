{
  "nbformat": 4,
  "nbformat_minor": 0,
  "metadata": {
    "colab": {
      "provenance": []
    },
    "kernelspec": {
      "name": "python3",
      "display_name": "Python 3"
    },
    "language_info": {
      "name": "python"
    }
  },
  "cells": [
    {
      "cell_type": "code",
      "metadata": {
        "id": "XV0zhgDor8K7"
      },
      "source": [
        "def cuadrado(numero):\n",
        "  resultado = numero * numero\n",
        "  return resultado\n",
        "\n",
        "def suma(a, b):\n",
        "  resultado = a + b\n",
        "  return resultado\n",
        "\n",
        "print(cuadrado(2))\n",
        "resultado_1 = cuadrado(5)\n",
        "resultado_2 = cuadrado(6)\n",
        "resultado_3 = cuadrado(1294.87)\n",
        "\n",
        "print(resultado_1)\n",
        "print(resultado_2)\n",
        "print(resultado_3)\n",
        "\n",
        "print(suma(3,4))"
      ],
      "execution_count": null,
      "outputs": []
    }
  ]
}