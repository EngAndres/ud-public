{
  "cells": [
    {
      "cell_type": "markdown",
      "metadata": {
        "id": "gN0P36r5Eibr"
      },
      "source": [
        "***\n",
        "# Tuples\n",
        "\n",
        "A tuple is a sequence of elements whom could persist heterogenous data as: integers, floats, strings, lists, dictionaties, and objects...even, another tuples.\n",
        "\n",
        "It is possible to create a tuple using two methods: (i) using circle parenthesis, (ii) just a secuence of data separated by comma.\n",
        "\n",
        "However, a _tuple_ is an inmutable data structure, it means, once you created, you cannot change it contents. It is usfeul when you want to move data between your code but you don't want to modify any data by accident, or to package data to send as parameter.\n",
        "\n",
        "__Example No 1:__\n",
        "\n",
        "Assign values to a tuple type variable. In the variable _tup_ there are elementos of different data type, and here parenthesis are used to define the tuple.\n",
        "In the case of the variable _a_ the values are assigned without parenthesis."
      ]
    },
    {
      "cell_type": "code",
      "execution_count": 1,
      "metadata": {
        "id": "ul6pktfu6A0r"
      },
      "outputs": [
        {
          "name": "stdout",
          "output_type": "stream",
          "text": [
            "Tuple 1:  (1, 2, 3, 4.5, 'hola', 'a')\n",
            "Tuple 2:  (1, 2, 3, 'hello')\n",
            "Data type:  <class 'tuple'>\n"
          ]
        }
      ],
      "source": [
        "tup = (1, 2, 3, 4.5, \"hola\", \"a\")\n",
        "a = 1, 2, 3, \"hello\"\n",
        "\n",
        "# check tuples\n",
        "print(\"Tuple 1: \", tup)\n",
        "print(\"Tuple 2: \", a)\n",
        "print(\"Data type: \", type(a))  # verify the data type of tuple a"
      ]
    },
    {
      "cell_type": "markdown",
      "metadata": {
        "id": "ligiVsJ5NS6H"
      },
      "source": [
        "__Example No. 2:__\n",
        "\n",
        "In this example a tuple is created using another tuples, nested tuples.\n",
        "In particular, a tuple called _tuple\\_1_ saves integer values; a tuple called _tuple\\_2_ saves string values. Then, a tuple called _tuple\\_3 is composed by the previous ones.\n",
        "\n",
        "_Hint_: To use sub-indexes remember to think in multi-dimensional data."
      ]
    },
    {
      "cell_type": "code",
      "execution_count": 5,
      "metadata": {
        "id": "4NLx14sz7XGi"
      },
      "outputs": [
        {
          "name": "stdout",
          "output_type": "stream",
          "text": [
            "Full tuple: ((0, 1, 2, 3), ('A', 'B', 'C'))\n",
            "First nested tuple:  (0, 1, 2, 3)\n",
            "Second nested tuple:  ('A', 'B', 'C')\n",
            "2nd item of 2nd tuple:  B\n"
          ]
        }
      ],
      "source": [
        "tuple_1 = (0, 1, 2, 3)  # integers\n",
        "tuple_2 = (\"A\", \"B\", \"C\")  # strings\n",
        "tuple_3 = (tuple_1, tuple_2)  # nested tuples\n",
        "\n",
        "print(\"Full tuple:\", tuple_3)  # full tuple\n",
        "print(\"First nested tuple: \", tuple_3[0])  # elements of first nested tuple\n",
        "print(\"Second nested tuple: \", tuple_3[1])  # elements of second nested tuple\n",
        "print(\n",
        "    \"2nd item of 2nd tuple: \", tuple_3[1][1]\n",
        ")  # multi-dimensionality to get just one value"
      ]
    },
    {
      "cell_type": "markdown",
      "metadata": {
        "id": "K4Ln592oNkdI"
      },
      "source": [
        "__Example No. 3:__\n",
        "\n",
        "In this example a couple of tuples are concatenated using __+__ sign. Remember, the orden of concatenation afects the output."
      ]
    },
    {
      "cell_type": "code",
      "execution_count": 6,
      "metadata": {
        "id": "uoUWTyq2OIeX"
      },
      "outputs": [
        {
          "name": "stdout",
          "output_type": "stream",
          "text": [
            "First order: ('a', 'b', 'c', 'd', 'e', 1, 2, 3, 4, 5)\n",
            "Second order: (1, 2, 3, 4, 5, 'a', 'b', 'c', 'd', 'e')\n"
          ]
        }
      ],
      "source": [
        "tuple_1 = (\"a\", \"b\", \"c\", \"d\", \"e\")\n",
        "tuple_2 = (1, 2, 3, 4, 5)\n",
        "\n",
        "tuple_3 = tuple_1 + tuple_2  # first symbols, then numbers\n",
        "print(\"First order:\", tuple_3)\n",
        "\n",
        "tuple_4 = tuple_2 + tuple_1  # first numbers, then symbols\n",
        "print(\"Second order:\", tuple_4)"
      ]
    },
    {
      "cell_type": "markdown",
      "metadata": {
        "id": "5BCJzlHlOJPZ"
      },
      "source": [
        "__Example No. 4:__\n",
        "\n",
        "In this example the idea is to show how you can repeat elements from a tuple suing concatenated copies using multiplication (*) operation."
      ]
    },
    {
      "cell_type": "code",
      "execution_count": 8,
      "metadata": {
        "id": "Y8Bm8euC8kCS"
      },
      "outputs": [
        {
          "name": "stdout",
          "output_type": "stream",
          "text": [
            "Concatenation of three repetitions: (1, 2, 3, 4, 5, 1, 2, 3, 4, 5, 1, 2, 3, 4, 5)\n",
            "Concatenation of two repetitions: ('Abc', 'Bcd', 'Abc', 'Bcd')\n"
          ]
        }
      ],
      "source": [
        "tuple_1 = (1, 2, 3, 4, 5)  # original tuple\n",
        "tuple_2 = tuple_1 * 3  # new typle based on concatenations\n",
        "print(\"Concatenation of three repetitions:\", tuple_2)\n",
        "\n",
        "tuple_3 = (\"Abc\", \"Bcd\")  # a new tuple based on strings\n",
        "tuple_4 = tuple_3 * 2  # new tuple based in two repetitions\n",
        "print(\"Concatenation of two repetitions:\", tuple_4)"
      ]
    },
    {
      "cell_type": "markdown",
      "metadata": {
        "id": "YBuN7fedNlg6"
      },
      "source": [
        "__Example No. 5:__\n",
        "\n",
        "It is possile to apply logical operators to make comparison between tuples.  If there are strings, rememeber the comparison is based on lexicographical order. In general, in tuples the comparison works item by item of each tuple, it means comparing elements at the same index in both tuples."
      ]
    },
    {
      "cell_type": "code",
      "execution_count": 1,
      "metadata": {
        "id": "jFhm4DjQ9rjT"
      },
      "outputs": [
        {
          "name": "stdout",
          "output_type": "stream",
          "text": [
            "Answer 1:  True\n",
            "Answer 2:  False\n",
            "Answer 3:  True\n",
            "Answer 4:  False\n"
          ]
        },
        {
          "ename": "TypeError",
          "evalue": "'>' not supported between instances of 'str' and 'int'",
          "output_type": "error",
          "traceback": [
            "\u001b[0;31m---------------------------------------------------------------------------\u001b[0m",
            "\u001b[0;31mTypeError\u001b[0m                                 Traceback (most recent call last)",
            "Cell \u001b[0;32mIn[1], line 5\u001b[0m\n\u001b[1;32m      3\u001b[0m \u001b[38;5;28mprint\u001b[39m(\u001b[38;5;124m\"\u001b[39m\u001b[38;5;124mAnswer 3: \u001b[39m\u001b[38;5;124m\"\u001b[39m, (\u001b[38;5;124m'\u001b[39m\u001b[38;5;124mHello\u001b[39m\u001b[38;5;124m'\u001b[39m, \u001b[38;5;241m123\u001b[39m)   \u001b[38;5;241m>\u001b[39m  (\u001b[38;5;124m'\u001b[39m\u001b[38;5;124mHello\u001b[39m\u001b[38;5;124m'\u001b[39m, \u001b[38;5;241m23\u001b[39m))  \u001b[38;5;66;03m# true because 123 is greater than 23 in the second item\u001b[39;00m\n\u001b[1;32m      4\u001b[0m \u001b[38;5;28mprint\u001b[39m(\u001b[38;5;124m\"\u001b[39m\u001b[38;5;124mAnswer 4: \u001b[39m\u001b[38;5;124m\"\u001b[39m, (\u001b[38;5;124m'\u001b[39m\u001b[38;5;124mHallo\u001b[39m\u001b[38;5;124m'\u001b[39m, \u001b[38;5;124m\"\u001b[39m\u001b[38;5;124m123\u001b[39m\u001b[38;5;124m\"\u001b[39m) \u001b[38;5;241m>\u001b[39m  (\u001b[38;5;124m'\u001b[39m\u001b[38;5;124mHello\u001b[39m\u001b[38;5;124m'\u001b[39m, \u001b[38;5;241m23\u001b[39m))  \u001b[38;5;66;03m# false because e > a\u001b[39;00m\n\u001b[0;32m----> 5\u001b[0m \u001b[38;5;28mprint\u001b[39m(\u001b[38;5;124m\"\u001b[39m\u001b[38;5;124mAnswer 5: \u001b[39m\u001b[38;5;124m\"\u001b[39m, \u001b[43m(\u001b[49m\u001b[38;5;124;43m'\u001b[39;49m\u001b[38;5;124;43mHello\u001b[39;49m\u001b[38;5;124;43m'\u001b[39;49m\u001b[43m,\u001b[49m\u001b[43m \u001b[49m\u001b[38;5;124;43m\"\u001b[39;49m\u001b[38;5;124;43m123\u001b[39;49m\u001b[38;5;124;43m\"\u001b[39;49m\u001b[43m)\u001b[49m\u001b[43m \u001b[49m\u001b[38;5;241;43m>\u001b[39;49m\u001b[43m  \u001b[49m\u001b[43m(\u001b[49m\u001b[38;5;124;43m'\u001b[39;49m\u001b[38;5;124;43mHello\u001b[39;49m\u001b[38;5;124;43m'\u001b[39;49m\u001b[43m,\u001b[49m\u001b[43m \u001b[49m\u001b[38;5;241;43m23\u001b[39;49m\u001b[43m)\u001b[49m)  \u001b[38;5;66;03m# error because you cannot compare a string and an int\u001b[39;00m\n",
            "\u001b[0;31mTypeError\u001b[0m: '>' not supported between instances of 'str' and 'int'"
          ]
        }
      ],
      "source": [
        "print(\"Answer 1: \", (\"Hallo\", 123) < (\"Hello\", 123))  # true because a < e in first item\n",
        "print(\n",
        "    \"Answer 2: \", (\"Hello\", 123) == (\"hello\", 123)\n",
        ")  # false because H != h in first item\n",
        "print(\n",
        "    \"Answer 3: \", (\"Hello\", 123) > (\"Hello\", 23)\n",
        ")  # true because 123 is greater than 23 in the second item\n",
        "print(\"Answer 4: \", (\"Hallo\", \"123\") > (\"Hello\", 23))  # false because e > a\n",
        "print(\n",
        "    \"Answer 5: \", (\"Hello\", \"123\") > (\"Hello\", 23)\n",
        ")  # error because you cannot compare a string and an int"
      ]
    },
    {
      "cell_type": "markdown",
      "metadata": {
        "id": "A71i58BGNmTY"
      },
      "source": [
        "__Example No. 6:__\n",
        "\n",
        "In this example the idea is to access to some tuple items using subindexes, remember indexes start at $0$. Negative indexes in _python_ starts at the end.If index is out of range, in both positive or negative case, it will raise an error."
      ]
    },
    {
      "cell_type": "code",
      "execution_count": 3,
      "metadata": {
        "id": "HHvPfsC-_UVI"
      },
      "outputs": [
        {
          "name": "stdout",
          "output_type": "stream",
          "text": [
            "Output 1: Ironman\n",
            "Output 2: Hulk\n",
            "Output 3: Hulk\n",
            "Output 4: Thor\n",
            "Output 5: o\n"
          ]
        }
      ],
      "source": [
        "avengers = (\"Ironman\", \"Thor\", \"Ant-man\", \"Hulk\")  # base tuple\n",
        "print(\"Output 1:\", avengers[0])  # access \"Ironman\"\n",
        "print(\"Output 2:\", avengers[3])  # access \"Hulk\"\n",
        "print(\"Output 3:\", avengers[-1])  # access \"Hulk\", el último elemento\n",
        "print(\"Output 4:\", avengers[-3])  # access \"Thor\"\n",
        "\n",
        "# you could apply multi-dimenssion access to get information for a tuple item\n",
        "print(\"Output 5:\", avengers[0][2])"
      ]
    },
    {
      "cell_type": "markdown",
      "metadata": {
        "id": "nZNY7IkrNoBm"
      },
      "source": [
        "__Example No. 7:__\n",
        "\n",
        "In this example the idea is to use set theory notation in order to validate if a item exists into the tuple."
      ]
    },
    {
      "cell_type": "code",
      "execution_count": 4,
      "metadata": {
        "id": "cdmUCmol_gPc"
      },
      "outputs": [
        {
          "name": "stdout",
          "output_type": "stream",
          "text": [
            "yes to python\n"
          ]
        }
      ],
      "source": [
        "text = (\"learning\", \"to code\", \"in\", \"python\")  # base tuple\n",
        "if \"to code\" in text:  # using 'in', in spanish \"pertenece a\"\n",
        "    print(\"yes to python\")  # if the element is in the tuple, it takes the \"True\" way\n",
        "else:\n",
        "    print(\n",
        "        \"no to python\"\n",
        "    )  # if the element is not in the tuple, it takes the \"False\" way"
      ]
    },
    {
      "cell_type": "markdown",
      "metadata": {
        "id": "eoF_sNAANp-3"
      },
      "source": [
        "__Example No. 8:__\n",
        "\n",
        "In this example, it is shown that it is possible to determine if an element is not in a tuple, using a conditional and a notion of non-membership."
      ]
    },
    {
      "cell_type": "code",
      "execution_count": 2,
      "metadata": {
        "id": "PTOAgrklAwT8"
      },
      "outputs": [
        {
          "name": "stdout",
          "output_type": "stream",
          "text": [
            "yes to python, no to paiton\n"
          ]
        }
      ],
      "source": [
        "text = (\"learning\", \"to code\", \"in\", \"python\")  # base tuple\n",
        "if \"paiton\" not in text:  # using 'not in', in spanish \"no pertenece a\"\n",
        "    print(\n",
        "        \"yes to python, no to paiton\"\n",
        "    )  # if the element is not in the tuple, it takes the \"True\" way\n",
        "else:\n",
        "    print(\"no to python\")  # if the element is in the tuple, it takes the \"False\" way"
      ]
    },
    {
      "cell_type": "markdown",
      "metadata": {
        "id": "HLihW8ZmNrS4"
      },
      "source": [
        "__Example No. 9:__\n",
        "\n",
        "In this exercise, it is possible to iterate over a tuple using a **for** loop to traverse each element."
      ]
    },
    {
      "cell_type": "code",
      "execution_count": 5,
      "metadata": {
        "id": "PYoBXrTGBhuR"
      },
      "outputs": [
        {
          "name": "stdout",
          "output_type": "stream",
          "text": [
            "hello --- friends --- of mine\n"
          ]
        }
      ],
      "source": [
        "greeting = (\"hello\", \"friends\", \"of mine\")  # base tuple\n",
        "for component in greeting:  # for each element in the tuple\n",
        "    if component == greeting[-1]:\n",
        "        print(component)\n",
        "    else:\n",
        "        print(component, end=\" --- \")"
      ]
    },
    {
      "cell_type": "markdown",
      "metadata": {
        "id": "MErTskwpNsUs"
      },
      "source": [
        "__Example No. 10:__\n",
        "\n",
        "In this example, it is shown that it is possible to swap the values of a group of variables using cross-assignment and the concept of a tuple."
      ]
    },
    {
      "cell_type": "code",
      "execution_count": 6,
      "metadata": {
        "id": "HaVWHbuZCIO2"
      },
      "outputs": [
        {
          "name": "stdout",
          "output_type": "stream",
          "text": [
            "a = 3\n",
            "b = 9\n"
          ]
        }
      ],
      "source": [
        "a = 9\n",
        "b = 3\n",
        "a, b = b, a  # swap values based on tuples\n",
        "print(\"a =\", a)\n",
        "print(\"b =\", b)"
      ]
    },
    {
      "cell_type": "markdown",
      "metadata": {
        "id": "AzjLGC1_NtQq"
      },
      "source": [
        "__Example No. 11:__\n",
        "\n",
        "In this example, it is possible to assign the values of a group of variables using multiple assignment, the **for** loop, and the concept of a tuple. It means, _tuple comprehension_ and _indexes_."
      ]
    },
    {
      "cell_type": "code",
      "execution_count": 8,
      "metadata": {
        "id": "cAHBBxorCbAk"
      },
      "outputs": [
        {
          "name": "stdout",
          "output_type": "stream",
          "text": [
            "First: var1 = 9 , var2 = 3 , var3 = 5\n",
            "Second: var1 = 11 , var2 = -2 , var3 = 8\n"
          ]
        }
      ],
      "source": [
        "tuple_ = (11, 9, -2, 3, 8, 5)  # base tuple\n",
        "# traversal of three elements of the tuple, assigned to three variables\n",
        "var_1, var_2, var_3 = (tuple_[i] for i in (1, 3, 5))\n",
        "print(\"First: var1 =\", var_1, \", var2 =\", var_2, \", var3 =\", var_3)\n",
        "\n",
        "# traversal of three elements of the tuple using range, assigned to three variables\n",
        "var_1, var_2, var_3 = (tuple_[i] for i in range(0, 6, 2))\n",
        "print(\"Second: var1 =\", var_1, \", var2 =\", var_2, \", var3 =\", var_3)"
      ]
    },
    {
      "cell_type": "markdown",
      "metadata": {
        "id": "lRZZRFRLC95l"
      },
      "source": [
        "**Problem No. 1**\n",
        "\n",
        "_Problem_: Construct a tuple with the numbers from $0$ to $10$ squared.\n",
        "\n",
        "_Solution:_ Using a **for** loop to traverse a defined range, in this case using _range(11)_ to generate the numbers from $1$ to $10$, and obtaining the square of each possible value of $i$. This generates a sequence of values, and using the casting _tuple()_ converts that sequence into a tuple."
      ]
    },
    {
      "cell_type": "code",
      "execution_count": 10,
      "metadata": {
        "id": "6sAXjspw6jv9"
      },
      "outputs": [
        {
          "name": "stdout",
          "output_type": "stream",
          "text": [
            "Result: (0, 1, 4, 9, 16, 25, 36, 49, 64, 81, 100)\n"
          ]
        }
      ],
      "source": [
        "result_tuple = tuple(i**2 for i in range(11))  # constructing the tuple using a loop\n",
        "print(\"Result:\", result_tuple)"
      ]
    },
    {
      "cell_type": "markdown",
      "metadata": {
        "id": "2KvTsG1LNuU6"
      },
      "source": [
        "__Example No. 12:__\n",
        "\n",
        "In this example, it is shown that more than one value can be returned from a function using the concept of a tuple."
      ]
    },
    {
      "cell_type": "code",
      "execution_count": 11,
      "metadata": {
        "id": "R1y8QmK1DbSm"
      },
      "outputs": [
        {
          "name": "stdout",
          "output_type": "stream",
          "text": [
            "First: min = 5 , max = 13\n",
            "Second: min = -4 , max = 12 , data_type = <class 'int'>\n",
            "Third: tuple = (8, 8) , min = 8 , max = 8 , data_type = <class 'tuple'>\n"
          ]
        }
      ],
      "source": [
        "def min_max(a: int, b: int) -> tuple[int, int]:\n",
        "    \"\"\"\n",
        "    Function that returns the minimum and maximum between two elements.\n",
        "\n",
        "    Parameters:\n",
        "    - a (int): first element.\n",
        "    - b (int): second element.\n",
        "\n",
        "    Returns:\n",
        "    - tuple[int, int]: minimum and maximum elements.\n",
        "    \"\"\"\n",
        "    if (\n",
        "        a < b\n",
        "    ):  # if a is smaller it is returned as the first parameter, and b as the second\n",
        "        return a, b\n",
        "    else:  # if b is smaller it is returned as the first parameter, and a as the second\n",
        "        return b, a\n",
        "\n",
        "\n",
        "# test with the first parameter as smaller\n",
        "min_, max_ = min_max(5, 13)  # storage in two variables\n",
        "print(\"First: min =\", min_, \",\", \"max =\", max_)\n",
        "\n",
        "# test with the second parameter as smaller\n",
        "x, y = min_max(12, -4)  # storage in two variables\n",
        "print(\"Second: min =\", x, \",\", \"max =\", y, \",\", \"data_type =\", type(y))\n",
        "\n",
        "# test with both parameters equal\n",
        "tuple_ = min_max(8, 8)  # storage in a tuple\n",
        "print(\n",
        "    \"Third: tuple =\",\n",
        "    tuple_,\n",
        "    \",\",\n",
        "    \"min =\",\n",
        "    tuple_[0],\n",
        "    \",\",\n",
        "    \"max =\",\n",
        "    tuple_[1],\n",
        "    \",\",\n",
        "    \"data_type =\",\n",
        "    type(tuple_),\n",
        ")"
      ]
    },
    {
      "cell_type": "markdown",
      "metadata": {
        "id": "NNwyYw62NvOl"
      },
      "source": [
        "__Example No. 13:__\n",
        "\n",
        "In this example, the _len_ function is shown, which determines the dimension (length) of a tuple. If the tuple is empty, the size is equal to zero."
      ]
    },
    {
      "cell_type": "code",
      "execution_count": 13,
      "metadata": {
        "id": "1Wm0ZtV-FBOz"
      },
      "outputs": [
        {
          "name": "stdout",
          "output_type": "stream",
          "text": [
            "Size of tuple 'tup': 5\n",
            "Size of the tuple 'name': 2\n",
            "Size of the tuple 'job': 3\n",
            "Size of the 'empty' tuple: 0\n"
          ]
        }
      ],
      "source": [
        "# construction of different example tuples\n",
        "tup = (1, 2, 3, 4, \"hello\")\n",
        "name = (\"Minch\", \"Yoda\")\n",
        "job = (\"Stars\", \"War\", \"Movie\")\n",
        "empty = ()\n",
        "\n",
        "# printing the sizes of each one of the tuples\n",
        "print(\"Size of tuple 'tup':\", len(tup))\n",
        "print(\"Size of the tuple 'name':\", len(name))\n",
        "print(\"Size of the tuple 'job':\", len(job))\n",
        "print(\"Size of the 'empty' tuple:\", len(empty))"
      ]
    },
    {
      "cell_type": "markdown",
      "metadata": {
        "id": "eOOXVorDNwIP"
      },
      "source": [
        "__Example No. 14:__\n",
        "\n",
        "In this example, the _slice_ function is shown, which obtains a portion (subtuple) of a tuple. The\n",
        "definition is similar to the _slice_ function of a string, [start : end : increment]. By obligation, the start and end must be defined using a : separator, with the default start being $0$ and the end being the last element of the tuple. If you want to change the increment, you must add the third element."
      ]
    },
    {
      "cell_type": "code",
      "execution_count": 14,
      "metadata": {
        "id": "bEd8RdW-FJUk"
      },
      "outputs": [
        {
          "name": "stdout",
          "output_type": "stream",
          "text": [
            "Slice 1:  ('Ironman', 'Thor')\n",
            "Slice 2:  ('Thor', 'Ant-man')\n",
            "Slice 3:  ()\n",
            "Slice 4:  ('Ant-man', 'Hulk')\n",
            "Slice 5:  ('Hulk', 'Ant-man', 'Thor', 'Ironman')\n"
          ]
        }
      ],
      "source": [
        "avengers = (\"Ironman\", \"Thor\", \"Ant-man\", \"Hulk\")  # base tuple\n",
        "\n",
        "# slice that goes from the beginning to a position before index 2\n",
        "print(\"Slice 1: \", avengers[:2])\n",
        "# slice that goes from position 1 to a position before index 3\n",
        "print(\"Slice 2: \", avengers[1:3])\n",
        "# slice that starts at position 3, and goes up to before three...therefore, it generates empty\n",
        "print(\"Slice 3: \", avengers[3:3])\n",
        "# slice that goes from the penultimate element to the end of the tuple\n",
        "print(\"Slice 4: \", avengers[-2:])\n",
        "# slice that traverses the entire tuple and gets the inverse by making a negative increment\n",
        "print(\"Slice 5: \", avengers[::-1])"
      ]
    },
    {
      "cell_type": "markdown",
      "metadata": {
        "id": "mdPwwvlbNyBJ"
      },
      "source": [
        "__Example No. 15:__\n",
        "\n",
        "In this exercise, the *count* method is shown, which obtains the number of times an element is found in a tuple."
      ]
    },
    {
      "cell_type": "code",
      "execution_count": 15,
      "metadata": {
        "id": "TtkjLpelGR84"
      },
      "outputs": [
        {
          "name": "stdout",
          "output_type": "stream",
          "text": [
            "Number of times the element 2 appears: 1\n",
            "Number of times the element 8 appears: 3\n",
            "Number of times the element 7 appears: 0\n",
            "Number of times the element '3' appears: 1\n"
          ]
        }
      ],
      "source": [
        "tuple_ = (4, 3, 8, 8, 2, 5, 4, 6, 8, 9, \"3\")  # base tuple\n",
        "\n",
        "print(\"Number of times the element 2 appears:\", tuple_.count(2))  # ans: 1\n",
        "print(\"Number of times the element 8 appears:\", tuple_.count(8))  # ans: 3\n",
        "print(\"Number of times the element 7 appears:\", tuple_.count(7))  # ans: 0\n",
        "print(\"Number of times the element '3' appears:\", tuple_.count(\"3\"))  # ans: 1"
      ]
    },
    {
      "cell_type": "markdown",
      "metadata": {
        "id": "rP9MrQUhNy3Q"
      },
      "source": [
        "__Example No. 16:__\n",
        "\n",
        "In this exercise, the *index* method is shown, which obtains the **first** occurrence of an element in a tuple."
      ]
    },
    {
      "cell_type": "code",
      "execution_count": 17,
      "metadata": {
        "id": "-MdKGrrhGr7R"
      },
      "outputs": [
        {
          "name": "stdout",
          "output_type": "stream",
          "text": [
            "First index where the element 2 appears: 4\n",
            "First index where the element 8 appears: 2\n",
            "First index where the element 5 appears: 5\n",
            "ERROR. Element 1 is not in the tuple.\n"
          ]
        }
      ],
      "source": [
        "tuple_ = (4, 3, 8, 8, 2, 5, 4, 6, 8, 9)  # base tuple\n",
        "\n",
        "print(\"First index where the element 2 appears:\", tuple_.index(2))  # ans: 5\n",
        "print(\"First index where the element 8 appears:\", tuple_.index(8))  # ans: 2\n",
        "print(\"First index where the element 5 appears:\", tuple_.index(5))  # ans: 5\n",
        "try:\n",
        "    print(\"First index where the element 1 appears:\", tuple_.index(1))  # ans: Error\n",
        "except ValueError:\n",
        "    print(\"ERROR. Element 1 is not in the tuple.\")"
      ]
    },
    {
      "cell_type": "markdown",
      "metadata": {
        "id": "U6nFTpdUyN2u"
      },
      "source": [
        "__Problem No. 2__\n",
        "\n",
        "_Problem_: Create a function that gets all the indices of the tuple where a search element is found.\n",
        "\n",
        "_Solution_: A function is created that receives the tuple and the element to search for. A traversal is made using indices of the tuple, and it is checked at each index if the element is the same as the one being searched for; if the element corresponds, the index is added to a tuple called indices through concatenation. Finally, the tuple of indices where the element appears is returned, with the worst case being an empty tuple."
      ]
    },
    {
      "cell_type": "code",
      "execution_count": 18,
      "metadata": {
        "id": "c3CwfyOo1qoR"
      },
      "outputs": [
        {
          "name": "stdout",
          "output_type": "stream",
          "text": [
            "The element 4 is found at the indices: (0, 6)\n"
          ]
        }
      ],
      "source": [
        "def find_indices(tuple_, element) -> tuple:\n",
        "    \"\"\"\n",
        "    This function receives an element that is going to be searched in a tuple, and it will return all the indices\n",
        "    of the tuple where this element is found.\n",
        "\n",
        "    Parameters:\n",
        "    - tuple_ (tuple): tuple where the element is going to be searched.\n",
        "    - element (any): element that is going to be searched in the tuple.\n",
        "\n",
        "    Returns:\n",
        "    - tuple: tuple with all the indices where the element is found.\n",
        "    \"\"\"\n",
        "    indices = ()  # an empty tuple is generated\n",
        "    for i in range(len(tuple_)):  # a traversal is made by indices of the tuple\n",
        "        # if the tuple at the position of index i is equal to the element being searched for\n",
        "        if tuple_[i] == element:\n",
        "            indices = indices + (\n",
        "                i,\n",
        "            )  # the index i is concatenated to the tuple of indices\n",
        "    # the indices where the element is are returned, if it is not in the tuple, the tuple is returned empty\n",
        "    return indices\n",
        "\n",
        "\n",
        "tuple_ = (4, 3, 8, 8, 2, 5, 4, 6, 8, 9)\n",
        "value_to_search = 4\n",
        "\n",
        "indices = find_indices(tuple_, value_to_search)\n",
        "if len(indices) > 0:  # if there is more than one index, the list is printed\n",
        "    print(\n",
        "        \"The element \"\n",
        "        + str(value_to_search)\n",
        "        + \" is found at the indices: \"\n",
        "        + str(indices)\n",
        "    )\n",
        "else:  # if there are no indices, a message is output that the element is not in the tuple\n",
        "    print(\"The element \" + str(value_to_search) + \" is not found in the tuple\")"
      ]
    },
    {
      "cell_type": "markdown",
      "metadata": {
        "id": "J1EHaYP3yV8J"
      },
      "source": [
        "**Problem No. 3**\n",
        "\n",
        "_Problem_: Create a function that gets the last index of a tuple where an element of interest appears.\n",
        "\n",
        "_Solution_: A function is created where a tuple and an element to search for are received. For this, a traversal is made by indices from right to left (from last to first), and it is verified at each position if it is the value to search for, and if it is the element, that index is saved and returned, and the search is ended. If the element is not found, a value of $-1$ is returned."
      ]
    },
    {
      "cell_type": "code",
      "execution_count": 19,
      "metadata": {
        "id": "WES_jFIq4czl"
      },
      "outputs": [
        {
          "name": "stdout",
          "output_type": "stream",
          "text": [
            "The element 4 is found for the last time at the index: 6\n"
          ]
        }
      ],
      "source": [
        "def find_last_index(tuple_, value_to_search):\n",
        "    \"\"\"\n",
        "    This function searches for the element in the tuple_, with the intention of bringing the last index where it can\n",
        "    find the element, that is, searched from right to left.\n",
        "    If the element is not found, a value of -1 (logical marker) is returned.\n",
        "    \"\"\"\n",
        "    index = (\n",
        "        -1\n",
        "    )  # default index that considers that the element has not been found\n",
        "    for i in range(len(tuple_) - 1, -1, -1):  \n",
        "        # the tuple_ is traversed in terms of indices from right to left\n",
        "        # determines if the element at index i is equal to the value being searched for\n",
        "        if (tuple_[i] == value_to_search):  \n",
        "            index = i  # if the element is found, the value of the index is updated\n",
        "            break  # once the index is found, it is not necessary to continue searching for elements, so the loop ends\n",
        "    return index\n",
        "\n",
        "\n",
        "tuple_ = (4, 3, 8, 8, 2, 5, 4, 6, 8, 9)\n",
        "value_to_search = 4\n",
        "\n",
        "index = find_last_index(tuple_, value_to_search)\n",
        "if (index != -1):  \n",
        "    # If the index is different from -1 it is because the element was found in the tuple_\n",
        "    print(\n",
        "        \"The element \"\n",
        "        + str(value_to_search)\n",
        "        + \" is found for the last time at the index: \"\n",
        "        + str(index)\n",
        "    )\n",
        "else:  # if the index has a value of -1 it is because the function did not find the element in the tuple_\n",
        "    print(\"The element \" + str(value_to_search) + \" is not found in the tuple_\")"
      ]
    },
    {
      "cell_type": "markdown",
      "metadata": {
        "id": "hCj85X_9N0Bs"
      },
      "source": [
        "__Example No. 17:__\n",
        "\n",
        "In this exercise, the max/min method is shown to obtain the maximum/minimum element of a tuple_."
      ]
    },
    {
      "cell_type": "code",
      "execution_count": 20,
      "metadata": {
        "id": "3YBUOonEG0Ao"
      },
      "outputs": [
        {
          "name": "stdout",
          "output_type": "stream",
          "text": [
            "Maximum: 7\n",
            "Minimum: -1\n"
          ]
        }
      ],
      "source": [
        "t = (4, 5, -1, 6, 7)\n",
        "print(\"Maximum:\", max(t))\n",
        "print(\"Minimum:\", min(t))"
      ]
    },
    {
      "cell_type": "markdown",
      "metadata": {
        "id": "Q5xIVZCxN05a"
      },
      "source": [
        "__Example No. 18:__\n",
        "\n",
        "In this example, the tuple method is used to create tuples from other objects, similar to the casting process. In this case, it is used to convert a string to a tuple: each character becomes an element of the tuple."
      ]
    },
    {
      "cell_type": "code",
      "execution_count": 22,
      "metadata": {
        "id": "lUQ0_J9aG7tj"
      },
      "outputs": [
        {
          "name": "stdout",
          "output_type": "stream",
          "text": [
            "('u', 'n', 'i', 'v', 'e', 'r', 's', 'i', 'd', 'a', 'd', ' ', 'd', 'i', 's', 't', 'r', 'i', 't', 'a', 'l')\n"
          ]
        }
      ],
      "source": [
        "magician = \"universidad distrital\"\n",
        "tm = tuple(magician)\n",
        "print(tm)"
      ]
    },
    {
      "cell_type": "markdown",
      "metadata": {
        "id": "wRAZPI-RN1_o"
      },
      "source": [
        "__Example No. 19:__\n",
        "\n",
        "In this example, a map function is executed so that each of the values of a tuple or a list, as in the following example, converts to int the values read from the console that are separated by space."
      ]
    },
    {
      "cell_type": "code",
      "execution_count": 25,
      "metadata": {
        "id": "FPkVyWHdHH7u"
      },
      "outputs": [
        {
          "name": "stdout",
          "output_type": "stream",
          "text": [
            "Tuple: (1, 3, 4, 6, 7)\n",
            "Sum of the first two elements: 4\n"
          ]
        }
      ],
      "source": [
        "t = tuple(\n",
        "    map(\n",
        "        int,\n",
        "        input(\"Write numbers separated by space: \").split(\" \"),\n",
        "    )\n",
        ")\n",
        "print(\"Tuple:\", t)\n",
        "print(\"Sum of the first two elements:\", t[0] + t[1])"
      ]
    },
    {
      "cell_type": "markdown",
      "metadata": {
        "id": "gQsV521iovO6"
      },
      "source": [
        "__Problem No. 4__\n",
        "\n",
        "_Problem_: Using the *map* function, generate a new tuple that contains the square of each of the elements of a given tuple.\n",
        "\n",
        "_Solution_: A classic function is created that receives a value and calculates its square. Then, a tuple is created, where using *map* the square function is called, and in this way the transformation of the original values to the square values is made."
      ]
    },
    {
      "cell_type": "code",
      "execution_count": 26,
      "metadata": {
        "id": "OnEbKXewou5t"
      },
      "outputs": [
        {
          "name": "stdout",
          "output_type": "stream",
          "text": [
            "Result of squared tuple: (25, 49, 16, 9, 64, 4, 36)\n"
          ]
        }
      ],
      "source": [
        "def square_mapping(x: int) -> int:\n",
        "    \"\"\"\n",
        "    This function receives a number and returns the square of that number.\n",
        "\n",
        "    Parameters:\n",
        "    - x (int): number to be squared.\n",
        "\n",
        "    Returns:\n",
        "    - int: square of the number.\n",
        "    \"\"\"\n",
        "    return x**2\n",
        "\n",
        "\n",
        "t_1 = (5, 7, 4, 3, 8, 2, 6)\n",
        "t_2 = tuple(map(square_mapping, t_1))\n",
        "print(\"Result of squared tuple:\", t_2)"
      ]
    }
  ],
  "metadata": {
    "colab": {
      "provenance": []
    },
    "kernelspec": {
      "display_name": "Python 3",
      "name": "python3"
    },
    "language_info": {
      "codemirror_mode": {
        "name": "ipython",
        "version": 3
      },
      "file_extension": ".py",
      "mimetype": "text/x-python",
      "name": "python",
      "nbconvert_exporter": "python",
      "pygments_lexer": "ipython3",
      "version": "3.11.0"
    }
  },
  "nbformat": 4,
  "nbformat_minor": 0
}
