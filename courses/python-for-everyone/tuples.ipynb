{
  "cells": [
    {
      "cell_type": "markdown",
      "metadata": {
        "id": "gN0P36r5Eibr"
      },
      "source": [
        "***\n",
        "# Tuples\n",
        "\n",
        "A tuple is a sequence of elements whom could persist heterogenous data as: integers, floats, strings, lists, dictionaties, and objects...even, another tuples.\n",
        "\n",
        "It is possible to create a tuple using two methods: (i) using circle parenthesis, (ii) just a secuence of data separated by comma.\n",
        "\n",
        "__Example No 1:__\n",
        "\n",
        "Assign values to a tuple type variable. In the variable _tup_ there are elementos of different data type, and here parenthesis are used to define the tuple.\n",
        "In the case of the variable _a_ the values are assigned without parenthesis."
      ]
    },
    {
      "cell_type": "code",
      "execution_count": null,
      "metadata": {
        "id": "ul6pktfu6A0r"
      },
      "outputs": [],
      "source": [
        "tup = (1, 2, 3, 4.5, 'hola', 'a') \n",
        "a   = 1, 2, 3, \"hello\"  \n",
        "\n",
        "# check tuples\n",
        "print('Tuple 1: ', tup)\n",
        "print('Tuple 2: ', a)\n",
        "print('Data type: ', type(a)) # verify the data type of tuple a"
      ]
    },
    {
      "cell_type": "markdown",
      "metadata": {
        "id": "ligiVsJ5NS6H"
      },
      "source": [
        "__Example No. 2:__\n",
        "\n",
        "In this example a tuple is created using another tuples, nested tuples.\n",
        "In particular, a tuple called _tuple\\_1_ saves integer values; a tuple called _tuple\\_2_ saves string values. Then, a tuple called _tuple\\_3 is composed by the previous ones.\n",
        "\n",
        "_Hint_: To use sub-indexes remember to think in multi-dimensional data."
      ]
    },
    {
      "cell_type": "code",
      "execution_count": null,
      "metadata": {
        "id": "4NLx14sz7XGi"
      },
      "outputs": [],
      "source": [
        "tuple_1 = (0, 1, 2, 3)       # integers\n",
        "tuple_2 = ('A', 'B', 'C')    # strings\n",
        "tuple_3 = (tuple_1, tuple_2) # nested tuples\n",
        "\n",
        "print(tuple_3)        # full tuple\n",
        "print(tuple_3[0])     # elements of first nested tuple\n",
        "print(tuple_3[1])     # elements of second nested tuple\n",
        "print(tuple_3[1][1])  # multi-dimensionality to get just one value"
      ]
    },
    {
      "cell_type": "markdown",
      "metadata": {
        "id": "K4Ln592oNkdI"
      },
      "source": [
        "__Example No. 3:__\n",
        "\n",
        "In this exampl e a couple of tuples are concatenated using __+__ sign. Remember, the orden of concatenation afects the output."
      ]
    },
    {
      "cell_type": "code",
      "execution_count": null,
      "metadata": {
        "id": "uoUWTyq2OIeX"
      },
      "outputs": [],
      "source": [
        "tuple_1 = ('a', 'b', 'c', 'd', 'e') \n",
        "tuple_2 = (1, 2, 3, 4, 5)   \n",
        "\n",
        "tuple_3 = tuple_1 + tuple_2   # first symbols, then numbers\n",
        "print(tuple_3)\n",
        "\n",
        "tuple_4 = tuple_2 + tuple_1   # first numbers, then symbols\n",
        "print(tuple_4)"
      ]
    },
    {
      "cell_type": "markdown",
      "metadata": {
        "id": "5BCJzlHlOJPZ"
      },
      "source": [
        "__Ejercicio No. 4:__\n",
        "\n",
        "En este ejercicio se muestra como se pueden repetir elementos de una tupla mediante la generación de copias concatenadas, es decir, entender el símbolo de multiplicación como una _concatencación abreviada_."
      ]
    },
    {
      "cell_type": "code",
      "execution_count": null,
      "metadata": {
        "id": "Y8Bm8euC8kCS"
      },
      "outputs": [],
      "source": [
        "tup2 = (1, 2, 3, 4, 5)  # tupla de números enteros\n",
        "tup3 = tup2 * 3         # se genera una nueva tupla con tres repeticiones de tup2\n",
        "print(tup3)\n",
        "\n",
        "tup4 = ('Abc', 'Bcd') # tupla de cadenas de caracteres\n",
        "tup5 = tup4 * 2   # se genera una nueva tupla con dos repeticiones de tup4\n",
        "print(tup5)"
      ]
    },
    {
      "cell_type": "markdown",
      "metadata": {
        "id": "YBuN7fedNlg6"
      },
      "source": [
        "__Ejercicio No. 5:__\n",
        "\n",
        "Se puede hacer una comparación entre tuplas siguiendo el orden lexicográfico, haciendo comparación elemento por elemento. Recuerde que no es necesario ir por todos los elementos de las tuplas."
      ]
    },
    {
      "cell_type": "code",
      "execution_count": null,
      "metadata": {
        "id": "jFhm4DjQ9rjT"
      },
      "outputs": [],
      "source": [
        "print(('Rojas', 123)   <  ('Rosas', 123)) # verdadero porque j < s\n",
        "print(('Rosas', 123)   == ('rosas', 123)) # falso porque R != r\n",
        "print(('Rosas', 123)   >  ('Rosas', 23))  # verdadero porque 123 > 23\n",
        "print(('Rojas', \"123\") >  ('Rosas', 23))  # falso porque j < s\n",
        "print(('Rosas', \"123\") >  ('Rosas', 23))  # error porque no se puede comparar \"123\" con 23"
      ]
    },
    {
      "cell_type": "markdown",
      "metadata": {
        "id": "A71i58BGNmTY"
      },
      "source": [
        "__Ejercicio No. 6:__\n",
        "\n",
        "En este ejercicio se puede acceder a los elementos de una tupla mediante el subíndice, donde el primer elemento tiene el índice $0$. Si la posición que se envı́a es negativa, lo considera desde el final hacia el inicio. Si no es válida en el rango de posibles posiciones de la tupla se genera un error."
      ]
    },
    {
      "cell_type": "code",
      "execution_count": null,
      "metadata": {
        "id": "HHvPfsC-_UVI"
      },
      "outputs": [],
      "source": [
        "avengers = (\"Ironman\", \"Thor\", \"Ant-man\", \"Hulk\") # tupla de base\n",
        "print(avengers[0])  # trae a \"Ironman\"\n",
        "print(avengers[3])  # trae a \"Hulk\"\n",
        "print(avengers[-1]) # trae a \"Hulk\", el último elemento\n",
        "print(avengers[-3]) # trae a \"Thor\"\n",
        "\n",
        "# se puede acceder a un caracter específico de un elemento de la tupla usando dos subíndices\n",
        "print(avengers[0][2])"
      ]
    },
    {
      "cell_type": "markdown",
      "metadata": {
        "id": "nZNY7IkrNoBm"
      },
      "source": [
        "__Ejercicio No. 7:__\n",
        "\n",
        "En este ejercicio se muestra que es posible determinar si un elemento se encuentra en una tupla usando un condicional tradicional y la noción de pertenencia de conjuntos."
      ]
    },
    {
      "cell_type": "code",
      "execution_count": null,
      "metadata": {
        "id": "cdmUCmol_gPc"
      },
      "outputs": [],
      "source": [
        "text = ('cien', 'años', 'de', 'soledad') # tupla de base\n",
        "if 'años' in text:             # condicional usando 'in', entiendo 'in' como un \"pertenece a\"\n",
        "  print('Si está en la tupla') # si el elemento está en la tupla, se toma la condición como verdadera\n",
        "else:\n",
        "  print('No está en la tupla') # si el elemento no está en la tupla, se toma la condición como falsa"
      ]
    },
    {
      "cell_type": "markdown",
      "metadata": {
        "id": "eoF_sNAANp-3"
      },
      "source": [
        "__Ejercicio No. 8:__\n",
        "\n",
        "En este ejercicio se muestra que es posible determinar si un elemento no se encuentra en una tupla, usando condicional y una noción de no pertenece.\n"
      ]
    },
    {
      "cell_type": "code",
      "execution_count": null,
      "metadata": {
        "id": "PTOAgrklAwT8"
      },
      "outputs": [],
      "source": [
        "text = ('cien', 'años', 'de', 'soledad')  # tupla de base\n",
        "if 'compañia' not in text:     # condicionals uando 'not in', entiendo 'not in' como un \"no pertenece a\"\n",
        "  print('No está en la tupla') # si el elemento no está en la tupla, se toma la condición como verdadera\n",
        "else:\n",
        "  print('Si está en la tupla') # si el elemento está en la tupla, se toma la condición como falsa"
      ]
    },
    {
      "cell_type": "markdown",
      "metadata": {
        "id": "HLihW8ZmNrS4"
      },
      "source": [
        "__Ejercicio No. 9:__\n",
        "\n",
        "En este ejercicio es posible iterar una tupla usando el ciclo **for** para recorrer elemento por elemento."
      ]
    },
    {
      "cell_type": "code",
      "execution_count": null,
      "metadata": {
        "id": "PYoBXrTGBhuR"
      },
      "outputs": [],
      "source": [
        "saludo = (\"hola\", \"amigos\", \"mios\") # tupla de base\n",
        "for componente in saludo: # para cada elemento en la tupla\n",
        "  if componente == saludo[-1]:\n",
        "    print(componente)\n",
        "  else:\n",
        "    print(componente, end = ', ')"
      ]
    },
    {
      "cell_type": "markdown",
      "metadata": {
        "id": "MErTskwpNsUs"
      },
      "source": [
        "__Ejercicio No. 10:__\n",
        "\n",
        "En este ejercicio se muestra que es posible intercambiar los valores de un grupo de variables usando la asignación cruzada y el concepto de tupla."
      ]
    },
    {
      "cell_type": "code",
      "execution_count": null,
      "metadata": {
        "id": "HaVWHbuZCIO2"
      },
      "outputs": [],
      "source": [
        "a   = 9\n",
        "b   = 3\n",
        "a,b = b,a # intercambio de valores de variables usando el concepto de tupla\n",
        "print('a =',a)\n",
        "print('b =',b)"
      ]
    },
    {
      "cell_type": "markdown",
      "metadata": {
        "id": "AzjLGC1_NtQq"
      },
      "source": [
        "__Ejercicio No. 11:__\n",
        "\n",
        "En este ejercicio es posible asignar los valores de un grupo de variables usando la asignación múltiple, el ciclo **for** y el concepto de tupla."
      ]
    },
    {
      "cell_type": "code",
      "execution_count": null,
      "metadata": {
        "id": "cAHBBxorCbAk"
      },
      "outputs": [],
      "source": [
        "tupla            = (11, 9, -2, 3, 8, 5) # arreglo de base\n",
        "#recorrido de tres elementos de la tupla, asignados a tres variables\n",
        "var1, var2, var3 = (tupla[i] for i in (1, 3, 5))\n",
        "print(\"var1 =\", var1, \", var2 =\", var2, \", var3 =\", var3)\n",
        "\n",
        "#recorrido de tres elementos de la tupla generados por range, asignados a tres variables\n",
        "var1, var2, var3 = (tupla[i] for i in range(0,6,2))\n",
        "print(\"var1 =\", var1, \", var2 =\", var2, \", var3 =\", var3)"
      ]
    },
    {
      "cell_type": "markdown",
      "metadata": {
        "id": "lRZZRFRLC95l"
      },
      "source": [
        "**Problema No. 1**\n",
        "\n",
        "Construir una tupla con los números de $0$ a $10$ elevados al cuadrado.\n",
        "\n",
        "_Solución:_ Utilizando un ciclo **for** para recorrer un rango definido, en este caso usando _range(11)_ para generar los número del $1$ al $10$, y obteniendo el cuadrado de cada uno de los posibles valores de $i$. Esto genera una sucesión de valores, y usando el casting _tuple()_ se convierte esa sucesión a una tupla."
      ]
    },
    {
      "cell_type": "code",
      "execution_count": null,
      "metadata": {
        "id": "6sAXjspw6jv9"
      },
      "outputs": [],
      "source": [
        "tupla_resultado = tuple(i ** 2 for i in range(11)) # construcción de arreglo usando for resumido\n",
        "print(tupla_resultado)"
      ]
    },
    {
      "cell_type": "markdown",
      "metadata": {
        "id": "2KvTsG1LNuU6"
      },
      "source": [
        "__Ejercicio No. 12:__\n",
        "\n",
        "En este ejercicio se muestra que se puede retornar más de un valor en una función usando el concepto de tupla."
      ]
    },
    {
      "cell_type": "code",
      "execution_count": null,
      "metadata": {
        "id": "R1y8QmK1DbSm"
      },
      "outputs": [],
      "source": [
        "def minmax(a, b):\n",
        "  '''\n",
        "  Función que retornar el mínimo y máximo entre dos elementos\n",
        "  '''\n",
        "  if a < b: # si a es menor se retorna como primer parámetro, y b como segundo\n",
        "    return a, b\n",
        "  else:     # si b es menor se retorna como primer parámetro, y a como segundo\n",
        "    return b, a\n",
        "\n",
        "# prueba con el primer parámetro como menor\n",
        "min_, max_ = minmax(5, 13) # almacenamiento en dos variables\n",
        "print('min =', min_, \",\", 'max =', max_)\n",
        "\n",
        "# prueba con el segundo parámetro como menor\n",
        "x, y = minmax(12, -4) # almacenamiento en dos variables\n",
        "print('min =', x, \",\", 'max =', y, \",\", 'tipo_dato =', type(y))\n",
        "\n",
        "# prueba con ambos parámetros iguales\n",
        "tupla = minmax(8, 8)  # almacenamiento en una tupla\n",
        "print('tupla =', tupla, \",\", 'min =', tupla[0], \",\", 'max =', tupla[1], \",\", 'tipo_dato =', type(tupla))"
      ]
    },
    {
      "cell_type": "markdown",
      "metadata": {
        "id": "NNwyYw62NvOl"
      },
      "source": [
        "__Ejercicio No. 13:__\n",
        "\n",
        "En este ejercicio se muestra la función _len_, la cual  determina la dimensión (longitud) de una tupla. Si la tupla es vacía el tamaño es igual a cero."
      ]
    },
    {
      "cell_type": "code",
      "execution_count": null,
      "metadata": {
        "id": "1Wm0ZtV-FBOz"
      },
      "outputs": [],
      "source": [
        "# construcción de distintas tuplas de ejemplo\n",
        "tup = (1, 2, 3, 4, \"hello\")\n",
        "nombre = (\"Minch\", \"Yoda\")\n",
        "trabajo = (\"Stars\", \"War\", \"Movie\")\n",
        "empty = ()\n",
        "\n",
        "# impresión de los tamaños de cada una de las tuplas\n",
        "print(\"Tamaño de tupla tup:\", len(tup))\n",
        "print(\"Tamaño de la tupla nombre:\", len(nombre))\n",
        "print(\"Tamaño de la tupla trabajo:\", len(trabajo))\n",
        "print(\"Tamaño de la tupla vacía:\", len(empty))"
      ]
    },
    {
      "cell_type": "markdown",
      "metadata": {
        "id": "eOOXVorDNwIP"
      },
      "source": [
        "__Ejercicio No. 14:__\n",
        "\n",
        "En este ejercicio se muestra la función _slice_, la cual obtiene una porción (subtupla) de una tupla. La\n",
        "definición es similar a la función _slice_ de cadena, [inicio:fin:incremento]. Por obligación se debe definir el inicio y el fin usando un separador de :, siendo por defecto el inicio $0$ y el final el último elemento de la tupla. Si se quiere cambiar el incremento, se debe agregar el tercer elemento."
      ]
    },
    {
      "cell_type": "code",
      "execution_count": null,
      "metadata": {
        "id": "bEd8RdW-FJUk"
      },
      "outputs": [],
      "source": [
        "avengers = (\"Ironman\", \"Thor\", \"Ant-man\", \"Hulk\") # tupla de base\n",
        "print(avengers[:2])   # slice que va desde el inicio hasta una posición antes del índice 2\n",
        "print(avengers[1:3])  # slice que va desde la posición 1 hasta una posición antes del índice 3\n",
        "print(avengers[3:3])  # slice que inicia en la posición 3, y va hasta antes del tres...por ende, genera vacío\n",
        "print(avengers[-2:])  # slice que va desde el penúltimo elemento hasta el final de la tupla\n",
        "print(avengers[::-1]) # slice que recorre toda la tupla y obtiene la inversa al hacer un incremento negativo"
      ]
    },
    {
      "cell_type": "markdown",
      "metadata": {
        "id": "mdPwwvlbNyBJ"
      },
      "source": [
        "__Ejercicio No. 15:__\n",
        "\n",
        "En este ejercicio se muestra el método *count*, el cual obtiene las veces que un elemento se encuentra en una tupla."
      ]
    },
    {
      "cell_type": "code",
      "execution_count": null,
      "metadata": {
        "id": "TtkjLpelGR84"
      },
      "outputs": [],
      "source": [
        "tupla = (4, 3, 8, 8, 2, 5, 4, 6, 8, 9, \"3\") # tupla de base\n",
        "print(\"Cantidad de veces que aparece el elemento 2:\", tupla.count(2)) # res: 1\n",
        "print(\"Cantidad de veces que aparece el elemento 8:\", tupla.count(8)) # res: 3\n",
        "print(\"Cantidad de veces que aparece el elemento 7:\", tupla.count(7)) # res: 0\n",
        "print(\"Cantidad de veces que aparece el elemento '3':\", tupla.count(\"3\")) # res: 1"
      ]
    },
    {
      "cell_type": "markdown",
      "metadata": {
        "id": "rP9MrQUhNy3Q"
      },
      "source": [
        "__Ejercicio No. 16:__\n",
        "\n",
        "En este ejercicio se muestra el método *index*, el cual obtiene la **primera** ocurrencia de un elemento en una\n",
        "tupla."
      ]
    },
    {
      "cell_type": "code",
      "execution_count": null,
      "metadata": {
        "id": "-MdKGrrhGr7R"
      },
      "outputs": [],
      "source": [
        "tupla = (4, 3, 8, 8, 2, 5, 4, 6, 8, 9) # tupla de base\n",
        "print(\"Primer índice donde aparece el elemento 2:\", tupla.index(2)) # Res: 5\n",
        "print(\"Primer índice donde aparece el elemento 8:\", tupla.index(8)) # Res: 2\n",
        "print(\"Primer índice donde aparece el elemento 5:\", tupla.index(5)) # Res: 5\n",
        "print(\"Primer índice donde aparece el elemento 1:\", tupla.index(1)) # Res: Error"
      ]
    },
    {
      "cell_type": "markdown",
      "metadata": {
        "id": "U6nFTpdUyN2u"
      },
      "source": [
        "**Problema No. 2**\n",
        "\n",
        "Realice una función que obtenga todos los índices de la tupla en donde se encuentra un elemento de búsqueda.\n",
        "\n",
        "_Solución:_ Se crea una función que recibe la tupla y el elemento a buscar. Se hace un recorrido mediante índices de la tupla, y se revisa en cada índice si el elemento es el mismo que se está buscando; si el elemento corresponde, el índice se agrega a una tupla llamada índices mediante concatenación. Finalmente, se retorna la tupla de índices donde aparece el elemento, siendo el peor de los casos una tupla vacía."
      ]
    },
    {
      "cell_type": "code",
      "execution_count": null,
      "metadata": {
        "id": "c3CwfyOo1qoR"
      },
      "outputs": [],
      "source": [
        "def encontrar_indices(tupla, elemento):\n",
        "  '''\n",
        "  Esta función recibe un elemento que se va a buscar en una tupla, y se van a retornar todos los índices\n",
        "  de la tupla en donde se encuentra este elemento\n",
        "  '''\n",
        "  indices = () # se genera una tupla vacía\n",
        "  for i in range( len(tupla) ): # se hace un recorrido por índices de la tupla\n",
        "    if tupla[i] == elemento:    # si la tupla en la posición del índice i es igual al elemento que se busca\n",
        "      indices = indices + (i, ) # se concatena el índice i a la tupla de índices\n",
        "  return indices # se retornan los índices en donde está el elemento, si no está la tupla se retorna vacía\n",
        "\n",
        "\n",
        "tupla = (4, 3, 8, 8, 2, 5, 4, 6, 8, 9)\n",
        "valor_buscar = 4\n",
        "\n",
        "indices = encontrar_indices(tupla, valor_buscar)\n",
        "if len(indices) > 0: # si hayt más de un índice se imprime el listado\n",
        "  print(\"El elemento \" + str(valor_buscar) + \" se encuentra en los índices: \" + str(indices))\n",
        "else:   # si no hay índices, se saca un mensaje de que el elemento no está en la tupla\n",
        "  print(\"El elemento \" + str(valor_buscar) + \" no se encuentra en la tupla\")"
      ]
    },
    {
      "cell_type": "markdown",
      "metadata": {
        "id": "J1EHaYP3yV8J"
      },
      "source": [
        "**Problema No. 3**\n",
        "\n",
        "Realice una función que obtenga el último índice de una tupla en donde aparece un elemento de interés.\n",
        "\n",
        "_Solución:_ Se crea una función donde se recibe una tupla y un elemento a buscar. Para ello, se hace un recorrido por índices de derecha a izquierda (de último a primero), y se verifica en cada posición si es el valor a buscar, y si es el elemento se guarda y retorna ese índice, y se termina la búsqueda. Si no se encuentra el elemento, se retorna un valor de $-1$."
      ]
    },
    {
      "cell_type": "code",
      "execution_count": null,
      "metadata": {
        "id": "WES_jFIq4czl"
      },
      "outputs": [],
      "source": [
        "def buscar_ultimo_indice(tupla, valor_buscar):\n",
        "  '''\n",
        "  Esta función busca el elemento en la tupla, con la intención de traer el último índice en donde pueda\n",
        "  encontrar el elemento, es decir, buscado de derecha a izquierda.\n",
        "  Si el elemento no se encuentra, se retorna un valor de -1 (marcador lógico)\n",
        "  '''\n",
        "  indice = -1  # índice por defecto que considera que el elemento no ha sido encontrado\n",
        "  for i in range(len(tupla) - 1, -1, -1): # se recorre la tupla en términos de índices de derecha a izquierda\n",
        "    if tupla[i] == valor_buscar: # determina si el elemento en el índice i es igual valor que se anda buscando\n",
        "      indice = i # si se encuentra el elemento, se actualiza el valor del índice\n",
        "      break      # una vez se encuentre el índice, no es necesario seguir buscando elementos, así que se acaba el ciclo\n",
        "  return indice\n",
        "\n",
        "\n",
        "tupla = (4, 3, 8, 8, 2, 5, 4, 6, 8, 9)\n",
        "valor_buscar = 4\n",
        "\n",
        "indice = buscar_ultimo_indice(tupla, valor_buscar)\n",
        "if indice != -1: # Si el índice es distinto de -1 es porque se encontró el elemento en la tupla\n",
        "  print(\"El elemento \" + str(valor_buscar) + \" se encuentra por última vez en el índice: \" + str(indice))\n",
        "else:   # si el índice tiene valor de -1 es porque la función no encontró el elemento en la tupla\n",
        "  print(\"El elemento \" + str(valor_buscar) + \" no se encuentra en la tupla\")"
      ]
    },
    {
      "cell_type": "markdown",
      "metadata": {
        "id": "hCj85X_9N0Bs"
      },
      "source": [
        "__Ejercicio No. 17:__\n",
        "\n",
        "En este ejercicio se muestra el método *max/min* obtiene el máximo/mı́nimo elemento de una tupla."
      ]
    },
    {
      "cell_type": "code",
      "execution_count": null,
      "metadata": {
        "id": "3YBUOonEG0Ao"
      },
      "outputs": [],
      "source": [
        "t = (4, 5, -1, 6, 7)\n",
        "print(max(t))\n",
        "print(min(t))"
      ]
    },
    {
      "cell_type": "markdown",
      "metadata": {
        "id": "Q5xIVZCxN05a"
      },
      "source": [
        "__Ejercicio No. 18:__\n",
        "\n",
        "En este ejercicio se usa el método *tuple* para crear tuplas a partir de otros objetos, similar al proceso de *casting*. En este caso, se usa para convertir una cadena de caracteres a tupla: cada caracter se convierte en un elemento de la tupla."
      ]
    },
    {
      "cell_type": "code",
      "execution_count": null,
      "metadata": {
        "id": "lUQ0_J9aG7tj"
      },
      "outputs": [],
      "source": [
        "magician = 'Dumbledore'\n",
        "tm = tuple(magician)\n",
        "print(tm)"
      ]
    },
    {
      "cell_type": "markdown",
      "metadata": {
        "id": "wRAZPI-RN1_o"
      },
      "source": [
        "__Ejercicio No. 19:__\n",
        "\n",
        "En este ejercicio se ejecuta una función **map** para que cada uno de los valores de una tupla o una lista, como en el ejemplo siguiente, convierta a *int* los valores leı́dos desde la consola que están separados por el espacio."
      ]
    },
    {
      "cell_type": "code",
      "execution_count": null,
      "metadata": {
        "id": "FPkVyWHdHH7u"
      },
      "outputs": [],
      "source": [
        "t = tuple( map(int, input(\"Ingrese los números que desee, separados por un espacio: \").split(' ') ))\n",
        "print(t)\n",
        "print(t[0] + t[1])"
      ]
    },
    {
      "cell_type": "markdown",
      "metadata": {
        "id": "gQsV521iovO6"
      },
      "source": [
        "**Problema No. 4**\n",
        "\n",
        "Utilizando la función *map*, genere una nueva tupla que contenga el cuadrado de cada uno de los elementos de una tupla dada.\n",
        "\n",
        "_Solución:_ Se crea una función clásica que recibe un valor y calcula su cuadrado. Luego, se crea una tupla, en donde usando *map* se llama a la función de cuadrado, y de esta forma se hace la transformación de los valores originales a los valores al cuadrado."
      ]
    },
    {
      "cell_type": "code",
      "execution_count": null,
      "metadata": {
        "id": "OnEbKXewou5t"
      },
      "outputs": [],
      "source": [
        "def cuadrado_mapeo(x):\n",
        "  return x ** 2\n",
        "\n",
        "\n",
        "t_1 = (5,7,4,3,8,2,6)\n",
        "t_2 = tuple( map(cuadrado_mapeo, t_1) )\n",
        "print(t_2)"
      ]
    }
  ],
  "metadata": {
    "colab": {
      "provenance": []
    },
    "kernelspec": {
      "display_name": "Python 3",
      "name": "python3"
    },
    "language_info": {
      "codemirror_mode": {
        "name": "ipython",
        "version": 3
      },
      "file_extension": ".py",
      "mimetype": "text/x-python",
      "name": "python",
      "nbconvert_exporter": "python",
      "pygments_lexer": "ipython3",
      "version": "3.11.0rc2"
    }
  },
  "nbformat": 4,
  "nbformat_minor": 0
}
