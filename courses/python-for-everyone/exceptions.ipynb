{
  "cells": [
    {
      "cell_type": "markdown",
      "metadata": {
        "id": "GiUaPww9OZb1"
      },
      "source": [
        "***\n",
        "\n",
        "# Excepciones\n",
        "\n",
        "Situaciones de falla previsibles pueden ser consideradas excepcionales, y afectar el flujo “normal” del programa interrumpiendo en muchos casos su ejecución.\n",
        "Un programador puede considerar estas situaciones inesperadas de forma anticipada y darle un manejo excepcional a las mismas para que no interrumpan la ejecución del programa."
      ]
    },
    {
      "cell_type": "markdown",
      "metadata": {
        "id": "fxoAhtxkP0sT"
      },
      "source": [
        "**Ejercicio No. 1**\n",
        "\n",
        "En el siguiente ejercicio se muestra la sintaxis básica de una excepción. En primer lugar se muestra la división por cero como error, y luego se muestra cómo se puede manejar ese error."
      ]
    },
    {
      "cell_type": "code",
      "execution_count": null,
      "metadata": {
        "id": "LaeuyW0LOxjh"
      },
      "outputs": [],
      "source": [
        "def division(a, b):\n",
        "  coc = a//b\n",
        "  res = a % b\n",
        "  return coc, res\n",
        "\n",
        "print(division(4,5))\n",
        "print(division(10, 0))\n",
        "print(division(1024, 10))"
      ]
    },
    {
      "cell_type": "code",
      "execution_count": null,
      "metadata": {
        "id": "xjlvAzO0O9GM"
      },
      "outputs": [],
      "source": [
        "def division_excepcion(a, b):\n",
        "  try:\n",
        "    coc = a // b\n",
        "    res = a % b\n",
        "    return coc, res\n",
        "  except:\n",
        "    print(\"Error en la división de\", a, \"entre\", b, end=\" -- \")\n",
        "    return \"\"\n",
        "\n",
        "print(division_excepcion(10, 0))\n",
        "print(division_excepcion(1024, 10))"
      ]
    },
    {
      "cell_type": "markdown",
      "metadata": {
        "id": "Um1lwzOeRH3_"
      },
      "source": [
        "**Ejercicio No. 2**\n",
        "\n",
        "En este ejercicio se muestra la manera de manejar errores cuando en algún punto puede llegar una variable en un tipo de dato incorrecto."
      ]
    },
    {
      "cell_type": "code",
      "execution_count": null,
      "metadata": {
        "id": "0DflqqfYRTlt"
      },
      "outputs": [],
      "source": [
        "def main():\n",
        "  num = int(input(\"digite el dividendo: \"))\n",
        "  div = int(input(\"digite el divisor: \"))\n",
        "  print(division_excepcion(num, div))\n",
        "\n",
        "main()"
      ]
    },
    {
      "cell_type": "code",
      "execution_count": null,
      "metadata": {
        "id": "ATfgCDJlR0OE"
      },
      "outputs": [],
      "source": [
        "def main_excepcion():\n",
        "  try:\n",
        "    num = int(input(\"digite el dividendo: \"))\n",
        "    div = int(input(\"digite el divisor: \"))\n",
        "    print(division_excepcion(num, div))\n",
        "  except ValueError:\n",
        "    print(\"El valor digitado no es un número.\")\n",
        "  except:\n",
        "    print(\"Imprevisto\")\n",
        "\n",
        "main_excepcion()"
      ]
    },
    {
      "cell_type": "markdown",
      "metadata": {
        "id": "A_8SuRuNWKKW"
      },
      "source": [
        "**Ejercicio No. 3**\n",
        "\n",
        "En este ejercicio se muestra el bloque *finally* para determinar acciones que se deben ejecutar sin importar si se produce una excepción o no."
      ]
    },
    {
      "cell_type": "code",
      "execution_count": null,
      "metadata": {
        "id": "xhiLDlZEWMpY"
      },
      "outputs": [],
      "source": [
        "try:\n",
        "  num = int(input(\"Ingrese un número \"))\n",
        "  re = 100/num\n",
        "except:\n",
        "  print(\"Algo está mal\")\n",
        "else:\n",
        "  print(\"El resultado es \",re)\n",
        "finally:\n",
        "  print(\"El programa termina!\")"
      ]
    },
    {
      "cell_type": "markdown",
      "metadata": {
        "id": "2h3mKDzVWO7e"
      },
      "source": [
        "**Ejercicio No. 4**\n",
        "\n",
        "En este ejercicio se muestra la forma en la cual se puede determinar el tipo de excepción se puede utilizar una lı́nea de código: **Exception as e**.\n",
        "\n",
        "De igual manera, se puede que es posible lanzar una excepción (cuando sea necesario) utilizando el comando **raise**."
      ]
    },
    {
      "cell_type": "code",
      "execution_count": null,
      "metadata": {
        "id": "KLQVCNvIWRNU"
      },
      "outputs": [],
      "source": [
        "def division_raise(a, b):\n",
        "  if b == 0:\n",
        "    raise ZeroDivisionError(\"!Error de división por cero¡. Funcion: division_raise\")\n",
        "  else:\n",
        "    coc = a // b\n",
        "    res = a % b\n",
        "  return (coc, res)\n",
        "\n",
        "try:\n",
        "  num = int(input(\"Ingrese un número: \"))\n",
        "  re = 100/num # Generar excepción si se digitó 0\n",
        "  print(re)\n",
        "except Exception as e:\n",
        "  print(e, \"\\n\", type(e))\n",
        "\n",
        "try:\n",
        "  print(division_raise(10, num))\n",
        "except Exception as e:\n",
        "  print(e, \"\\n\", type(e))"
      ]
    }
  ],
  "metadata": {
    "colab": {
      "provenance": []
    },
    "kernelspec": {
      "display_name": "Python 3",
      "name": "python3"
    },
    "language_info": {
      "name": "python"
    }
  },
  "nbformat": 4,
  "nbformat_minor": 0
}
