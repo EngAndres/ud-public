{
  "cells": [
    {
      "cell_type": "markdown",
      "metadata": {
        "id": "RaT8-O4Pnyut"
      },
      "source": [
        "***\n",
        "\n",
        "# Functions\n",
        "\n",
        "Functions are small units within a larger construction that generate\n",
        "an expected output.\n",
        "\n",
        "Functions fall into two categories: included with the language (built-in), and user-created."
      ]
    },
    {
      "cell_type": "markdown",
      "metadata": {
        "id": "81HF2Bl8o8dx"
      },
      "source": [
        "__Example No. 1__\n",
        "\n",
        "In the following example, various classic functions are shown, some that do not return, some that do return, some that have parameters, and others that do not."
      ]
    },
    {
      "cell_type": "code",
      "execution_count": 1,
      "metadata": {
        "id": "io4MV1sLoNRt"
      },
      "outputs": [
        {
          "name": "stdout",
          "output_type": "stream",
          "text": [
            "Hello !\n",
            "Hello !!\n",
            "Hello !!!\n"
          ]
        }
      ],
      "source": [
        "# function without arguments\n",
        "def greet_1():\n",
        "    name = input(\"Enter first name:\")\n",
        "    print(f\"Hello {name}!\")\n",
        "\n",
        "\n",
        "# function with one argument\n",
        "def greet_2(name):\n",
        "    print(f\"Hello {name}!!\")\n",
        "\n",
        "\n",
        "# function with one argument and returning value\n",
        "def greet_3(name):\n",
        "    return f\"Hello {name}!!!\"\n",
        "\n",
        "\n",
        "greet_1()\n",
        "name = input(\"Enter second name:\")\n",
        "greet_2(name)\n",
        "name = input(\"Enter third name:\")\n",
        "print(greet_3(name))"
      ]
    },
    {
      "cell_type": "markdown",
      "metadata": {},
      "source": [
        "__Example No. 2__\n",
        "\n",
        "The recommended documentation for functions has a format where there is a description, parameters, and what the function returns if it returns something. This documentation is known as \"docstring\" format.\n",
        "\n",
        "Similarly, in Python there is something called \"type hint\", a way to recommend or suggest data types to parameters to ensure that the functionalities will work correctly. For this, a colon is placed in front of the parameter followed by the recommended data type; similarly, to determine the data type that the function is expected to return, the symbols -> are used, making an analogy to an arrow."
      ]
    },
    {
      "cell_type": "code",
      "execution_count": 14,
      "metadata": {},
      "outputs": [
        {
          "name": "stdout",
          "output_type": "stream",
          "text": [
            "par_1: 1, par_2: hello\n"
          ]
        },
        {
          "data": {
            "text/plain": [
              "True"
            ]
          },
          "execution_count": 14,
          "metadata": {},
          "output_type": "execute_result"
        }
      ],
      "source": [
        "# example of a function with docstring and type hint\n",
        "def just_a_function(par_1: int, par_2: str) -> bool:\n",
        "    \"\"\"\n",
        "    This function receives two parameters, an integer and a string.\n",
        "\n",
        "    Parameters:\n",
        "    - par_1 (int): An integer.\n",
        "    - par_2 (str): A string.\n",
        "\n",
        "    Returns:\n",
        "    - bool: True.\n",
        "    \"\"\"\n",
        "    print(f\"par_1: {par_1}, par_2: {par_2}\")\n",
        "    return True\n",
        "\n",
        "\n",
        "just_a_function(1, \"hello\")"
      ]
    },
    {
      "cell_type": "markdown",
      "metadata": {
        "id": "vqC2U5wRqKyz"
      },
      "source": [
        "__Example No. 3__\n",
        "\n",
        "In this example, it is shown that there are functions with default arguments, that is, the argument that the variable takes is the value given in the function definition if it is not passed when the function is called."
      ]
    },
    {
      "cell_type": "code",
      "execution_count": 13,
      "metadata": {
        "id": "e-A_7UgDqN4d"
      },
      "outputs": [
        {
          "name": "stdout",
          "output_type": "stream",
          "text": [
            "Base: 2\n",
            "Result 1: 10\n",
            "Base: 10\n",
            "Result 2: 3\n",
            "Base: 3\n",
            "Result 3: 2\n"
          ]
        }
      ],
      "source": [
        "# example of a function with default value\n",
        "def log_entero(num, base=2) -> int:\n",
        "    \"\"\"\n",
        "    Esta función calcula el logaritmo entero de un número en una base dada.\n",
        "\n",
        "    Parameters:\n",
        "    - num (int): Un número entero.\n",
        "    - base (int): Un número entero. Por defecto es 2.\n",
        "\n",
        "    Returns:\n",
        "    - int: El logaritmo entero de num en base.\n",
        "    \"\"\"\n",
        "    print(\"Base:\", base)\n",
        "    cont = 0\n",
        "    while num >= base:\n",
        "        cont += 1\n",
        "        num /= base\n",
        "    return cont\n",
        "\n",
        "\n",
        "# just some tests calling the function\n",
        "print(\"Result 1:\", log_entero(1024))\n",
        "print(\"Result 2:\", log_entero(1000, 10))\n",
        "print(\"Result 3:\", log_entero(9, 3))"
      ]
    },
    {
      "cell_type": "markdown",
      "metadata": {
        "id": "7WPKKHMQqpL1"
      },
      "source": [
        "__Example No. 4__\n",
        "\n",
        "In this example, functions with a variable number of arguments are shown, using the notation __*variable__, which takes all values as an additional tuple."
      ]
    },
    {
      "cell_type": "code",
      "execution_count": 12,
      "metadata": {
        "id": "L7m_t4bTqrQ6"
      },
      "outputs": [
        {
          "name": "stdout",
          "output_type": "stream",
          "text": [
            "output: 60 ()\n",
            "Test 1: 60\n",
            "**********\n",
            "output: 100 (90, 67, 23, 10, 'hello', True)\n",
            "90\n",
            "67\n",
            "23\n",
            "10\n",
            "hello\n",
            "hello is not a number\n",
            "True\n",
            "Test 2: 291\n"
          ]
        }
      ],
      "source": [
        "# example of a function with a variable argument\n",
        "def variable_argument(var_1: int, *var_i) -> int:\n",
        "    \"\"\"\n",
        "    This function receives a variable number of arguments and returns the sum of all of them.\n",
        "\n",
        "    Parameters:\n",
        "    - var_1 (int): An integer.\n",
        "    - var_i (tuple): A tuple with integers.\n",
        "\n",
        "    Returns:\n",
        "    - int: The sum of all the arguments.\n",
        "    \"\"\"\n",
        "    print(\"output: \" + str(var_1), end=\" \")\n",
        "    print(var_i)\n",
        "    sum = var_1\n",
        "    for var in var_i:\n",
        "        print(var)\n",
        "        try:\n",
        "            sum += var\n",
        "        except:\n",
        "            print(var, \"is not a number\")\n",
        "    return sum\n",
        "\n",
        "\n",
        "# just some tests\n",
        "print(\"Test 1:\", variable_argument(60))\n",
        "print(\"*\" * 10)\n",
        "print(\"Test 2:\", variable_argument(100, 90, 67, 23, 10, \"hello\", True))"
      ]
    },
    {
      "cell_type": "markdown",
      "metadata": {
        "id": "2s9sQw8G9KCc"
      },
      "source": [
        "__Example No. 5__\n",
        "\n",
        "In this example, it is shown that there are functions with a variable number of arguments, using the notation __**variable__, which are taken as a dictionary."
      ]
    },
    {
      "cell_type": "code",
      "execution_count": 8,
      "metadata": {
        "id": "feJ1BcOf9MUD"
      },
      "outputs": [
        {
          "name": "stdout",
          "output_type": "stream",
          "text": [
            "{'age': 6000, 'city': 'Olympus', 'greeting': 'all good', 'name': 'Poseidon'}\n",
            "'name == Poseidon'\n",
            "'age == 6000'\n",
            "'city == Olympus'\n",
            "'greeting == all good'\n"
          ]
        }
      ],
      "source": [
        "# just to have a nice dictionary print\n",
        "from pprint import pprint\n",
        "\n",
        "\n",
        "def inform(**var):\n",
        "    \"\"\"\n",
        "    This function receives a variable number of arguments and prints them.\n",
        "\n",
        "    Parameters:\n",
        "    - var (dict): A dictionary with the arguments.\n",
        "    \"\"\"\n",
        "    pprint(var)\n",
        "    for key, value in var.items():\n",
        "        pprint(\"%s == %s\" % (key, value))\n",
        "\n",
        "\n",
        "# just a test\n",
        "inform(name=\"Poseidon\", age=6000, city=\"Olympus\", greeting=\"all good\")"
      ]
    },
    {
      "cell_type": "markdown",
      "metadata": {
        "id": "L0B8BqeIHXb-"
      },
      "source": [
        "__Example No. 6__\n",
        "\n",
        "In this example, it is shown that the passing of structures as parameters to functions is done by reference: the objects that arrive can be modified within the function, as long as a new value is not assigned to the variable."
      ]
    },
    {
      "cell_type": "code",
      "execution_count": 7,
      "metadata": {
        "id": "ASDXmUvxHXrR"
      },
      "outputs": [
        {
          "name": "stdout",
          "output_type": "stream",
          "text": [
            "List before the function call:  ['Tony', 'Natalia', 'Steve']\n",
            "List after the function call:  ['Tony', 'Natalia', 'Steve', 'Thor', 'Peter']\n"
          ]
        }
      ],
      "source": [
        "def join_lists(list_1: list, list_2: list) -> None:\n",
        "    \"\"\"\n",
        "    This function receives two lists and joins them.\n",
        "\n",
        "    Parameters:\n",
        "    - list_1 (list): A list.\n",
        "    - list_2 (list): A list.\n",
        "    \"\"\"\n",
        "    list_1.extend(list_2)\n",
        "\n",
        "\n",
        "avengers = [\"Tony\", \"Natalia\", \"Steve\"]\n",
        "new_avengers = [\"Thor\", \"Peter\"]\n",
        "\n",
        "print(\"List before the function call: \", avengers)\n",
        "join_lists(avengers, new_avengers)\n",
        "print(\"List after the function call: \", avengers)"
      ]
    },
    {
      "cell_type": "markdown",
      "metadata": {
        "id": "E0wr09c1JEzt"
      },
      "source": [
        "__Example No. 7__\n",
        "\n",
        "In the following example, it is shown that the value of the traditional variable a from the main program is not affected, while the value of the variable a in the function does change, because assignment by value is done."
      ]
    },
    {
      "cell_type": "code",
      "execution_count": 6,
      "metadata": {
        "id": "BKmDJCUYJFTE"
      },
      "outputs": [
        {
          "name": "stdout",
          "output_type": "stream",
          "text": [
            "In the function a =  450\n",
            "In the main program a =  45\n"
          ]
        }
      ],
      "source": [
        "def func(a: int) -> None:\n",
        "    \"\"\"\n",
        "    This function receives an integer and multiplies it by 10.\n",
        "\n",
        "    Parameters:\n",
        "    - a (int): An integer.\n",
        "    \"\"\"\n",
        "    a *= 10\n",
        "    print(\"In the function a = \", a)\n",
        "\n",
        "\n",
        "# just a simple test\n",
        "a = 45\n",
        "func(a)\n",
        "print(\"In the main program a = \", a)"
      ]
    },
    {
      "cell_type": "markdown",
      "metadata": {
        "id": "UbffTYJsfx_v"
      },
      "source": [
        "__Example No. 8__\n",
        "\n",
        "In this example, it is shown that the value of _avengers_ from the main program does not change due to the assignment that is being made within the function to the list variable, and because built-in functions are not used for list management."
      ]
    },
    {
      "cell_type": "code",
      "execution_count": 5,
      "metadata": {
        "id": "34tm8PZAgBYI"
      },
      "outputs": [
        {
          "name": "stdout",
          "output_type": "stream",
          "text": [
            "List after the function call: ['Tony', 'Natalia', 'Steve']\n"
          ]
        }
      ],
      "source": [
        "def does_not_clear_list(list_: list):\n",
        "    \"\"\"\n",
        "    This function receives a list and does not modify it.\n",
        "\n",
        "    Parameters:\n",
        "    - list_ (list): A list.\n",
        "    \"\"\"\n",
        "    list_ = []\n",
        "\n",
        "\n",
        "# test with a list\n",
        "avengers = [\"Tony\", \"Natalia\", \"Steve\"]\n",
        "does_not_clear_list(avengers)\n",
        "print(\"List after the function call:\", avengers)"
      ]
    },
    {
      "cell_type": "markdown",
      "metadata": {
        "id": "9bfEqjXtjTbj"
      },
      "source": [
        "__Example No. 9__\n",
        "\n",
        "In this example, it is shown that the variable a defined in the function __func__ is local\n",
        "and only has scope within that function. It has nothing to do with the variable __a__ that is defined later in the main body of the program."
      ]
    },
    {
      "cell_type": "code",
      "execution_count": 4,
      "metadata": {
        "id": "Kj5NWjxjjVP1"
      },
      "outputs": [
        {
          "name": "stdout",
          "output_type": "stream",
          "text": [
            "Local variable: 12\n",
            "Main body variable: 10\n"
          ]
        }
      ],
      "source": [
        "def func():\n",
        "    \"\"\"This function modifies a local variable.\"\"\"\n",
        "    a = 12\n",
        "    print(\"Local variable:\", a)\n",
        "\n",
        "\n",
        "# just a test\n",
        "a = 10\n",
        "func()\n",
        "print(\"Main body variable:\", a)"
      ]
    },
    {
      "cell_type": "markdown",
      "metadata": {
        "id": "x0j1Alamj6_M"
      },
      "source": [
        "__Example No. 10__\n",
        "\n",
        "In the following example, _k_ is a global variable (scope throughout the program), _list\\__"
      ]
    },
    {
      "cell_type": "code",
      "execution_count": 16,
      "metadata": {
        "id": "794E2qypj88p"
      },
      "outputs": [
        {
          "name": "stdout",
          "output_type": "stream",
          "text": [
            "[0]\n",
            "[0, 1]\n",
            "[0, 1, 2]\n",
            "[0, 1, 2, 3]\n"
          ]
        }
      ],
      "source": [
        "k = 4\n",
        "\n",
        "\n",
        "# outer function\n",
        "def main():\n",
        "    list_ = []\n",
        "\n",
        "    # nested function\n",
        "    def add():\n",
        "        for x in range(k):\n",
        "            list_.append(x)\n",
        "            print(list_)\n",
        "\n",
        "    add()\n",
        "\n",
        "\n",
        "# call the main/outer function\n",
        "main()"
      ]
    },
    {
      "cell_type": "markdown",
      "metadata": {
        "id": "FP52DoeolX9f"
      },
      "source": [
        "__Example No. 11__\n",
        "\n",
        "In this example, the word _global_ is used before a variable, within a function, which indicates that this variable has global scope and that any operation performed on it within the function can modify the value of the global variable."
      ]
    },
    {
      "cell_type": "code",
      "execution_count": 17,
      "metadata": {
        "id": "8QRrBK_hlbDS"
      },
      "outputs": [
        {
          "name": "stdout",
          "output_type": "stream",
          "text": [
            "The variable k has global scope: 12\n",
            "Value of the global variable k outside the function: 10\n"
          ]
        }
      ],
      "source": [
        "# just a variable\n",
        "k = 5\n",
        "\n",
        "\n",
        "def func():\n",
        "    \"\"\"This function modifies a global variable.\"\"\"\n",
        "    global k  # now k is global\n",
        "    k = k + 7\n",
        "    print(\"The variable k has global scope:\", k)\n",
        "    # change the value of k to check out of the function\n",
        "    k = 10\n",
        "\n",
        "\n",
        "# just a test\n",
        "func()\n",
        "print(\"Value of the global variable k outside the function:\", k)"
      ]
    },
    {
      "cell_type": "markdown",
      "metadata": {
        "id": "NwV5i4D7mety"
      },
      "source": [
        "__Example No. 12__\n",
        "\n",
        "In this example, it is shown that variables declared as global within a function can be of any type."
      ]
    },
    {
      "cell_type": "code",
      "execution_count": 18,
      "metadata": {
        "id": "LsRJ2m-dmXR-"
      },
      "outputs": [
        {
          "name": "stdout",
          "output_type": "stream",
          "text": [
            "Before, Python was amazing\n",
            "Now, Python is fantastic\n"
          ]
        }
      ],
      "source": [
        "# define a variable to play with\n",
        "x = \"amazing\"\n",
        "\n",
        "\n",
        "def my_func():\n",
        "    \"\"\"This function modifies a global variable.\"\"\"\n",
        "    global x\n",
        "    x = \"fantastic\"\n",
        "\n",
        "\n",
        "print(\"Before, Python was \" + x)\n",
        "my_func()  # call the function to change global variable\n",
        "print(\"Now, Python is \" + x)"
      ]
    },
    {
      "cell_type": "markdown",
      "metadata": {
        "id": "CkmruAGo5WVM"
      },
      "source": [
        "***\n",
        "\n",
        "# Recursion\n",
        "\n",
        "If a problem of a certain size $T$ can be solved using instances of the same problem but of smaller size $t$ $(t < T )$, and in addition, the solution to some smaller size instances ($t_0$ ) that do not depend on the problem is known, then a recursive mechanism can be applied to implement the solution of the problem using a programming language.\n",
        "\n",
        "In practical terms, it is to make a function call itself solving increasingly smaller versions of the problem, but the sum of these solutions end up reaching the complete solution of the problem."
      ]
    },
    {
      "cell_type": "markdown",
      "metadata": {
        "id": "2YCOLonH6WEc"
      },
      "source": [
        "__Example No. 13__\n",
        "\n",
        "Calculate the sum of the natural numbers from $0$ to $n$."
      ]
    },
    {
      "cell_type": "code",
      "execution_count": 20,
      "metadata": {
        "id": "2zFr3J5u5soT"
      },
      "outputs": [
        {
          "name": "stdout",
          "output_type": "stream",
          "text": [
            "The result of the sum is: 15\n"
          ]
        }
      ],
      "source": [
        "def sum(n: int) -> int:\n",
        "    \"\"\"\n",
        "    This function calculates the sum of the first n natural numbers.\n",
        "\n",
        "    Parameters:\n",
        "    - n (int): An integer.\n",
        "\n",
        "    Returns:\n",
        "    - int: The sum of the first n natural numbers.\n",
        "    \"\"\"\n",
        "    if n > 0:\n",
        "        return n + sum(n - 1)\n",
        "    else:\n",
        "        return 0\n",
        "\n",
        "\n",
        "x = int(input())  # tested with 5\n",
        "print(\"The result of the sum is:\", sum(x))"
      ]
    },
    {
      "cell_type": "markdown",
      "metadata": {
        "id": "JpC5N_JT6fq8"
      },
      "source": [
        "__Problem No. 1__\n",
        "\n",
        "Calculate the sum of the numbers stored in a list."
      ]
    },
    {
      "cell_type": "code",
      "execution_count": 29,
      "metadata": {
        "id": "biDtfVS-6jHj"
      },
      "outputs": [
        {
          "name": "stdout",
          "output_type": "stream",
          "text": [
            "List: [2, 50, 9, 40, 27, 9, 28, 14, 31, 28, 38, 41, 10, 12, 41, 41, 38, 37, 18, 47]\n",
            "The result of the sum is: 561\n"
          ]
        }
      ],
      "source": [
        "from random import randint\n",
        "\n",
        "\n",
        "def partial_sum(L: list, n: int) -> int:\n",
        "    \"\"\"\n",
        "    This function calculates the partial sum of a list.\n",
        "\n",
        "    Parameters:\n",
        "    - L (list): A list of integers.\n",
        "    - n (int): An integer.\n",
        "\n",
        "    Returns:\n",
        "    - int: The partial sum of the first n elements of the list.\n",
        "    \"\"\"\n",
        "    if n > 0:\n",
        "        return L[n - 1] + partial_sum(L, n - 1)\n",
        "    else:\n",
        "        return 0\n",
        "\n",
        "\n",
        "def sum_list(L: list) -> int:\n",
        "    \"\"\"\n",
        "    This function calculates the sum of a list.\n",
        "\n",
        "    Parameters:\n",
        "    - L (list): A list of integers.\n",
        "\n",
        "    Returns:\n",
        "    - int: The sum of the elements of the list.\n",
        "    \"\"\"\n",
        "    return partial_sum(L, len(L))\n",
        "\n",
        "\n",
        "list_ = [randint(1, 50) for i in range(20)]\n",
        "print(\"List:\", list_)\n",
        "print(\"The result of the sum is:\", sum_list(list_))"
      ]
    },
    {
      "cell_type": "markdown",
      "metadata": {
        "id": "3UCiMYX99p0l"
      },
      "source": [
        "__Problem No. 2__\n",
        "\n",
        "Determine if a character is in a string."
      ]
    },
    {
      "cell_type": "code",
      "execution_count": 22,
      "metadata": {
        "id": "e471Vq2n9t23"
      },
      "outputs": [
        {
          "name": "stdout",
          "output_type": "stream",
          "text": [
            "Search Result: True\n"
          ]
        }
      ],
      "source": [
        "def partial_search(string: str, ch: str, n: int) -> bool:\n",
        "    \"\"\"\n",
        "    This function searches for a character in a string.\n",
        "\n",
        "    Parameters:\n",
        "    - string (str): A string.\n",
        "    - ch (str): A character.\n",
        "    - n (int): An integer.\n",
        "\n",
        "    Returns:\n",
        "    - bool: True if the character is found, False otherwise.\n",
        "    \"\"\"\n",
        "    if n > 0:\n",
        "        # recursion is checking at last characther or call function removing last character\n",
        "        return (string[n - 1] == ch) or partial_search(string, ch, n - 1)\n",
        "    else:\n",
        "        return False\n",
        "\n",
        "\n",
        "def search(str_: str, ch: str) -> bool:\n",
        "    \"\"\"\n",
        "    This function searches for a character in a string.\n",
        "\n",
        "    Parameters:\n",
        "    - str_ (str): A string.\n",
        "    - ch (str): A character.\n",
        "\n",
        "    Returns:\n",
        "    - bool: True if the character is found, False otherwise.\n",
        "    \"\"\"\n",
        "    return partial_search(str_, ch, len(str_))\n",
        "\n",
        "\n",
        "string = input(\"Enter a string: \")  # tested with \"hello\"\n",
        "character = input(\"Enter a character: \")  # tested with \"o\"\n",
        "print(\"Search Result:\", search(string, character))"
      ]
    },
    {
      "cell_type": "markdown",
      "metadata": {
        "id": "fmL-64LLA_wE"
      },
      "source": [
        "__Problem No. 3__\n",
        "\n",
        "What does this function $f$ do?"
      ]
    },
    {
      "cell_type": "code",
      "execution_count": 23,
      "metadata": {
        "id": "dpJO4dWyBFca"
      },
      "outputs": [
        {
          "name": "stdout",
          "output_type": "stream",
          "text": [
            "f result: False\n"
          ]
        }
      ],
      "source": [
        "def f(n: int) -> int:\n",
        "    \"\"\"\n",
        "    This function calculates the f(n) function.\n",
        "\n",
        "    Parameters:\n",
        "    - n (int): An integer.\n",
        "\n",
        "    Returns:\n",
        "    - int: The result of the f(n) function.\n",
        "    \"\"\"\n",
        "    if n == 0:\n",
        "        return True\n",
        "    elif n == 1:\n",
        "        return False\n",
        "    else:\n",
        "        return f(n - 2)\n",
        "\n",
        "\n",
        "number = int(input(\"Enter the number: \"))  # tested with 5\n",
        "print(\"f result:\", f(number))"
      ]
    },
    {
      "cell_type": "markdown",
      "metadata": {
        "id": "R75QsLzDH4X-"
      },
      "source": [
        "__Problem No. 4__\n",
        "\n",
        "What does this function $g$ do?"
      ]
    },
    {
      "cell_type": "code",
      "execution_count": 24,
      "metadata": {
        "id": "AO_rOfLZJaqN"
      },
      "outputs": [
        {
          "name": "stdout",
          "output_type": "stream",
          "text": [
            "g result: 2\n"
          ]
        }
      ],
      "source": [
        "def g(n: int) -> int:\n",
        "    \"\"\"\n",
        "    This function calculates the g(n) function.\n",
        "\n",
        "    Parameters:\n",
        "    - n (int): An integer.\n",
        "\n",
        "    Returns:\n",
        "    - int: The result of the g(n) function.\n",
        "    \"\"\"\n",
        "    if n == 0:\n",
        "        return 0\n",
        "    elif n == 1:\n",
        "        return 1\n",
        "    elif n == 2:\n",
        "        return 2\n",
        "    else:\n",
        "        return g(n - 3)\n",
        "\n",
        "\n",
        "numero = int(input(\"Enter the number: \"))  # tested with 5\n",
        "print(\"g result:\", g(numero))"
      ]
    },
    {
      "cell_type": "markdown",
      "metadata": {
        "id": "TM5NFrYTR8u7"
      },
      "source": [
        "__Problem No. 5__\n",
        "\n",
        "Create a recursive function that allows finding a real number power to a natural number."
      ]
    },
    {
      "cell_type": "code",
      "execution_count": 25,
      "metadata": {
        "id": "MerC5elXSmZf"
      },
      "outputs": [
        {
          "name": "stdout",
          "output_type": "stream",
          "text": [
            "3.4 ^ 5 = 454.3542399999999\n"
          ]
        }
      ],
      "source": [
        "def power(b: float, n: int) -> float:\n",
        "    \"\"\"\n",
        "    This function calculates the power of a number.\n",
        "\n",
        "    Parameters:\n",
        "    - b (float): Base.\n",
        "    - n (int): Exponent.\n",
        "\n",
        "    Returns:\n",
        "    - float: The result of the power.\n",
        "    \"\"\"\n",
        "    if n == 0:\n",
        "        return 1\n",
        "    else:\n",
        "        # recursion is multiplying the base by the power of the base and the exponent minus 1\n",
        "        return power(b, n - 1) * b\n",
        "\n",
        "\n",
        "base = float(input(\"Please enter the base: \"))  # tested with 3.4\n",
        "exp = int(input(\"Please enter the exponent: \"))  # tested with 5\n",
        "print(base, \"^\", exp, \"=\", power(base, exp))"
      ]
    },
    {
      "cell_type": "markdown",
      "metadata": {
        "id": "lNegmx3US8DY"
      },
      "source": [
        "__Example No. 14__\n",
        "\n",
        "In this example, a recursive function is shown to calculate the factorial of a number."
      ]
    },
    {
      "cell_type": "code",
      "execution_count": 26,
      "metadata": {
        "id": "KSKp5jNIYw8f"
      },
      "outputs": [
        {
          "name": "stdout",
          "output_type": "stream",
          "text": [
            "Factorial Result: 5040\n"
          ]
        }
      ],
      "source": [
        "def factorial(n: int) -> int:\n",
        "    \"\"\"\n",
        "    This function calculates the factorial of a number.\n",
        "\n",
        "    Parameters:\n",
        "    - n (int): An integer.\n",
        "\n",
        "    Returns:\n",
        "    - int: The factorial of n.\n",
        "    \"\"\"\n",
        "    if n == 0:\n",
        "        return 1\n",
        "    else:\n",
        "        # recursion is multiplying the number by the factorial of the number minus 1\n",
        "        return n * factorial(n - 1)\n",
        "\n",
        "\n",
        "number = int(input(\"Enter the number: \"))  # tested with 7\n",
        "print(\"Factorial Result:\", factorial(number))"
      ]
    },
    {
      "cell_type": "markdown",
      "metadata": {
        "id": "LAlQp_15ZOOL"
      },
      "source": [
        "__Example No. 15__\n",
        "\n",
        "In this example, a recursive function is shown to calculate the Fibonacci series up to a specific term."
      ]
    },
    {
      "cell_type": "code",
      "execution_count": 28,
      "metadata": {
        "id": "vAn0865nZhgm"
      },
      "outputs": [
        {
          "name": "stdout",
          "output_type": "stream",
          "text": [
            "Fibonacci result: 55\n"
          ]
        }
      ],
      "source": [
        "def fibonacci(n: int) -> int:\n",
        "    \"\"\"\n",
        "    This function calculates the nth Fibonacci number.\n",
        "\n",
        "    Parameters:\n",
        "    - n (int): nth Fibonacci term.\n",
        "\n",
        "    Returns:\n",
        "    - int: The nth Fibonacci number.\n",
        "    \"\"\"\n",
        "    if n == 0:\n",
        "        return 0\n",
        "    elif n == 1:\n",
        "        return 1\n",
        "\n",
        "    # recursion is summing the two previous Fibonacci numbers\n",
        "    return fibonacci(n - 1) + fibonacci(n - 2)\n",
        "\n",
        "\n",
        "number = int(input(\"Enter the number: \"))  # tested with 10\n",
        "print(\"Fibonacci result:\", fibonacci(number))"
      ]
    }
  ],
  "metadata": {
    "colab": {
      "provenance": []
    },
    "kernelspec": {
      "display_name": "Python 3",
      "name": "python3"
    },
    "language_info": {
      "codemirror_mode": {
        "name": "ipython",
        "version": 3
      },
      "file_extension": ".py",
      "mimetype": "text/x-python",
      "name": "python",
      "nbconvert_exporter": "python",
      "pygments_lexer": "ipython3",
      "version": "3.11.0rc2"
    }
  },
  "nbformat": 4,
  "nbformat_minor": 0
}
