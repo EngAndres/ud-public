{
  "cells": [
    {
      "cell_type": "markdown",
      "metadata": {
        "id": "RaT8-O4Pnyut"
      },
      "source": [
        "***\n",
        "\n",
        "# Modularidad\n",
        "\n",
        "## Funciones\n",
        "\n",
        "Las funciones son unidades pequeñas dentro de una construcción más grande que genera\n",
        "una salida esperada.\n",
        "\n",
        "Las funciones tienen dos categorı́as: incluídas con el lenguaje, y creadas por el usuario."
      ]
    },
    {
      "cell_type": "markdown",
      "metadata": {
        "id": "81HF2Bl8o8dx"
      },
      "source": [
        "**Ejercicio No. 17**\n",
        "\n",
        "En el siguiente ejercicio se muestran distintas funciones clásicas, de las que no retornan, si retornan, tienen parámetros y otras que no."
      ]
    },
    {
      "cell_type": "code",
      "execution_count": null,
      "metadata": {
        "id": "io4MV1sLoNRt"
      },
      "outputs": [],
      "source": [
        "# función sin argumentos\n",
        "def saludar_1():\n",
        "  nombre = input(\"Ingrese primer nombre:\")\n",
        "  print(\"Hola\", nombre, '!')\n",
        "\n",
        "# función con un argumento\n",
        "def saludar_2(nombre):\n",
        "  print('Hola', nombre, '!!')\n",
        "\n",
        "# función con un argumento y retornando valor\n",
        "def saludar_3(nombre):\n",
        "  return \"Hola \" + nombre + \"!!!\"\n",
        "\n",
        "saludar_1()\n",
        "nombre = input(\"Ingrese segundo nombre:\")\n",
        "saludar_2(nombre)\n",
        "nombre = input(\"Ingrese tercer nombre:\")\n",
        "print(saludar_3(nombre))"
      ]
    },
    {
      "cell_type": "markdown",
      "metadata": {
        "id": "vqC2U5wRqKyz"
      },
      "source": [
        "**Ejercicio No. 18**\n",
        "\n",
        "En este ejercicio se muestra que hay funciones con argumentos por defecto, es decir, que el argumento que la variable\n",
        "toma es el valor dado en la definición de la función si esté no es pasado cuando se llama a la función."
      ]
    },
    {
      "cell_type": "code",
      "execution_count": null,
      "metadata": {
        "id": "e-A_7UgDqN4d"
      },
      "outputs": [],
      "source": [
        "def log_entero(num, base=2):\n",
        "  print(base)\n",
        "  cont = 0\n",
        "  while num >= base:\n",
        "    cont+=1\n",
        "    num /= base\n",
        "  return cont\n",
        "\n",
        "print(\"Resultado:\", log_entero(1024))\n",
        "print(\"Resultado:\", log_entero(1000,10))\n",
        "print(\"Resultado:\", log_entero(9,3))"
      ]
    },
    {
      "cell_type": "markdown",
      "metadata": {
        "id": "7WPKKHMQqpL1"
      },
      "source": [
        "**Ejercicio No. 19**\n",
        "\n",
        "En este ejercicio se muestran funciones con un número de argumentos variable, usando la notación __*variable__, que toma todos los valores como una tupla adicional."
      ]
    },
    {
      "cell_type": "code",
      "execution_count": null,
      "metadata": {
        "id": "L7m_t4bTqrQ6"
      },
      "outputs": [],
      "source": [
        "def variable_argument(var1, *vari):\n",
        "  print('salida:'+ str(var1), end=\" \")\n",
        "  print(vari)\n",
        "  sum = var1\n",
        "  for var in vari:\n",
        "    print(var)\n",
        "    try:\n",
        "      sum += var\n",
        "    except:\n",
        "      print(var, \"no es un número\")\n",
        "  return sum\n",
        "\n",
        "print(variable_argument(60))\n",
        "print(\"\\n\" + (\"*\" * 10))\n",
        "print(variable_argument(100, 90, 67, 23, 10, \"hola\", True))"
      ]
    },
    {
      "cell_type": "markdown",
      "metadata": {
        "id": "2s9sQw8G9KCc"
      },
      "source": [
        "**Ejercicio No. 20**\n",
        "\n",
        "En este ejercicio se muestra que existen funciones con un número de argumentos variable,  usando la notación __**variable__, que son tomados como un diccionario."
      ]
    },
    {
      "cell_type": "code",
      "execution_count": null,
      "metadata": {
        "id": "feJ1BcOf9MUD"
      },
      "outputs": [],
      "source": [
        "from pprint import pprint\n",
        "\n",
        "def informar(**var):\n",
        "  pprint(var)\n",
        "  for key, value in var.items():\n",
        "    pprint(\"%s == %s\" %(key,value))\n",
        "\n",
        "\n",
        "informar(nombre=\"Poseidón\",edad=6000,ciudad=\"Olimpo\",saludo=\"todo bien\")"
      ]
    },
    {
      "cell_type": "markdown",
      "metadata": {
        "id": "L0B8BqeIHXb-"
      },
      "source": [
        "**Ejercicio No. 21**\n",
        "\n",
        "En este ejercicio se muestra que el paso de estructuras como parámetros a funciones se realiza por referencia: los objetos que\n",
        "lleguen pueden ser modificados dentro de la función, mientras que a la variable no se le asigne un nuevo valor."
      ]
    },
    {
      "cell_type": "code",
      "execution_count": null,
      "metadata": {
        "id": "ASDXmUvxHXrR"
      },
      "outputs": [],
      "source": [
        "def unir_listas(lista1, lista2):\n",
        "  lista1.extend(lista2)\n",
        "\n",
        "\n",
        "avengers        = ['Tony', 'Natalia', 'Steve']\n",
        "nuevos_avengers = ['Thor', 'Peter']\n",
        "\n",
        "unir_listas(avengers, nuevos_avengers)\n",
        "print(avengers)"
      ]
    },
    {
      "cell_type": "markdown",
      "metadata": {
        "id": "E0wr09c1JEzt"
      },
      "source": [
        "**Ejercicio No. 22**\n",
        "\n",
        "En el siguiente ejercvicio se muestra que el valor de la variable a del programa principal no se afecta, mientras que el valor de la variable a en la función si cambia, debido a que se hace asignación por valor."
      ]
    },
    {
      "cell_type": "code",
      "execution_count": null,
      "metadata": {
        "id": "BKmDJCUYJFTE"
      },
      "outputs": [],
      "source": [
        "def func(a):\n",
        "  a *= 10\n",
        "  print('En la función a=',a)\n",
        "\n",
        "a = 45\n",
        "func(a)\n",
        "print('En el programa principal a=',a)"
      ]
    },
    {
      "cell_type": "markdown",
      "metadata": {
        "id": "UbffTYJsfx_v"
      },
      "source": [
        "**Ejercicio No. 23**\n",
        "\n",
        "En este ejercicio se muestra que el valor de *avengers* del programa principal no\n",
        "cambia debido a la asignación que se está realizando dentro de la función\n",
        "a la variable lista, y porque no se usan funciones propias de la librería de listas."
      ]
    },
    {
      "cell_type": "code",
      "execution_count": null,
      "metadata": {
        "id": "34tm8PZAgBYI"
      },
      "outputs": [],
      "source": [
        "def no_limpia_lista(lista):\n",
        "  lista = []\n",
        "\n",
        "avengers = ['Tony', 'Natalia', 'Steve']\n",
        "no_limpia_lista(avengers)\n",
        "print(avengers)"
      ]
    },
    {
      "cell_type": "markdown",
      "metadata": {
        "id": "9bfEqjXtjTbj"
      },
      "source": [
        "**Ejercicio No. 24**\n",
        "\n",
        "En este ejercicio se muestra que la variable a definida en la función **func** es local\n",
        "y solo tiene alcance en dicha función. No tiene nada que ver con la variable a que es definida después en el cuerpo principal del programa."
      ]
    },
    {
      "cell_type": "code",
      "execution_count": null,
      "metadata": {
        "id": "Kj5NWjxjjVP1"
      },
      "outputs": [],
      "source": [
        "def func():\n",
        "  a = 12\n",
        "  print('Variable local:', a)\n",
        "\n",
        "a = 10\n",
        "func()\n",
        "print ('Variable del cuerpo principal:', a)"
      ]
    },
    {
      "cell_type": "markdown",
      "metadata": {
        "id": "x0j1Alamj6_M"
      },
      "source": [
        "**Ejercicio No. 25**\n",
        "\n",
        "En el siguiente ejercicio *k* es una variable global (alcance en todo el programa), *lista* es una variable local (de main) con alcance en la función **main** y \"global\" en **add**, mientras que la variable *x* es local pues\n",
        "solo tiene alcance en la función **add**."
      ]
    },
    {
      "cell_type": "code",
      "execution_count": null,
      "metadata": {
        "id": "794E2qypj88p"
      },
      "outputs": [],
      "source": [
        "k = 4\n",
        "\n",
        "def main():\n",
        "  lista = []\n",
        "  def add():\n",
        "    for x in range(k):\n",
        "      lista.append(x)\n",
        "      print(lista)\n",
        "  add()\n",
        "\n",
        "main()"
      ]
    },
    {
      "cell_type": "markdown",
      "metadata": {
        "id": "FP52DoeolX9f"
      },
      "source": [
        "\n",
        "**Ejercicio No. 26**\n",
        "\n",
        "En este ejercicio se usa la palabra *global* antes de una variable, dentro de una función, la cual indica que dicha variable tiene alcance global y que cualquier operación que se le haga dentro de la función puede modificar el valor de la variable global."
      ]
    },
    {
      "cell_type": "code",
      "execution_count": null,
      "metadata": {
        "id": "8QRrBK_hlbDS"
      },
      "outputs": [],
      "source": [
        "k = 5\n",
        "\n",
        "def func():\n",
        "  global k\n",
        "  k = k + 7\n",
        "  print(\"La variable k tiene alcance global:\", k)\n",
        "  k = 10\n",
        "\n",
        "\n",
        "func()\n",
        "print (\"Valor de la variable global k fuera de la función:\", k)"
      ]
    },
    {
      "cell_type": "markdown",
      "metadata": {
        "id": "NwV5i4D7mety"
      },
      "source": [
        "**Ejercicio No. 27**\n",
        "\n",
        "En este ejercicio se muestra que las variables que se declaran globales dentro de una función pueden ser de cualquier tipo."
      ]
    },
    {
      "cell_type": "code",
      "execution_count": null,
      "metadata": {
        "id": "LsRJ2m-dmXR-"
      },
      "outputs": [],
      "source": [
        "\n",
        "x = \"sorprendente\"\n",
        "\n",
        "def myfunc():\n",
        "  global x\n",
        "  x = \"fantástico\"\n",
        "\n",
        "print(\"Antes Python era \" + x)\n",
        "myfunc()\n",
        "print(\"Ahora Python es \" + x)"
      ]
    },
    {
      "cell_type": "markdown",
      "metadata": {
        "id": "CkmruAGo5WVM"
      },
      "source": [
        "***\n",
        "\n",
        "# Recursividad\n",
        "\n",
        "Si un problema de cierto tamaño $T$ puede ser solucionado usando instancias del mismo problema pero de menor tamaño $t$ $(t < T )$, y\n",
        "además se conoce la solución de algunas instancias de menor tamaño ($t_0$ ) que no dependan del problema, entonces se puede aplicar un mecanismo recursivo para implementar la solución del problema usando un lenguaje de programación."
      ]
    },
    {
      "cell_type": "markdown",
      "metadata": {
        "id": "2YCOLonH6WEc"
      },
      "source": [
        "**Ejercicio No. 28**\n",
        "\n",
        "Calcular la suma de los números naturales desde el $0$ hasta $n$."
      ]
    },
    {
      "cell_type": "code",
      "execution_count": null,
      "metadata": {
        "id": "2zFr3J5u5soT"
      },
      "outputs": [],
      "source": [
        "def sumar(n):\n",
        "  if n > 0:\n",
        "    return n + sumar(n-1)\n",
        "  else:\n",
        "    return 0\n",
        "\n",
        "\n",
        "x = int( input() )\n",
        "print( \"El resultado de la suma es:\", sumar(x) )"
      ]
    },
    {
      "cell_type": "markdown",
      "metadata": {
        "id": "JpC5N_JT6fq8"
      },
      "source": [
        "**Problema No. 29**\n",
        "\n",
        "Calcular la suma de los números almacenados en una lista."
      ]
    },
    {
      "cell_type": "code",
      "execution_count": null,
      "metadata": {
        "id": "biDtfVS-6jHj"
      },
      "outputs": [],
      "source": [
        "from random import randint\n",
        "\n",
        "def sumar_parcial(L, n):\n",
        "  if n > 0:\n",
        "    return L[n-1] + sumar_parcial(L,n-1)\n",
        "  else:\n",
        "    return 0\n",
        "\n",
        "def sumar_lista(L):\n",
        "  return sumar_parcial(L,len(L))\n",
        "\n",
        "lista = [randint(1, 50) for i in range(20)]\n",
        "print( lista )\n",
        "print(\"El resultado de la suma es:\", sumar_lista( lista ) )"
      ]
    },
    {
      "cell_type": "markdown",
      "metadata": {
        "id": "3UCiMYX99p0l"
      },
      "source": [
        "**Problema No. 30**\n",
        "\n",
        "Determinar si un carácter está en una cadena."
      ]
    },
    {
      "cell_type": "code",
      "execution_count": null,
      "metadata": {
        "id": "e471Vq2n9t23"
      },
      "outputs": [],
      "source": [
        "def buscar_parcial(str,ch,n):\n",
        "  if n > 0:\n",
        "    return (str[n-1] == ch) or buscar_parcial(str,ch,n-1)\n",
        "  else:\n",
        "    return False\n",
        "\n",
        "def buscar(str,ch):\n",
        "  return buscar_parcial(str,ch,len(str))\n",
        "\n",
        "\n",
        "cadena   = input(\"Ingrese una cadena: \")\n",
        "caracter = input(\"Ingrese un caracter: \")\n",
        "print( buscar(cadena, caracter) )"
      ]
    },
    {
      "cell_type": "markdown",
      "metadata": {
        "id": "fmL-64LLA_wE"
      },
      "source": [
        "**Problema No, 31**\n",
        "\n",
        "¿Qué hace esta función $f$?"
      ]
    },
    {
      "cell_type": "code",
      "execution_count": null,
      "metadata": {
        "id": "dpJO4dWyBFca"
      },
      "outputs": [],
      "source": [
        "def f(n):\n",
        "  if n == 0:\n",
        "    return True\n",
        "  elif n == 1:\n",
        "    return False\n",
        "  else:\n",
        "    return f(n-2)\n",
        "\n",
        "numero = int(input(\"Ingreso el número: \"))\n",
        "print( f(numero) )"
      ]
    },
    {
      "cell_type": "markdown",
      "metadata": {
        "id": "R75QsLzDH4X-"
      },
      "source": [
        "**Problema No. 32**\n",
        "\n",
        "¿Qué hace esta función $g$?\n"
      ]
    },
    {
      "cell_type": "code",
      "execution_count": null,
      "metadata": {
        "id": "AO_rOfLZJaqN"
      },
      "outputs": [],
      "source": [
        "def g(n):\n",
        "  if n == 0:\n",
        "    return 0\n",
        "  elif n == 1:\n",
        "    return 1\n",
        "  elif n == 2:\n",
        "    return 2\n",
        "  else:\n",
        "    return g(n-3)\n",
        "\n",
        "numero = int(input(\"Ingreso el número: \"))\n",
        "print( g(numero) )"
      ]
    },
    {
      "cell_type": "markdown",
      "metadata": {
        "id": "TM5NFrYTR8u7"
      },
      "source": [
        "**Problema No. 33**\n",
        "\n",
        "En este ejercicio se define una función recursiva que permita hallar un número real elevado a un número natural."
      ]
    },
    {
      "cell_type": "code",
      "execution_count": null,
      "metadata": {
        "id": "MerC5elXSmZf"
      },
      "outputs": [],
      "source": [
        "def potencia(b, n):\n",
        "  if n == 0:\n",
        "    return 1\n",
        "  else:\n",
        "    return potencia(b, n-1) * b\n",
        "\n",
        "\n",
        "base = float(input(\"Por favor digite la base: \"))\n",
        "exp  = int(input(\"Por favor digite el exponente: \"))\n",
        "print(base, \"^\", exp, \"=\", potencia(base, exp))"
      ]
    },
    {
      "cell_type": "markdown",
      "metadata": {
        "id": "lNegmx3US8DY"
      },
      "source": [
        "**Ejercicio No. 34**\n",
        "\n",
        "En este ejercicio se muestra una función recursiva para calcular el factorial de un número."
      ]
    },
    {
      "cell_type": "code",
      "execution_count": null,
      "metadata": {
        "id": "KSKp5jNIYw8f"
      },
      "outputs": [],
      "source": [
        "def fact(n):\n",
        "  if n == 0:\n",
        "    return 1\n",
        "  else:\n",
        "    return n * fact(n-1)\n",
        "\n",
        "\n",
        "numero = int(input(\"Ingreso el número: \"))\n",
        "print( fact(numero) )"
      ]
    },
    {
      "cell_type": "markdown",
      "metadata": {
        "id": "LAlQp_15ZOOL"
      },
      "source": [
        "**Ejercicio No. 35**\n",
        "\n",
        "En este ejercicio se muestra una función recursiva para calcula la serie de Fibonnaci hasta un término específico."
      ]
    },
    {
      "cell_type": "code",
      "execution_count": null,
      "metadata": {
        "id": "vAn0865nZhgm"
      },
      "outputs": [],
      "source": [
        "  def fibo(n):\n",
        "  if n == 0:\n",
        "    return 0\n",
        "  elif n == 1:\n",
        "    return 1\n",
        "  return fibo(n - 1) + fibo(n - 2)\n",
        "\n",
        "numero = int(input(\"Ingreso el número: \"))\n",
        "print( fibo(numero) )"
      ]
    }
  ],
  "metadata": {
    "colab": {
      "provenance": []
    },
    "kernelspec": {
      "display_name": "Python 3",
      "name": "python3"
    },
    "language_info": {
      "name": "python"
    }
  },
  "nbformat": 4,
  "nbformat_minor": 0
}
