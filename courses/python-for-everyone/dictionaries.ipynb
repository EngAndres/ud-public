{
  "cells": [
    {
      "cell_type": "markdown",
      "metadata": {
        "id": "9o7Np_4NNxqW"
      },
      "source": [
        "***\n",
        "# Diccionarios\n",
        "\n",
        "Los diccionarios con una estrcutura de datos que consiste en tener un conjunto de elementos que son una pareja _clave-valor_. Una pareja _clave-valor_ relaciona un par de objetos, la clave con que se identifica o localiza a un objeto, y el valor que es el objeto referenciado.\n",
        "\n",
        "Las parejas clave-valor en Python se escriben en la forma **clave:valor** separando el objeto que va a servir de clave (a la izquierda) con un dos puntos del objeto valor, que será identificado por la clave."
      ]
    },
    {
      "cell_type": "markdown",
      "metadata": {
        "id": "XUnwYJHWPAZP"
      },
      "source": [
        "**Ejercicio No. 1**\n",
        "\n",
        "En este ejercicio se muestra que un diccionario se puede asignar a una variable, las claves deben ser únicas en cada arreglo, y el valor asignado a la clave puede ser de cualquier tipo, incluyendo otra estructura de datos."
      ]
    },
    {
      "cell_type": "code",
      "execution_count": null,
      "metadata": {
        "id": "Nr7-fyt3Lwz3"
      },
      "outputs": [],
      "source": [
        "x = { } # diccionario vacío\n",
        "puertos = {22:'SSH', 23:'Telnet', 80:'HTTP', 3306:'MySQL'} # diccionario con enteros como clave\n",
        "# diccionario con cadenas como clave, e incluso un diccionario anidado\n",
        "menu = {'compañia':'La Gallina Saraviada', \"precio\":{\"grande\":23000, \"mediana\":18000, \"pequeña\":12000}}\n",
        "\n",
        "# impresión de los diccionarios\n",
        "print(x)\n",
        "print(puertos)\n",
        "print(menu)"
      ]
    },
    {
      "cell_type": "markdown",
      "metadata": {
        "id": "-YKNA4G5QzsQ"
      },
      "source": [
        "**Ejercicio No. 2**\n",
        "\n",
        "En este ejercicio se muestra el método **update** agrega ı́tems de un diccionario en otro. Se debe recordar que un diccionario no es una estructura ordenada, así que las llaves se pueden imprimir en cualquier orden; lo realmente importante, es que se encuentren todas las llaves que se están esperando."
      ]
    },
    {
      "cell_type": "code",
      "execution_count": null,
      "metadata": {
        "id": "UHwu6tHCQ3dP"
      },
      "outputs": [],
      "source": [
        "dict_ports1 = {22:\"SSH\", 80:\"Http\"}  # diccionario de base\n",
        "dict_ports2 = {53:\"DNS\", 443:\"https\"} # diccionario con otras parejas clave:valor\n",
        "print(dict_ports1)  # se imprime el primer diccionario para ver estado actual\n",
        "\n",
        "dict_ports1.update(dict_ports2) # se usa la función update para agregar parejas de un diccionario a otro dicccionario\n",
        "print(dict_ports1) # se imprime el primer diccionario para ver su nuevo estado"
      ]
    },
    {
      "cell_type": "markdown",
      "metadata": {
        "id": "qi2d06nwRI5A"
      },
      "source": [
        "**Ejercicio No. 3**\n",
        "\n",
        "En este ejercicio se usan los operadores convencionales (==, !=) para comparar diccionarios. Se mira si los diccionarios tienen los mismos ı́tems."
      ]
    },
    {
      "cell_type": "code",
      "execution_count": null,
      "metadata": {
        "id": "geVE3dkgTZtX"
      },
      "outputs": [],
      "source": [
        "# una variable puede guardar el resultado de una comparación, que daría un valor\n",
        "a = {123:'Rojas', 87:'Rosas'} == {87:'Rosas', 123:\"Rojas\"} # estos diccionarios tienen diferentes claves, eso los hace diferentes\n",
        "print(a)\n",
        "\n",
        "print({'Rosas':123} != {'rosas':123}) # los diccionarios son diferentes, así que la respuesta es verdadero\n",
        "\n",
        "b = {123:'Rosas', 87:'rojas'} == {'Rosas':123, 87:'rojas'} # estos diccionarios no tienen las mismas claves, son diferentes\n",
        "print(b)"
      ]
    },
    {
      "cell_type": "markdown",
      "metadata": {
        "id": "9Ljq_AUxUDx1"
      },
      "source": [
        "**Ejercicio No. 4**\n",
        "\n",
        "En este ejercicio se muestra como, usando un concepto similar al de subíndices, se accede al valor de un ı́tem con la clave dada. Si no existe un ı́tem con la clave dada en el diccionario se genera un error."
      ]
    },
    {
      "cell_type": "code",
      "execution_count": null,
      "metadata": {
        "id": "iQcQMWZwVMm2"
      },
      "outputs": [],
      "source": [
        "puertos = {22:'SSH', 23:'Telnet', 80:'HTTP', 3306:'MySQL'} # diccionario de base\n",
        "\n",
        "protocolo = puertos[22] # se accede al diccionario en la clave 22 y se aisgna a una variable\n",
        "print(protocolo)\n",
        "\n",
        "puertos[533]  # se accede a una clave que no existe, lo que arroja un error en el código\n"
      ]
    },
    {
      "cell_type": "markdown",
      "metadata": {
        "id": "47lSADXCWQBy"
      },
      "source": [
        "**Ejercicio No. 5**\n",
        "\n",
        "En este ejercicio se muestra la manera de agregar (si no existe) o modificar (si existe) el valor de un ı́tem con la clave\n",
        "dada, usando un concepto similar al de subíndices."
      ]
    },
    {
      "cell_type": "code",
      "execution_count": null,
      "metadata": {
        "id": "6ZjU5terWbSz"
      },
      "outputs": [],
      "source": [
        "puertos = {80:\"HTTP\", 23:\"SMTP\", 443:\"HTTPS\"}  # diccionario de base\n",
        "print(puertos) # impresión para verificar el estado actual del diccionario\n",
        "\n",
        "puertos[23] = 'Telnet' # se cambia el valor en la clave 23\n",
        "print(puertos)\n",
        "\n",
        "puertos[110] = 'POP'  # se agrega ;a c;ave 110\n",
        "print(puertos)\n",
        "\n",
        "puertos['no disponibles'] = [10, 20]   # se agrega la clave \"no disponibles\" con una lista en el valor\n",
        "print(puertos)"
      ]
    },
    {
      "cell_type": "markdown",
      "metadata": {
        "id": "ILSDrIpeW9We"
      },
      "source": [
        "**Ejercicio No. 6**\n",
        "\n",
        "En este ejercicio se muestra el comando **del**, el cual permite eliminar el ı́tem con la clave dada, usando un concepto similar al de subíndices."
      ]
    },
    {
      "cell_type": "code",
      "execution_count": null,
      "metadata": {
        "id": "IY4BpXGJXIOB"
      },
      "outputs": [],
      "source": [
        "puertos = {22:'SSH', 23:'Telnet', 80:'HTTP', 3306:'MySQL'} # diccionario de base\n",
        "print(puertos) # impresión para verificar el estado actual del diccionario\n",
        "\n",
        "del puertos[23] # se eliminina la pareja que tiene la clave 23\n",
        "print(puertos)  # verificación del diccionario que ya no debe contener la clave eliminada"
      ]
    },
    {
      "cell_type": "markdown",
      "metadata": {
        "id": "0bpAMBXlXs_q"
      },
      "source": [
        "**Ejercicio No. 7**\n",
        "\n",
        "En este ejercicio se muestra que es posible determinar si en un diccionario existe un ı́tem que tenga asociada una clave o no, mediante el uso de condicionales y el concepto de pertenencia de conjuntos usando la palabra reservada *in*."
      ]
    },
    {
      "cell_type": "code",
      "execution_count": null,
      "metadata": {
        "id": "LcxaSu_5X7Az"
      },
      "outputs": [],
      "source": [
        "puertos = {80:\"HTTP\", 23:\"SMTP\", 443:\"HTTPS\"}  # diccionario de base\n",
        "if 80 in puertos: # se verifica si la clave existe en el diccionatio\n",
        "  print('yes')\n",
        "\n",
        "if 110 not in puertos: # se verifica si la clave no existe en el diccionario\n",
        "  print('no')\n",
        "else:  # se irá por el camino del else, si la clave está en el diccionario\n",
        "  print('yes')"
      ]
    },
    {
      "cell_type": "markdown",
      "metadata": {
        "id": "MGJRqIT_YQYY"
      },
      "source": [
        "**Ejercicio No. 8**\n",
        "\n",
        "En este ejercicio se muestra como se puede iterar un diccionario usando el ciclo **for** para obtener las claves del mismo."
      ]
    },
    {
      "cell_type": "code",
      "execution_count": null,
      "metadata": {
        "id": "fKGpc2V9YaKy"
      },
      "outputs": [],
      "source": [
        "dict_ports = {22:\"SSH\", 23:\"telnet\", 80:\"Http\", \"no disponibles\": [12,20]} # diccionario de base\n",
        "for key in dict_ports: # recorre el diccionario basado en las claves\n",
        "  print(key)  # se imprime la clave\n",
        "  print(dict_ports[key])  # se imprime el valor asociado a la clave"
      ]
    },
    {
      "cell_type": "markdown",
      "metadata": {
        "id": "9LpbvQJSYjz3"
      },
      "source": [
        "**Ejercicio No. 9**\n",
        "\n",
        "En este ejercicio se muestra como se puede usar el ciclo **for** y el método _items_ para obtener los ı́tems de un diccionario."
      ]
    },
    {
      "cell_type": "code",
      "execution_count": null,
      "metadata": {
        "id": "SiqRgAbSYuHd"
      },
      "outputs": [],
      "source": [
        " # para recorrer el diccionario obteniendo la pareja, se usa la función items\n",
        "for k,v in dict_ports.items():  # cada item se divide en los dos componentes\n",
        "  print(k, '====', v)  # se imprime la clave en k y el valor en v"
      ]
    },
    {
      "cell_type": "markdown",
      "metadata": {
        "id": "_1V1bYIhZlRM"
      },
      "source": [
        "**Ejercicio No. 10**\n",
        "\n",
        "En este ejercicio se muestra la función **len**, la cual determina el número de ı́tems en un diccionario."
      ]
    },
    {
      "cell_type": "code",
      "execution_count": null,
      "metadata": {
        "id": "mbV05ng7ZvkI"
      },
      "outputs": [],
      "source": [
        "puertos = {80:\"HTTP\", 23:\"SMTP\", 443:\"HTTPS\"} # diccionario de base\n",
        "print( len(puertos) ) # len obtiene la cantidad de parejas clave:valor en el diccionario"
      ]
    },
    {
      "cell_type": "markdown",
      "metadata": {
        "id": "_oD2t-BAaOc1"
      },
      "source": [
        "**Ejercicio No. 11**\n",
        "\n",
        "En este ejercici se muestra como se puede obtener el valor de un ı́tem a partir de la llave con el método **get**. Adicionalmente, se puede decir que retornar si no se encuentra un ı́tem con dicha clave."
      ]
    },
    {
      "cell_type": "code",
      "execution_count": null,
      "metadata": {
        "id": "cDZigUpKaYhP"
      },
      "outputs": [],
      "source": [
        "dict1 = {'a':1, 'b':2, 'c':3}  # diccionario de base\n",
        "print(dict1.get('a', \"clave a no encontrada\")) # obtiene la clave, o imprime mensaje si no la encuentra\n",
        "print(dict1.get('d', 'clave d no encontrada.')) # en este caso, al no estar la clave, imprime el mensaje"
      ]
    },
    {
      "cell_type": "markdown",
      "metadata": {
        "id": "FuGmBVx9aqrC"
      },
      "source": [
        "**Ejercicio No. 12**\n",
        "\n",
        "En este ejercicio se muestra que usando el método **max**/**min** obtiene la máxima/mı́nima _clave_ de los ı́tems en el diccionario."
      ]
    },
    {
      "cell_type": "code",
      "execution_count": null,
      "metadata": {
        "id": "sbgfOPJha0ff"
      },
      "outputs": [],
      "source": [
        "puertos = {80:\"HTTP\", 23:\"SMTP\", 443:\"HTTPS\"} # diccionario de base\n",
        "print( max(puertos) ) # se obtiene la clave con mayor valor, si todos son del mismo tipo de dato\n",
        "print( min(puertos) ) # se obtiene la clave con menor valor, si todos son del mismo tipo de dato"
      ]
    },
    {
      "cell_type": "markdown",
      "metadata": {
        "id": "I5DdvGPRbQF-"
      },
      "source": [
        "**Ejercicio No. 13**\n",
        "\n",
        "En este ejercicio se muestra el método **keys**, el cual obtiene una lista con todas las claves de los ı́tems de un diccionario, mientras el método **values** obtiene una lista todos los valores."
      ]
    },
    {
      "cell_type": "code",
      "execution_count": null,
      "metadata": {
        "id": "xlQ6Y3egbhCV"
      },
      "outputs": [],
      "source": [
        "dict1 = {'a':1, 'b':2, 'c':3} # diccionario de base\n",
        "print( list(dict1.keys()) )   # se obtiene una lista con todas las claves (y solo claves) del diccionario\n",
        "print( list(dict1.values()) ) # se obtiene una lista con todos los valores (y solo valores) del diccionario\n",
        "x = list(dict1.values())  # si se necesita trabajar con los valores, se puede asignar la lista a una variable\n",
        "print( max(x) )  # se trae el máximo valor entre los valores presentes en el diccionario"
      ]
    },
    {
      "cell_type": "markdown",
      "metadata": {
        "id": "hodvIe0IcSlC"
      },
      "source": [
        "**Ejercicio No. 14**\n",
        "\n",
        "En este ejercicio se muestra el método **dict**, el cual permite convertir listas de listas y listas de tuplas a diccionarios, similar a un proceso de _casting_. Los elementos de la lista guardados en tupla o en lista deben ser parejas, ya que la conversión usará esta pareja para definir la clave:valor."
      ]
    },
    {
      "cell_type": "code",
      "execution_count": null,
      "metadata": {
        "id": "-A8puUaecbcs"
      },
      "outputs": [],
      "source": [
        "puertos_listas = [[80, \"http\"], [20, \"ftp\"], [23, \"telnet\"]] # lista de parejas guardas como listas\n",
        "d_port         = dict(puertos_listas)  # conversión de la lista de lista a diccionarios\n",
        "print(d_port) # se imprime el diccionario para verificar\n",
        "\n",
        "puertos_tuplas = [(20, \"ftp\"), (80, \"http\"), (23, \"telnet\")] # lista de parejas guardadas como tuplas\n",
        "d_port         = dict(puertos_tuplas)  # conversión de la lista de tuplas a diccionarios\n",
        "print(d_port) # se imprime el diccionario para verificar"
      ]
    },
    {
      "cell_type": "markdown",
      "metadata": {
        "id": "YozNgEpzcrjZ"
      },
      "source": [
        "**Ejercicio No. 15**\n",
        "\n",
        "En este ejercicio se usa el método **clear** para eliminar todo ı́tem de un diccionario, es decir, dejar un diccionario sin elementos."
      ]
    },
    {
      "cell_type": "code",
      "execution_count": null,
      "metadata": {
        "id": "sDClTWjXc8HC"
      },
      "outputs": [],
      "source": [
        "dict_ports = {22:\"SSH\", 23:\"telnet\", 80:\"Http\"} # diccionario de base\n",
        "print(dict_ports) # se imprime el diccionario con elementos\n",
        "\n",
        "dict_ports.clear() # la función clear borra todos los elementos del diccionario\n",
        "print(dict_ports)  # se imprime el diccionario sin elementos"
      ]
    },
    {
      "cell_type": "markdown",
      "metadata": {
        "id": "Yg7JtgHmc7Uk"
      },
      "source": [
        "**Ejercicio No. 16**\n",
        "\n",
        "En este ejercicio se muestra el método **copy**, el cual se usa para copiar un diccionario realizando asignación por valor."
      ]
    },
    {
      "cell_type": "code",
      "execution_count": null,
      "metadata": {
        "id": "aBFrcnk2dK6W"
      },
      "outputs": [],
      "source": [
        "port = {80:\"HTTP\", 23:\"SMTP\", 443:\"HTTPS\"} # diccionario de base\n",
        "print(port) # se imprime para ver si estado actual\n",
        "\n",
        "copy_port       = port.copy()  # se hace una copia, es decir, asignación por valor\n",
        "copy_port[8080] = \"Apache2\"    # se agrega un elemento al nuevo diccionario, no afecta al original\n",
        "print(copy_port)\n",
        "\n",
        "false_copy       = port        # se hace asignación por referencia\n",
        "false_copy[8081] = \"NGinx\"     # se agrega un nuevo elemento, afecta al original\n",
        "print(false_copy)\n",
        "\n",
        "print(port)  # se imprime el estado final del diccionario original"
      ]
    },
    {
      "cell_type": "markdown",
      "metadata": {
        "id": "2SOnPL31d43w"
      },
      "source": [
        "**Problema No. 1**\n",
        "\n",
        "Desarrollar un algoritmo que verifique si todas las clave:valor de\n",
        "un diccionario se encuentran en otro diccionario."
      ]
    },
    {
      "cell_type": "code",
      "execution_count": null,
      "metadata": {
        "id": "5dINHYzlL2tA"
      },
      "outputs": [],
      "source": [
        "def verificar_claves(dict_1, dict_2):\n",
        "  for clave, valor in dict_1.items(): # se recorre el primer diccionario\n",
        "    # si la clave no existe en el segundo diccionario o si tiene valor diferente,\n",
        "    # ya se asume que la pareja no se encuenta en el segundo diccionario\n",
        "    if (clave not in dict_2) or (valor != dict_2[clave]):\n",
        "      return False\n",
        "  return True"
      ]
    },
    {
      "cell_type": "markdown",
      "metadata": {
        "id": "MZzRnTuad-eD"
      },
      "source": [
        "**Problema No. 2**\n",
        "\n",
        "Desarrollar una función que reciba dos diccionarios como parámetros\n",
        "y los mezcle, es decir, que se construya un nuevo diccionario con las llaves de los dos diccionarios; si hay una clave repetida en ambos diccionarios, se debe asignar el valor que tenga la clave en el primer diccionario."
      ]
    },
    {
      "cell_type": "code",
      "execution_count": null,
      "metadata": {
        "id": "euygkTSnL3X4"
      },
      "outputs": [],
      "source": [
        "def mezclar_diccionarios(dict_1, dict_2):\n",
        "  new_dict = dict_2.copy() # se hace copia por valor del segundo\n",
        "  new_dict.update(dict_1)  # se hace update con el primero, lo que hará que en caso de claves comunes deja el valor de diccionario en el update\n",
        "  return new_dict\n"
      ]
    },
    {
      "cell_type": "markdown",
      "metadata": {
        "id": "1SFUjsjHN5RX"
      },
      "source": [
        "***\n",
        "# JSON con Python\n",
        "\n",
        "JSON (JavaScript Object Notation) es un estándar utilizado para el intercambio de información entre aplicaciones. Es un formato de archivo de texto que es fácil de leer tanto por humanos como por máquinas.\n",
        "\n",
        "No todo diccionario en Python es un objeto JSON: Los diccionarios en Python pueden tener como claves números, cadenas delimitadas por el apóstrofe o tuplas. Los objetos JSON sólo permite cadenas de caracteres delimitadas únicamente por comillas dobles. Un objeto JSON es “casi” un diccionario en Python, diccionario que\n",
        "usa las palabras **false**, **true**, **null** y no las de Python **True**, **False**, **None**."
      ]
    },
    {
      "cell_type": "markdown",
      "metadata": {
        "id": "j0JWCT0EwVCA"
      },
      "source": [
        "**Ejercicio No. 34**\n",
        "\n",
        "En el siguiente ejercicio se muestra el proceso de transformar datos en series de bytes para ser enviados por una red o ser guardados como archivo se conoce como serialización. Los archivos JSON se pueden serializar. La librerı́a **json** expone el método **dump()** para escribir datos en un archivo. De igual manera, un diccionario se puede asignar a un string usando la función **dumps()**."
      ]
    },
    {
      "cell_type": "code",
      "execution_count": null,
      "metadata": {
        "id": "kjbSaBGswURm"
      },
      "outputs": [],
      "source": [
        "import json\n",
        "\n",
        "data = {\n",
        "  \"cientifico\": {\n",
        "    \"nombre\": \"Alan Mathison Turing\",\n",
        "    \"edad\": 41\n",
        "  }\n",
        "}\n",
        "\n",
        "with open(\"json/data_file.json\", \"w\") as archivo_json:\n",
        "  json.dump(data, archivo_json)\n",
        "\n",
        "print(\"Se ha guardado el archivo JSON correctamente.\")\n",
        "json_string = json.dumps(data)\n",
        "\n",
        "print(\"Impresión de la información en formato de cadena de caracteres normal:\")\n",
        "print(json_string, type(json_string))\n",
        "\n",
        "print(\"\\nImpresión de la información en formato de árbol expandido:\")\n",
        "json_string = json.dumps(data, indent=4)\n",
        "print(json_string)"
      ]
    },
    {
      "cell_type": "markdown",
      "metadata": {
        "id": "hDi3vkR40Oyh"
      },
      "source": [
        "**Ejercicio No. 35**\n",
        "\n",
        "En este ejercicio se muestra que es posible cargar un archivo de JSON desde un archivo usando la función **load(ruta_archivo)**, y guardar su contenido en una variable. También es posible cargar un archivo de JSON desde un string usando la función **loads(ruta_archivo)**."
      ]
    },
    {
      "cell_type": "code",
      "execution_count": null,
      "metadata": {
        "id": "hE6LMLAq0PhM"
      },
      "outputs": [],
      "source": [
        "with open(\"json/data_file.json\", \"r\") as read_file:\n",
        "  data = json.load(read_file)\n",
        "print(\"Se ha leído el archivo JSON correctamente.\")\n",
        "print(data)\n",
        "print(data[\"cientifico\"])\n",
        "\n",
        "json_string = '''{\"cientifico\":\n",
        "                    {\"nombre\":\"Alan Mathison Turing\", \"edad\": \"41\"}\n",
        "                 }'''\n",
        "data_2 = json.loads(json_string)\n",
        "print(\"\\nCarga de un JSON desde una cadena de caracteres\")\n",
        "print(data_2['cientifico'])"
      ]
    },
    {
      "cell_type": "markdown",
      "metadata": {
        "id": "leLwX0WvPnDq"
      },
      "source": [
        "**Ejercicio No. 36**\n",
        "\n",
        "En este ejercicio se muestra que para imprimir se utiliza la función _pprint_ del módulo _pprint_, con el fin\n",
        "de que el resultado aparezca impreso de forma bonita (__Pretty Print__). También se muestra cómo se puede acceder a distintos componentes del diccionario mediante el uso de las claves."
      ]
    },
    {
      "cell_type": "code",
      "execution_count": null,
      "metadata": {
        "id": "uU98VlUXPnyf"
      },
      "outputs": [],
      "source": [
        "import json\n",
        "from   pprint import pprint\n",
        "\n",
        "strjson = '''{\n",
        "  \"boolean1\": null,\n",
        "  \"diccionario\": {\"papa\": 2000, \"arroz\": 5000},\n",
        "  \"intValue\": 0, \"myList\": [],\n",
        "  \"myList2\":[\"info1\", \"info2\"],\n",
        "  \"littleboolean\": false, \"myEmptyList\": null,\n",
        "  \"text1\": null, \"text2\": \"hello\", \"value1\": null,\n",
        "  \"value2\": null}'''\n",
        "data = json.loads(strjson)\n",
        "print(data)\n",
        "print(\"Diccionario:\")\n",
        "pprint(data)\n",
        "print(\"-\" * 30)\n",
        "\n",
        "print(\"Clave text2: \", data[\"text2\"], type(data[\"text2\"]))\n",
        "print(\"Clave text1: \", data[\"text1\"], type(data[\"text1\"]))\n",
        "print(\"Clave intValue: \", data[\"intValue\"], type(data[\"intValue\"]))\n",
        "print(\"Clave myList: \", data[\"myList\"], type(data[\"myList\"]))\n",
        "print(\"Clave myList2: \", data[\"myList2\"], type(data[\"myList2\"]))\n",
        "print(\"Clave diccionario: \", data[\"diccionario\"], type(data[\"diccionario\"]))\n",
        "print(\"Clave myList2.1: \", data[\"myList2\"][1])\n",
        "print(\"Clave diccionario.papa: \", data[\"diccionario\"][\"papa\"])"
      ]
    },
    {
      "cell_type": "markdown",
      "metadata": {
        "id": "tSIXF1LiPoS0"
      },
      "source": [
        "**Ejercicio No. 37**\n",
        "\n",
        "En este ejercicio se muestra la forma de obtener un JSON basado en una URL en internet, mediante el concepto de petición (lo que se usa en servicios web). Para ello, se usa el concepto de _requests_ la cual determina un método HTTP y una URL de ubicación del archivo JSON a consultar."
      ]
    },
    {
      "cell_type": "code",
      "execution_count": null,
      "metadata": {
        "id": "1C-PB8mEPopG"
      },
      "outputs": [],
      "source": [
        "import json\n",
        "import requests\n",
        "from   pprint import pprint\n",
        "\n",
        "url_file = \"https://jsonplaceholder.typicode.com/todos\"\n",
        "response = requests.get(url_file)\n",
        "pendientes = json.loads(response.text)\n",
        "pprint(pendientes) #imprime el json cargado\n",
        "\n",
        "print('-' * 30)\n",
        "pprint(pendientes[-2:])"
      ]
    },
    {
      "cell_type": "markdown",
      "metadata": {
        "id": "w5ejazPv7qv2"
      },
      "source": [
        "**Ejercicio No. 38**\n",
        "\n",
        "_Saber cuántas tareas ha completado un usuario_: Es posible observar que hay varios usuarios cada uno con un identificador\n",
        "único y cada tarea tiene un estado que indica si la tarea se completó o no.\n",
        "Procesaremos este archivo para obtener cuantas tareas ha completado\n",
        "cada usuario y establecer los usuarios que más tareas han completado."
      ]
    },
    {
      "cell_type": "code",
      "execution_count": null,
      "metadata": {
        "id": "6d8EL0P87zi3"
      },
      "outputs": [],
      "source": [
        "import json\n",
        "\n",
        "#with open(\"json/tareas_pendientes.json\", \"r\") as archivo_entrada:\n",
        " # pendientes = json.load(archivo_entrada)\n",
        "\n",
        "pendientes_por_usuario= {}\n",
        "\n",
        "# Lleva un conteo de los pendientes\n",
        "# que ha completado cada usuario\n",
        "for pendiente in pendientes:\n",
        "  if pendiente[\"completed\"]:\n",
        "    if pendiente[\"userId\"] in pendientes_por_usuario:\n",
        "      pendientes_por_usuario[pendiente[\"userId\"]] += 1\n",
        "    else:\n",
        "      pendientes_por_usuario[pendiente[\"userId\"]] = 1\n",
        "print(pendientes_por_usuario)\n",
        "\n",
        "# ordena por id los usuarios\n",
        "items_ordenados = sorted(pendientes_por_usuario.items(), key=lambda x: x[1], reverse=True)\n",
        "maximas_tareas_completadas = items_ordenados[0][1]\n",
        "print(items_ordenados)\n",
        "\n",
        "usuarios = []\n",
        "for usuario, num_tareas_completas in items_ordenados:\n",
        "  if num_tareas_completas == maximas_tareas_completadas:\n",
        "    usuarios.append(str(usuario))\n",
        "  else:\n",
        "    break\n",
        "\n",
        "usuarios_con_max = \" y \".join(usuarios)\n",
        "print(\"los usuarios\" if len(usuarios) > 1 else \"el usuario\", usuarios_con_max, end=\" \")\n",
        "print(\"han completado \", maximas_tareas_completadas, \"tareas\")\n",
        "\n",
        "\n",
        "def filtro(pendiente):\n",
        "  esta_completa = pendiente[\"completed\"]\n",
        "  esta_en_el_maximo_conteo = str(pendiente[\"userId\"]) in usuarios\n",
        "  return esta_completa and esta_en_el_maximo_conteo\n",
        "\n",
        "with open(\"json/tareas_filtradas.json\", \"w\") as archivo_salida:\n",
        "  tareas_filtradas = list(filter(filtro, pendientes))\n",
        "  json.dump(tareas_filtradas, archivo_salida, indent=2)"
      ]
    },
    {
      "cell_type": "markdown",
      "metadata": {
        "id": "vkJYoTpsFcWF"
      },
      "source": [
        "***\n",
        "# Problemas de Estudio"
      ]
    },
    {
      "cell_type": "markdown",
      "metadata": {
        "id": "JwTaAzPhUsVE"
      },
      "source": [
        "**Problema No. 3**\n",
        "\n",
        "Desarrollar un programa que dada una listas de personas, cada persona representada como el siguiente ejemplo: {\"nombres\":\"Pedro Julio\", \"apellidos\":\"Tristán Merchán\",\n",
        "\"edad\":101}, imprima los nombres y apellidos de las personas que están en un rango de edades."
      ]
    },
    {
      "cell_type": "code",
      "execution_count": null,
      "metadata": {
        "id": "xciQEFmMU7bP"
      },
      "outputs": [],
      "source": [
        "def imprimir_en_rango(lista_personas, edad_inicial, edad_final):\n",
        "  personas_filtradas = [] # lista con los nombres de las personas en el rango de edad\n",
        "  for persona in lista_personas: # se recorre la lista de personas\n",
        "      if edad_inicial <= persona['edad'] <= edad_final: # se verifica si la edad está en el rango\n",
        "        temp = persona['nombres'] + ' ' + persona['apellidos'] # si la persona está, se concatenan nombres y apellidos\n",
        "        personas_filtradas.append(temp) # se agrega al listado de personas a imprimir\n",
        "  return personas_filtradas\n",
        "\n",
        "## Ejemplo del Listado de Personas ##\n",
        "\"\"\"\n",
        "[\n",
        "  {\"nombres\":\"Julio\", \"apellidos\":\"Triviño\", \"edad\":45},\n",
        "  {\"nombres\":\"Patana\", \"apellidos\":\"Trufillo\", \"edad\":25},\n",
        "  {\"nombres\":\"Juan\", \"apellidos\":\"Bodoque\", \"edad\":35}\n",
        "]\n",
        "\"\"\""
      ]
    },
    {
      "cell_type": "markdown",
      "metadata": {
        "id": "7GxyKW_xWbGK"
      },
      "source": [
        "**Problema No. 4**\n",
        "\n",
        "a. Dado el archivo de texto files/SalesJan2009.csv, procese el archivo\n",
        "para obtener las compras realizadas en un paı́s dado.\n",
        "\n",
        "b. Dado el archivo de texto files/SalesJan2009.csv, procese el archivo\n",
        "para obtener las compras realizadas con un medio de pago dado.\n"
      ]
    },
    {
      "cell_type": "code",
      "execution_count": null,
      "metadata": {
        "id": "h2fic9uPWkkn"
      },
      "outputs": [],
      "source": [
        "def estadisticas_ventas(ruta_archivo_compras, pais, metodo):\n",
        "  indice_pais  = None # índice de la columna donde estará el país en las compras\n",
        "  compras_pais = 0    # contador de compras en el país a buscar\n",
        "\n",
        "  indice_metodo  = None # índice de la columna donde estará el método_pago en las compras\n",
        "  compras_metodo = 0    # contador de compras con el método de pago a buscar\n",
        "\n",
        "  with open(ruta_archivo_compras, 'r', encoding='UTF-8') as archivo:\n",
        "    encabezados = archivo.readline().split(',') # en la primera línea del archivo están los nombres de las columnas\n",
        "    for i in range( len(encabezados) ):  # recorrido de la lista usando el concepto de índices\n",
        "      if encabezados[i] == \"Country\": # se verifica si en ese índice está el nombre de columna de \"País\"\n",
        "        indice_pais = i\n",
        "      if encabezados[i] == \"Payment_Type\":  # se verifica si en ese índice está el nombre de columna de \"Método de Pago\"\n",
        "        indice_metodo = i\n",
        "\n",
        "    compra = archivo.readline.split(',') # se lee cada línea y se separan los elementos por coma\n",
        "    while len(compra) > 1: # recorre el archivo hasta el final\n",
        "      if compra[indice_pais] == pais: # si el país en la compra es el mismo que se busca, se aumenta el contador\n",
        "        compras_pais += 1\n",
        "      if compra[indice_metodo] == metodo: # si el método de pago en la compra es el mismo que se busca, se aumenta el contador\n",
        "        compras_metodo += 1\n",
        "      compra = archivo.readline.split(',') # se lee cada línea y se separan los elementos por coma\n",
        "\n",
        "    return compras_pais, compras_metodo"
      ]
    },
    {
      "cell_type": "markdown",
      "metadata": {
        "id": "enNMh5YRZdwI"
      },
      "source": [
        "**Problema No. 5**\n",
        "\n",
        "Desarrolle un programa que lea dos archivos JSON, y encuentre los componentes clave:valor que son iguales en ambos. Genere un nuevo\n",
        "archivo JSON con las coincidencias exactas entre los dos archivos."
      ]
    },
    {
      "cell_type": "code",
      "execution_count": null,
      "metadata": {
        "id": "knMbTx4oZh0R"
      },
      "outputs": [],
      "source": [
        "def comparar_json(data_1, data_2):\n",
        "  coincidencias = {}\n",
        "  for key in data_1: # se recorre el primer diccionario basado en claves\n",
        "    if key in data_2 and data_1[key]==data_2[key]: # se verifica si la clave y el valor del primer diccionario están en el segundo\n",
        "      coincidencias[key] = data_1[key] # si es así, se agrega la pareja al diccionario de coincidencias con la misma clave\n",
        "  return coincidencias\n",
        "\n",
        "## Ejemplo de JSON ##\n",
        "\"\"\"\n",
        "{\n",
        "  \"nombres\":\"Julio\",\n",
        "  \"apellidos\":\"Triviño\",\n",
        "  \"edad\":45\n",
        "}\n",
        "\"\"\""
      ]
    },
    {
      "cell_type": "markdown",
      "metadata": {
        "id": "uM_7mZWsaHzv"
      },
      "source": [
        "**Problema No. 6**\n",
        "\n",
        "Desarrolle un programa que lea un archivo JSON, en el cual se encuentran las notas de los estudiantes del curso. Cada llave corresponde al código de cada estudiante, y su valor es una lista con las notas obtenidas en las actividades del curso. Se debe generar un nuevo archivo JSON que para uno de los estudiantes solo guarde el promedio de las notas obtenidas.\n"
      ]
    },
    {
      "cell_type": "code",
      "execution_count": null,
      "metadata": {
        "id": "gciAwCfcaPJ3"
      },
      "outputs": [],
      "source": [
        "def notas_definitivas(diccionario_estudiantes):\n",
        "  notas_finales = {} # diccionario que va a almacenar las notas finales\n",
        "  # se recorre cada uno de los estudiantes, entiendo que cada uno tiene una clave\n",
        "  for estudiante in diccionario_estudiantes:\n",
        "    notas_acumuladas = 0.0  # se van a sumar las notas del estudiante\n",
        "    cantidad_notas = len(diccionario_estudiantes[estudiante]) # se determina la cantidad de notas del estudiante\n",
        "    for notas in diccionario_estudiantes[estudiante]: # se recorre la lista de notas\n",
        "      notas_acumuladas += notas  # se agrega el valor de la nota a la sumatoria\n",
        "    nota_final = notas_acumuladas / cantidad_notas  # la notal final será el promedio de las notas\n",
        "\n",
        "    # se agrega al nuevo diccionario una clave con el código del estudiante y la nota definitiva\n",
        "    notas_finales[estudiante] = nota_final\n",
        "  return notas_finales # se regrega el diccionario con los códigos de estudiantes y la nota definitiva de cada uno\n",
        "\n",
        "  ## Ejemplo de JSON de Entrada ##\n",
        "\"\"\"\n",
        "{\n",
        "  \"cod01\": [3.3, 3.5, 4.2, 3.8],\n",
        "  \"cod02\": [4.3, 4.5, 4.4, 4.8],\n",
        "  \"cod03\": [4.2, 3.7, 3.9, 4.1],\n",
        "}\n",
        "\"\"\""
      ]
    },
    {
      "cell_type": "markdown",
      "metadata": {
        "id": "v7gFtoTqZnMA"
      },
      "source": [
        "**Problema No. 7**\n",
        "\n",
        "Desarrollar un programa que lea un archivo JSON que contiene una\n",
        "serie de cadenas de caracteres en minúscula, cada una con su propia\n",
        "llave. Estas llaves tienen una codificación, a forma de encriptación, en\n",
        "donde las vocales están descritas como otros sı́mbolos: \\$ en vez de a, # en vez de e, * en vez de i, ¬ en vez de o, y + en vez de u. Una vez leı́do el archivo, realice una desencriptación de todas las cadenas, es\n",
        "decir, convierta los sı́mbolos a sus vocales correspondientes (si la cadena de entrada es ”h¬l\\$”, la cadena resultante serı́a ”hola”), y\n",
        "guarde el resultado en un nuevo archivo JSON."
      ]
    },
    {
      "cell_type": "code",
      "execution_count": null,
      "metadata": {
        "id": "owW3zadDZ3RX"
      },
      "outputs": [],
      "source": [
        "def desencriptacion_cadenas(diccionario_cadenas):\n",
        "  cadenas_nuevas = {}\n",
        "  for clave, cadena in cadenas_nuevas.items():\n",
        "    cadena = cadena.replace('$', 'a')\n",
        "    cadena = cadena.replace('#', 'e')\n",
        "    cadena = cadena.replace('*', 'i')\n",
        "    cadena = cadena.replace('¬', 'o')\n",
        "    cadena = cadena.replace('+', 'u')\n",
        "    cadenas_nuevas[clave] = cadena\n",
        "  return cadenas_nuevas\n",
        "\n",
        "\"\"\"\n",
        "{\n",
        "  \"saludo\":    ”h¬l$\",\n",
        "  \"despedida\": ”ch$¬\"\n",
        "}\n",
        "\"\"\""
      ]
    },
    {
      "cell_type": "markdown",
      "metadata": {
        "id": "O8f6M5mozdMY"
      },
      "source": [
        "**Problema No. 8**\n",
        "\n",
        "Desarrollar un programa que lear un archivo .csv y lo guarde como un archivo .json ."
      ]
    },
    {
      "cell_type": "code",
      "execution_count": null,
      "metadata": {
        "id": "iGU1xpOrzf4M"
      },
      "outputs": [],
      "source": [
        "import json\n",
        "from   pprint import pprint\n",
        "\n",
        "def convertir_csv2list_dict(ruta_csv):\n",
        "  with open(ruta_csv, 'r', encoding=\"utf=8\") as archivo_csv:\n",
        "    encabezados = archivo_csv.readline().split(',')\n",
        "    lista_datos = []\n",
        "    linea = archivo_csv.readline().split(',')\n",
        "    while len(linea) > 1:\n",
        "      nuevo_registro = {}\n",
        "      for i in range( len(linea) ):\n",
        "        nuevo_registro[ encabezados[i] ] = linea[i]\n",
        "        #nuevo_registro[ encabezados[i] ] = linea[i].strip()\n",
        "        #nuevo_registro[ encabezados[i] ] = linea[i].replace('\\n', '')\n",
        "      lista_datos.append( nuevo_registro )\n",
        "      linea = archivo_csv.readline().split(',')\n",
        "    return lista_datos\n",
        "\n",
        "\n",
        "def convertir_csv2json(ruta_csv, ruta_json):\n",
        "  lista_datos = convertir_csv2list_dict(ruta_csv)\n",
        "  with open(ruta_json, 'w', encoding=\"utf-8\") as archivo_json:\n",
        "    json.dump(lista_datos, archivo_json)\n",
        "  print(\"Conversión completada. Datos guardados.\")\n",
        "  print( type(lista_datos[0]) )\n",
        "  print( json.dumps(lista_datos[0]) )\n",
        "\n",
        "\n",
        "convertir_csv2json('files/SalesJan2009.csv', 'json/SalesJan2009.json')"
      ]
    },
    {
      "cell_type": "markdown",
      "metadata": {
        "id": "jYeuErK0Ff8O"
      },
      "source": [
        "**Problema No. 9**\n",
        "\n",
        "Se debe hacer un cruce de dos listas de información, una que corresponde a un listado de personas censadas, y otro es un listado de personas con su información socio-demográfica. La idea es cruzar estos listados, ver las personas que están censadas y que al tiempo tienen información socio-demográfica, y determinar si merecen servicios de apoyo del estado o no. Finalmente, se debe generar una lista de personas que están en alguna de las dos listas, pero no en las dos al mismo tiempo."
      ]
    },
    {
      "cell_type": "code",
      "execution_count": null,
      "metadata": {
        "id": "2LdvOlL5jNTk"
      },
      "outputs": [],
      "source": [
        "convertir_csv2json('ejercicio_servicios_sociales/Censo.csv', 'ejercicio_servicios_sociales/Censo.json')"
      ]
    },
    {
      "cell_type": "code",
      "execution_count": null,
      "metadata": {
        "id": "opndwrg6F_oP"
      },
      "outputs": [],
      "source": [
        "import json\n",
        "from pprint import pprint\n",
        "with open('ejercicio_servicios_sociales/Censo.json', 'r', encoding='utf-8') as censo:\n",
        "  resultado_censo = json.load(censo)\n",
        "print(resultado_censo)\n",
        "\n",
        "resultado_sisben = convertir_csv2list_dict('ejercicio_servicios_sociales/Sisben.csv')\n",
        "print(resultado_sisben)\n",
        "\n",
        "poblacion_cruce_informacion = []\n",
        "for persona_censo in resultado_censo:\n",
        "  for persona_sisben in resultado_sisben:\n",
        "    if persona_censo[\"NroDocumento\"] == persona_sisben[\"NroDocumento\"]:\n",
        "      temp = persona_censo.copy()\n",
        "      temp.update(persona_sisben)\n",
        "      poblacion_cruce_informacion.append(temp)\n",
        "\n",
        "pprint(poblacion_cruce_informacion[0])"
      ]
    }
  ],
  "metadata": {
    "colab": {
      "provenance": []
    },
    "kernelspec": {
      "display_name": "Python 3",
      "name": "python3"
    },
    "language_info": {
      "name": "python"
    }
  },
  "nbformat": 4,
  "nbformat_minor": 0
}
