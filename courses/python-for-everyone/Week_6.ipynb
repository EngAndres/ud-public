{
  "nbformat": 4,
  "nbformat_minor": 0,
  "metadata": {
    "colab": {
      "provenance": []
    },
    "kernelspec": {
      "name": "python3",
      "display_name": "Python 3"
    },
    "language_info": {
      "name": "python"
    }
  },
  "cells": [
    {
      "cell_type": "markdown",
      "metadata": {
        "id": "GiUaPww9OZb1"
      },
      "source": [
        "***\n",
        "\n",
        "# Excepciones\n",
        "\n",
        "Situaciones de falla previsibles pueden ser consideradas excepcionales, y afectar el flujo “normal” del programa interrumpiendo en muchos casos su ejecución.\n",
        "Un programador puede considerar estas situaciones inesperadas de forma anticipada y darle un manejo excepcional a las mismas para que no interrumpan la ejecución del programa."
      ]
    },
    {
      "cell_type": "markdown",
      "metadata": {
        "id": "fxoAhtxkP0sT"
      },
      "source": [
        "**Ejercicio No. 1**\n",
        "\n",
        "En el siguiente ejercicio se muestra la sintaxis básica de una excepción. En primer lugar se muestra la división por cero como error, y luego se muestra cómo se puede manejar ese error."
      ]
    },
    {
      "cell_type": "code",
      "metadata": {
        "id": "LaeuyW0LOxjh"
      },
      "source": [
        "def division(a, b):\n",
        "  coc = a//b\n",
        "  res = a % b\n",
        "  return coc, res\n",
        "\n",
        "print(division(4,5))\n",
        "print(division(10, 0))\n",
        "print(division(1024, 10))"
      ],
      "execution_count": null,
      "outputs": []
    },
    {
      "cell_type": "code",
      "metadata": {
        "id": "xjlvAzO0O9GM"
      },
      "source": [
        "def division_excepcion(a, b):\n",
        "  try:\n",
        "    coc = a // b\n",
        "    res = a % b\n",
        "    return coc, res\n",
        "  except:\n",
        "    print(\"Error en la división de\", a, \"entre\", b, end=\" -- \")\n",
        "    return \"\"\n",
        "\n",
        "print(division_excepcion(10, 0))\n",
        "print(division_excepcion(1024, 10))"
      ],
      "execution_count": null,
      "outputs": []
    },
    {
      "cell_type": "markdown",
      "metadata": {
        "id": "Um1lwzOeRH3_"
      },
      "source": [
        "**Ejercicio No. 2**\n",
        "\n",
        "En este ejercicio se muestra la manera de manejar errores cuando en algún punto puede llegar una variable en un tipo de dato incorrecto."
      ]
    },
    {
      "cell_type": "code",
      "metadata": {
        "id": "0DflqqfYRTlt"
      },
      "source": [
        "def main():\n",
        "  num = int(input(\"digite el dividendo: \"))\n",
        "  div = int(input(\"digite el divisor: \"))\n",
        "  print(division_excepcion(num, div))\n",
        "\n",
        "main()"
      ],
      "execution_count": null,
      "outputs": []
    },
    {
      "cell_type": "code",
      "metadata": {
        "id": "ATfgCDJlR0OE"
      },
      "source": [
        "def main_excepcion():\n",
        "  try:\n",
        "    num = int(input(\"digite el dividendo: \"))\n",
        "    div = int(input(\"digite el divisor: \"))\n",
        "    print(division_excepcion(num, div))\n",
        "  except ValueError:\n",
        "    print(\"El valor digitado no es un número.\")\n",
        "  except:\n",
        "    print(\"Imprevisto\")\n",
        "\n",
        "main_excepcion()"
      ],
      "execution_count": null,
      "outputs": []
    },
    {
      "cell_type": "markdown",
      "metadata": {
        "id": "A_8SuRuNWKKW"
      },
      "source": [
        "**Ejercicio No. 3**\n",
        "\n",
        "En este ejercicio se muestra el bloque *finally* para determinar acciones que se deben ejecutar sin importar si se produce una excepción o no."
      ]
    },
    {
      "cell_type": "code",
      "metadata": {
        "id": "xhiLDlZEWMpY"
      },
      "source": [
        "try:\n",
        "  num = int(input(\"Ingrese un número \"))\n",
        "  re = 100/num\n",
        "except:\n",
        "  print(\"Algo está mal\")\n",
        "else:\n",
        "  print(\"El resultado es \",re)\n",
        "finally:\n",
        "  print(\"El programa termina!\")"
      ],
      "execution_count": null,
      "outputs": []
    },
    {
      "cell_type": "markdown",
      "metadata": {
        "id": "2h3mKDzVWO7e"
      },
      "source": [
        "**Ejercicio No. 4**\n",
        "\n",
        "En este ejercicio se muestra la forma en la cual se puede determinar el tipo de excepción se puede utilizar una lı́nea de código: **Exception as e**.\n",
        "\n",
        "De igual manera, se puede que es posible lanzar una excepción (cuando sea necesario) utilizando el comando **raise**."
      ]
    },
    {
      "cell_type": "code",
      "metadata": {
        "id": "KLQVCNvIWRNU"
      },
      "source": [
        "def division_raise(a, b):\n",
        "  if b == 0:\n",
        "    raise ZeroDivisionError(\"!Error de división por cero¡. Funcion: division_raise\")\n",
        "  else:\n",
        "    coc = a // b\n",
        "    res = a % b\n",
        "  return (coc, res)\n",
        "\n",
        "try:\n",
        "  num = int(input(\"Ingrese un número: \"))\n",
        "  re = 100/num # Generar excepción si se digitó 0\n",
        "  print(re)\n",
        "except Exception as e:\n",
        "  print(e, \"\\n\", type(e))\n",
        "\n",
        "try:\n",
        "  print(division_raise(10, num))\n",
        "except Exception as e:\n",
        "  print(e, \"\\n\", type(e))"
      ],
      "execution_count": null,
      "outputs": []
    },
    {
      "cell_type": "markdown",
      "metadata": {
        "id": "5hQIecOpD6AS"
      },
      "source": [
        "***\n",
        "\n",
        "# Manejo de Librerías\n",
        "\n",
        "## Numpy\n",
        "Es una de las librerı́as más conocidas para realizar computación cientı́fica en Python. Provee una librerı́a de alto rendimiento para la manipulación de arreglos en varias dimensiones, además de ofrecer herramientas\n",
        "sofisticadas para manipularlos."
      ]
    },
    {
      "cell_type": "markdown",
      "metadata": {
        "id": "qnCtTbu8ERQi"
      },
      "source": [
        "**Ejercicio No. 5**\n",
        "\n",
        "En este ejercicio se muestra el uso básico de Numpy, creando arreglos y accediendo a sus valores."
      ]
    },
    {
      "cell_type": "code",
      "metadata": {
        "id": "zOXscAm72QSN"
      },
      "source": [
        "import numpy as np\n",
        "\n",
        "lista_1 = list(range(1,5))\n",
        "print( lista_1 )\n",
        "a = np.array( lista_1 ) # Crea un arreglo lineal\n",
        "\n",
        "print(type(a)) # Imprime \"<class ’numpy.ndarray’>\"\n",
        "print(a)\n",
        "print(a.shape)\n",
        "\n",
        "# Imprime \"(4,)\" es de tamaño 4, de 1 dimensión\n",
        "print(a[0], a[1], a[2])\n",
        "a[0] = -4\n",
        "print(a)\n",
        "\n",
        "b = np.array([[1,2,3,5,6],[4,5,6,7,8]]) # Crea un arreglo 2-dimensional\n",
        "print(b.shape)\n",
        "print(b)\n",
        "b[0,0] = 1590\n",
        "print(b)\n",
        "print(b[0,0], b[0,1], b[1,0])"
      ],
      "execution_count": null,
      "outputs": []
    },
    {
      "cell_type": "markdown",
      "metadata": {
        "id": "rw-4Je5_EcnE"
      },
      "source": [
        "**Ejercicio No. 6**\n",
        "\n",
        "En este ejercicio se muestra la manera de crear arreglos multi-dimensionales de manera sencilla."
      ]
    },
    {
      "cell_type": "code",
      "metadata": {
        "id": "06OpJbNJEbuZ"
      },
      "source": [
        "a = np.zeros((2,3,4)) # Crea una matriz 3-dimensional (2x3x4) de ceros (0’s)\n",
        "print(\"Matriz de 3 dimensiones:\")\n",
        "print(\"Forma:\", a.shape)\n",
        "print(a)\n",
        "print(\"---------\")\n",
        "\n",
        "b = np.ones((2,3))  # Crea una matriz de 2x3 de unos (1’s)\n",
        "print(\"Matriz de 2 dimensiones:\")\n",
        "print(\"Forma:\", b.shape)\n",
        "print(b)\n",
        "print(\"---------\")"
      ],
      "execution_count": null,
      "outputs": []
    },
    {
      "cell_type": "markdown",
      "metadata": {
        "id": "2oUClddUFUsK"
      },
      "source": [
        "**Ejercicio No. 7**\n",
        "\n",
        "En este ejercicio se muestra el operador *subscript*, es decir, el acceso mediante el concepto de sub-índice."
      ]
    },
    {
      "cell_type": "code",
      "metadata": {
        "id": "TIannqYBFKte"
      },
      "source": [
        "import numpy as np\n",
        "\n",
        "# Crea un arreglo 2-dimensional con forma (3, 4)\n",
        "a = np.array([[1,2,3,4], [5,6,7,8], [9,10,11,12]])\n",
        "print(a.shape)\n",
        "print(a)\n",
        "b = a[:2, 1:3]\n",
        "\n",
        "# El primer argumento indica las filas y el segundo las columnas\n",
        "print(b)\n",
        "print(\"------------------------\")\n",
        "\n",
        "# Si se modifica algo de b, se cambia algo de a\n",
        "b[0,0] = -11 # b[0, 0] es el mismo a[0, 1]\n",
        "print(b)\n",
        "print(a)\n",
        "print(a[0,1]) # Imprime \"-11\""
      ],
      "execution_count": null,
      "outputs": []
    },
    {
      "cell_type": "markdown",
      "metadata": {
        "id": "59-_cIm8Fo4o"
      },
      "source": [
        "**Ejercicio No. 8**\n",
        "\n",
        "Este ejercicio muestra como *Numpy* maneja tipos de dato."
      ]
    },
    {
      "cell_type": "code",
      "metadata": {
        "id": "LpplP7rjF15g"
      },
      "source": [
        "import numpy as np\n",
        "x = np.array([5, -4])\n",
        "print(x.dtype)\n",
        "x = np.array([1.0, 2.0])\n",
        "print(x.dtype)\n",
        "x = np.array([5, -4], dtype=np.float32)\n",
        "print(x)\n",
        "print(x.dtype)"
      ],
      "execution_count": null,
      "outputs": []
    },
    {
      "cell_type": "markdown",
      "metadata": {
        "id": "aJZFFGssF7C6"
      },
      "source": [
        "**Ejercicio No. 9**\n",
        "\n",
        "En este ejercicio se muestra como se pueden realizar operaciones elemento a elemento del arreglo de Numpy."
      ]
    },
    {
      "cell_type": "code",
      "metadata": {
        "id": "RAyPjpj0GJb-"
      },
      "source": [
        "import numpy as np\n",
        "\n",
        "x = np.array([[1,2,5], [3,4,6]],   dtype=np.float128)\n",
        "y = np.array([[5,6,-1], [7,8,-6]], dtype=np.float128)\n",
        "print(x)\n",
        "print(y)\n",
        "print(\"Suma:\")\n",
        "print(x + y)\n",
        "print(\"-----\")\n",
        "print(np.add(x, y))\n",
        "\n",
        "print(\"raiz cuadrada:\")\n",
        "print(np.sqrt(x))"
      ],
      "execution_count": null,
      "outputs": []
    },
    {
      "cell_type": "markdown",
      "metadata": {
        "id": "FMj536XQGpb_"
      },
      "source": [
        "**Ejercicio No. 10**\n",
        "\n",
        "En este ejercicio se muestra la función *linspace* que retorna datos en un intervalo )(desde start hasta stop como los dos primeros parámetros) que incluyen num datos."
      ]
    },
    {
      "cell_type": "code",
      "metadata": {
        "id": "wgbCrM_TGr4Z"
      },
      "source": [
        "import numpy as np\n",
        "# np.linspace(inicio, fin, kwargs)\n",
        "\"\"\"\n",
        "kwargs:\n",
        "num: cantidad de números a obtener\n",
        "endpoint: flag que determina si se coloca el final o no. Por defecto es TRUE.\n",
        "retstep: retorna como un componente de la tupla el valor del paso entre los números.\n",
        "\"\"\"\n",
        "np.linspace(2, 3, num=10, endpoint=True, retstep=True)"
      ],
      "execution_count": null,
      "outputs": []
    },
    {
      "cell_type": "markdown",
      "metadata": {
        "id": "bDXFeH8DHciY"
      },
      "source": [
        "## MatPlotLib\n",
        "Matplotlib es una librerı́a para crear visualizaciones estáticas o\n",
        "animadas en Python. Es posible graficar en un área con uno o más ejes (en términos de\n",
        "coordenadas x-y, theta-r, coordenadas polares, x-y-z, entre otros. La forma más simple de crear una figura con ejes es usar el módulo pyplot.\n",
        "La documentación oficial se encuentra [aquí](https://www.matplotlib.org/stable/tutorials/introductory/usage.html)."
      ]
    },
    {
      "cell_type": "markdown",
      "metadata": {
        "id": "Zmv0WrA8IOMP"
      },
      "source": [
        "**Ejercicio No. 11**\n",
        "\n",
        "En este ejercicio se muestra la manera sencilla para generar una gŕafica en un plano cartesiano tradicional."
      ]
    },
    {
      "cell_type": "code",
      "metadata": {
        "id": "dra0gbDeIamd"
      },
      "source": [
        "import matplotlib.pyplot as plt\n",
        "\n",
        "# Matplotlib plot.\n",
        "plt.plot([1, 2, 3, 4], [1, 4, 2, 3])"
      ],
      "execution_count": null,
      "outputs": []
    },
    {
      "cell_type": "markdown",
      "metadata": {
        "id": "IPNcEyIPIj-Q"
      },
      "source": [
        "**Ejercicio No 12**\n",
        "\n",
        "En este ejercicio se muestra como es posible combinar librerı́as, en este caso Numpy y MatPlotLib. En el siguiente código, se generan 50 puntos en el intervalo [0,2] y se grafican algunas funciones conocidas, en este caso, basadas en los exponentes de $x$."
      ]
    },
    {
      "cell_type": "code",
      "metadata": {
        "id": "70F-Rp1HImRk"
      },
      "source": [
        "import numpy as np\n",
        "import matplotlib.pyplot as plt\n",
        "\n",
        "x = np.linspace(0, 2, 50)\n",
        "print(x)\n",
        "\n",
        "# Aún con el OO-style, usamos \".pyplot.figure\" para crear la figura.\n",
        "fig, ax = plt.subplots()            # Crea la figura y los ejes.\n",
        "ax.plot(x, x,    label=\"linear\")       # Dibuja algunos datos en los ejes.\n",
        "ax.plot(x, x**2, label=\"quadratic\") # Dibuja mas datos en los ejes.\n",
        "ax.plot(x, x**3, label=\"cubic\")     # ... y algunos más.\n",
        "\n",
        "ax.set_xlabel(\"eje x\")    # Agrega un x-label a los ejes.\n",
        "ax.set_ylabel(\"eje y\")    # Agrega un y-label a los ejes.\n",
        "ax.set_title(\"Ejercicio 12\") # Agrega tı́tulo a los ejes.\n",
        "ax.legend() # Agrega una leyenda."
      ],
      "execution_count": null,
      "outputs": []
    },
    {
      "cell_type": "markdown",
      "metadata": {
        "id": "4MCqXw-oJsxV"
      },
      "source": [
        "**Ejercicio No. 13**\n",
        "\n",
        "En este ejercicio se muestra que es posible generar varias gráficas al mismo tiempo y agruparlas."
      ]
    },
    {
      "cell_type": "code",
      "metadata": {
        "id": "knrLn3xcJznH"
      },
      "source": [
        "names = [\"group_a\", \"group_b\", \"group_c\"]\n",
        "values = [3.4, 50.3, 23]\n",
        "\n",
        "plt.figure(figsize=(12, 3))\n",
        "\n",
        "plt.subplot(131)  # rows columns index\n",
        "plt.bar(names, values)\n",
        "\n",
        "plt.subplot(132)\n",
        "plt.scatter(names, values)\n",
        "\n",
        "plt.subplot(133)\n",
        "plt.plot(names, values)\n",
        "\n",
        "plt.suptitle(\"Categorical Plotting\")\n",
        "plt.show()"
      ],
      "execution_count": null,
      "outputs": []
    },
    {
      "cell_type": "markdown",
      "metadata": {
        "id": "SvF5RhL3K0qf"
      },
      "source": [
        "## Pandas\n",
        "\n",
        "Permite manipular datos de alto nivel. Es una librerı́a fácil de usar para análisis y manipulación de datos. Está construida sobre Numpy."
      ]
    },
    {
      "cell_type": "markdown",
      "metadata": {
        "id": "nNPcfADyK3i9"
      },
      "source": [
        "**Ejercicio No. 14**\n",
        "\n",
        "En este ejercicio se muestra la manera de crear un PandasDataframe a partir de un diccionario."
      ]
    },
    {
      "cell_type": "code",
      "metadata": {
        "id": "Jlx_ClaBLNpx"
      },
      "source": [
        "import pandas as pd\n",
        "\n",
        "dictc = {\"country\":    [\"Brazil\", \"Russia\", \"India\", \"China\", \"South Africa\", \"Colombia\"],\n",
        "         \"capital\":    [\"Brasilia\", \"Moscow\", \"New Dehli\", \"Beijing\", \"Pretoria\", \"Bogotá\"],\n",
        "         \"area\":       [8.516, 17.10, 3.286, 9.597, 1.221, 1.142],\n",
        "         \"population\": [200.4, 143.5, 1252, 1357, 52.98, 49.65] }\n",
        "\n",
        "brics = pd.DataFrame(dictc)\n",
        "print(brics)"
      ],
      "execution_count": null,
      "outputs": []
    },
    {
      "cell_type": "markdown",
      "metadata": {
        "id": "7orBoCSGL4wZ"
      },
      "source": [
        "**Ejercicio No. 15**\n",
        "\n",
        "En este ejercicio se muestra que Pandas permite manipular archivos de tipo __*.csv__ de manera muy sencilla de carga, manipulación, y visualización de la información en el archivo."
      ]
    },
    {
      "cell_type": "code",
      "metadata": {
        "id": "Rc2yinAVL5Jm"
      },
      "source": [
        "import pandas as pd\n",
        "from   collections  import Counter\n",
        "from   google.colab import files\n",
        "\n",
        "uploaded = files.upload() #Upload files/SalesJan2009.csv\n",
        "ventasdf = pd.read_csv(\"SalesJan2009.csv\")\n",
        "print(ventasdf.head(6))\n",
        "\n",
        "#print(ventas)\n",
        "cp = Counter(ventasdf[\"Country\"])\n",
        "print(cp.most_common(3))\n",
        "\n",
        "cv = Counter(ventasdf[\"Payment_Type\"])\n",
        "print(cv.most_common(3))"
      ],
      "execution_count": null,
      "outputs": []
    },
    {
      "cell_type": "markdown",
      "metadata": {
        "id": "TrI4OYduNHIZ"
      },
      "source": [
        "**Ejercicio No. 16**\n",
        "\n",
        "En este ejercicio se muestra como Pandas puede ser utilizado en conjunto con otras librerı́as como Matplotlib.\n",
        "Esto es extremadamente poderoso cuando se realiza consultas y operaciones sobre los\n",
        "__*.csv__."
      ]
    },
    {
      "cell_type": "code",
      "metadata": {
        "id": "hSQGQbDXNXrh"
      },
      "source": [
        "import pandas as pd\n",
        "import datetime\n",
        "import matplotlib.pyplot as plt\n",
        "\n",
        "# Reporte por fecha\n",
        "ventasdf[\"Transaction_date\"] = pd.to_datetime(ventasdf[\"Transaction_date\"])\n",
        "A = (ventasdf[\"Transaction_date\"]\n",
        "        .dt.floor(\"d\")\n",
        "        .value_counts()\n",
        "        .rename_axis(\"date\")\n",
        "        .reset_index(name=\"num ventas\"))\n",
        "\n",
        "print(A)\n",
        "G= A.plot(x=\"date\", y=\"num ventas\", color=\"green\", title=\"Ventas por fecha\")\n",
        "plt.show()"
      ],
      "execution_count": null,
      "outputs": []
    },
    {
      "cell_type": "markdown",
      "metadata": {
        "id": "RaT8-O4Pnyut"
      },
      "source": [
        "***\n",
        "\n",
        "# Modularidad\n",
        "\n",
        "## Funciones\n",
        "\n",
        "Las funciones son unidades pequeñas dentro de una construcción más grande que genera\n",
        "una salida esperada.\n",
        "\n",
        "Las funciones tienen dos categorı́as: incluídas con el lenguaje, y creadas por el usuario."
      ]
    },
    {
      "cell_type": "markdown",
      "metadata": {
        "id": "81HF2Bl8o8dx"
      },
      "source": [
        "**Ejercicio No. 17**\n",
        "\n",
        "En el siguiente ejercicio se muestran distintas funciones clásicas, de las que no retornan, si retornan, tienen parámetros y otras que no."
      ]
    },
    {
      "cell_type": "code",
      "metadata": {
        "id": "io4MV1sLoNRt"
      },
      "source": [
        "# función sin argumentos\n",
        "def saludar_1():\n",
        "  nombre = input(\"Ingrese primer nombre:\")\n",
        "  print(\"Hola\", nombre, '!')\n",
        "\n",
        "# función con un argumento\n",
        "def saludar_2(nombre):\n",
        "  print('Hola', nombre, '!!')\n",
        "\n",
        "# función con un argumento y retornando valor\n",
        "def saludar_3(nombre):\n",
        "  return \"Hola \" + nombre + \"!!!\"\n",
        "\n",
        "saludar_1()\n",
        "nombre = input(\"Ingrese segundo nombre:\")\n",
        "saludar_2(nombre)\n",
        "nombre = input(\"Ingrese tercer nombre:\")\n",
        "print(saludar_3(nombre))"
      ],
      "execution_count": null,
      "outputs": []
    },
    {
      "cell_type": "markdown",
      "metadata": {
        "id": "vqC2U5wRqKyz"
      },
      "source": [
        "**Ejercicio No. 18**\n",
        "\n",
        "En este ejercicio se muestra que hay funciones con argumentos por defecto, es decir, que el argumento que la variable\n",
        "toma es el valor dado en la definición de la función si esté no es pasado cuando se llama a la función."
      ]
    },
    {
      "cell_type": "code",
      "metadata": {
        "id": "e-A_7UgDqN4d"
      },
      "source": [
        "def log_entero(num, base=2):\n",
        "  print(base)\n",
        "  cont = 0\n",
        "  while num >= base:\n",
        "    cont+=1\n",
        "    num /= base\n",
        "  return cont\n",
        "\n",
        "print(\"Resultado:\", log_entero(1024))\n",
        "print(\"Resultado:\", log_entero(1000,10))\n",
        "print(\"Resultado:\", log_entero(9,3))"
      ],
      "execution_count": null,
      "outputs": []
    },
    {
      "cell_type": "markdown",
      "metadata": {
        "id": "7WPKKHMQqpL1"
      },
      "source": [
        "**Ejercicio No. 19**\n",
        "\n",
        "En este ejercicio se muestran funciones con un número de argumentos variable, usando la notación __*variable__, que toma todos los valores como una tupla adicional."
      ]
    },
    {
      "cell_type": "code",
      "metadata": {
        "id": "L7m_t4bTqrQ6"
      },
      "source": [
        "def variable_argument(var1, *vari):\n",
        "  print('salida:'+ str(var1), end=\" \")\n",
        "  print(vari)\n",
        "  sum = var1\n",
        "  for var in vari:\n",
        "    print(var)\n",
        "    try:\n",
        "      sum += var\n",
        "    except:\n",
        "      print(var, \"no es un número\")\n",
        "  return sum\n",
        "\n",
        "print(variable_argument(60))\n",
        "print(\"\\n\" + (\"*\" * 10))\n",
        "print(variable_argument(100, 90, 67, 23, 10, \"hola\", True))"
      ],
      "execution_count": null,
      "outputs": []
    },
    {
      "cell_type": "markdown",
      "metadata": {
        "id": "2s9sQw8G9KCc"
      },
      "source": [
        "**Ejercicio No. 20**\n",
        "\n",
        "En este ejercicio se muestra que existen funciones con un número de argumentos variable,  usando la notación __**variable__, que son tomados como un diccionario."
      ]
    },
    {
      "cell_type": "code",
      "metadata": {
        "id": "feJ1BcOf9MUD"
      },
      "source": [
        "from pprint import pprint\n",
        "\n",
        "def informar(**var):\n",
        "  pprint(var)\n",
        "  for key, value in var.items():\n",
        "    pprint(\"%s == %s\" %(key,value))\n",
        "\n",
        "\n",
        "informar(nombre=\"Poseidón\",edad=6000,ciudad=\"Olimpo\",saludo=\"todo bien\")"
      ],
      "execution_count": null,
      "outputs": []
    },
    {
      "cell_type": "markdown",
      "metadata": {
        "id": "L0B8BqeIHXb-"
      },
      "source": [
        "**Ejercicio No. 21**\n",
        "\n",
        "En este ejercicio se muestra que el paso de estructuras como parámetros a funciones se realiza por referencia: los objetos que\n",
        "lleguen pueden ser modificados dentro de la función, mientras que a la variable no se le asigne un nuevo valor."
      ]
    },
    {
      "cell_type": "code",
      "metadata": {
        "id": "ASDXmUvxHXrR"
      },
      "source": [
        "def unir_listas(lista1, lista2):\n",
        "  lista1.extend(lista2)\n",
        "\n",
        "\n",
        "avengers        = ['Tony', 'Natalia', 'Steve']\n",
        "nuevos_avengers = ['Thor', 'Peter']\n",
        "\n",
        "unir_listas(avengers, nuevos_avengers)\n",
        "print(avengers)"
      ],
      "execution_count": null,
      "outputs": []
    },
    {
      "cell_type": "markdown",
      "metadata": {
        "id": "E0wr09c1JEzt"
      },
      "source": [
        "**Ejercicio No. 22**\n",
        "\n",
        "En el siguiente ejercvicio se muestra que el valor de la variable a del programa principal no se afecta, mientras que el valor de la variable a en la función si cambia, debido a que se hace asignación por valor."
      ]
    },
    {
      "cell_type": "code",
      "metadata": {
        "id": "BKmDJCUYJFTE"
      },
      "source": [
        "def func(a):\n",
        "  a *= 10\n",
        "  print('En la función a=',a)\n",
        "\n",
        "a = 45\n",
        "func(a)\n",
        "print('En el programa principal a=',a)"
      ],
      "execution_count": null,
      "outputs": []
    },
    {
      "cell_type": "markdown",
      "metadata": {
        "id": "UbffTYJsfx_v"
      },
      "source": [
        "**Ejercicio No. 23**\n",
        "\n",
        "En este ejercicio se muestra que el valor de *avengers* del programa principal no\n",
        "cambia debido a la asignación que se está realizando dentro de la función\n",
        "a la variable lista, y porque no se usan funciones propias de la librería de listas."
      ]
    },
    {
      "cell_type": "code",
      "metadata": {
        "id": "34tm8PZAgBYI"
      },
      "source": [
        "def no_limpia_lista(lista):\n",
        "  lista = []\n",
        "\n",
        "avengers = ['Tony', 'Natalia', 'Steve']\n",
        "no_limpia_lista(avengers)\n",
        "print(avengers)"
      ],
      "execution_count": null,
      "outputs": []
    },
    {
      "cell_type": "markdown",
      "metadata": {
        "id": "9bfEqjXtjTbj"
      },
      "source": [
        "**Ejercicio No. 24**\n",
        "\n",
        "En este ejercicio se muestra que la variable a definida en la función **func** es local\n",
        "y solo tiene alcance en dicha función. No tiene nada que ver con la variable a que es definida después en el cuerpo principal del programa."
      ]
    },
    {
      "cell_type": "code",
      "metadata": {
        "id": "Kj5NWjxjjVP1"
      },
      "source": [
        "def func():\n",
        "  a = 12\n",
        "  print('Variable local:', a)\n",
        "\n",
        "a = 10\n",
        "func()\n",
        "print ('Variable del cuerpo principal:', a)"
      ],
      "execution_count": null,
      "outputs": []
    },
    {
      "cell_type": "markdown",
      "metadata": {
        "id": "x0j1Alamj6_M"
      },
      "source": [
        "**Ejercicio No. 25**\n",
        "\n",
        "En el siguiente ejercicio *k* es una variable global (alcance en todo el programa), *lista* es una variable local (de main) con alcance en la función **main** y \"global\" en **add**, mientras que la variable *x* es local pues\n",
        "solo tiene alcance en la función **add**."
      ]
    },
    {
      "cell_type": "code",
      "metadata": {
        "id": "794E2qypj88p"
      },
      "source": [
        "k = 4\n",
        "\n",
        "def main():\n",
        "  lista = []\n",
        "  def add():\n",
        "    for x in range(k):\n",
        "      lista.append(x)\n",
        "      print(lista)\n",
        "  add()\n",
        "\n",
        "main()"
      ],
      "execution_count": null,
      "outputs": []
    },
    {
      "cell_type": "markdown",
      "metadata": {
        "id": "FP52DoeolX9f"
      },
      "source": [
        "\n",
        "**Ejercicio No. 26**\n",
        "\n",
        "En este ejercicio se usa la palabra *global* antes de una variable, dentro de una función, la cual indica que dicha variable tiene alcance global y que cualquier operación que se le haga dentro de la función puede modificar el valor de la variable global."
      ]
    },
    {
      "cell_type": "code",
      "metadata": {
        "id": "8QRrBK_hlbDS"
      },
      "source": [
        "k = 5\n",
        "\n",
        "def func():\n",
        "  global k\n",
        "  k = k + 7\n",
        "  print(\"La variable k tiene alcance global:\", k)\n",
        "  k = 10\n",
        "\n",
        "\n",
        "func()\n",
        "print (\"Valor de la variable global k fuera de la función:\", k)"
      ],
      "execution_count": null,
      "outputs": []
    },
    {
      "cell_type": "markdown",
      "metadata": {
        "id": "NwV5i4D7mety"
      },
      "source": [
        "**Ejercicio No. 27**\n",
        "\n",
        "En este ejercicio se muestra que las variables que se declaran globales dentro de una función pueden ser de cualquier tipo."
      ]
    },
    {
      "cell_type": "code",
      "metadata": {
        "id": "LsRJ2m-dmXR-"
      },
      "source": [
        "\n",
        "x = \"sorprendente\"\n",
        "\n",
        "def myfunc():\n",
        "  global x\n",
        "  x = \"fantástico\"\n",
        "\n",
        "print(\"Antes Python era \" + x)\n",
        "myfunc()\n",
        "print(\"Ahora Python es \" + x)"
      ],
      "execution_count": null,
      "outputs": []
    },
    {
      "cell_type": "markdown",
      "metadata": {
        "id": "CkmruAGo5WVM"
      },
      "source": [
        "***\n",
        "\n",
        "# Recursividad\n",
        "\n",
        "Si un problema de cierto tamaño $T$ puede ser solucionado usando instancias del mismo problema pero de menor tamaño $t$ $(t < T )$, y\n",
        "además se conoce la solución de algunas instancias de menor tamaño ($t_0$ ) que no dependan del problema, entonces se puede aplicar un mecanismo recursivo para implementar la solución del problema usando un lenguaje de programación."
      ]
    },
    {
      "cell_type": "markdown",
      "metadata": {
        "id": "2YCOLonH6WEc"
      },
      "source": [
        "**Ejercicio No. 28**\n",
        "\n",
        "Calcular la suma de los números naturales desde el $0$ hasta $n$."
      ]
    },
    {
      "cell_type": "code",
      "metadata": {
        "id": "2zFr3J5u5soT"
      },
      "source": [
        "def sumar(n):\n",
        "  if n > 0:\n",
        "    return n + sumar(n-1)\n",
        "  else:\n",
        "    return 0\n",
        "\n",
        "\n",
        "x = int( input() )\n",
        "print( \"El resultado de la suma es:\", sumar(x) )"
      ],
      "execution_count": null,
      "outputs": []
    },
    {
      "cell_type": "markdown",
      "metadata": {
        "id": "JpC5N_JT6fq8"
      },
      "source": [
        "**Problema No. 29**\n",
        "\n",
        "Calcular la suma de los números almacenados en una lista."
      ]
    },
    {
      "cell_type": "code",
      "metadata": {
        "id": "biDtfVS-6jHj"
      },
      "source": [
        "from random import randint\n",
        "\n",
        "def sumar_parcial(L, n):\n",
        "  if n > 0:\n",
        "    return L[n-1] + sumar_parcial(L,n-1)\n",
        "  else:\n",
        "    return 0\n",
        "\n",
        "def sumar_lista(L):\n",
        "  return sumar_parcial(L,len(L))\n",
        "\n",
        "lista = [randint(1, 50) for i in range(20)]\n",
        "print( lista )\n",
        "print(\"El resultado de la suma es:\", sumar_lista( lista ) )"
      ],
      "execution_count": null,
      "outputs": []
    },
    {
      "cell_type": "markdown",
      "metadata": {
        "id": "3UCiMYX99p0l"
      },
      "source": [
        "**Problema No. 30**\n",
        "\n",
        "Determinar si un carácter está en una cadena."
      ]
    },
    {
      "cell_type": "code",
      "metadata": {
        "id": "e471Vq2n9t23"
      },
      "source": [
        "def buscar_parcial(str,ch,n):\n",
        "  if n > 0:\n",
        "    return (str[n-1] == ch) or buscar_parcial(str,ch,n-1)\n",
        "  else:\n",
        "    return False\n",
        "\n",
        "def buscar(str,ch):\n",
        "  return buscar_parcial(str,ch,len(str))\n",
        "\n",
        "\n",
        "cadena   = input(\"Ingrese una cadena: \")\n",
        "caracter = input(\"Ingrese un caracter: \")\n",
        "print( buscar(cadena, caracter) )"
      ],
      "execution_count": null,
      "outputs": []
    },
    {
      "cell_type": "markdown",
      "metadata": {
        "id": "fmL-64LLA_wE"
      },
      "source": [
        "**Problema No, 31**\n",
        "\n",
        "¿Qué hace esta función $f$?"
      ]
    },
    {
      "cell_type": "code",
      "metadata": {
        "id": "dpJO4dWyBFca"
      },
      "source": [
        "def f(n):\n",
        "  if n == 0:\n",
        "    return True\n",
        "  elif n == 1:\n",
        "    return False\n",
        "  else:\n",
        "    return f(n-2)\n",
        "\n",
        "numero = int(input(\"Ingreso el número: \"))\n",
        "print( f(numero) )"
      ],
      "execution_count": null,
      "outputs": []
    },
    {
      "cell_type": "markdown",
      "metadata": {
        "id": "R75QsLzDH4X-"
      },
      "source": [
        "**Problema No. 32**\n",
        "\n",
        "¿Qué hace esta función $g$?\n"
      ]
    },
    {
      "cell_type": "code",
      "metadata": {
        "id": "AO_rOfLZJaqN"
      },
      "source": [
        "def g(n):\n",
        "  if n == 0:\n",
        "    return 0\n",
        "  elif n == 1:\n",
        "    return 1\n",
        "  elif n == 2:\n",
        "    return 2\n",
        "  else:\n",
        "    return g(n-3)\n",
        "\n",
        "numero = int(input(\"Ingreso el número: \"))\n",
        "print( g(numero) )"
      ],
      "execution_count": null,
      "outputs": []
    },
    {
      "cell_type": "markdown",
      "metadata": {
        "id": "TM5NFrYTR8u7"
      },
      "source": [
        "**Problema No. 33**\n",
        "\n",
        "En este ejercicio se define una función recursiva que permita hallar un número real elevado a un número natural."
      ]
    },
    {
      "cell_type": "code",
      "metadata": {
        "id": "MerC5elXSmZf"
      },
      "source": [
        "def potencia(b, n):\n",
        "  if n == 0:\n",
        "    return 1\n",
        "  else:\n",
        "    return potencia(b, n-1) * b\n",
        "\n",
        "\n",
        "base = float(input(\"Por favor digite la base: \"))\n",
        "exp  = int(input(\"Por favor digite el exponente: \"))\n",
        "print(base, \"^\", exp, \"=\", potencia(base, exp))"
      ],
      "execution_count": null,
      "outputs": []
    },
    {
      "cell_type": "markdown",
      "metadata": {
        "id": "lNegmx3US8DY"
      },
      "source": [
        "**Ejercicio No. 34**\n",
        "\n",
        "En este ejercicio se muestra una función recursiva para calcular el factorial de un número."
      ]
    },
    {
      "cell_type": "code",
      "metadata": {
        "id": "KSKp5jNIYw8f"
      },
      "source": [
        "def fact(n):\n",
        "  if n == 0:\n",
        "    return 1\n",
        "  else:\n",
        "    return n * fact(n-1)\n",
        "\n",
        "\n",
        "numero = int(input(\"Ingreso el número: \"))\n",
        "print( fact(numero) )"
      ],
      "execution_count": null,
      "outputs": []
    },
    {
      "cell_type": "markdown",
      "metadata": {
        "id": "LAlQp_15ZOOL"
      },
      "source": [
        "**Ejercicio No. 35**\n",
        "\n",
        "En este ejercicio se muestra una función recursiva para calcula la serie de Fibonnaci hasta un término específico."
      ]
    },
    {
      "cell_type": "code",
      "metadata": {
        "id": "vAn0865nZhgm"
      },
      "source": [
        "  def fibo(n):\n",
        "  if n == 0:\n",
        "    return 0\n",
        "  elif n == 1:\n",
        "    return 1\n",
        "  return fibo(n - 1) + fibo(n - 2)\n",
        "\n",
        "numero = int(input(\"Ingreso el número: \"))\n",
        "print( fibo(numero) )"
      ],
      "execution_count": null,
      "outputs": []
    }
  ]
}