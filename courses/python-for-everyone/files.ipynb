{
  "cells": [
    {
      "cell_type": "markdown",
      "metadata": {
        "id": "mmppjfmkN1ts"
      },
      "source": [
        "***\n",
        "# Archivos\n",
        "\n",
        "Un archivo es una unidad lógica de almacenamiento de datos en\n",
        "dispositivos externos (no memoria principal). Se dice unidad lógica\n",
        "porque todos los bytes almacenados en un archivo se ven como una\n",
        "sola unidad que tiene un inicio y un fin, sin importar lo que esos bytes estén representando. El tamaño (coloquialmente peso) de un archivo es el número de bytes que almacena."
      ]
    },
    {
      "cell_type": "markdown",
      "metadata": {
        "id": "NJ0zbYDggz76"
      },
      "source": [
        "**Ejercicio No. 17**\n",
        "\n",
        "En este ejercicio se hace una prueba de la lectura de información de un archivo cargado en COLAB. El comando **open(ruta del archivo, 'r')** toma un nombre de archivo y modo como argumentos, *r* abre el archivo en modo de lectura (read)."
      ]
    },
    {
      "cell_type": "code",
      "execution_count": null,
      "metadata": {
        "id": "JCK0RGyNg-vH"
      },
      "outputs": [],
      "source": [
        "# apertura de archivo en modo lectura\n",
        "with open('/content/files/data.txt', 'r') as f:\n",
        "  data = f.read() # función que carga todo el contenido del archivo en una variable\n",
        "  print(data)"
      ]
    },
    {
      "cell_type": "markdown",
      "metadata": {
        "id": "SZXpUUSGihwO"
      },
      "source": [
        "**Ejercicio No. 18**\n",
        "\n",
        "En este ejercicio se muestra como se puede hacer escritura en un archivo colocado en COLAB, incluso mediante ciclos. El comando **open(ruta del archivo, 'w')** abre el archivo en modo de\n",
        "escritura creando el archivo si no existe (write) ó sobreescribiendo el archivo si existe."
      ]
    },
    {
      "cell_type": "code",
      "execution_count": null,
      "metadata": {
        "id": "o31VW4BZi2xJ"
      },
      "outputs": [],
      "source": [
        "# apertura de archivo en modo creación/sobre-escritura\n",
        "with open('files/wdata_2.txt', 'w') as f:\n",
        "  data = \"hola estamos escribiendo en el archivo \"\n",
        "  for i in range(120, 123): # iteración para tener varios valores diferentes\n",
        "    line = data + str(i) + \"\\n\" # creación de nuevas líneas con final distinto\n",
        "    #print(line)\n",
        "    f.write(line)  # la función write escribe en el archivo\n",
        "\n",
        "print(\"Se ha escrito correctamente en el archivo.\") # mensaje para saber cuando terminó el proceso"
      ]
    },
    {
      "cell_type": "markdown",
      "metadata": {
        "id": "Bq6yGIhbk3B5"
      },
      "source": [
        "**Ejercicio No. 19**\n",
        "\n",
        "En este ejercicio se usa el comando **open(ruta del archivo, 'a')**, el cual abre el archivo en modo de adjuntar creando el archivo si no existe (append) ó escribiendo al final del archivo si existe."
      ]
    },
    {
      "cell_type": "code",
      "execution_count": null,
      "metadata": {
        "id": "rUkx4V3QlKlT"
      },
      "outputs": [],
      "source": [
        "with open('files/wdata.txt', 'a') as f:\n",
        "  data = \"más cosas \"\n",
        "  for i in range(1, 6):\n",
        "    line = data + str(i) + \"\\n\"\n",
        "    #print(line)\n",
        "    f.write(line)\n",
        "\n",
        "print(\"Se ha agregado información correctamente en el archivo.\")"
      ]
    },
    {
      "cell_type": "markdown",
      "metadata": {
        "id": "jbCrVFR9nYSC"
      },
      "source": [
        "**Ejercicio No. 20**\n",
        "\n",
        "En este ejercicio se abre en modo lectura un archivo llamado _data1.txt_ previamente cargado en la carpeta _files_."
      ]
    },
    {
      "cell_type": "code",
      "execution_count": null,
      "metadata": {
        "id": "8nyhYGWMnaJF"
      },
      "outputs": [],
      "source": [
        "with open('files/data1.txt', 'r') as f:\n",
        "  print(f.read())\n",
        "\n",
        "print('\\n\\n')\n",
        "\n",
        "with open(\"files/data1.txt\", \"r\", encoding=\"utf-8\") as f:\n",
        "  print(f.read())"
      ]
    },
    {
      "cell_type": "markdown",
      "metadata": {
        "id": "lZOW2SzcqJ0d"
      },
      "source": [
        "\n",
        "**Ejercicio No. 21**\n",
        "\n",
        "En este ejercicio se muestra una opción de lectura parcial. En algunos casos no se desea leer la totalidad del contenido de un archivo, sino solamente una fracción. En ese caso el comando **read()** admite un parámetro entero que especifica cuantos bytes se leen y deja el apuntador justo después del último byte leı́do."
      ]
    },
    {
      "cell_type": "code",
      "execution_count": null,
      "metadata": {
        "id": "847KypfsonFS"
      },
      "outputs": [],
      "source": [
        "f_size = 0\n",
        "\n",
        "with open('files/data1.txt', 'a', encoding=\"utf-8\") as f:\n",
        "  f_size = f.tell()\n",
        "\n",
        "\n",
        "with open('files/data1.txt', 'r', encoding=\"utf-8\") as f:\n",
        "  posicion = 0\n",
        "  aumento  = 10\n",
        "  while (posicion + aumento) < f_size:\n",
        "    segmento = f.read(aumento)\n",
        "    print(segmento)\n",
        "    posicion += aumento\n",
        "\n",
        "\n",
        "with open('files/data1.txt', 'r', encoding=\"utf-8\") as f:\n",
        "  linea1 = f.read(6)\n",
        "  linea2 = f.read(10)\n",
        "\n",
        "#print(linea1)\n",
        "#print(linea2)"
      ]
    },
    {
      "cell_type": "markdown",
      "metadata": {
        "id": "r-UckKXEqMO3"
      },
      "source": [
        "**Ejercicio No. 22**\n",
        "\n",
        "En este ejercicio se muestra que es posible leer un archivo lı́nea por lı́nea utilizando el comando **readline()**. Esta es una forma eficiente en memoria de leer un archivo."
      ]
    },
    {
      "cell_type": "code",
      "execution_count": null,
      "metadata": {
        "id": "4fMA5Ed9osN1"
      },
      "outputs": [],
      "source": [
        "with open('files/data2.txt', 'r', encoding=\"utf-8\") as f:\n",
        "  line = f.readline()\n",
        "  while line != \"\":\n",
        "    print(line, end=\"\")\n",
        "    line = f.readline()\n",
        "\n",
        "with open('files/data1.txt', 'r', encoding=\"utf-8\") as f:\n",
        "  linea1 = f.readline()\n",
        "  linea2 = f.readline()\n",
        "\n",
        "print(linea1, end='')\n",
        "print(linea2, end='')"
      ]
    },
    {
      "cell_type": "markdown",
      "metadata": {
        "id": "9-wCnnZ5qNdr"
      },
      "source": [
        "**Ejercicio No. 23**\n",
        "\n",
        "En este ejercicio se muestra que es posible cargar todas las líneas del archivo como una lista si se utiliza el comando **readlines()**."
      ]
    },
    {
      "cell_type": "code",
      "execution_count": null,
      "metadata": {
        "id": "6tsnnjJ0owgV"
      },
      "outputs": [],
      "source": [
        "with open(\"files/data1.txt\", \"r\", encoding='utf-8') as f:\n",
        "  print(\"Nombre del archivo: \", f.name)\n",
        "  lista = f.readlines()\n",
        "\n",
        "print(lista)\n",
        "for line in lista:\n",
        "  if line.count(\"3:\") > 0:\n",
        "    print(\"lo encontre\")\n",
        "  print(line)"
      ]
    },
    {
      "cell_type": "markdown",
      "metadata": {
        "id": "SFxmFfe-qOme"
      },
      "source": [
        "**Ejercicio No. 24**\n",
        "\n",
        "En este ejercicio se muestra la forma más sencilla y eficiente, de abrir y procesar un archivo de texto es iterar lı́nea por lı́nea el archivo."
      ]
    },
    {
      "cell_type": "code",
      "execution_count": null,
      "metadata": {
        "id": "bht0ZMRVo03C"
      },
      "outputs": [],
      "source": [
        "with open(\"files/data1.txt\", \"r\", encoding='utf-8') as f:\n",
        "  for line in f:\n",
        "    print(line, end='')"
      ]
    },
    {
      "cell_type": "markdown",
      "metadata": {
        "id": "6FC8E_LmOAOC"
      },
      "source": [
        "**Ejercicio No. 25**\n",
        "\n",
        "En este ejercicio se muestra el uso del modo _a+_, que a menudo se prefiere utilizar para escribir un archivo porque permite añadir datos al final del mismo.\n"
      ]
    },
    {
      "cell_type": "code",
      "execution_count": null,
      "metadata": {
        "id": "uLb996KuN_wp"
      },
      "outputs": [],
      "source": [
        "with open(\"files/data2.txt\", \"a+\", encoding='utf-8') as f:\n",
        "  f.write(\"\\nEsta es la lı́nea 5: qweqweqwe\")\n",
        "\n",
        "print(\"Se ha agregado información en el archivo correctamente.\")"
      ]
    },
    {
      "cell_type": "markdown",
      "metadata": {
        "id": "UCy0qnXtPh-y"
      },
      "source": [
        "**Ejercicio No. 26**\n",
        "\n",
        "En este ejercicio se muestra la opción de escritura usando el modo _w+_, la cual sobre-escribe el archivo. En este caso, si se desean escribir datos que no son cadenas de texto en un archivo es necesario convertir cada dato a string con el comando _str()_, y se puede usar un ciclo para agregar al archivo cada elemento de una lista en una nueva línea dentro del archivo."
      ]
    },
    {
      "cell_type": "code",
      "execution_count": null,
      "metadata": {
        "id": "j8oVS5ZpPiUl"
      },
      "outputs": [],
      "source": [
        "values = [1234, 5678, 9012, 3.14159265, False, \"a\"]\n",
        "with open(\"files/data3.txt\", \"w+\") as f:\n",
        "  for value in values:\n",
        "    str_value = str(value)\n",
        "    f.write(str_value)\n",
        "    f.write(\"\\n\")\n",
        "\n",
        "print(\"Se ha sobre-escrito la información en el archivo correctamente.\")"
      ]
    },
    {
      "cell_type": "markdown",
      "metadata": {
        "id": "eownHX79Pjrf"
      },
      "source": [
        "**Ejercicio No. 27**\n",
        "\n",
        "En este ejercicio se muestra una manera de moverse  a posiciones específicas de un archivo que se esté leyendo. Para hacer esto, se usa la función _seek(cantidad_caracteres, desde_posicion)_, teniendo tres valores para la posición: 0 es inicio, 1 es la actual del apuntador, 2 es el final del archivo."
      ]
    },
    {
      "cell_type": "code",
      "execution_count": null,
      "metadata": {
        "id": "b6c0ylXVPkQk"
      },
      "outputs": [],
      "source": [
        "with open(\"files/data4.txt\", \"a+\", encoding='utf-8') as f:\n",
        "  f.seek(6,0)\n",
        "  for line in f:\n",
        "    print(line, end='')\n"
      ]
    },
    {
      "cell_type": "markdown",
      "metadata": {
        "id": "PD_YQUckPkyC"
      },
      "source": [
        "**Ejercicio No. 28**\n",
        "\n",
        "En este ejercicio se muestra la manera de obtener el tamaño de archivo en bytes utilizando la función _tell()_."
      ]
    },
    {
      "cell_type": "code",
      "execution_count": null,
      "metadata": {
        "id": "XXDQPyI6PlNQ"
      },
      "outputs": [],
      "source": [
        "with open(\"files/data1.txt\", \"a+\") as f:\n",
        "  print(\"Tamaño del archivo en bytes:\", f.tell())"
      ]
    },
    {
      "cell_type": "markdown",
      "metadata": {
        "id": "2IJUju8kq3_O"
      },
      "source": [
        "**Ejercicio No. 29**\n",
        "\n",
        "En este ejercicio se muestra la forma más fácil de editar un archivo dado es guardar el archivo entero en una lista y utilizar el comando _list.insert(i,x)_, que permite insertar nuevos datos a la lista. Una vez creada la lista se puede unir (_join_) de nuevo y escribir ésto en el archivo.\n",
        "\n"
      ]
    },
    {
      "cell_type": "code",
      "execution_count": null,
      "metadata": {
        "id": "7zo1b1mtq4UJ"
      },
      "outputs": [],
      "source": [
        "list_content = []\n",
        "\n",
        "# abre el archivo en modo de sólo lectura\n",
        "with open(\"files/data5.txt\", \"r\", encoding='utf-8') as f:\n",
        "  list_content = f.readlines()\n",
        "\n",
        "list_content.insert(1, \"Esta es la lı́nea 1.5: jajaja\\n\")\n",
        "print(list_content)\n",
        "\n",
        "# re-abre el archivo en modo de sólo escritura para sobre-escribir la versión anterior de éste\n",
        "with open(\"files/data5.txt\", \"w\", encoding='utf-8') as f:\n",
        "  contenido = \"\".join(list_content)\n",
        "  print(contenido)\n",
        "  f.write(contenido)"
      ]
    },
    {
      "cell_type": "markdown",
      "metadata": {
        "id": "2z5AJl5ZHACZ"
      },
      "source": [
        "**Ejercicio No. 30**\n",
        "\n",
        "En este ejercicio se muestra la manera con la cual desde python se puede saber que archivos se encuentran en una carpeta específica. La opción tradicional es usar la librería *os*, que controla cosas del sistema operativo (operative system), y como primera opción está la función *listdir()*.\n",
        "\n",
        "En las versiones modernas de Python una alternativa a os.listdir() es\n",
        "utilizar os.scandir() (desde Python 3.5) y pathlib.Path()."
      ]
    },
    {
      "cell_type": "code",
      "execution_count": null,
      "metadata": {
        "id": "D3h5ljBXHBCU"
      },
      "outputs": [],
      "source": [
        "import os\n",
        "\n",
        "data = os.listdir('files/')\n",
        "print(\"Files:\", data)\n",
        "\n",
        "print(\"\\n------- New Alternative -------\")\n",
        "entries = os.scandir('files/')\n",
        "for entry in entries:\n",
        "  print(entry.name + ', es directorio: ' +\n",
        "        str(entry.is_dir()) + ', size: ' +\n",
        "        str(entry.stat().st_size) + ' bytes.')"
      ]
    },
    {
      "cell_type": "markdown",
      "metadata": {
        "id": "664K8M-rJDsg"
      },
      "source": [
        "**Ejercicio No. 31**\n",
        "\n",
        "En este ejercicio se muestra la forma de almacenar información contenida en estructuras de datos python (como diccionarios o listas). En este caso se puede utilizar el módulo **pickle** con su método **dump**, para serializar objetos."
      ]
    },
    {
      "cell_type": "code",
      "execution_count": null,
      "metadata": {
        "id": "c6-aex4ZJGPa"
      },
      "outputs": [],
      "source": [
        "import pickle\n",
        "\n",
        "name  = [\"mohit\", \"bhaskar\", \"manish\"]\n",
        "skill = [\"Python\", \"Python\", \"Java\"]\n",
        "dict1 = dict([(k,v) for k,v in zip(name, skill)]) # creación de un diccionario a partir de dos listas\n",
        "\n",
        "with open(\"files/programming_powers.pkl\", \"wb\") as p_file:\n",
        "  pickle.dump(name, p_file)\n",
        "  pickle.dump(skill, p_file)\n",
        "  pickle.dump(dict1, p_file)\n",
        "\n",
        "print(\"El archivo en binario se ha escrito correctamente.\")"
      ]
    },
    {
      "cell_type": "markdown",
      "metadata": {
        "id": "SfMG3MZgKK7F"
      },
      "source": [
        "**Ejercicio No. 32**\n",
        "\n",
        "En este ejercicio se muestra que para realizar el proceso inverso de serialización (leer de archivo los objetos serializados con **pickle**), se puede seguir el método **load**."
      ]
    },
    {
      "cell_type": "code",
      "execution_count": null,
      "metadata": {
        "id": "0uX5BDUhKLau"
      },
      "outputs": [],
      "source": [
        "import pickle\n",
        "with open(\"files/programming_powers.pkl\", \"rb\") as p_file:\n",
        "  a = pickle.load(p_file)\n",
        "  b = pickle.load(p_file)\n",
        "  c = pickle.load(p_file)\n",
        "\n",
        "print(a)\n",
        "print(b)\n",
        "print(c)"
      ]
    },
    {
      "cell_type": "markdown",
      "metadata": {
        "id": "feg1i7z_LHzB"
      },
      "source": [
        "**Ejercicio No. 33**\n",
        "\n",
        "En este ejercicio se muestra que con cierto procesamiento es posible crear una copia de la imagen. Una imagen de tipo __*.jpg__ es un archivo de tipo binario."
      ]
    },
    {
      "cell_type": "code",
      "execution_count": null,
      "metadata": {
        "id": "_-PgjNxpLIdp"
      },
      "outputs": [],
      "source": [
        "with open(\"files/discurso.jpg\", \"rb\") as imagen:\n",
        "  data = imagen.read()\n",
        "\n",
        "with open(\"files/copy.jpg\", \"wb\") as f:\n",
        "  f.write(data)\n",
        "\n",
        "print(data)"
      ]
    },
    {
      "cell_type": "markdown",
      "metadata": {
        "id": "vkJYoTpsFcWF"
      },
      "source": [
        "***\n",
        "# Problemas de Estudio"
      ]
    },
    {
      "cell_type": "code",
      "execution_count": null,
      "metadata": {
        "id": "xciQEFmMU7bP"
      },
      "outputs": [],
      "source": [
        "def imprimir_en_rango(lista_personas, edad_inicial, edad_final):\n",
        "  personas_filtradas = [] # lista con los nombres de las personas en el rango de edad\n",
        "  for persona in lista_personas: # se recorre la lista de personas\n",
        "      if edad_inicial <= persona['edad'] <= edad_final: # se verifica si la edad está en el rango\n",
        "        temp = persona['nombres'] + ' ' + persona['apellidos'] # si la persona está, se concatenan nombres y apellidos\n",
        "        personas_filtradas.append(temp) # se agrega al listado de personas a imprimir\n",
        "  return personas_filtradas\n",
        "\n",
        "## Ejemplo del Listado de Personas ##\n",
        "\"\"\"\n",
        "[\n",
        "  {\"nombres\":\"Julio\", \"apellidos\":\"Triviño\", \"edad\":45},\n",
        "  {\"nombres\":\"Patana\", \"apellidos\":\"Trufillo\", \"edad\":25},\n",
        "  {\"nombres\":\"Juan\", \"apellidos\":\"Bodoque\", \"edad\":35}\n",
        "]\n",
        "\"\"\""
      ]
    },
    {
      "cell_type": "markdown",
      "metadata": {
        "id": "7GxyKW_xWbGK"
      },
      "source": [
        "**Problema No. 4**\n",
        "\n",
        "a. Dado el archivo de texto files/SalesJan2009.csv, procese el archivo\n",
        "para obtener las compras realizadas en un paı́s dado.\n",
        "\n",
        "b. Dado el archivo de texto files/SalesJan2009.csv, procese el archivo\n",
        "para obtener las compras realizadas con un medio de pago dado.\n"
      ]
    },
    {
      "cell_type": "code",
      "execution_count": null,
      "metadata": {
        "id": "h2fic9uPWkkn"
      },
      "outputs": [],
      "source": [
        "def estadisticas_ventas(ruta_archivo_compras, pais, metodo):\n",
        "  indice_pais  = None # índice de la columna donde estará el país en las compras\n",
        "  compras_pais = 0    # contador de compras en el país a buscar\n",
        "\n",
        "  indice_metodo  = None # índice de la columna donde estará el método_pago en las compras\n",
        "  compras_metodo = 0    # contador de compras con el método de pago a buscar\n",
        "\n",
        "  with open(ruta_archivo_compras, 'r', encoding='UTF-8') as archivo:\n",
        "    encabezados = archivo.readline().split(',') # en la primera línea del archivo están los nombres de las columnas\n",
        "    for i in range( len(encabezados) ):  # recorrido de la lista usando el concepto de índices\n",
        "      if encabezados[i] == \"Country\": # se verifica si en ese índice está el nombre de columna de \"País\"\n",
        "        indice_pais = i\n",
        "      if encabezados[i] == \"Payment_Type\":  # se verifica si en ese índice está el nombre de columna de \"Método de Pago\"\n",
        "        indice_metodo = i\n",
        "\n",
        "    compra = archivo.readline.split(',') # se lee cada línea y se separan los elementos por coma\n",
        "    while len(compra) > 1: # recorre el archivo hasta el final\n",
        "      if compra[indice_pais] == pais: # si el país en la compra es el mismo que se busca, se aumenta el contador\n",
        "        compras_pais += 1\n",
        "      if compra[indice_metodo] == metodo: # si el método de pago en la compra es el mismo que se busca, se aumenta el contador\n",
        "        compras_metodo += 1\n",
        "      compra = archivo.readline.split(',') # se lee cada línea y se separan los elementos por coma\n",
        "\n",
        "    return compras_pais, compras_metodo"
      ]
    },
    {
      "cell_type": "markdown",
      "metadata": {
        "id": "v7gFtoTqZnMA"
      },
      "source": [
        "**Problema No. 7**\n",
        "\n",
        "Desarrollar un programa que lea un archivo JSON que contiene una\n",
        "serie de cadenas de caracteres en minúscula, cada una con su propia\n",
        "llave. Estas llaves tienen una codificación, a forma de encriptación, en\n",
        "donde las vocales están descritas como otros sı́mbolos: \\$ en vez de a, # en vez de e, * en vez de i, ¬ en vez de o, y + en vez de u. Una vez leı́do el archivo, realice una desencriptación de todas las cadenas, es\n",
        "decir, convierta los sı́mbolos a sus vocales correspondientes (si la cadena de entrada es ”h¬l\\$”, la cadena resultante serı́a ”hola”), y\n",
        "guarde el resultado en un nuevo archivo JSON."
      ]
    },
    {
      "cell_type": "code",
      "execution_count": null,
      "metadata": {
        "id": "owW3zadDZ3RX"
      },
      "outputs": [],
      "source": [
        "def desencriptacion_cadenas(diccionario_cadenas):\n",
        "  cadenas_nuevas = {}\n",
        "  for clave, cadena in cadenas_nuevas.items():\n",
        "    cadena = cadena.replace('$', 'a')\n",
        "    cadena = cadena.replace('#', 'e')\n",
        "    cadena = cadena.replace('*', 'i')\n",
        "    cadena = cadena.replace('¬', 'o')\n",
        "    cadena = cadena.replace('+', 'u')\n",
        "    cadenas_nuevas[clave] = cadena\n",
        "  return cadenas_nuevas\n",
        "\n",
        "\"\"\"\n",
        "{\n",
        "  \"saludo\":    ”h¬l$\",\n",
        "  \"despedida\": ”ch$¬\"\n",
        "}\n",
        "\"\"\""
      ]
    },
    {
      "cell_type": "markdown",
      "metadata": {
        "id": "O8f6M5mozdMY"
      },
      "source": [
        "**Problema No. 8**\n",
        "\n",
        "Desarrollar un programa que lear un archivo .csv y lo guarde como un archivo .json ."
      ]
    },
    {
      "cell_type": "code",
      "execution_count": null,
      "metadata": {
        "id": "iGU1xpOrzf4M"
      },
      "outputs": [],
      "source": [
        "import json\n",
        "from   pprint import pprint\n",
        "\n",
        "def convertir_csv2list_dict(ruta_csv):\n",
        "  with open(ruta_csv, 'r', encoding=\"utf=8\") as archivo_csv:\n",
        "    encabezados = archivo_csv.readline().split(',')\n",
        "    lista_datos = []\n",
        "    linea = archivo_csv.readline().split(',')\n",
        "    while len(linea) > 1:\n",
        "      nuevo_registro = {}\n",
        "      for i in range( len(linea) ):\n",
        "        nuevo_registro[ encabezados[i] ] = linea[i]\n",
        "        #nuevo_registro[ encabezados[i] ] = linea[i].strip()\n",
        "        #nuevo_registro[ encabezados[i] ] = linea[i].replace('\\n', '')\n",
        "      lista_datos.append( nuevo_registro )\n",
        "      linea = archivo_csv.readline().split(',')\n",
        "    return lista_datos\n",
        "\n",
        "\n",
        "def convertir_csv2json(ruta_csv, ruta_json):\n",
        "  lista_datos = convertir_csv2list_dict(ruta_csv)\n",
        "  with open(ruta_json, 'w', encoding=\"utf-8\") as archivo_json:\n",
        "    json.dump(lista_datos, archivo_json)\n",
        "  print(\"Conversión completada. Datos guardados.\")\n",
        "  print( type(lista_datos[0]) )\n",
        "  print( json.dumps(lista_datos[0]) )\n",
        "\n",
        "\n",
        "convertir_csv2json('files/SalesJan2009.csv', 'json/SalesJan2009.json')"
      ]
    },
    {
      "cell_type": "markdown",
      "metadata": {
        "id": "jYeuErK0Ff8O"
      },
      "source": [
        "**Problema No. 9**\n",
        "\n",
        "Se debe hacer un cruce de dos listas de información, una que corresponde a un listado de personas censadas, y otro es un listado de personas con su información socio-demográfica. La idea es cruzar estos listados, ver las personas que están censadas y que al tiempo tienen información socio-demográfica, y determinar si merecen servicios de apoyo del estado o no. Finalmente, se debe generar una lista de personas que están en alguna de las dos listas, pero no en las dos al mismo tiempo."
      ]
    },
    {
      "cell_type": "code",
      "execution_count": null,
      "metadata": {
        "id": "2LdvOlL5jNTk"
      },
      "outputs": [],
      "source": [
        "convertir_csv2json('ejercicio_servicios_sociales/Censo.csv', 'ejercicio_servicios_sociales/Censo.json')"
      ]
    },
    {
      "cell_type": "code",
      "execution_count": null,
      "metadata": {
        "id": "opndwrg6F_oP"
      },
      "outputs": [],
      "source": [
        "import json\n",
        "from pprint import pprint\n",
        "with open('ejercicio_servicios_sociales/Censo.json', 'r', encoding='utf-8') as censo:\n",
        "  resultado_censo = json.load(censo)\n",
        "print(resultado_censo)\n",
        "\n",
        "resultado_sisben = convertir_csv2list_dict('ejercicio_servicios_sociales/Sisben.csv')\n",
        "print(resultado_sisben)\n",
        "\n",
        "poblacion_cruce_informacion = []\n",
        "for persona_censo in resultado_censo:\n",
        "  for persona_sisben in resultado_sisben:\n",
        "    if persona_censo[\"NroDocumento\"] == persona_sisben[\"NroDocumento\"]:\n",
        "      temp = persona_censo.copy()\n",
        "      temp.update(persona_sisben)\n",
        "      poblacion_cruce_informacion.append(temp)\n",
        "\n",
        "pprint(poblacion_cruce_informacion[0])"
      ]
    }
  ],
  "metadata": {
    "colab": {
      "provenance": []
    },
    "kernelspec": {
      "display_name": "Python 3",
      "name": "python3"
    },
    "language_info": {
      "name": "python"
    }
  },
  "nbformat": 4,
  "nbformat_minor": 0
}
