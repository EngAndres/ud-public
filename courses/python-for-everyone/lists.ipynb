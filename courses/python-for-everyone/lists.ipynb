{
  "nbformat": 4,
  "nbformat_minor": 0,
  "metadata": {
    "colab": {
      "provenance": []
    },
    "kernelspec": {
      "display_name": "Python 3",
      "name": "python3"
    },
    "language_info": {
      "name": "python"
    }
  },
  "cells": [
    {
      "cell_type": "markdown",
      "metadata": {
        "id": "gN0P36r5Eibr"
      },
      "source": [
        "***\n",
        "# Tuplas\n",
        "\n",
        "Una tupla es una secuencia de elementos que puede almacenar datos\n",
        "heterogéneos tales como: enteros, reales, cadenas, listas, diccionarios y otros más, inclusive otras tuplas.\n",
        "\n",
        "Una tupla se puede asignar a una variable de dos maneras: Usando los\n",
        "paréntesis redondos o sólo la secuencia de datos separados por comas.\n",
        "\n",
        "__Ejercicio No 1:__\n",
        "\n",
        "Asignación de valores a variables de tipo tupla. En la variable _tup_ se tienen elementos de distinto tipo de dato y utilizando paréntesis. En el caso de la variable _a_ se hace asignación de valores, pero sin usar los paréntesis."
      ]
    },
    {
      "cell_type": "code",
      "metadata": {
        "id": "ul6pktfu6A0r"
      },
      "source": [
        "tup = (1, 2, 3, 4.5, 'hola', 'a') # tupla usando paréntesis y con elementos de distinto tipo de dato\n",
        "a   = 1, 2, 3, \"hello\"  # tupla sin user paréntesis y con elementos del mismo tipo de dato\n",
        "\n",
        "# impresión de tuplas\n",
        "print('Tupla 1: ', tup)\n",
        "print('Tupla 2: ', a)\n",
        "print('Tipo de dato: ', type(a)) # verificación del tipo de dato en la tupla a"
      ],
      "execution_count": null,
      "outputs": []
    },
    {
      "cell_type": "markdown",
      "metadata": {
        "id": "ligiVsJ5NS6H"
      },
      "source": [
        "__Ejercicio No. 2:__\n",
        "\n",
        "Es este ejercicio se hace la creación de una tupla usando otras tuplas como elementos, es decir, tuplas anidadas. En particular, se crea una tupla llamada *tuple_1* que almacena elementos de tipo entero, la tupla llamada *tuple_2* que almacena elementos de tipo string, y luego la cadena *tuple_3* que está compuesta por las anteriores tuplas. Se hace la impresión de  elementos de *tuple_3* utilizando la noción de subíndices, pero acá debe empezar a tener en cuenta la noción de multi-dimensionalidad."
      ]
    },
    {
      "cell_type": "code",
      "metadata": {
        "id": "4NLx14sz7XGi"
      },
      "source": [
        "tuple_1 = (0, 1, 2, 3)       # tupla de enteros\n",
        "tuple_2 = ('A', 'B', 'C')    # tupla de strings\n",
        "tuple_3 = (tuple_1, tuple_2) # tupla cuyos elementos con otras tuplas\n",
        "\n",
        "print(tuple_3)        # impresión que muestra tuplas como elementos\n",
        "print(tuple_3[0])     # impresión que muestra el primer elemento, que es la tupla de enteros\n",
        "print(tuple_3[1])     # impresión que muestra el segundo elemento, que es la tupla de cadenas\n",
        "print(tuple_3[1][1])  # impresión que muestra el primer elemento (segunda dimensión) del segundo elemento de la tupla (primera dimensión)"
      ],
      "execution_count": null,
      "outputs": []
    },
    {
      "cell_type": "markdown",
      "metadata": {
        "id": "K4Ln592oNkdI"
      },
      "source": [
        "__Ejercicio No. 3:__\n",
        "\n",
        "En este ejercicio se muestra cómo se hace la concatenación de tuplas. Hay que aclarar que en la concatenación el orden afecta el resultado."
      ]
    },
    {
      "cell_type": "code",
      "metadata": {
        "id": "uoUWTyq2OIeX"
      },
      "source": [
        "tup1 = ('A', 'B', 'C', 'E') # tupla de cadenas de caracteres\n",
        "tup2 = (1, 2, 3, 4, 5)      # tupla de números enteros\n",
        "\n",
        "tup3 = tup1 + tup2   # concatenación de tuplas\n",
        "print(tup3)\n",
        "\n",
        "tup3 = tup2 + tup1   # concatenación de las mismas tuplas en otro orden\n",
        "print(tup3)"
      ],
      "execution_count": null,
      "outputs": []
    },
    {
      "cell_type": "markdown",
      "metadata": {
        "id": "5BCJzlHlOJPZ"
      },
      "source": [
        "__Ejercicio No. 4:__\n",
        "\n",
        "En este ejercicio se muestra como se pueden repetir elementos de una tupla mediante la generación de copias concatenadas, es decir, entender el símbolo de multiplicación como una _concatencación abreviada_."
      ]
    },
    {
      "cell_type": "code",
      "metadata": {
        "id": "Y8Bm8euC8kCS"
      },
      "source": [
        "tup2 = (1, 2, 3, 4, 5)  # tupla de números enteros\n",
        "tup3 = tup2 * 3         # se genera una nueva tupla con tres repeticiones de tup2\n",
        "print(tup3)\n",
        "\n",
        "tup4 = ('Abc', 'Bcd') # tupla de cadenas de caracteres\n",
        "tup5 = tup4 * 2   # se genera una nueva tupla con dos repeticiones de tup4\n",
        "print(tup5)"
      ],
      "execution_count": null,
      "outputs": []
    },
    {
      "cell_type": "markdown",
      "metadata": {
        "id": "YBuN7fedNlg6"
      },
      "source": [
        "__Ejercicio No. 5:__\n",
        "\n",
        "Se puede hacer una comparación entre tuplas siguiendo el orden lexicográfico, haciendo comparación elemento por elemento. Recuerde que no es necesario ir por todos los elementos de las tuplas."
      ]
    },
    {
      "cell_type": "code",
      "metadata": {
        "id": "jFhm4DjQ9rjT"
      },
      "source": [
        "print(('Rojas', 123)   <  ('Rosas', 123)) # verdadero porque j < s\n",
        "print(('Rosas', 123)   == ('rosas', 123)) # falso porque R != r\n",
        "print(('Rosas', 123)   >  ('Rosas', 23))  # verdadero porque 123 > 23\n",
        "print(('Rojas', \"123\") >  ('Rosas', 23))  # falso porque j < s\n",
        "print(('Rosas', \"123\") >  ('Rosas', 23))  # error porque no se puede comparar \"123\" con 23"
      ],
      "execution_count": null,
      "outputs": []
    },
    {
      "cell_type": "markdown",
      "metadata": {
        "id": "A71i58BGNmTY"
      },
      "source": [
        "__Ejercicio No. 6:__\n",
        "\n",
        "En este ejercicio se puede acceder a los elementos de una tupla mediante el subíndice, donde el primer elemento tiene el índice $0$. Si la posición que se envı́a es negativa, lo considera desde el final hacia el inicio. Si no es válida en el rango de posibles posiciones de la tupla se genera un error."
      ]
    },
    {
      "cell_type": "code",
      "metadata": {
        "id": "HHvPfsC-_UVI"
      },
      "source": [
        "avengers = (\"Ironman\", \"Thor\", \"Ant-man\", \"Hulk\") # tupla de base\n",
        "print(avengers[0])  # trae a \"Ironman\"\n",
        "print(avengers[3])  # trae a \"Hulk\"\n",
        "print(avengers[-1]) # trae a \"Hulk\", el último elemento\n",
        "print(avengers[-3]) # trae a \"Thor\"\n",
        "\n",
        "# se puede acceder a un caracter específico de un elemento de la tupla usando dos subíndices\n",
        "print(avengers[0][2])"
      ],
      "execution_count": null,
      "outputs": []
    },
    {
      "cell_type": "markdown",
      "metadata": {
        "id": "nZNY7IkrNoBm"
      },
      "source": [
        "__Ejercicio No. 7:__\n",
        "\n",
        "En este ejercicio se muestra que es posible determinar si un elemento se encuentra en una tupla usando un condicional tradicional y la noción de pertenencia de conjuntos."
      ]
    },
    {
      "cell_type": "code",
      "metadata": {
        "id": "cdmUCmol_gPc"
      },
      "source": [
        "text = ('cien', 'años', 'de', 'soledad') # tupla de base\n",
        "if 'años' in text:             # condicional usando 'in', entiendo 'in' como un \"pertenece a\"\n",
        "  print('Si está en la tupla') # si el elemento está en la tupla, se toma la condición como verdadera\n",
        "else:\n",
        "  print('No está en la tupla') # si el elemento no está en la tupla, se toma la condición como falsa"
      ],
      "execution_count": null,
      "outputs": []
    },
    {
      "cell_type": "markdown",
      "metadata": {
        "id": "eoF_sNAANp-3"
      },
      "source": [
        "__Ejercicio No. 8:__\n",
        "\n",
        "En este ejercicio se muestra que es posible determinar si un elemento no se encuentra en una tupla, usando condicional y una noción de no pertenece.\n"
      ]
    },
    {
      "cell_type": "code",
      "metadata": {
        "id": "PTOAgrklAwT8"
      },
      "source": [
        "text = ('cien', 'años', 'de', 'soledad')  # tupla de base\n",
        "if 'compañia' not in text:     # condicionals uando 'not in', entiendo 'not in' como un \"no pertenece a\"\n",
        "  print('No está en la tupla') # si el elemento no está en la tupla, se toma la condición como verdadera\n",
        "else:\n",
        "  print('Si está en la tupla') # si el elemento está en la tupla, se toma la condición como falsa"
      ],
      "execution_count": null,
      "outputs": []
    },
    {
      "cell_type": "markdown",
      "metadata": {
        "id": "HLihW8ZmNrS4"
      },
      "source": [
        "__Ejercicio No. 9:__\n",
        "\n",
        "En este ejercicio es posible iterar una tupla usando el ciclo **for** para recorrer elemento por elemento."
      ]
    },
    {
      "cell_type": "code",
      "metadata": {
        "id": "PYoBXrTGBhuR"
      },
      "source": [
        "saludo = (\"hola\", \"amigos\", \"mios\") # tupla de base\n",
        "for componente in saludo: # para cada elemento en la tupla\n",
        "  if componente == saludo[-1]:\n",
        "    print(componente)\n",
        "  else:\n",
        "    print(componente, end = ', ')"
      ],
      "execution_count": null,
      "outputs": []
    },
    {
      "cell_type": "markdown",
      "metadata": {
        "id": "MErTskwpNsUs"
      },
      "source": [
        "__Ejercicio No. 10:__\n",
        "\n",
        "En este ejercicio se muestra que es posible intercambiar los valores de un grupo de variables usando la asignación cruzada y el concepto de tupla."
      ]
    },
    {
      "cell_type": "code",
      "metadata": {
        "id": "HaVWHbuZCIO2"
      },
      "source": [
        "a   = 9\n",
        "b   = 3\n",
        "a,b = b,a # intercambio de valores de variables usando el concepto de tupla\n",
        "print('a =',a)\n",
        "print('b =',b)"
      ],
      "execution_count": null,
      "outputs": []
    },
    {
      "cell_type": "markdown",
      "metadata": {
        "id": "AzjLGC1_NtQq"
      },
      "source": [
        "__Ejercicio No. 11:__\n",
        "\n",
        "En este ejercicio es posible asignar los valores de un grupo de variables usando la asignación múltiple, el ciclo **for** y el concepto de tupla."
      ]
    },
    {
      "cell_type": "code",
      "metadata": {
        "id": "cAHBBxorCbAk"
      },
      "source": [
        "tupla            = (11, 9, -2, 3, 8, 5) # arreglo de base\n",
        "#recorrido de tres elementos de la tupla, asignados a tres variables\n",
        "var1, var2, var3 = (tupla[i] for i in (1, 3, 5))\n",
        "print(\"var1 =\", var1, \", var2 =\", var2, \", var3 =\", var3)\n",
        "\n",
        "#recorrido de tres elementos de la tupla generados por range, asignados a tres variables\n",
        "var1, var2, var3 = (tupla[i] for i in range(0,6,2))\n",
        "print(\"var1 =\", var1, \", var2 =\", var2, \", var3 =\", var3)"
      ],
      "execution_count": null,
      "outputs": []
    },
    {
      "cell_type": "markdown",
      "metadata": {
        "id": "lRZZRFRLC95l"
      },
      "source": [
        "**Problema No. 1**\n",
        "\n",
        "Construir una tupla con los números de $0$ a $10$ elevados al cuadrado.\n",
        "\n",
        "_Solución:_ Utilizando un ciclo **for** para recorrer un rango definido, en este caso usando _range(11)_ para generar los número del $1$ al $10$, y obteniendo el cuadrado de cada uno de los posibles valores de $i$. Esto genera una sucesión de valores, y usando el casting _tuple()_ se convierte esa sucesión a una tupla."
      ]
    },
    {
      "cell_type": "code",
      "metadata": {
        "id": "6sAXjspw6jv9"
      },
      "source": [
        "tupla_resultado = tuple(i ** 2 for i in range(11)) # construcción de arreglo usando for resumido\n",
        "print(tupla_resultado)"
      ],
      "execution_count": null,
      "outputs": []
    },
    {
      "cell_type": "markdown",
      "metadata": {
        "id": "2KvTsG1LNuU6"
      },
      "source": [
        "__Ejercicio No. 12:__\n",
        "\n",
        "En este ejercicio se muestra que se puede retornar más de un valor en una función usando el concepto de tupla."
      ]
    },
    {
      "cell_type": "code",
      "metadata": {
        "id": "R1y8QmK1DbSm"
      },
      "source": [
        "def minmax(a, b):\n",
        "  '''\n",
        "  Función que retornar el mínimo y máximo entre dos elementos\n",
        "  '''\n",
        "  if a < b: # si a es menor se retorna como primer parámetro, y b como segundo\n",
        "    return a, b\n",
        "  else:     # si b es menor se retorna como primer parámetro, y a como segundo\n",
        "    return b, a\n",
        "\n",
        "# prueba con el primer parámetro como menor\n",
        "min_, max_ = minmax(5, 13) # almacenamiento en dos variables\n",
        "print('min =', min_, \",\", 'max =', max_)\n",
        "\n",
        "# prueba con el segundo parámetro como menor\n",
        "x, y = minmax(12, -4) # almacenamiento en dos variables\n",
        "print('min =', x, \",\", 'max =', y, \",\", 'tipo_dato =', type(y))\n",
        "\n",
        "# prueba con ambos parámetros iguales\n",
        "tupla = minmax(8, 8)  # almacenamiento en una tupla\n",
        "print('tupla =', tupla, \",\", 'min =', tupla[0], \",\", 'max =', tupla[1], \",\", 'tipo_dato =', type(tupla))"
      ],
      "execution_count": null,
      "outputs": []
    },
    {
      "cell_type": "markdown",
      "metadata": {
        "id": "NNwyYw62NvOl"
      },
      "source": [
        "__Ejercicio No. 13:__\n",
        "\n",
        "En este ejercicio se muestra la función _len_, la cual  determina la dimensión (longitud) de una tupla. Si la tupla es vacía el tamaño es igual a cero."
      ]
    },
    {
      "cell_type": "code",
      "metadata": {
        "id": "1Wm0ZtV-FBOz"
      },
      "source": [
        "# construcción de distintas tuplas de ejemplo\n",
        "tup = (1, 2, 3, 4, \"hello\")\n",
        "nombre = (\"Minch\", \"Yoda\")\n",
        "trabajo = (\"Stars\", \"War\", \"Movie\")\n",
        "empty = ()\n",
        "\n",
        "# impresión de los tamaños de cada una de las tuplas\n",
        "print(\"Tamaño de tupla tup:\", len(tup))\n",
        "print(\"Tamaño de la tupla nombre:\", len(nombre))\n",
        "print(\"Tamaño de la tupla trabajo:\", len(trabajo))\n",
        "print(\"Tamaño de la tupla vacía:\", len(empty))"
      ],
      "execution_count": null,
      "outputs": []
    },
    {
      "cell_type": "markdown",
      "metadata": {
        "id": "eOOXVorDNwIP"
      },
      "source": [
        "__Ejercicio No. 14:__\n",
        "\n",
        "En este ejercicio se muestra la función _slice_, la cual obtiene una porción (subtupla) de una tupla. La\n",
        "definición es similar a la función _slice_ de cadena, [inicio:fin:incremento]. Por obligación se debe definir el inicio y el fin usando un separador de :, siendo por defecto el inicio $0$ y el final el último elemento de la tupla. Si se quiere cambiar el incremento, se debe agregar el tercer elemento."
      ]
    },
    {
      "cell_type": "code",
      "metadata": {
        "id": "bEd8RdW-FJUk"
      },
      "source": [
        "avengers = (\"Ironman\", \"Thor\", \"Ant-man\", \"Hulk\") # tupla de base\n",
        "print(avengers[:2])   # slice que va desde el inicio hasta una posición antes del índice 2\n",
        "print(avengers[1:3])  # slice que va desde la posición 1 hasta una posición antes del índice 3\n",
        "print(avengers[3:3])  # slice que inicia en la posición 3, y va hasta antes del tres...por ende, genera vacío\n",
        "print(avengers[-2:])  # slice que va desde el penúltimo elemento hasta el final de la tupla\n",
        "print(avengers[::-1]) # slice que recorre toda la tupla y obtiene la inversa al hacer un incremento negativo"
      ],
      "execution_count": null,
      "outputs": []
    },
    {
      "cell_type": "markdown",
      "metadata": {
        "id": "mdPwwvlbNyBJ"
      },
      "source": [
        "__Ejercicio No. 15:__\n",
        "\n",
        "En este ejercicio se muestra el método *count*, el cual obtiene las veces que un elemento se encuentra en una tupla."
      ]
    },
    {
      "cell_type": "code",
      "metadata": {
        "id": "TtkjLpelGR84"
      },
      "source": [
        "tupla = (4, 3, 8, 8, 2, 5, 4, 6, 8, 9, \"3\") # tupla de base\n",
        "print(\"Cantidad de veces que aparece el elemento 2:\", tupla.count(2)) # res: 1\n",
        "print(\"Cantidad de veces que aparece el elemento 8:\", tupla.count(8)) # res: 3\n",
        "print(\"Cantidad de veces que aparece el elemento 7:\", tupla.count(7)) # res: 0\n",
        "print(\"Cantidad de veces que aparece el elemento '3':\", tupla.count(\"3\")) # res: 1"
      ],
      "execution_count": null,
      "outputs": []
    },
    {
      "cell_type": "markdown",
      "metadata": {
        "id": "rP9MrQUhNy3Q"
      },
      "source": [
        "__Ejercicio No. 16:__\n",
        "\n",
        "En este ejercicio se muestra el método *index*, el cual obtiene la **primera** ocurrencia de un elemento en una\n",
        "tupla."
      ]
    },
    {
      "cell_type": "code",
      "metadata": {
        "id": "-MdKGrrhGr7R"
      },
      "source": [
        "tupla = (4, 3, 8, 8, 2, 5, 4, 6, 8, 9) # tupla de base\n",
        "print(\"Primer índice donde aparece el elemento 2:\", tupla.index(2)) # Res: 5\n",
        "print(\"Primer índice donde aparece el elemento 8:\", tupla.index(8)) # Res: 2\n",
        "print(\"Primer índice donde aparece el elemento 5:\", tupla.index(5)) # Res: 5\n",
        "print(\"Primer índice donde aparece el elemento 1:\", tupla.index(1)) # Res: Error"
      ],
      "execution_count": null,
      "outputs": []
    },
    {
      "cell_type": "markdown",
      "metadata": {
        "id": "U6nFTpdUyN2u"
      },
      "source": [
        "**Problema No. 2**\n",
        "\n",
        "Realice una función que obtenga todos los índices de la tupla en donde se encuentra un elemento de búsqueda.\n",
        "\n",
        "_Solución:_ Se crea una función que recibe la tupla y el elemento a buscar. Se hace un recorrido mediante índices de la tupla, y se revisa en cada índice si el elemento es el mismo que se está buscando; si el elemento corresponde, el índice se agrega a una tupla llamada índices mediante concatenación. Finalmente, se retorna la tupla de índices donde aparece el elemento, siendo el peor de los casos una tupla vacía."
      ]
    },
    {
      "cell_type": "code",
      "metadata": {
        "id": "c3CwfyOo1qoR"
      },
      "source": [
        "def encontrar_indices(tupla, elemento):\n",
        "  '''\n",
        "  Esta función recibe un elemento que se va a buscar en una tupla, y se van a retornar todos los índices\n",
        "  de la tupla en donde se encuentra este elemento\n",
        "  '''\n",
        "  indices = () # se genera una tupla vacía\n",
        "  for i in range( len(tupla) ): # se hace un recorrido por índices de la tupla\n",
        "    if tupla[i] == elemento:    # si la tupla en la posición del índice i es igual al elemento que se busca\n",
        "      indices = indices + (i, ) # se concatena el índice i a la tupla de índices\n",
        "  return indices # se retornan los índices en donde está el elemento, si no está la tupla se retorna vacía\n",
        "\n",
        "\n",
        "tupla = (4, 3, 8, 8, 2, 5, 4, 6, 8, 9)\n",
        "valor_buscar = 4\n",
        "\n",
        "indices = encontrar_indices(tupla, valor_buscar)\n",
        "if len(indices) > 0: # si hayt más de un índice se imprime el listado\n",
        "  print(\"El elemento \" + str(valor_buscar) + \" se encuentra en los índices: \" + str(indices))\n",
        "else:   # si no hay índices, se saca un mensaje de que el elemento no está en la tupla\n",
        "  print(\"El elemento \" + str(valor_buscar) + \" no se encuentra en la tupla\")"
      ],
      "execution_count": null,
      "outputs": []
    },
    {
      "cell_type": "markdown",
      "metadata": {
        "id": "J1EHaYP3yV8J"
      },
      "source": [
        "**Problema No. 3**\n",
        "\n",
        "Realice una función que obtenga el último índice de una tupla en donde aparece un elemento de interés.\n",
        "\n",
        "_Solución:_ Se crea una función donde se recibe una tupla y un elemento a buscar. Para ello, se hace un recorrido por índices de derecha a izquierda (de último a primero), y se verifica en cada posición si es el valor a buscar, y si es el elemento se guarda y retorna ese índice, y se termina la búsqueda. Si no se encuentra el elemento, se retorna un valor de $-1$."
      ]
    },
    {
      "cell_type": "code",
      "metadata": {
        "id": "WES_jFIq4czl"
      },
      "source": [
        "def buscar_ultimo_indice(tupla, valor_buscar):\n",
        "  '''\n",
        "  Esta función busca el elemento en la tupla, con la intención de traer el último índice en donde pueda\n",
        "  encontrar el elemento, es decir, buscado de derecha a izquierda.\n",
        "  Si el elemento no se encuentra, se retorna un valor de -1 (marcador lógico)\n",
        "  '''\n",
        "  indice = -1  # índice por defecto que considera que el elemento no ha sido encontrado\n",
        "  for i in range(len(tupla) - 1, -1, -1): # se recorre la tupla en términos de índices de derecha a izquierda\n",
        "    if tupla[i] == valor_buscar: # determina si el elemento en el índice i es igual valor que se anda buscando\n",
        "      indice = i # si se encuentra el elemento, se actualiza el valor del índice\n",
        "      break      # una vez se encuentre el índice, no es necesario seguir buscando elementos, así que se acaba el ciclo\n",
        "  return indice\n",
        "\n",
        "\n",
        "tupla = (4, 3, 8, 8, 2, 5, 4, 6, 8, 9)\n",
        "valor_buscar = 4\n",
        "\n",
        "indice = buscar_ultimo_indice(tupla, valor_buscar)\n",
        "if indice != -1: # Si el índice es distinto de -1 es porque se encontró el elemento en la tupla\n",
        "  print(\"El elemento \" + str(valor_buscar) + \" se encuentra por última vez en el índice: \" + str(indice))\n",
        "else:   # si el índice tiene valor de -1 es porque la función no encontró el elemento en la tupla\n",
        "  print(\"El elemento \" + str(valor_buscar) + \" no se encuentra en la tupla\")"
      ],
      "execution_count": null,
      "outputs": []
    },
    {
      "cell_type": "markdown",
      "metadata": {
        "id": "hCj85X_9N0Bs"
      },
      "source": [
        "__Ejercicio No. 17:__\n",
        "\n",
        "En este ejercicio se muestra el método *max/min* obtiene el máximo/mı́nimo elemento de una tupla."
      ]
    },
    {
      "cell_type": "code",
      "metadata": {
        "id": "3YBUOonEG0Ao"
      },
      "source": [
        "t = (4, 5, -1, 6, 7)\n",
        "print(max(t))\n",
        "print(min(t))"
      ],
      "execution_count": null,
      "outputs": []
    },
    {
      "cell_type": "markdown",
      "metadata": {
        "id": "Q5xIVZCxN05a"
      },
      "source": [
        "__Ejercicio No. 18:__\n",
        "\n",
        "En este ejercicio se usa el método *tuple* para crear tuplas a partir de otros objetos, similar al proceso de *casting*. En este caso, se usa para convertir una cadena de caracteres a tupla: cada caracter se convierte en un elemento de la tupla."
      ]
    },
    {
      "cell_type": "code",
      "metadata": {
        "id": "lUQ0_J9aG7tj"
      },
      "source": [
        "magician = 'Dumbledore'\n",
        "tm = tuple(magician)\n",
        "print(tm)"
      ],
      "execution_count": null,
      "outputs": []
    },
    {
      "cell_type": "markdown",
      "metadata": {
        "id": "wRAZPI-RN1_o"
      },
      "source": [
        "__Ejercicio No. 19:__\n",
        "\n",
        "En este ejercicio se ejecuta una función **map** para que cada uno de los valores de una tupla o una lista, como en el ejemplo siguiente, convierta a *int* los valores leı́dos desde la consola que están separados por el espacio."
      ]
    },
    {
      "cell_type": "code",
      "metadata": {
        "id": "FPkVyWHdHH7u"
      },
      "source": [
        "t = tuple( map(int, input(\"Ingrese los números que desee, separados por un espacio: \").split(' ') ))\n",
        "print(t)\n",
        "print(t[0] + t[1])"
      ],
      "execution_count": null,
      "outputs": []
    },
    {
      "cell_type": "markdown",
      "metadata": {
        "id": "gQsV521iovO6"
      },
      "source": [
        "**Problema No. 4**\n",
        "\n",
        "Utilizando la función *map*, genere una nueva tupla que contenga el cuadrado de cada uno de los elementos de una tupla dada.\n",
        "\n",
        "_Solución:_ Se crea una función clásica que recibe un valor y calcula su cuadrado. Luego, se crea una tupla, en donde usando *map* se llama a la función de cuadrado, y de esta forma se hace la transformación de los valores originales a los valores al cuadrado."
      ]
    },
    {
      "cell_type": "code",
      "metadata": {
        "id": "OnEbKXewou5t"
      },
      "source": [
        "def cuadrado_mapeo(x):\n",
        "  return x ** 2\n",
        "\n",
        "\n",
        "t_1 = (5,7,4,3,8,2,6)\n",
        "t_2 = tuple( map(cuadrado_mapeo, t_1) )\n",
        "print(t_2)"
      ],
      "execution_count": null,
      "outputs": []
    },
    {
      "cell_type": "markdown",
      "metadata": {
        "id": "9-FRNdcyN22M"
      },
      "source": [
        "***\n",
        "\n",
        "# Listas\n",
        "\n",
        "Una lista es una secuencia de elementos que puede almacenar datos\n",
        "heterogéneos tales como: enteros, reales, cadenas, tuplas, diccionarios y\n",
        "otros más, inclusive otras listas.\n"
      ]
    },
    {
      "cell_type": "markdown",
      "metadata": {
        "id": "BpflaFKFDae5"
      },
      "source": [
        "__Ejercicio No. 20:__\n",
        "\n",
        "En este ejercicio se muestra la creación de varias listas, incluyendo la lista vacía.\n"
      ]
    },
    {
      "cell_type": "code",
      "metadata": {
        "id": "SDlxZV0WDZ3i"
      },
      "source": [
        "# creación de múltiples listas\n",
        "x = [ ] # lista vacía\n",
        "lista = [1, 2, 3, 4.5, 'hola', 'a']\n",
        "a = [1, 2, 3]\n",
        "\n",
        "# impresión de las listas\n",
        "print(\"Lista x: \", x)\n",
        "print(\"Lista lista: \", lista)\n",
        "print(\"Lista a: \", a)"
      ],
      "execution_count": null,
      "outputs": []
    },
    {
      "cell_type": "markdown",
      "metadata": {
        "id": "XoE-uTdgEM9o"
      },
      "source": [
        "__Ejercicio No. 21:__\n",
        "\n",
        "En este ejercicio se muestra la opción de tener listas anidadas. De nuevo, aparece el concepto de multi-dimensionalidad."
      ]
    },
    {
      "cell_type": "code",
      "metadata": {
        "id": "qFgah6v7EZMQ"
      },
      "source": [
        "lista1 = [0, 1, 2, 3]    # lista de enteros\n",
        "lista2 = ['A', 'B', 'C'] # lista de cadenas de caracteres\n",
        "lista3 = [lista1, lista2] # lista cuyos elementos son otras listas\n",
        "\n",
        "print(lista3)       # impresión que muestra listas como elementos\n",
        "print(lista3[0])    # impresión que muestra el primer elemento, que es la lista de enteros\n",
        "print(lista3[1])    # impresión que muestra el segundo elemento, que es la lista de cadenas\n",
        "print(lista3[1][1]) # impresión que muestra el segundo elemento (segunda dimensión) del segundo elemento de la lista (primera dimensión)"
      ],
      "execution_count": null,
      "outputs": []
    },
    {
      "cell_type": "markdown",
      "metadata": {
        "id": "dctnVEswEgaB"
      },
      "source": [
        "**Ejercicio No. 22:**\n",
        "\n",
        "En este ejercicio se concatenan dos listas produciendo una nueva lista. Recuerde que el orden de concatenación afecta el resultado."
      ]
    },
    {
      "cell_type": "code",
      "metadata": {
        "id": "DEN4qTxoEvwo"
      },
      "source": [
        "list1 = ['A', 'B', 'C', 'E'] # lista de cadenas de caracteres\n",
        "list2 = [1, 2, 3, 4, 5]      # lista de números enteros\n",
        "\n",
        "list3 = list1 + list2  # concatenación de tuplas\n",
        "print(list3)\n",
        "\n",
        "list4 = list2 + list1  # concatenación de las mismas tuplas en otro orden\n",
        "print(list4)"
      ],
      "execution_count": null,
      "outputs": []
    },
    {
      "cell_type": "markdown",
      "metadata": {
        "id": "hJ0Iq78cE1o6"
      },
      "source": [
        "**Ejercicio No. 23**\n",
        "\n",
        "En este ejercicio se muestra el método *extend*, que agrega una lista al final de otra lista, la operación afecta a la lista que llama a la función."
      ]
    },
    {
      "cell_type": "code",
      "metadata": {
        "id": "P6VQjYjUFHVB"
      },
      "source": [
        "nombres = ['Antonio', 'Marı́a', 'Mabel']      # lista de nombres de base\n",
        "otros_nombres = ['Barry', 'John', 'Guttag']  # lista de nombres a agregar\n",
        "\n",
        "nombres.extend(otros_nombres)  # se agregan todos los elementos de una lista a la lista \"nombres\"\n",
        "# imprensión de los estados finales de las listas\n",
        "print(\"Nombres extendidos: \", nombres)\n",
        "print(\"Otros nombres : \", otros_nombres)"
      ],
      "execution_count": null,
      "outputs": []
    },
    {
      "cell_type": "markdown",
      "metadata": {
        "id": "1-4YNEU6GZYC"
      },
      "source": [
        "**Ejercicio No. 24**\n",
        "\n",
        "En este ejercicio se muestra una forma de crear una lista con múltiples copias de una lista, tantas como se defina. De forma simple, el operador * se interepreta como una _concatenación abreviada_."
      ]
    },
    {
      "cell_type": "code",
      "metadata": {
        "id": "kow_dZu6GkUr"
      },
      "source": [
        "list1 = [1, 2, 3, 4, 5] # lista de números enteros\n",
        "list2 = list1 * 2       # se genera una nueva lista con dos repeticiones de list2\n",
        "print(list2)\n",
        "\n",
        "list3 = ['Abc', 'Bcd'] # lista de cadenas de caracteres\n",
        "list4 = list3 * 4      # se genera una nueva lista con cuatro repeticiones de list3\n",
        "print(list4)"
      ],
      "execution_count": null,
      "outputs": []
    },
    {
      "cell_type": "markdown",
      "metadata": {
        "id": "tiXyqlXqG_fq"
      },
      "source": [
        "**Ejercicio No. 25**\n",
        "\n",
        "Se usan los operadores convencionales (<, <=, >, >=, ==, !=) para\n",
        "comparar listas usando el orden lexicográfico, cuando es posible. En el\n",
        "orden lexicográfico, se tratan de comparar (si el operador < está definido), de primero a último uno a uno los elementos de la lista, mientras sean\n",
        "iguales."
      ]
    },
    {
      "cell_type": "code",
      "metadata": {
        "id": "TuOSCWjDHECe"
      },
      "source": [
        "print(['Rojas', 123] < ['Rosas', 123])    # verdadero porque j < s\n",
        "print(['Rosas', 123] == ['rosas', 123])   # falso porque R != r\n",
        "print(['Rosas', 123] > ['Rosas', 23, 10]) # verdadero porque 123 > 23\n",
        "print(['Rosas', \"123\"] > ['Rosas', '23']) # falso porque \"1\" < \"2\""
      ],
      "execution_count": null,
      "outputs": []
    },
    {
      "cell_type": "markdown",
      "metadata": {
        "id": "cFctDY8lHiRt"
      },
      "source": [
        "**Ejercicio No. 26**\n",
        "\n",
        "En este ejercicio se usa el concepto de subíndice para acceder a los elementos de una lista, iniciando desde la posición cero (0). Si la posición que se envı́a es negativa, lo considera desde el final. Si la posición no es válida en el rango de la lista se genera un error."
      ]
    },
    {
      "cell_type": "code",
      "metadata": {
        "id": "wV57u_EOHqXh"
      },
      "source": [
        "avengers = [\"Ironman\", \"Thor\", \"Ant-man\", \"Hulk\"] # lista de base\n",
        "print(avengers[0])  # trae a \"Ironman\"\n",
        "print(avengers[3])  # trae a \"Hulk\"\n",
        "print(avengers[-1]) # trae a \"Hulk\", el último elemento\n",
        "print(avengers[-3]) # trae a \"Thor\""
      ],
      "execution_count": null,
      "outputs": []
    },
    {
      "cell_type": "markdown",
      "metadata": {
        "id": "KTwir8Pbtjn3"
      },
      "source": [
        "**Problema No. 5**\n",
        "\n",
        "Realice la copia de una lista usando los conceptos de asignación por valor y de asignación por referencia.\n",
        "\n",
        "_Solución:_ Se crea una *lista_2*, a la cual se asigna el valor de *lista_1*, lo que lleva a tener una asignación por referencia.\n",
        "\n",
        "En el caso de la *lista_3*, se hace una asignación usando la función *.copy()*, y en este caso la asignación se hace por valor."
      ]
    },
    {
      "cell_type": "code",
      "metadata": {
        "id": "ifC1wqnU5faN"
      },
      "source": [
        "lista_1 = [1, 2, 3]  # lista de base\n",
        "print(\"Lista 1: \", lista_1)\n",
        "\n",
        "lista_2 = lista_1  # asignación por valor\n",
        "lista_2[1] = 4     # se cambia un valor el lista_2 usando un índice, pero este cambio se refleja también en lista_1\n",
        "print(\"Lista 1: \", lista_1)\n",
        "print(\"Lista 2: \", lista_2)\n",
        "\n",
        "lista_3 = lista_1.copy() # asignación por referencia\n",
        "lista_3[2] = 8           # se cambia un valor el lista_3 usando un índice, pero este cambio no se refleja también en lista_1\n",
        "print(\"Lista 1: \", lista_1)\n",
        "print(\"Lista 3: \", lista_3)\n"
      ],
      "execution_count": null,
      "outputs": []
    },
    {
      "cell_type": "markdown",
      "metadata": {
        "id": "uTpR-I3LICfi"
      },
      "source": [
        "**Ejercicio No. 27**\n",
        "\n",
        "En este ejercicio se muestra como usando un condicional se puede determinar si un elemento está en una lista o no usando el concepto de pertenencia de conjuntos con la palabra reservada **in**."
      ]
    },
    {
      "cell_type": "code",
      "metadata": {
        "id": "pdR_73t6IVZv"
      },
      "source": [
        "text = ['cien', 'años', 'de', 'soledad'] # lista de base\n",
        "if 'años' in text:             # condicional usando 'in', entiendo 'in' como un \"pertenece a\"\n",
        "  print('Si está en la lista') # si el elemento está en la lista, se toma la condición como verdadera\n",
        "else:\n",
        "  print('No está en la lista') # si el elemento no está en la tupla, se toma la condición como falsa"
      ],
      "execution_count": null,
      "outputs": []
    },
    {
      "cell_type": "markdown",
      "metadata": {
        "id": "HwqpwB7UJTCL"
      },
      "source": [
        "**Ejercicio No. 28**\n",
        "\n",
        "En este ejercicio se muestra como es posible iterar una lista usando el ciclo **for** recorriendo la lista elemento a elemento."
      ]
    },
    {
      "cell_type": "code",
      "metadata": {
        "id": "uE0bijHkJcj9"
      },
      "source": [
        "saludo = [\"hola\", \"amigos\", \"mios\", 3, False] # lista de base\n",
        "for palabra in saludo:   # para cada elemento en la lista\n",
        "  print(palabra, end = ', ')"
      ],
      "execution_count": null,
      "outputs": []
    },
    {
      "cell_type": "markdown",
      "metadata": {
        "id": "gHjEWmzlKr_k"
      },
      "source": [
        "**Ejercicio No. 29**\n",
        "\n",
        "En este ejercicio se muestra cómo se puede crear una lista inicializada utilizando una notación específica del ciclo **for** y generando procesos aritméticos para definir cada elemento."
      ]
    },
    {
      "cell_type": "code",
      "metadata": {
        "id": "r3O-D5-8L2Q-"
      },
      "source": [
        "d = 10 # valor de desplazamiento\n",
        "desplaza = [d + x for x in range(5)] # creación de una nueva lista basada en el desplazamiento de valores obtenidos con un range\n",
        "print(\"Desplazamiento: \", desplaza)\n",
        "\n",
        "potencias = [3 ** x for x in range(2, 6)] # creación de una nueva lista basada en 3 elevado al valor obtenido en el ciclo\n",
        "print(\"Potencias: \", potencias)\n"
      ],
      "execution_count": null,
      "outputs": []
    },
    {
      "cell_type": "markdown",
      "metadata": {
        "id": "VVKZL0QZtMA5"
      },
      "source": [
        "**Problema No. 6**\n",
        "\n",
        "Genere una lista que esté compuesta por treinta $0$.\n",
        "\n",
        "_Solución:_ Se presentan dos soluciones: (i) la primera es crear una lista con un cero, y se repite $30$ veces; (ii) la segunda es utilizando un ciclo **for** que se repite $30$j y en cada repetición agrega un $0$ a la lista."
      ]
    },
    {
      "cell_type": "code",
      "metadata": {
        "id": "Nm7JdnyOCmxl"
      },
      "source": [
        "lista_ceros_v1 = [0] * 30 # se crea una lista con un cero y se repite treinta veces\n",
        "print(lista_ceros_v1)\n",
        "\n",
        "lista_ceros_v2 = [0 for x in range(30)] # se crea una lista repitiendo un range de treinta veces y colocando un 0 en cada iteración\n",
        "print(lista_ceros_v2)"
      ],
      "execution_count": null,
      "outputs": []
    },
    {
      "cell_type": "markdown",
      "metadata": {
        "id": "rTlDTxx5MTNV"
      },
      "source": [
        "**Ejercicio No. 30**\n",
        "\n",
        "En este ejercicio se muestra que s posible asignarle los valores a un grupo de variables usando la\n",
        "asignación (desempacando) y el concepto de lista."
      ]
    },
    {
      "cell_type": "code",
      "metadata": {
        "id": "6Dh419m8MZbh"
      },
      "source": [
        "lista = [1, -2, 4]\n",
        "a, b, c = lista  #asignación por valor de una lista a varias variables\n",
        "# impresión de las variables\n",
        "print('a =', a)\n",
        "print('b =', b)\n",
        "print('c =', c)"
      ],
      "execution_count": null,
      "outputs": []
    },
    {
      "cell_type": "markdown",
      "metadata": {
        "id": "Oy1USBG3Mq4z"
      },
      "source": [
        "**Ejercicio No. 31**\n",
        "\n",
        "En este ejercicio es posible asignar los valores de un grupo de variables usando la asignación múltiple, el ciclo **for** y el concepto de lista.\n"
      ]
    },
    {
      "cell_type": "code",
      "metadata": {
        "id": "ghMawHpOMvX9"
      },
      "source": [
        "lista            = [11, 9, -2, 3, 8, 5] # lista de base\n",
        "# recorrido de tres elementos de la lista, asignados a tres variables\n",
        "var1, var2, var3 = [lista[i] for i in (1, 3, 5)]\n",
        "print(\"var1 =\", var1, \", var2 =\", var2, \", var3 =\", var3)\n",
        "\n",
        "# recorrido de tres elementos de la lista generados por range, asignados a tres variables\n",
        "var1, var2, var3 = [lista[i] for i in range(0, 6, 2)]\n",
        "print(\"var1 =\", var1, \", var2 =\", var2, \", var3 =\", var3)"
      ],
      "execution_count": null,
      "outputs": []
    },
    {
      "cell_type": "markdown",
      "metadata": {
        "id": "aMSZW0eqMyKp"
      },
      "source": [
        "**Ejercicio No. 32**\n",
        "\n",
        "En este ejercicio se muestra que se puede retornar más de un valor en una función usando el concepto de lista."
      ]
    },
    {
      "cell_type": "code",
      "metadata": {
        "id": "OlS3WU1OM2j3"
      },
      "source": [
        "def minmax_lista(a, b):\n",
        "  '''\n",
        "  Función que retornar el mínimo y máximo entre dos elementos\n",
        "  '''\n",
        "  if a < b: # si a es menor se retorna como primer parámetro, y b como segundo\n",
        "    return [a, b]\n",
        "  else:     # si b es menor se retorna como primer parámetro, y a como segundo\n",
        "    return [b, a]\n",
        "\n",
        "# prueba con el primer parámetro como menor\n",
        "x, y = minmax_lista(5, 13)\n",
        "print('min =', x, \",\", 'max =', y)\n",
        "\n",
        "# prueba con el segundo parámetro como menor\n",
        "x, y = minmax_lista(12, -4)\n",
        "print('min =', x, \",\", 'max =', y)"
      ],
      "execution_count": null,
      "outputs": []
    },
    {
      "cell_type": "markdown",
      "metadata": {
        "id": "I_LEii4ONgaB"
      },
      "source": [
        "**Ejercicio No. 33**\n",
        "\n",
        "En este ejercicio se utiliza la función **len**, la cual determina la dimensión (longitud) de una lista."
      ]
    },
    {
      "cell_type": "code",
      "metadata": {
        "id": "jzvZalVaNyFU"
      },
      "source": [
        "# construcción de distintas tuplas de ejemplo\n",
        "lista   = [1, 2, 3, 4]\n",
        "nombre  = [\"Minch\", \"Yoda\"]\n",
        "trabajo = [\"Stars\", \"War\", \"Movie\"]\n",
        "empty   = []\n",
        "\n",
        "# impresión de los tamaños de cada una de las listas\n",
        "print(\"Tamaño de la lista tup:\", len(lista))       # res: 4\n",
        "print(\"Tamaño de la lista nombre:\", len(nombre))   # res: 2\n",
        "print(\"Tamaño de la lista trabajo:\", len(trabajo)) # res: 3\n",
        "print(\"Tamaño de la lista vacía:\", len(empty))     # res: 0"
      ],
      "execution_count": null,
      "outputs": []
    },
    {
      "cell_type": "markdown",
      "metadata": {
        "id": "LqDg3uxvN0sL"
      },
      "source": [
        "**Ejercicio No. 34**\n",
        "\n",
        "En este ejercicio se muestra que es posible cambiar un elemento en una posición específica de una lista usando subíndices y asignación de valores."
      ]
    },
    {
      "cell_type": "code",
      "metadata": {
        "id": "ezDkUydZN9P3"
      },
      "source": [
        "lista = ['E', 'l', 'm', 'e', 'j', 'o', 'r']\n",
        "lista[0] = 'e'\n",
        "print(lista)\n",
        "lista[4] = 'l'\n",
        "print(lista)\n",
        "lista[-1] = 's'\n",
        "print(lista)"
      ],
      "execution_count": null,
      "outputs": []
    },
    {
      "cell_type": "markdown",
      "metadata": {
        "id": "S68NkT5tOYYO"
      },
      "source": [
        "**Ejercicio No. 35**\n",
        "\n",
        "En este ejercicio se muestra el método **append**, el cual permite agregar elementos al final de una lista. Importante mencionar que solo agrega un elemento a la vez de cualquier tipo de dato.\n"
      ]
    },
    {
      "cell_type": "code",
      "metadata": {
        "id": "53i4xvj5OeZx"
      },
      "source": [
        "nombres = ['Antonio', 'Johan']\n",
        "nombres.append('Monica')\n",
        "print(nombres)\n",
        "nombres.append('Maria')\n",
        "print(nombres)\n",
        "nombres.append('Mabel')\n",
        "print(nombres)"
      ],
      "execution_count": null,
      "outputs": []
    },
    {
      "cell_type": "markdown",
      "metadata": {
        "id": "7udKQ1NmOtkY"
      },
      "source": [
        "**Ejercicio No. 36**\n",
        "\n",
        "En este ejercicio se muestra el método **insert**, el cual permite insertar (agregar) elementos en una posición especı́fica de una lista. El elemento a agregar puede ser de cualquier tipo de dato."
      ]
    },
    {
      "cell_type": "code",
      "metadata": {
        "id": "V7f6RrLJOz0q"
      },
      "source": [
        "nombres = ['Antonio', 'Johan', 'Maria']\n",
        "nombres.insert(0, 'Guttag')\n",
        "print(nombres)\n",
        "nombres.insert(2, 'Peter')\n",
        "print(nombres)\n",
        "nombres.insert(len(nombres)//2, 10)\n",
        "print(nombres)\n",
        "nombres.insert(-1, 3.5)\n",
        "print(nombres)"
      ],
      "execution_count": null,
      "outputs": []
    },
    {
      "cell_type": "markdown",
      "metadata": {
        "id": "3caauDpiz0nn"
      },
      "source": [
        "**Ejercicio No. 37**\n",
        "\n",
        "En este ejercicio se muestra el método **remove**, el cual permite eliminar la primera aparición (de izquierda a derecha) de un elemento de una lista. Solo eliminar el elemento la primera vez que lo encuentra, no todas las ocurrencias que estén en la lista."
      ]
    },
    {
      "cell_type": "code",
      "metadata": {
        "id": "yjWxM1Ovz627"
      },
      "source": [
        "lista = ['a', 'e', 'i', 'o', 'u', 'i', 'x']\n",
        "lista.remove('x')\n",
        "print(lista)\n",
        "lista.remove('i')\n",
        "print(lista)\n",
        "lista.remove('i')\n",
        "print(lista)"
      ],
      "execution_count": null,
      "outputs": []
    },
    {
      "cell_type": "markdown",
      "metadata": {
        "id": "aJd3iz8mtfX2"
      },
      "source": [
        "**Problema No. 7**\n",
        "\n",
        "Construya una función que reciba una lista y elimine todas las ocurrencias de un elemento dado.\n",
        "\n",
        "_Solución:_ Se crea una función en donde se hace una copia de la lista que se recibe, y mendiante un ciclo *while* se verifica si aún existe el elemento que se está buscando en la lista, y mientras aún exista se procede a llamar a la función _remove_ para eliminar la siguiente ocurrencia del elemento determinado. Finalmente, se retorna la lista sin ninguna ocurrencia del elemento bajo búsqueda."
      ]
    },
    {
      "cell_type": "code",
      "metadata": {
        "id": "ZtGDWTB1NEvq"
      },
      "source": [
        "def eliminar_ocurrencias(lista, elemento):\n",
        "  lista_procesada = lista.copy()\n",
        "  while elemento in lista_procesada:\n",
        "    lista_procesada.remove( elemento )\n",
        "  return lista_procesada\n",
        "\n",
        "lista_original = ['a', 'e', 'i', 'o', 'u', 'i', 'x', 'i']\n",
        "elemento_eliminar = 'i'\n",
        "lista_limpia   = eliminar_ocurrencias(lista_original, elemento_eliminar)\n",
        "\n",
        "print(lista_original)\n",
        "print(lista_limpia)"
      ],
      "execution_count": null,
      "outputs": []
    },
    {
      "cell_type": "markdown",
      "metadata": {
        "id": "OgAMlRMq0N5t"
      },
      "source": [
        "**Ejercicio No. 38**\n",
        "\n",
        "En este ejercicio se muestra el uso de *slice* para obtener una porción (sublista) de una lista. La definición es igual a la función slice de tuplas [inicio:fin:incremento]. Por obligación se deben definir el inicio y el fin usando un separador de :, siendo por defecto el inicio $0$ y el final el último elemento de la tupla. Si se quiere cambiar el incremento, se debe agregar el tercer elemento."
      ]
    },
    {
      "cell_type": "code",
      "metadata": {
        "id": "fwzLRahi0Vt_"
      },
      "source": [
        "  avengers = [\"Ironman\", \"Thor\", \"Ant-man\", \"Hulk\"] # lista de base\n",
        "print(avengers[:2])   # slice que va desde el inicio hasta una posición antes del índice 2\n",
        "print(avengers[1:3])  # slice que va desde la posición 1 hasta una posición antes del índice 3\n",
        "print(avengers[3:3])  # slice que inicia en la posición 3, y va hasta antes del tres...por ende, genera vacío\n",
        "print(avengers[::-1]) # slice que recorre toda la tupla y obtiene la inversa al hacer un incremento negativo"
      ],
      "execution_count": null,
      "outputs": []
    },
    {
      "cell_type": "markdown",
      "metadata": {
        "id": "fTpC9B9V0XiT"
      },
      "source": [
        "**Ejercicio No. 39**\n",
        "\n",
        "En este ejercicio se muestra el método **count**, el cual obtiene las veces que un elemento se encuentra en una lista. Si no está el elemento, el método retorna un valor de $0$."
      ]
    },
    {
      "cell_type": "code",
      "metadata": {
        "id": "xL4kn4yE1C-P"
      },
      "source": [
        "lista = [4, 3, 8, 8, 2, 5, 4, 6, 8, 9]  # lista de base\n",
        "print(\"Cantidad de veces que aparece el elemento 2:\", lista.count(2)) # res: 1\n",
        "print(\"Cantidad de veces que aparece el elemento 8:\", lista.count(8)) # res: 3\n",
        "print(\"Cantidad de veces que aparece el elemento 5:\", lista.count(5)) # res: 1\n",
        "print(\"Cantidad de veces que aparece el elemento 7:\", lista.count(7)) # res: 0"
      ],
      "execution_count": null,
      "outputs": []
    },
    {
      "cell_type": "markdown",
      "metadata": {
        "id": "pQAq0Qpq1FVw"
      },
      "source": [
        "**Ejercicio No. 40**\n",
        "\n",
        "En este ejercicio se muestra el método **index**, el cual obtiene la primera ocurrencia de un elemento en una\n",
        "lista. Si no existe el elemento, se arroja un error."
      ]
    },
    {
      "cell_type": "code",
      "metadata": {
        "id": "eixAaINN1Mdb"
      },
      "source": [
        "lista = [4, 3, 8, 8, 2, 5, 4, 6, 8, 9]\n",
        "print(\"Primer índice donde aparece el elemento 2:\", lista.index(2)) # Res: 4\n",
        "print(\"Primer índice donde aparece el elemento 8:\", lista.index(8)) # Res: 2\n",
        "print(\"Primer índice donde aparece el elemento 5:\", lista.index(5)) # Res: 5"
      ],
      "execution_count": null,
      "outputs": []
    },
    {
      "cell_type": "markdown",
      "metadata": {
        "id": "waEm8W3L1Qpk"
      },
      "source": [
        "**Ejercicio No. 41**\n",
        "\n",
        "En este ejercicio se muestra el método **max**/**min** obtiene el máximo/mı́nimo elemento de una lista. Recuerde que todos los elementos de la lista deben ser del mismo tipo para que no se genere un error."
      ]
    },
    {
      "cell_type": "code",
      "metadata": {
        "id": "OMUuAWhJ1Ux5"
      },
      "source": [
        "t = [4, 5, -1, 6, 7]\n",
        "print(max(t))\n",
        "print(min(t))"
      ],
      "execution_count": null,
      "outputs": []
    },
    {
      "cell_type": "markdown",
      "metadata": {
        "id": "YMTukT9b1X_5"
      },
      "source": [
        "**Ejercicio No. 42**\n",
        "\n",
        "En este ejercicio se muestra el método **sort** ordena una lista. Se le puede indicar si ascendente o\n",
        "descendentemente mediante una bandera llamada *reverse*, al igual que el criterio (llave) usado para ordenar. Aquı́ solo se considera el ordenamiento sencillo."
      ]
    },
    {
      "cell_type": "code",
      "metadata": {
        "id": "sPIvS4e71eTu"
      },
      "source": [
        "lista = [4, 5, -1, 6, 7]\n",
        "lista.sort()\n",
        "print(lista)\n",
        "lista.sort(reverse = True)\n",
        "print(lista)"
      ],
      "execution_count": null,
      "outputs": []
    },
    {
      "cell_type": "markdown",
      "metadata": {
        "id": "R8f6mc3mtdzp"
      },
      "source": [
        "**Problema No. 8**\n",
        "\n",
        "Realice el ordenamiento lexicográfica de una lista compuesta por cadenas de caracteres.\n",
        "\n",
        "_Solución:_ Se crea una lista de cadenas de caracteres, y se hace un simple llamado a la función de ordenamiento, tanto de forma ascendente y de forma descendente."
      ]
    },
    {
      "cell_type": "code",
      "metadata": {
        "id": "jO3LvMbPIIHi"
      },
      "source": [
        "lista_strings = [\"c\", \"d\", \"hola\", \"aloha\"]\n",
        "lista_strings.sort()\n",
        "print( lista_strings )\n",
        "lista_strings.sort(reverse = True)\n",
        "print( lista_strings )"
      ],
      "execution_count": null,
      "outputs": []
    },
    {
      "cell_type": "markdown",
      "metadata": {
        "id": "biL3IVex1nIK"
      },
      "source": [
        "**Ejercicio No. 43**\n",
        "\n",
        "En este ejercicio se usa el método **list**, a forma de *casting*,  para crear listas a partir de otros objetos. Aquı́ se usa para convertir una cadena de caracteres y una tupla a listas."
      ]
    },
    {
      "cell_type": "code",
      "metadata": {
        "id": "AOub2MyL1tmt"
      },
      "source": [
        "magician = 'Dumbledore'\n",
        "lm = list(magician)\n",
        "print(lm)\n",
        "\n",
        "t = (1, 2, 3, 4)\n",
        "lt = list(t)\n",
        "print(lt)"
      ],
      "execution_count": null,
      "outputs": []
    },
    {
      "cell_type": "markdown",
      "metadata": {
        "id": "W2MdWFNF1zsy"
      },
      "source": [
        "**Ejercicio No. 44**\n",
        "\n",
        "En el caso en el que se requiera eliminar un elemento de una posición\n",
        "especı́fica de la lista, se puede usar el método **pop**, el cual recibe como parámetro la posición\n",
        "del elemento a remover. Las posiciones en las listas empiezan en cero. Si no se especifican parámetros, se remueve el último elemento de la lista."
      ]
    },
    {
      "cell_type": "code",
      "metadata": {
        "id": "n_ainNSg18MG"
      },
      "source": [
        "nombres = ['Antonio', 'Johan', 'Monica', 'Marı́a', 'Mabel']\n",
        "nombres.pop(0) # quita el primer elemento\n",
        "#remueve a Antonio\n",
        "print(nombres)\n",
        "\n",
        "nombre_borrado = nombres.pop() # quita el último elemento\n",
        "# remueve a Mabel\n",
        "print(nombre_borrado + \" ha sido eliminada de la lista.\")\n",
        "print(nombres)"
      ],
      "execution_count": null,
      "outputs": []
    },
    {
      "cell_type": "markdown",
      "metadata": {
        "id": "ZA2kEyIS2QqG"
      },
      "source": [
        "***\n",
        "\n",
        "# Arreglos\n",
        "Un arreglo o vector es una tupla o lista de n elementos del mismo tipo\n",
        "(usaremos las listas para representar arreglos). A los elementos de un arreglo se les llama componentes del arreglo."
      ]
    },
    {
      "cell_type": "markdown",
      "metadata": {
        "id": "59E8p6RJ2gVA"
      },
      "source": [
        "**Ejercicio No. 45**\n",
        "\n",
        "Se pueden combinar las funciones de leer un arreglo con la instrucción for para leer un arreglo de elementos separados por un carácter especı́fico."
      ]
    },
    {
      "cell_type": "code",
      "metadata": {
        "id": "Qh2MZ4K62r8d"
      },
      "source": [
        "# lee un arreglo de enteros (usando int), separados por espacios\n",
        "def lee_arreglo_enteros():\n",
        "  return [int(x) for x in input(\"Arreglo Enteros:\").split()]\n",
        "\n",
        "# lee un arreglo de reales (usando float) separados por comas\n",
        "def lee_arreglo_reales():\n",
        "  return [float(x) for x in input(\"Arreglo Reales:\").split(',')]\n",
        "\n",
        "print(lee_arreglo_enteros())\n",
        "print(lee_arreglo_reales())"
      ],
      "execution_count": null,
      "outputs": []
    },
    {
      "cell_type": "markdown",
      "metadata": {
        "id": "xlin5yrz2s3I"
      },
      "source": [
        "**Ejercicio No. 46**\n",
        "\n",
        "Si se tiene un arreglo de números, se puede definir la función\n",
        "suma_arreglo para calcular la suma de todos ellos."
      ]
    },
    {
      "cell_type": "code",
      "metadata": {
        "id": "2zh4USPT3L31"
      },
      "source": [
        "def suma_arreglo(A):\n",
        "  '''\n",
        "  Esta función toma un arreglo y suma todos sus elementos\n",
        "  '''\n",
        "  s = 0 # variable acumuladora\n",
        "  for x in A: # recorrido del arreglo elemento por elemento\n",
        "    s += x # incremento de la acumuladora\n",
        "  return s\n",
        "\n",
        "print(suma_arreglo( map(int, [1,-3,4,11,6]) ))"
      ],
      "execution_count": null,
      "outputs": []
    },
    {
      "cell_type": "markdown",
      "metadata": {
        "id": "7usLwg0K3xAn"
      },
      "source": [
        "**Ejercicio No. 47**\n",
        "\n",
        "Si se tiene un arreglo de números, se puede definir la función pos_maximo\n",
        "para calcular la posición donde se encuentra el máximo de ellos (el arreglo debe tener al menos una componente)."
      ]
    },
    {
      "cell_type": "code",
      "metadata": {
        "id": "Q50nR7jg34KZ"
      },
      "source": [
        "def pos_maximo(A):\n",
        "  m = 0\n",
        "  for i in range(1,len(A)):\n",
        "    if A[i] > A[m]:\n",
        "      m = i\n",
        "  return m\n",
        "\n",
        "print(pos_maximo([1,-3,4,11,6]))"
      ],
      "execution_count": null,
      "outputs": []
    },
    {
      "cell_type": "markdown",
      "metadata": {
        "id": "G1IoG-GZ3_vq"
      },
      "source": [
        "***\n",
        "\n",
        "#Matrices\n",
        "\n",
        "Una matriz es un arreglo rectangular de elementos del mismo tipo. En\n",
        "este curso usaremos arreglos de arreglos para representar matrices (es decir, listas de listas en python)."
      ]
    },
    {
      "cell_type": "markdown",
      "metadata": {
        "id": "GnuPE8i05Buc"
      },
      "source": [
        "**Ejercicio No. 48**\n",
        "\n",
        "Una función general que permite construir una nueva matriz que contiene\n",
        "el cuadrado de cada componente de una matriz dada es la siguiente."
      ]
    },
    {
      "cell_type": "code",
      "metadata": {
        "id": "RsEKyN2N5L1p"
      },
      "source": [
        "def cuadrados_matriz(X):\n",
        "  Y = []\n",
        "  for i in range(len(X)):\n",
        "    fila = []\n",
        "    for j in range(len(X[i])):\n",
        "      fila.append(X[i][j]*X[i][j])\n",
        "    Y.append(fila)\n",
        "  return Y\n",
        "\n",
        "print(cuadrados_matriz( [[1,-3, 2],[4,11,-1]] ))"
      ],
      "execution_count": null,
      "outputs": []
    },
    {
      "cell_type": "markdown",
      "metadata": {
        "id": "tzreu7of5lTJ"
      },
      "source": [
        "**Ejercicio No. 49**\n",
        "\n",
        "Una función general que permite obtener un arreglo con los elementos que\n",
        "están en la diagonal de una matriz cuadrada (mismo número de filas y\n",
        "columnas) es la siguiente."
      ]
    },
    {
      "cell_type": "code",
      "metadata": {
        "id": "8Nx9ns_f5r-e"
      },
      "source": [
        "def diagonal_matriz(X):\n",
        "  Y = []\n",
        "  for i in range(len(X)):\n",
        "    Y.append(X[i][i])\n",
        "  return Y\n",
        "\n",
        "print(diagonal_matriz([[1,-3],[4,11]]))"
      ],
      "execution_count": null,
      "outputs": []
    },
    {
      "cell_type": "markdown",
      "metadata": {
        "id": "0hrMxysU2QfB"
      },
      "source": [
        "***\n",
        "\n",
        "# Problemas Varios de Estudio\n"
      ]
    },
    {
      "cell_type": "markdown",
      "metadata": {
        "id": "erVIbXrx2VJJ"
      },
      "source": [
        "**Problema No. 9**\n",
        "\n",
        "Desarrollar un programa que determine si en una lista no existen elementos repetidos.\n",
        "\n",
        "_Solución:_ Se crea una función que toma la lista, y recorre cada elemento. Si al hacer un conteo del elemento hay más de uno, es porque hay repetidos, entonces se retorna verdadero si hay repetidos, falso si no hay.\n",
        "\n",
        "Finalmente, se recibe una lista de elementos escritos por el usuario y separados por el espacio, se hace un condicional ternario para que dependiento de ese resultado, se imprima un valor especificando si hay repeticiones o no en la lista."
      ]
    },
    {
      "cell_type": "code",
      "metadata": {
        "id": "IN58kaU-2aBJ"
      },
      "source": [
        "def repetidos_lista(lista):\n",
        "  for elemento in lista: # se analiza cada elemento de la lista\n",
        "    if lista.count(elemento) > 1: # si un elemento aparece más de una vez es porque hay repetidos\n",
        "      return True # si hay repetidos\n",
        "  return False # no hay repetidos\n",
        "\n",
        "# elementos separados por espacio\n",
        "lista_entrada = [dato for dato in input().split()]\n",
        "print( \"Si hay elementos repetidos\" if repetidos_lista(lista_entrada) else \"No hay elementos repetidos\" )"
      ],
      "execution_count": null,
      "outputs": []
    },
    {
      "cell_type": "markdown",
      "metadata": {
        "id": "fF3dM1og2auh"
      },
      "source": [
        "**Problema No. 10**\n",
        "\n",
        "Desarrollar un programa que determine si un elemento de una lista es una cadena palı́ndrome. Si la cadena existe debe imprimirla y si no existe debe imprimir ’No existe’.\n",
        "\n",
        "_Solución:_ Se crea una función que determina si una cadena es palíndrome o no, basado en la comparación de la cadena con su inversa.\n",
        "\n",
        "Luego, se recibe la lista de cadenas escritas por el usuario y separadas por coma, y se verifica mediante un ciclo si cada elemento es un palíndrome o no; si es palíndrome se imprima, si no se encuentra ningún elemento en la lista, se tiene que la bandera mantendrá el valor de *False*, y basado en el condicional, se imprime el texto de \"No existe\"."
      ]
    },
    {
      "cell_type": "code",
      "metadata": {
        "id": "E2Xd-IiN2lCa"
      },
      "source": [
        "def es_palindrome(cadena):\n",
        "  inversa = cadena[::-1]  # slice para obtener la inversa de la cadena\n",
        "  if cadena == inversa:   # se compara la base y la inversa, si son iguales, se considera que es palíndrome\n",
        "    return True\n",
        "  else:\n",
        "    return False\n",
        "\n",
        "cadenas = [cadena for cadena in input().split(',')] # se reciben cadenas escritas por el usuario y separadas por coma\n",
        "bandera = False  # bandera para determinar si se encontro un palíndrome o no\n",
        "for cadena in cadenas: # se analiza cada una de las cadenas\n",
        "  if es_palindrome(cadena): # se verifica si la cadena es palíndrome\n",
        "    print(cadena)  # se imprime la cadena\n",
        "    bandera = True # se cambia el valor de la bandera para indicar que se encontró un palíndrome\n",
        "    break          # se detiene la búsqueda al resolver el problema\n",
        "\n",
        "if not bandera:    # se verifica si entre las cadenas no se encontró un palíndrome\n",
        "  print(\"No existe\")"
      ],
      "execution_count": null,
      "outputs": []
    },
    {
      "cell_type": "markdown",
      "metadata": {
        "id": "vBShLy0B2lYD"
      },
      "source": [
        "**Problema No. 11**\n",
        "\n",
        "Desarrollar un programa que dadas dos listas determine que elementos tiene la primer lista que no tenga la segunda lista.\n",
        "\n",
        "_Solución:_ Se crea una función que recibe las dos listas. En esta función, se crea una lista nueva, en la cual se van a agregar los elementos de la primera lista (recorriéndola con un ciclo **for**) que no se encuentren en la segunda lista (verificado con un condicional y un **in**). Esta lista que se retorna, serán los elementos que estén en la primera lista que no estén en la segunda.\n",
        "\n",
        "Las dos listas a comparar se reciben escritas por el usuario, con elementos separados por coma."
      ]
    },
    {
      "cell_type": "code",
      "metadata": {
        "id": "OmLd6sZg2n8Q"
      },
      "source": [
        "def diferencia_listas(lista_a, lista_b):\n",
        "  '''\n",
        "  Se revisan cuales elementos de la primera lista no se encuentran en la segunda lista\n",
        "  '''\n",
        "  diferencia = [] # lista para agregar los elementos que están en la primera lista y que no están en la segunda\n",
        "  for elemento in lista_a: # se hace un recorrido por cada uno de los elementos de la primera lista\n",
        "    if elemento not in lista_b: # se verifica si el elemnento no se encuentra en la segunda lista\n",
        "      diferencia.append(elemento) # si el elemento de la primera lista no está en la segunda, se agrega a la diferencia\n",
        "  return diferencia\n",
        "\n",
        "# Se reciben dos listas del usuario, con elementos separados por coma\n",
        "lista_a = [cadena for cadena in input().split(',')]\n",
        "lista_b = [cadena for cadena in input().split(',')]\n",
        "print( diferencia_listas(lista_a, lista_b) )\n"
      ],
      "execution_count": null,
      "outputs": []
    },
    {
      "cell_type": "markdown",
      "metadata": {
        "id": "tuJNURh72oWb"
      },
      "source": [
        "**Problema No. 12**\n",
        "\n",
        "Desarrollar un algoritmo que calcule el promedio de un arreglo de reales.\n",
        "\n",
        "_Solución:_ Se crea una función que recibe un arreglo de números reales, suma todos los elementos, y divide por el tamaño del arreglo, así se obtiene el promedio.\n",
        "\n",
        "Para el arreglo, se usa la función que fue definida previamente en los ejercicios de clase para leer arreglos de números reales, aquí se nota la importancia del uso de funciones previamente construidas, lo que se suele llamar **reutilización de código**."
      ]
    },
    {
      "cell_type": "code",
      "metadata": {
        "id": "Sk7atytQ2t-N"
      },
      "source": [
        "def promedio_reales(arreglo):\n",
        "  '''\n",
        "  Esta función recibe un arreglo de reales, y calcula el promedio\n",
        "  '''\n",
        "  sum = 0.0 # inicia de la acumuladora\n",
        "  for real in arreglo:  # se recorre todo el arreglo\n",
        "    sum += real # se incrementa la acumuladora\n",
        "  promedio = sum / len(arreglo)  # el promedio es la suma total sobre la cantidad de elementos\n",
        "  return promedio\n",
        "\n",
        "arreglo = lee_arreglo_reales()\n",
        "promedio = promedio_reales(arreglo)\n",
        "print(\"El promedio del arreglo es\", promedio)"
      ],
      "execution_count": null,
      "outputs": []
    },
    {
      "cell_type": "markdown",
      "metadata": {
        "id": "BvHbQuZZ2ubN"
      },
      "source": [
        "\n",
        "**Problema No. 13**\n",
        "\n",
        "Desarrollar un algoritmo que calcule el producto punto de dos arreglos de números enteros (reales) de igual tamaño."
      ]
    },
    {
      "cell_type": "code",
      "metadata": {
        "id": "WhUjH9rM20MG"
      },
      "source": [
        "def producto_punto(vector_1, vector_2):\n",
        "  tamanio_vector_1 = len( vector_1 )\n",
        "  tamanio_vector_2 = len( vector_2 )\n",
        "  if tamanio_vector_1 == tamanio_vector_2:\n",
        "    sumatoria = 0\n",
        "    for i in range( tamanio_vector_1 ):\n",
        "      sumatoria += (vector_1[i] + vector_2[i])\n",
        "    return sumatoria\n",
        "  else:\n",
        "    return \"No se puede calcular.\"\n",
        "\n",
        "\n",
        "primer_vector            = lee_arreglo_reales()\n",
        "segundo_vector           = lee_arreglo_reales()\n",
        "resultado_producto_punto = producto_punto(primer_vector, segundo_vector)\n",
        "print(\"El resultado del producto punto es: \", resultado_producto_punto)"
      ],
      "execution_count": null,
      "outputs": []
    },
    {
      "cell_type": "markdown",
      "metadata": {
        "id": "p8BcNGeO20iE"
      },
      "source": [
        "**Problema No. 14**\n",
        "\n",
        "Desarrollar un algoritmo que determine la mediana de un arreglo de enteros. La mediana es el número que queda en la mitad del arreglo después de ser ordenado.\n",
        "\n",
        "_Solución:_ Se lee un arreglo de enteros, usando la función definida previamente en los ejercicios de clase, y se le realiza un ordenamiento. Luego, se obtiene la posición de la mitad del arreglo, y esa es la mediana."
      ]
    },
    {
      "cell_type": "code",
      "metadata": {
        "id": "c2OoRVsp28il"
      },
      "source": [
        "arreglo = lee_arreglo_enteros()  # se utiliza la función del Ejercicio no. 45\n",
        "arreglo.sort()   # se ordena el arreglo\n",
        "print(\"Arreglo Ordenado:\", arreglo)\n",
        "mediana = arreglo[ (len(arreglo)//2)  ] # se calcula el índice que corresponde a la mitad del arreglo, y esa es la mediana\n",
        "print(\"La mediana del arreglo es\", mediana)"
      ],
      "execution_count": null,
      "outputs": []
    },
    {
      "cell_type": "markdown",
      "metadata": {
        "id": "gptE8a7t28KY"
      },
      "source": [
        "**Problema No. 15**\n",
        "\n",
        "Desarrollar un algoritmo que permita multiplicar dos matrices de números reales (enteros)."
      ]
    },
    {
      "cell_type": "code",
      "metadata": {
        "id": "KKUoD4t222Rn"
      },
      "source": [],
      "execution_count": null,
      "outputs": []
    },
    {
      "cell_type": "markdown",
      "metadata": {
        "id": "T8KoSxbTc5V3"
      },
      "source": [
        "**Problema No. 16**\n",
        "\n",
        "Se debe hacer un cruce de dos listas de información, una que corresponde a un listado de personas censadas, y otro es un listado de personas con su información socio-demográfica. La idea es cruzar estos listados, ver las personas que están censadas y que al tiempo tienen información socio-demográfica, y determinar si merecen servicios de apoyo del estado o no.\n",
        "Finalmente, se debe generar una lista de personas que están en alguna de las dos listas, pero no en las dos al mismo tiempo.\n"
      ]
    },
    {
      "cell_type": "code",
      "metadata": {
        "colab": {
          "background_save": true
        },
        "id": "0DSkjZ5Lc-TX",
        "outputId": "80134b50-cd1f-4610-de37-0335e70b9c71"
      },
      "source": [
        "def censo():\n",
        "  poblacion = []\n",
        "  while True:\n",
        "    cedula  = int( input(\"Ingrese cédula o 0 para terminar: \") )\n",
        "    if cedula == 0:\n",
        "      break\n",
        "    nombre  = input(\"Ingrese nombre: \")\n",
        "    edad    = int(input(\"Ingrese edad: \"))\n",
        "    estrato = int(input(\"Ingrese estrato: \"))\n",
        "    persona = [cedula, nombre, edad, estrato]\n",
        "    poblacion.append(persona)\n",
        "  return poblacion\n",
        "\n",
        "def encuesta_sisben():\n",
        "  poblacion = []\n",
        "  while True:\n",
        "    cedula  = int( input(\"Ingrese cédula o 0 para terminar: \") )\n",
        "    if cedula == 0:\n",
        "      break\n",
        "    nombre   = input(\"Ingrese nombre: \")\n",
        "    ingresos = float(input(\"Ingrese ingresos: \"))\n",
        "    poblacion_vulnerable = input(\"Ingrese si es vulnerable (Si o No): \")\n",
        "    poblacion_vulnerable = True if poblacion_vulnerable.lower() == \"si\" else False\n",
        "    area = input(\"Ingrese área de ubicación (rural o urbano): \")\n",
        "    persona = [cedula, nombre, ingresos, poblacion_vulnerable, area]\n",
        "    poblacion.append(persona)\n",
        "  return poblacion\n",
        "\n",
        "resultado_censo = censo()\n",
        "print(resultado_censo)\n",
        "\n",
        "resultado_sisben = encuesta_sisben()\n",
        "print(resultado_sisben)\n",
        "\n",
        "poblacion_cruce_informacion = []\n",
        "for persona_censo in resultado_censo:\n",
        "  cedula_censo = persona_censo[0]\n",
        "  for persona_sisben in resultado_sisben:\n",
        "    cedula_sisben = persona_sisben[0]\n",
        "    if cedula_censo == cedula_sisben:\n",
        "      temp = persona_censo + persona_sisben[2:]\n",
        "      poblacion_cruce_informacion.append(temp)\n",
        "\n",
        "print(poblacion_cruce_informacion)\n"
      ],
      "execution_count": null,
      "outputs": [
        {
          "output_type": "stream",
          "text": [
            "[[23154, 'Pepito', 32, 3]]\n"
          ],
          "name": "stdout"
        }
      ]
    }
  ]
}