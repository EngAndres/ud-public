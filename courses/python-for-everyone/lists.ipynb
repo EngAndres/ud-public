{
  "cells": [
    {
      "cell_type": "markdown",
      "metadata": {
        "id": "9-FRNdcyN22M"
      },
      "source": [
        "***\n",
        "\n",
        "# Listas\n",
        "\n",
        "Una lista es una secuencia de elementos que puede almacenar datos\n",
        "heterogéneos tales como: enteros, reales, cadenas, tuplas, diccionarios y\n",
        "otros más, inclusive otras listas.\n"
      ]
    },
    {
      "cell_type": "markdown",
      "metadata": {
        "id": "BpflaFKFDae5"
      },
      "source": [
        "__Ejercicio No. 20:__\n",
        "\n",
        "En este ejercicio se muestra la creación de varias listas, incluyendo la lista vacía.\n"
      ]
    },
    {
      "cell_type": "code",
      "execution_count": null,
      "metadata": {
        "id": "SDlxZV0WDZ3i"
      },
      "outputs": [],
      "source": [
        "# creación de múltiples listas\n",
        "x = [ ] # lista vacía\n",
        "lista = [1, 2, 3, 4.5, 'hola', 'a']\n",
        "a = [1, 2, 3]\n",
        "\n",
        "# impresión de las listas\n",
        "print(\"Lista x: \", x)\n",
        "print(\"Lista lista: \", lista)\n",
        "print(\"Lista a: \", a)"
      ]
    },
    {
      "cell_type": "markdown",
      "metadata": {
        "id": "XoE-uTdgEM9o"
      },
      "source": [
        "__Ejercicio No. 21:__\n",
        "\n",
        "En este ejercicio se muestra la opción de tener listas anidadas. De nuevo, aparece el concepto de multi-dimensionalidad."
      ]
    },
    {
      "cell_type": "code",
      "execution_count": null,
      "metadata": {
        "id": "qFgah6v7EZMQ"
      },
      "outputs": [],
      "source": [
        "lista1 = [0, 1, 2, 3]    # lista de enteros\n",
        "lista2 = ['A', 'B', 'C'] # lista de cadenas de caracteres\n",
        "lista3 = [lista1, lista2] # lista cuyos elementos son otras listas\n",
        "\n",
        "print(lista3)       # impresión que muestra listas como elementos\n",
        "print(lista3[0])    # impresión que muestra el primer elemento, que es la lista de enteros\n",
        "print(lista3[1])    # impresión que muestra el segundo elemento, que es la lista de cadenas\n",
        "print(lista3[1][1]) # impresión que muestra el segundo elemento (segunda dimensión) del segundo elemento de la lista (primera dimensión)"
      ]
    },
    {
      "cell_type": "markdown",
      "metadata": {
        "id": "dctnVEswEgaB"
      },
      "source": [
        "**Ejercicio No. 22:**\n",
        "\n",
        "En este ejercicio se concatenan dos listas produciendo una nueva lista. Recuerde que el orden de concatenación afecta el resultado."
      ]
    },
    {
      "cell_type": "code",
      "execution_count": null,
      "metadata": {
        "id": "DEN4qTxoEvwo"
      },
      "outputs": [],
      "source": [
        "list1 = ['A', 'B', 'C', 'E'] # lista de cadenas de caracteres\n",
        "list2 = [1, 2, 3, 4, 5]      # lista de números enteros\n",
        "\n",
        "list3 = list1 + list2  # concatenación de tuplas\n",
        "print(list3)\n",
        "\n",
        "list4 = list2 + list1  # concatenación de las mismas tuplas en otro orden\n",
        "print(list4)"
      ]
    },
    {
      "cell_type": "markdown",
      "metadata": {
        "id": "hJ0Iq78cE1o6"
      },
      "source": [
        "**Ejercicio No. 23**\n",
        "\n",
        "En este ejercicio se muestra el método *extend*, que agrega una lista al final de otra lista, la operación afecta a la lista que llama a la función."
      ]
    },
    {
      "cell_type": "code",
      "execution_count": null,
      "metadata": {
        "id": "P6VQjYjUFHVB"
      },
      "outputs": [],
      "source": [
        "nombres = ['Antonio', 'Marı́a', 'Mabel']      # lista de nombres de base\n",
        "otros_nombres = ['Barry', 'John', 'Guttag']  # lista de nombres a agregar\n",
        "\n",
        "nombres.extend(otros_nombres)  # se agregan todos los elementos de una lista a la lista \"nombres\"\n",
        "# imprensión de los estados finales de las listas\n",
        "print(\"Nombres extendidos: \", nombres)\n",
        "print(\"Otros nombres : \", otros_nombres)"
      ]
    },
    {
      "cell_type": "markdown",
      "metadata": {
        "id": "1-4YNEU6GZYC"
      },
      "source": [
        "**Ejercicio No. 24**\n",
        "\n",
        "En este ejercicio se muestra una forma de crear una lista con múltiples copias de una lista, tantas como se defina. De forma simple, el operador * se interepreta como una _concatenación abreviada_."
      ]
    },
    {
      "cell_type": "code",
      "execution_count": null,
      "metadata": {
        "id": "kow_dZu6GkUr"
      },
      "outputs": [],
      "source": [
        "list1 = [1, 2, 3, 4, 5] # lista de números enteros\n",
        "list2 = list1 * 2       # se genera una nueva lista con dos repeticiones de list2\n",
        "print(list2)\n",
        "\n",
        "list3 = ['Abc', 'Bcd'] # lista de cadenas de caracteres\n",
        "list4 = list3 * 4      # se genera una nueva lista con cuatro repeticiones de list3\n",
        "print(list4)"
      ]
    },
    {
      "cell_type": "markdown",
      "metadata": {
        "id": "tiXyqlXqG_fq"
      },
      "source": [
        "**Ejercicio No. 25**\n",
        "\n",
        "Se usan los operadores convencionales (<, <=, >, >=, ==, !=) para\n",
        "comparar listas usando el orden lexicográfico, cuando es posible. En el\n",
        "orden lexicográfico, se tratan de comparar (si el operador < está definido), de primero a último uno a uno los elementos de la lista, mientras sean\n",
        "iguales."
      ]
    },
    {
      "cell_type": "code",
      "execution_count": null,
      "metadata": {
        "id": "TuOSCWjDHECe"
      },
      "outputs": [],
      "source": [
        "print(['Rojas', 123] < ['Rosas', 123])    # verdadero porque j < s\n",
        "print(['Rosas', 123] == ['rosas', 123])   # falso porque R != r\n",
        "print(['Rosas', 123] > ['Rosas', 23, 10]) # verdadero porque 123 > 23\n",
        "print(['Rosas', \"123\"] > ['Rosas', '23']) # falso porque \"1\" < \"2\""
      ]
    },
    {
      "cell_type": "markdown",
      "metadata": {
        "id": "cFctDY8lHiRt"
      },
      "source": [
        "**Ejercicio No. 26**\n",
        "\n",
        "En este ejercicio se usa el concepto de subíndice para acceder a los elementos de una lista, iniciando desde la posición cero (0). Si la posición que se envı́a es negativa, lo considera desde el final. Si la posición no es válida en el rango de la lista se genera un error."
      ]
    },
    {
      "cell_type": "code",
      "execution_count": null,
      "metadata": {
        "id": "wV57u_EOHqXh"
      },
      "outputs": [],
      "source": [
        "avengers = [\"Ironman\", \"Thor\", \"Ant-man\", \"Hulk\"] # lista de base\n",
        "print(avengers[0])  # trae a \"Ironman\"\n",
        "print(avengers[3])  # trae a \"Hulk\"\n",
        "print(avengers[-1]) # trae a \"Hulk\", el último elemento\n",
        "print(avengers[-3]) # trae a \"Thor\""
      ]
    },
    {
      "cell_type": "markdown",
      "metadata": {
        "id": "KTwir8Pbtjn3"
      },
      "source": [
        "**Problema No. 5**\n",
        "\n",
        "Realice la copia de una lista usando los conceptos de asignación por valor y de asignación por referencia.\n",
        "\n",
        "_Solución:_ Se crea una *lista_2*, a la cual se asigna el valor de *lista_1*, lo que lleva a tener una asignación por referencia.\n",
        "\n",
        "En el caso de la *lista_3*, se hace una asignación usando la función *.copy()*, y en este caso la asignación se hace por valor."
      ]
    },
    {
      "cell_type": "code",
      "execution_count": null,
      "metadata": {
        "id": "ifC1wqnU5faN"
      },
      "outputs": [],
      "source": [
        "lista_1 = [1, 2, 3]  # lista de base\n",
        "print(\"Lista 1: \", lista_1)\n",
        "\n",
        "lista_2 = lista_1  # asignación por valor\n",
        "lista_2[1] = 4     # se cambia un valor el lista_2 usando un índice, pero este cambio se refleja también en lista_1\n",
        "print(\"Lista 1: \", lista_1)\n",
        "print(\"Lista 2: \", lista_2)\n",
        "\n",
        "lista_3 = lista_1.copy() # asignación por referencia\n",
        "lista_3[2] = 8           # se cambia un valor el lista_3 usando un índice, pero este cambio no se refleja también en lista_1\n",
        "print(\"Lista 1: \", lista_1)\n",
        "print(\"Lista 3: \", lista_3)\n"
      ]
    },
    {
      "cell_type": "markdown",
      "metadata": {
        "id": "uTpR-I3LICfi"
      },
      "source": [
        "**Ejercicio No. 27**\n",
        "\n",
        "En este ejercicio se muestra como usando un condicional se puede determinar si un elemento está en una lista o no usando el concepto de pertenencia de conjuntos con la palabra reservada **in**."
      ]
    },
    {
      "cell_type": "code",
      "execution_count": null,
      "metadata": {
        "id": "pdR_73t6IVZv"
      },
      "outputs": [],
      "source": [
        "text = ['cien', 'años', 'de', 'soledad'] # lista de base\n",
        "if 'años' in text:             # condicional usando 'in', entiendo 'in' como un \"pertenece a\"\n",
        "  print('Si está en la lista') # si el elemento está en la lista, se toma la condición como verdadera\n",
        "else:\n",
        "  print('No está en la lista') # si el elemento no está en la tupla, se toma la condición como falsa"
      ]
    },
    {
      "cell_type": "markdown",
      "metadata": {
        "id": "HwqpwB7UJTCL"
      },
      "source": [
        "**Ejercicio No. 28**\n",
        "\n",
        "En este ejercicio se muestra como es posible iterar una lista usando el ciclo **for** recorriendo la lista elemento a elemento."
      ]
    },
    {
      "cell_type": "code",
      "execution_count": null,
      "metadata": {
        "id": "uE0bijHkJcj9"
      },
      "outputs": [],
      "source": [
        "saludo = [\"hola\", \"amigos\", \"mios\", 3, False] # lista de base\n",
        "for palabra in saludo:   # para cada elemento en la lista\n",
        "  print(palabra, end = ', ')"
      ]
    },
    {
      "cell_type": "markdown",
      "metadata": {
        "id": "gHjEWmzlKr_k"
      },
      "source": [
        "**Ejercicio No. 29**\n",
        "\n",
        "En este ejercicio se muestra cómo se puede crear una lista inicializada utilizando una notación específica del ciclo **for** y generando procesos aritméticos para definir cada elemento."
      ]
    },
    {
      "cell_type": "code",
      "execution_count": null,
      "metadata": {
        "id": "r3O-D5-8L2Q-"
      },
      "outputs": [],
      "source": [
        "d = 10 # valor de desplazamiento\n",
        "desplaza = [d + x for x in range(5)] # creación de una nueva lista basada en el desplazamiento de valores obtenidos con un range\n",
        "print(\"Desplazamiento: \", desplaza)\n",
        "\n",
        "potencias = [3 ** x for x in range(2, 6)] # creación de una nueva lista basada en 3 elevado al valor obtenido en el ciclo\n",
        "print(\"Potencias: \", potencias)\n"
      ]
    },
    {
      "cell_type": "markdown",
      "metadata": {
        "id": "VVKZL0QZtMA5"
      },
      "source": [
        "**Problema No. 6**\n",
        "\n",
        "Genere una lista que esté compuesta por treinta $0$.\n",
        "\n",
        "_Solución:_ Se presentan dos soluciones: (i) la primera es crear una lista con un cero, y se repite $30$ veces; (ii) la segunda es utilizando un ciclo **for** que se repite $30$j y en cada repetición agrega un $0$ a la lista."
      ]
    },
    {
      "cell_type": "code",
      "execution_count": null,
      "metadata": {
        "id": "Nm7JdnyOCmxl"
      },
      "outputs": [],
      "source": [
        "lista_ceros_v1 = [0] * 30 # se crea una lista con un cero y se repite treinta veces\n",
        "print(lista_ceros_v1)\n",
        "\n",
        "lista_ceros_v2 = [0 for x in range(30)] # se crea una lista repitiendo un range de treinta veces y colocando un 0 en cada iteración\n",
        "print(lista_ceros_v2)"
      ]
    },
    {
      "cell_type": "markdown",
      "metadata": {
        "id": "rTlDTxx5MTNV"
      },
      "source": [
        "**Ejercicio No. 30**\n",
        "\n",
        "En este ejercicio se muestra que s posible asignarle los valores a un grupo de variables usando la\n",
        "asignación (desempacando) y el concepto de lista."
      ]
    },
    {
      "cell_type": "code",
      "execution_count": null,
      "metadata": {
        "id": "6Dh419m8MZbh"
      },
      "outputs": [],
      "source": [
        "lista = [1, -2, 4]\n",
        "a, b, c = lista  #asignación por valor de una lista a varias variables\n",
        "# impresión de las variables\n",
        "print('a =', a)\n",
        "print('b =', b)\n",
        "print('c =', c)"
      ]
    },
    {
      "cell_type": "markdown",
      "metadata": {
        "id": "Oy1USBG3Mq4z"
      },
      "source": [
        "**Ejercicio No. 31**\n",
        "\n",
        "En este ejercicio es posible asignar los valores de un grupo de variables usando la asignación múltiple, el ciclo **for** y el concepto de lista.\n"
      ]
    },
    {
      "cell_type": "code",
      "execution_count": null,
      "metadata": {
        "id": "ghMawHpOMvX9"
      },
      "outputs": [],
      "source": [
        "lista            = [11, 9, -2, 3, 8, 5] # lista de base\n",
        "# recorrido de tres elementos de la lista, asignados a tres variables\n",
        "var1, var2, var3 = [lista[i] for i in (1, 3, 5)]\n",
        "print(\"var1 =\", var1, \", var2 =\", var2, \", var3 =\", var3)\n",
        "\n",
        "# recorrido de tres elementos de la lista generados por range, asignados a tres variables\n",
        "var1, var2, var3 = [lista[i] for i in range(0, 6, 2)]\n",
        "print(\"var1 =\", var1, \", var2 =\", var2, \", var3 =\", var3)"
      ]
    },
    {
      "cell_type": "markdown",
      "metadata": {
        "id": "aMSZW0eqMyKp"
      },
      "source": [
        "**Ejercicio No. 32**\n",
        "\n",
        "En este ejercicio se muestra que se puede retornar más de un valor en una función usando el concepto de lista."
      ]
    },
    {
      "cell_type": "code",
      "execution_count": null,
      "metadata": {
        "id": "OlS3WU1OM2j3"
      },
      "outputs": [],
      "source": [
        "def minmax_lista(a, b):\n",
        "  '''\n",
        "  Función que retornar el mínimo y máximo entre dos elementos\n",
        "  '''\n",
        "  if a < b: # si a es menor se retorna como primer parámetro, y b como segundo\n",
        "    return [a, b]\n",
        "  else:     # si b es menor se retorna como primer parámetro, y a como segundo\n",
        "    return [b, a]\n",
        "\n",
        "# prueba con el primer parámetro como menor\n",
        "x, y = minmax_lista(5, 13)\n",
        "print('min =', x, \",\", 'max =', y)\n",
        "\n",
        "# prueba con el segundo parámetro como menor\n",
        "x, y = minmax_lista(12, -4)\n",
        "print('min =', x, \",\", 'max =', y)"
      ]
    },
    {
      "cell_type": "markdown",
      "metadata": {
        "id": "I_LEii4ONgaB"
      },
      "source": [
        "**Ejercicio No. 33**\n",
        "\n",
        "En este ejercicio se utiliza la función **len**, la cual determina la dimensión (longitud) de una lista."
      ]
    },
    {
      "cell_type": "code",
      "execution_count": null,
      "metadata": {
        "id": "jzvZalVaNyFU"
      },
      "outputs": [],
      "source": [
        "# construcción de distintas tuplas de ejemplo\n",
        "lista   = [1, 2, 3, 4]\n",
        "nombre  = [\"Minch\", \"Yoda\"]\n",
        "trabajo = [\"Stars\", \"War\", \"Movie\"]\n",
        "empty   = []\n",
        "\n",
        "# impresión de los tamaños de cada una de las listas\n",
        "print(\"Tamaño de la lista tup:\", len(lista))       # res: 4\n",
        "print(\"Tamaño de la lista nombre:\", len(nombre))   # res: 2\n",
        "print(\"Tamaño de la lista trabajo:\", len(trabajo)) # res: 3\n",
        "print(\"Tamaño de la lista vacía:\", len(empty))     # res: 0"
      ]
    },
    {
      "cell_type": "markdown",
      "metadata": {
        "id": "LqDg3uxvN0sL"
      },
      "source": [
        "**Ejercicio No. 34**\n",
        "\n",
        "En este ejercicio se muestra que es posible cambiar un elemento en una posición específica de una lista usando subíndices y asignación de valores."
      ]
    },
    {
      "cell_type": "code",
      "execution_count": null,
      "metadata": {
        "id": "ezDkUydZN9P3"
      },
      "outputs": [],
      "source": [
        "lista = ['E', 'l', 'm', 'e', 'j', 'o', 'r']\n",
        "lista[0] = 'e'\n",
        "print(lista)\n",
        "lista[4] = 'l'\n",
        "print(lista)\n",
        "lista[-1] = 's'\n",
        "print(lista)"
      ]
    },
    {
      "cell_type": "markdown",
      "metadata": {
        "id": "S68NkT5tOYYO"
      },
      "source": [
        "**Ejercicio No. 35**\n",
        "\n",
        "En este ejercicio se muestra el método **append**, el cual permite agregar elementos al final de una lista. Importante mencionar que solo agrega un elemento a la vez de cualquier tipo de dato.\n"
      ]
    },
    {
      "cell_type": "code",
      "execution_count": null,
      "metadata": {
        "id": "53i4xvj5OeZx"
      },
      "outputs": [],
      "source": [
        "nombres = ['Antonio', 'Johan']\n",
        "nombres.append('Monica')\n",
        "print(nombres)\n",
        "nombres.append('Maria')\n",
        "print(nombres)\n",
        "nombres.append('Mabel')\n",
        "print(nombres)"
      ]
    },
    {
      "cell_type": "markdown",
      "metadata": {
        "id": "7udKQ1NmOtkY"
      },
      "source": [
        "**Ejercicio No. 36**\n",
        "\n",
        "En este ejercicio se muestra el método **insert**, el cual permite insertar (agregar) elementos en una posición especı́fica de una lista. El elemento a agregar puede ser de cualquier tipo de dato."
      ]
    },
    {
      "cell_type": "code",
      "execution_count": null,
      "metadata": {
        "id": "V7f6RrLJOz0q"
      },
      "outputs": [],
      "source": [
        "nombres = ['Antonio', 'Johan', 'Maria']\n",
        "nombres.insert(0, 'Guttag')\n",
        "print(nombres)\n",
        "nombres.insert(2, 'Peter')\n",
        "print(nombres)\n",
        "nombres.insert(len(nombres)//2, 10)\n",
        "print(nombres)\n",
        "nombres.insert(-1, 3.5)\n",
        "print(nombres)"
      ]
    },
    {
      "cell_type": "markdown",
      "metadata": {
        "id": "3caauDpiz0nn"
      },
      "source": [
        "**Ejercicio No. 37**\n",
        "\n",
        "En este ejercicio se muestra el método **remove**, el cual permite eliminar la primera aparición (de izquierda a derecha) de un elemento de una lista. Solo eliminar el elemento la primera vez que lo encuentra, no todas las ocurrencias que estén en la lista."
      ]
    },
    {
      "cell_type": "code",
      "execution_count": null,
      "metadata": {
        "id": "yjWxM1Ovz627"
      },
      "outputs": [],
      "source": [
        "lista = ['a', 'e', 'i', 'o', 'u', 'i', 'x']\n",
        "lista.remove('x')\n",
        "print(lista)\n",
        "lista.remove('i')\n",
        "print(lista)\n",
        "lista.remove('i')\n",
        "print(lista)"
      ]
    },
    {
      "cell_type": "markdown",
      "metadata": {
        "id": "aJd3iz8mtfX2"
      },
      "source": [
        "**Problema No. 7**\n",
        "\n",
        "Construya una función que reciba una lista y elimine todas las ocurrencias de un elemento dado.\n",
        "\n",
        "_Solución:_ Se crea una función en donde se hace una copia de la lista que se recibe, y mendiante un ciclo *while* se verifica si aún existe el elemento que se está buscando en la lista, y mientras aún exista se procede a llamar a la función _remove_ para eliminar la siguiente ocurrencia del elemento determinado. Finalmente, se retorna la lista sin ninguna ocurrencia del elemento bajo búsqueda."
      ]
    },
    {
      "cell_type": "code",
      "execution_count": null,
      "metadata": {
        "id": "ZtGDWTB1NEvq"
      },
      "outputs": [],
      "source": [
        "def eliminar_ocurrencias(lista, elemento):\n",
        "  lista_procesada = lista.copy()\n",
        "  while elemento in lista_procesada:\n",
        "    lista_procesada.remove( elemento )\n",
        "  return lista_procesada\n",
        "\n",
        "lista_original = ['a', 'e', 'i', 'o', 'u', 'i', 'x', 'i']\n",
        "elemento_eliminar = 'i'\n",
        "lista_limpia   = eliminar_ocurrencias(lista_original, elemento_eliminar)\n",
        "\n",
        "print(lista_original)\n",
        "print(lista_limpia)"
      ]
    },
    {
      "cell_type": "markdown",
      "metadata": {
        "id": "OgAMlRMq0N5t"
      },
      "source": [
        "**Ejercicio No. 38**\n",
        "\n",
        "En este ejercicio se muestra el uso de *slice* para obtener una porción (sublista) de una lista. La definición es igual a la función slice de tuplas [inicio:fin:incremento]. Por obligación se deben definir el inicio y el fin usando un separador de :, siendo por defecto el inicio $0$ y el final el último elemento de la tupla. Si se quiere cambiar el incremento, se debe agregar el tercer elemento."
      ]
    },
    {
      "cell_type": "code",
      "execution_count": null,
      "metadata": {
        "id": "fwzLRahi0Vt_"
      },
      "outputs": [],
      "source": [
        "  avengers = [\"Ironman\", \"Thor\", \"Ant-man\", \"Hulk\"] # lista de base\n",
        "print(avengers[:2])   # slice que va desde el inicio hasta una posición antes del índice 2\n",
        "print(avengers[1:3])  # slice que va desde la posición 1 hasta una posición antes del índice 3\n",
        "print(avengers[3:3])  # slice que inicia en la posición 3, y va hasta antes del tres...por ende, genera vacío\n",
        "print(avengers[::-1]) # slice que recorre toda la tupla y obtiene la inversa al hacer un incremento negativo"
      ]
    },
    {
      "cell_type": "markdown",
      "metadata": {
        "id": "fTpC9B9V0XiT"
      },
      "source": [
        "**Ejercicio No. 39**\n",
        "\n",
        "En este ejercicio se muestra el método **count**, el cual obtiene las veces que un elemento se encuentra en una lista. Si no está el elemento, el método retorna un valor de $0$."
      ]
    },
    {
      "cell_type": "code",
      "execution_count": null,
      "metadata": {
        "id": "xL4kn4yE1C-P"
      },
      "outputs": [],
      "source": [
        "lista = [4, 3, 8, 8, 2, 5, 4, 6, 8, 9]  # lista de base\n",
        "print(\"Cantidad de veces que aparece el elemento 2:\", lista.count(2)) # res: 1\n",
        "print(\"Cantidad de veces que aparece el elemento 8:\", lista.count(8)) # res: 3\n",
        "print(\"Cantidad de veces que aparece el elemento 5:\", lista.count(5)) # res: 1\n",
        "print(\"Cantidad de veces que aparece el elemento 7:\", lista.count(7)) # res: 0"
      ]
    },
    {
      "cell_type": "markdown",
      "metadata": {
        "id": "pQAq0Qpq1FVw"
      },
      "source": [
        "**Ejercicio No. 40**\n",
        "\n",
        "En este ejercicio se muestra el método **index**, el cual obtiene la primera ocurrencia de un elemento en una\n",
        "lista. Si no existe el elemento, se arroja un error."
      ]
    },
    {
      "cell_type": "code",
      "execution_count": null,
      "metadata": {
        "id": "eixAaINN1Mdb"
      },
      "outputs": [],
      "source": [
        "lista = [4, 3, 8, 8, 2, 5, 4, 6, 8, 9]\n",
        "print(\"Primer índice donde aparece el elemento 2:\", lista.index(2)) # Res: 4\n",
        "print(\"Primer índice donde aparece el elemento 8:\", lista.index(8)) # Res: 2\n",
        "print(\"Primer índice donde aparece el elemento 5:\", lista.index(5)) # Res: 5"
      ]
    },
    {
      "cell_type": "markdown",
      "metadata": {
        "id": "waEm8W3L1Qpk"
      },
      "source": [
        "**Ejercicio No. 41**\n",
        "\n",
        "En este ejercicio se muestra el método **max**/**min** obtiene el máximo/mı́nimo elemento de una lista. Recuerde que todos los elementos de la lista deben ser del mismo tipo para que no se genere un error."
      ]
    },
    {
      "cell_type": "code",
      "execution_count": null,
      "metadata": {
        "id": "OMUuAWhJ1Ux5"
      },
      "outputs": [],
      "source": [
        "t = [4, 5, -1, 6, 7]\n",
        "print(max(t))\n",
        "print(min(t))"
      ]
    },
    {
      "cell_type": "markdown",
      "metadata": {
        "id": "YMTukT9b1X_5"
      },
      "source": [
        "**Ejercicio No. 42**\n",
        "\n",
        "En este ejercicio se muestra el método **sort** ordena una lista. Se le puede indicar si ascendente o\n",
        "descendentemente mediante una bandera llamada *reverse*, al igual que el criterio (llave) usado para ordenar. Aquı́ solo se considera el ordenamiento sencillo."
      ]
    },
    {
      "cell_type": "code",
      "execution_count": null,
      "metadata": {
        "id": "sPIvS4e71eTu"
      },
      "outputs": [],
      "source": [
        "lista = [4, 5, -1, 6, 7]\n",
        "lista.sort()\n",
        "print(lista)\n",
        "lista.sort(reverse = True)\n",
        "print(lista)"
      ]
    },
    {
      "cell_type": "markdown",
      "metadata": {
        "id": "R8f6mc3mtdzp"
      },
      "source": [
        "**Problema No. 8**\n",
        "\n",
        "Realice el ordenamiento lexicográfica de una lista compuesta por cadenas de caracteres.\n",
        "\n",
        "_Solución:_ Se crea una lista de cadenas de caracteres, y se hace un simple llamado a la función de ordenamiento, tanto de forma ascendente y de forma descendente."
      ]
    },
    {
      "cell_type": "code",
      "execution_count": null,
      "metadata": {
        "id": "jO3LvMbPIIHi"
      },
      "outputs": [],
      "source": [
        "lista_strings = [\"c\", \"d\", \"hola\", \"aloha\"]\n",
        "lista_strings.sort()\n",
        "print( lista_strings )\n",
        "lista_strings.sort(reverse = True)\n",
        "print( lista_strings )"
      ]
    },
    {
      "cell_type": "markdown",
      "metadata": {
        "id": "biL3IVex1nIK"
      },
      "source": [
        "**Ejercicio No. 43**\n",
        "\n",
        "En este ejercicio se usa el método **list**, a forma de *casting*,  para crear listas a partir de otros objetos. Aquı́ se usa para convertir una cadena de caracteres y una tupla a listas."
      ]
    },
    {
      "cell_type": "code",
      "execution_count": null,
      "metadata": {
        "id": "AOub2MyL1tmt"
      },
      "outputs": [],
      "source": [
        "magician = 'Dumbledore'\n",
        "lm = list(magician)\n",
        "print(lm)\n",
        "\n",
        "t = (1, 2, 3, 4)\n",
        "lt = list(t)\n",
        "print(lt)"
      ]
    },
    {
      "cell_type": "markdown",
      "metadata": {
        "id": "W2MdWFNF1zsy"
      },
      "source": [
        "**Ejercicio No. 44**\n",
        "\n",
        "En el caso en el que se requiera eliminar un elemento de una posición\n",
        "especı́fica de la lista, se puede usar el método **pop**, el cual recibe como parámetro la posición\n",
        "del elemento a remover. Las posiciones en las listas empiezan en cero. Si no se especifican parámetros, se remueve el último elemento de la lista."
      ]
    },
    {
      "cell_type": "code",
      "execution_count": null,
      "metadata": {
        "id": "n_ainNSg18MG"
      },
      "outputs": [],
      "source": [
        "nombres = ['Antonio', 'Johan', 'Monica', 'Marı́a', 'Mabel']\n",
        "nombres.pop(0) # quita el primer elemento\n",
        "#remueve a Antonio\n",
        "print(nombres)\n",
        "\n",
        "nombre_borrado = nombres.pop() # quita el último elemento\n",
        "# remueve a Mabel\n",
        "print(nombre_borrado + \" ha sido eliminada de la lista.\")\n",
        "print(nombres)"
      ]
    },
    {
      "cell_type": "markdown",
      "metadata": {
        "id": "ZA2kEyIS2QqG"
      },
      "source": [
        "***\n",
        "\n",
        "# Arreglos\n",
        "Un arreglo o vector es una tupla o lista de n elementos del mismo tipo\n",
        "(usaremos las listas para representar arreglos). A los elementos de un arreglo se les llama componentes del arreglo."
      ]
    },
    {
      "cell_type": "markdown",
      "metadata": {
        "id": "59E8p6RJ2gVA"
      },
      "source": [
        "**Ejercicio No. 45**\n",
        "\n",
        "Se pueden combinar las funciones de leer un arreglo con la instrucción for para leer un arreglo de elementos separados por un carácter especı́fico."
      ]
    },
    {
      "cell_type": "code",
      "execution_count": null,
      "metadata": {
        "id": "Qh2MZ4K62r8d"
      },
      "outputs": [],
      "source": [
        "# lee un arreglo de enteros (usando int), separados por espacios\n",
        "def lee_arreglo_enteros():\n",
        "  return [int(x) for x in input(\"Arreglo Enteros:\").split()]\n",
        "\n",
        "# lee un arreglo de reales (usando float) separados por comas\n",
        "def lee_arreglo_reales():\n",
        "  return [float(x) for x in input(\"Arreglo Reales:\").split(',')]\n",
        "\n",
        "print(lee_arreglo_enteros())\n",
        "print(lee_arreglo_reales())"
      ]
    },
    {
      "cell_type": "markdown",
      "metadata": {
        "id": "xlin5yrz2s3I"
      },
      "source": [
        "**Ejercicio No. 46**\n",
        "\n",
        "Si se tiene un arreglo de números, se puede definir la función\n",
        "suma_arreglo para calcular la suma de todos ellos."
      ]
    },
    {
      "cell_type": "code",
      "execution_count": null,
      "metadata": {
        "id": "2zh4USPT3L31"
      },
      "outputs": [],
      "source": [
        "def suma_arreglo(A):\n",
        "  '''\n",
        "  Esta función toma un arreglo y suma todos sus elementos\n",
        "  '''\n",
        "  s = 0 # variable acumuladora\n",
        "  for x in A: # recorrido del arreglo elemento por elemento\n",
        "    s += x # incremento de la acumuladora\n",
        "  return s\n",
        "\n",
        "print(suma_arreglo( map(int, [1,-3,4,11,6]) ))"
      ]
    },
    {
      "cell_type": "markdown",
      "metadata": {
        "id": "7usLwg0K3xAn"
      },
      "source": [
        "**Ejercicio No. 47**\n",
        "\n",
        "Si se tiene un arreglo de números, se puede definir la función pos_maximo\n",
        "para calcular la posición donde se encuentra el máximo de ellos (el arreglo debe tener al menos una componente)."
      ]
    },
    {
      "cell_type": "code",
      "execution_count": null,
      "metadata": {
        "id": "Q50nR7jg34KZ"
      },
      "outputs": [],
      "source": [
        "def pos_maximo(A):\n",
        "  m = 0\n",
        "  for i in range(1,len(A)):\n",
        "    if A[i] > A[m]:\n",
        "      m = i\n",
        "  return m\n",
        "\n",
        "print(pos_maximo([1,-3,4,11,6]))"
      ]
    },
    {
      "cell_type": "markdown",
      "metadata": {
        "id": "G1IoG-GZ3_vq"
      },
      "source": [
        "***\n",
        "\n",
        "#Matrices\n",
        "\n",
        "Una matriz es un arreglo rectangular de elementos del mismo tipo. En\n",
        "este curso usaremos arreglos de arreglos para representar matrices (es decir, listas de listas en python)."
      ]
    },
    {
      "cell_type": "markdown",
      "metadata": {
        "id": "GnuPE8i05Buc"
      },
      "source": [
        "**Ejercicio No. 48**\n",
        "\n",
        "Una función general que permite construir una nueva matriz que contiene\n",
        "el cuadrado de cada componente de una matriz dada es la siguiente."
      ]
    },
    {
      "cell_type": "code",
      "execution_count": null,
      "metadata": {
        "id": "RsEKyN2N5L1p"
      },
      "outputs": [],
      "source": [
        "def cuadrados_matriz(X):\n",
        "  Y = []\n",
        "  for i in range(len(X)):\n",
        "    fila = []\n",
        "    for j in range(len(X[i])):\n",
        "      fila.append(X[i][j]*X[i][j])\n",
        "    Y.append(fila)\n",
        "  return Y\n",
        "\n",
        "print(cuadrados_matriz( [[1,-3, 2],[4,11,-1]] ))"
      ]
    },
    {
      "cell_type": "markdown",
      "metadata": {
        "id": "tzreu7of5lTJ"
      },
      "source": [
        "**Ejercicio No. 49**\n",
        "\n",
        "Una función general que permite obtener un arreglo con los elementos que\n",
        "están en la diagonal de una matriz cuadrada (mismo número de filas y\n",
        "columnas) es la siguiente."
      ]
    },
    {
      "cell_type": "code",
      "execution_count": null,
      "metadata": {
        "id": "8Nx9ns_f5r-e"
      },
      "outputs": [],
      "source": [
        "def diagonal_matriz(X):\n",
        "  Y = []\n",
        "  for i in range(len(X)):\n",
        "    Y.append(X[i][i])\n",
        "  return Y\n",
        "\n",
        "print(diagonal_matriz([[1,-3],[4,11]]))"
      ]
    },
    {
      "cell_type": "markdown",
      "metadata": {
        "id": "0hrMxysU2QfB"
      },
      "source": [
        "***\n",
        "\n",
        "# Problemas Varios de Estudio\n"
      ]
    },
    {
      "cell_type": "markdown",
      "metadata": {
        "id": "erVIbXrx2VJJ"
      },
      "source": [
        "**Problema No. 9**\n",
        "\n",
        "Desarrollar un programa que determine si en una lista no existen elementos repetidos.\n",
        "\n",
        "_Solución:_ Se crea una función que toma la lista, y recorre cada elemento. Si al hacer un conteo del elemento hay más de uno, es porque hay repetidos, entonces se retorna verdadero si hay repetidos, falso si no hay.\n",
        "\n",
        "Finalmente, se recibe una lista de elementos escritos por el usuario y separados por el espacio, se hace un condicional ternario para que dependiento de ese resultado, se imprima un valor especificando si hay repeticiones o no en la lista."
      ]
    },
    {
      "cell_type": "code",
      "execution_count": null,
      "metadata": {
        "id": "IN58kaU-2aBJ"
      },
      "outputs": [],
      "source": [
        "def repetidos_lista(lista):\n",
        "  for elemento in lista: # se analiza cada elemento de la lista\n",
        "    if lista.count(elemento) > 1: # si un elemento aparece más de una vez es porque hay repetidos\n",
        "      return True # si hay repetidos\n",
        "  return False # no hay repetidos\n",
        "\n",
        "# elementos separados por espacio\n",
        "lista_entrada = [dato for dato in input().split()]\n",
        "print( \"Si hay elementos repetidos\" if repetidos_lista(lista_entrada) else \"No hay elementos repetidos\" )"
      ]
    },
    {
      "cell_type": "markdown",
      "metadata": {
        "id": "fF3dM1og2auh"
      },
      "source": [
        "**Problema No. 10**\n",
        "\n",
        "Desarrollar un programa que determine si un elemento de una lista es una cadena palı́ndrome. Si la cadena existe debe imprimirla y si no existe debe imprimir ’No existe’.\n",
        "\n",
        "_Solución:_ Se crea una función que determina si una cadena es palíndrome o no, basado en la comparación de la cadena con su inversa.\n",
        "\n",
        "Luego, se recibe la lista de cadenas escritas por el usuario y separadas por coma, y se verifica mediante un ciclo si cada elemento es un palíndrome o no; si es palíndrome se imprima, si no se encuentra ningún elemento en la lista, se tiene que la bandera mantendrá el valor de *False*, y basado en el condicional, se imprime el texto de \"No existe\"."
      ]
    },
    {
      "cell_type": "code",
      "execution_count": null,
      "metadata": {
        "id": "E2Xd-IiN2lCa"
      },
      "outputs": [],
      "source": [
        "def es_palindrome(cadena):\n",
        "  inversa = cadena[::-1]  # slice para obtener la inversa de la cadena\n",
        "  if cadena == inversa:   # se compara la base y la inversa, si son iguales, se considera que es palíndrome\n",
        "    return True\n",
        "  else:\n",
        "    return False\n",
        "\n",
        "cadenas = [cadena for cadena in input().split(',')] # se reciben cadenas escritas por el usuario y separadas por coma\n",
        "bandera = False  # bandera para determinar si se encontro un palíndrome o no\n",
        "for cadena in cadenas: # se analiza cada una de las cadenas\n",
        "  if es_palindrome(cadena): # se verifica si la cadena es palíndrome\n",
        "    print(cadena)  # se imprime la cadena\n",
        "    bandera = True # se cambia el valor de la bandera para indicar que se encontró un palíndrome\n",
        "    break          # se detiene la búsqueda al resolver el problema\n",
        "\n",
        "if not bandera:    # se verifica si entre las cadenas no se encontró un palíndrome\n",
        "  print(\"No existe\")"
      ]
    },
    {
      "cell_type": "markdown",
      "metadata": {
        "id": "vBShLy0B2lYD"
      },
      "source": [
        "**Problema No. 11**\n",
        "\n",
        "Desarrollar un programa que dadas dos listas determine que elementos tiene la primer lista que no tenga la segunda lista.\n",
        "\n",
        "_Solución:_ Se crea una función que recibe las dos listas. En esta función, se crea una lista nueva, en la cual se van a agregar los elementos de la primera lista (recorriéndola con un ciclo **for**) que no se encuentren en la segunda lista (verificado con un condicional y un **in**). Esta lista que se retorna, serán los elementos que estén en la primera lista que no estén en la segunda.\n",
        "\n",
        "Las dos listas a comparar se reciben escritas por el usuario, con elementos separados por coma."
      ]
    },
    {
      "cell_type": "code",
      "execution_count": null,
      "metadata": {
        "id": "OmLd6sZg2n8Q"
      },
      "outputs": [],
      "source": [
        "def diferencia_listas(lista_a, lista_b):\n",
        "  '''\n",
        "  Se revisan cuales elementos de la primera lista no se encuentran en la segunda lista\n",
        "  '''\n",
        "  diferencia = [] # lista para agregar los elementos que están en la primera lista y que no están en la segunda\n",
        "  for elemento in lista_a: # se hace un recorrido por cada uno de los elementos de la primera lista\n",
        "    if elemento not in lista_b: # se verifica si el elemnento no se encuentra en la segunda lista\n",
        "      diferencia.append(elemento) # si el elemento de la primera lista no está en la segunda, se agrega a la diferencia\n",
        "  return diferencia\n",
        "\n",
        "# Se reciben dos listas del usuario, con elementos separados por coma\n",
        "lista_a = [cadena for cadena in input().split(',')]\n",
        "lista_b = [cadena for cadena in input().split(',')]\n",
        "print( diferencia_listas(lista_a, lista_b) )\n"
      ]
    },
    {
      "cell_type": "markdown",
      "metadata": {
        "id": "tuJNURh72oWb"
      },
      "source": [
        "**Problema No. 12**\n",
        "\n",
        "Desarrollar un algoritmo que calcule el promedio de un arreglo de reales.\n",
        "\n",
        "_Solución:_ Se crea una función que recibe un arreglo de números reales, suma todos los elementos, y divide por el tamaño del arreglo, así se obtiene el promedio.\n",
        "\n",
        "Para el arreglo, se usa la función que fue definida previamente en los ejercicios de clase para leer arreglos de números reales, aquí se nota la importancia del uso de funciones previamente construidas, lo que se suele llamar **reutilización de código**."
      ]
    },
    {
      "cell_type": "code",
      "execution_count": null,
      "metadata": {
        "id": "Sk7atytQ2t-N"
      },
      "outputs": [],
      "source": [
        "def promedio_reales(arreglo):\n",
        "  '''\n",
        "  Esta función recibe un arreglo de reales, y calcula el promedio\n",
        "  '''\n",
        "  sum = 0.0 # inicia de la acumuladora\n",
        "  for real in arreglo:  # se recorre todo el arreglo\n",
        "    sum += real # se incrementa la acumuladora\n",
        "  promedio = sum / len(arreglo)  # el promedio es la suma total sobre la cantidad de elementos\n",
        "  return promedio\n",
        "\n",
        "arreglo = lee_arreglo_reales()\n",
        "promedio = promedio_reales(arreglo)\n",
        "print(\"El promedio del arreglo es\", promedio)"
      ]
    },
    {
      "cell_type": "markdown",
      "metadata": {
        "id": "BvHbQuZZ2ubN"
      },
      "source": [
        "\n",
        "**Problema No. 13**\n",
        "\n",
        "Desarrollar un algoritmo que calcule el producto punto de dos arreglos de números enteros (reales) de igual tamaño."
      ]
    },
    {
      "cell_type": "code",
      "execution_count": null,
      "metadata": {
        "id": "WhUjH9rM20MG"
      },
      "outputs": [],
      "source": [
        "def producto_punto(vector_1, vector_2):\n",
        "  tamanio_vector_1 = len( vector_1 )\n",
        "  tamanio_vector_2 = len( vector_2 )\n",
        "  if tamanio_vector_1 == tamanio_vector_2:\n",
        "    sumatoria = 0\n",
        "    for i in range( tamanio_vector_1 ):\n",
        "      sumatoria += (vector_1[i] + vector_2[i])\n",
        "    return sumatoria\n",
        "  else:\n",
        "    return \"No se puede calcular.\"\n",
        "\n",
        "\n",
        "primer_vector            = lee_arreglo_reales()\n",
        "segundo_vector           = lee_arreglo_reales()\n",
        "resultado_producto_punto = producto_punto(primer_vector, segundo_vector)\n",
        "print(\"El resultado del producto punto es: \", resultado_producto_punto)"
      ]
    },
    {
      "cell_type": "markdown",
      "metadata": {
        "id": "p8BcNGeO20iE"
      },
      "source": [
        "**Problema No. 14**\n",
        "\n",
        "Desarrollar un algoritmo que determine la mediana de un arreglo de enteros. La mediana es el número que queda en la mitad del arreglo después de ser ordenado.\n",
        "\n",
        "_Solución:_ Se lee un arreglo de enteros, usando la función definida previamente en los ejercicios de clase, y se le realiza un ordenamiento. Luego, se obtiene la posición de la mitad del arreglo, y esa es la mediana."
      ]
    },
    {
      "cell_type": "code",
      "execution_count": null,
      "metadata": {
        "id": "c2OoRVsp28il"
      },
      "outputs": [],
      "source": [
        "arreglo = lee_arreglo_enteros()  # se utiliza la función del Ejercicio no. 45\n",
        "arreglo.sort()   # se ordena el arreglo\n",
        "print(\"Arreglo Ordenado:\", arreglo)\n",
        "mediana = arreglo[ (len(arreglo)//2)  ] # se calcula el índice que corresponde a la mitad del arreglo, y esa es la mediana\n",
        "print(\"La mediana del arreglo es\", mediana)"
      ]
    },
    {
      "cell_type": "markdown",
      "metadata": {
        "id": "gptE8a7t28KY"
      },
      "source": [
        "**Problema No. 15**\n",
        "\n",
        "Desarrollar un algoritmo que permita multiplicar dos matrices de números reales (enteros)."
      ]
    },
    {
      "cell_type": "code",
      "execution_count": null,
      "metadata": {
        "id": "KKUoD4t222Rn"
      },
      "outputs": [],
      "source": []
    },
    {
      "cell_type": "markdown",
      "metadata": {
        "id": "T8KoSxbTc5V3"
      },
      "source": [
        "**Problema No. 16**\n",
        "\n",
        "Se debe hacer un cruce de dos listas de información, una que corresponde a un listado de personas censadas, y otro es un listado de personas con su información socio-demográfica. La idea es cruzar estos listados, ver las personas que están censadas y que al tiempo tienen información socio-demográfica, y determinar si merecen servicios de apoyo del estado o no.\n",
        "Finalmente, se debe generar una lista de personas que están en alguna de las dos listas, pero no en las dos al mismo tiempo.\n"
      ]
    },
    {
      "cell_type": "code",
      "execution_count": null,
      "metadata": {
        "colab": {
          "background_save": true
        },
        "id": "0DSkjZ5Lc-TX",
        "outputId": "80134b50-cd1f-4610-de37-0335e70b9c71"
      },
      "outputs": [
        {
          "name": "stdout",
          "output_type": "stream",
          "text": [
            "[[23154, 'Pepito', 32, 3]]\n"
          ]
        }
      ],
      "source": [
        "def censo():\n",
        "  poblacion = []\n",
        "  while True:\n",
        "    cedula  = int( input(\"Ingrese cédula o 0 para terminar: \") )\n",
        "    if cedula == 0:\n",
        "      break\n",
        "    nombre  = input(\"Ingrese nombre: \")\n",
        "    edad    = int(input(\"Ingrese edad: \"))\n",
        "    estrato = int(input(\"Ingrese estrato: \"))\n",
        "    persona = [cedula, nombre, edad, estrato]\n",
        "    poblacion.append(persona)\n",
        "  return poblacion\n",
        "\n",
        "def encuesta_sisben():\n",
        "  poblacion = []\n",
        "  while True:\n",
        "    cedula  = int( input(\"Ingrese cédula o 0 para terminar: \") )\n",
        "    if cedula == 0:\n",
        "      break\n",
        "    nombre   = input(\"Ingrese nombre: \")\n",
        "    ingresos = float(input(\"Ingrese ingresos: \"))\n",
        "    poblacion_vulnerable = input(\"Ingrese si es vulnerable (Si o No): \")\n",
        "    poblacion_vulnerable = True if poblacion_vulnerable.lower() == \"si\" else False\n",
        "    area = input(\"Ingrese área de ubicación (rural o urbano): \")\n",
        "    persona = [cedula, nombre, ingresos, poblacion_vulnerable, area]\n",
        "    poblacion.append(persona)\n",
        "  return poblacion\n",
        "\n",
        "resultado_censo = censo()\n",
        "print(resultado_censo)\n",
        "\n",
        "resultado_sisben = encuesta_sisben()\n",
        "print(resultado_sisben)\n",
        "\n",
        "poblacion_cruce_informacion = []\n",
        "for persona_censo in resultado_censo:\n",
        "  cedula_censo = persona_censo[0]\n",
        "  for persona_sisben in resultado_sisben:\n",
        "    cedula_sisben = persona_sisben[0]\n",
        "    if cedula_censo == cedula_sisben:\n",
        "      temp = persona_censo + persona_sisben[2:]\n",
        "      poblacion_cruce_informacion.append(temp)\n",
        "\n",
        "print(poblacion_cruce_informacion)\n"
      ]
    }
  ],
  "metadata": {
    "colab": {
      "provenance": []
    },
    "kernelspec": {
      "display_name": "Python 3",
      "name": "python3"
    },
    "language_info": {
      "name": "python"
    }
  },
  "nbformat": 4,
  "nbformat_minor": 0
}
