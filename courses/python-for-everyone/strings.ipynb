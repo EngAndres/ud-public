{
  "cells": [
    {
      "cell_type": "markdown",
      "metadata": {
        "id": "oV330u5bgHUp"
      },
      "source": [
        "***\n",
        "# Strings\n",
        "\n",
        "__Example No. 1__\n",
        "\n",
        "This is an example where a string called _str\\_1_ is created that has a happy face, using __Unicode__ and a conditional, the emoji is printed.\n",
        "Additionally, there is the string _str\\_2_ which is also an example of a string with a symbol using __Unicode__."
      ]
    },
    {
      "cell_type": "code",
      "execution_count": 1,
      "metadata": {
        "id": "ZV9h1jq_yxBg"
      },
      "outputs": [
        {
          "name": "stdout",
          "output_type": "stream",
          "text": [
            "☺\n",
            "example of string ㍄\n"
          ]
        }
      ],
      "source": [
        "str_1 = \":)\"  # creation of a string\n",
        "if str_1 == \":)\":  # validation if the string can be interpreted as a happy face\n",
        "    print(\"\\u263A\")  # Unicode code for a happy face emoji\n",
        "\n",
        "str_2 = \"example of string \\u3344\"  # creation of a string with text and Unicode\n",
        "print(str_2)"
      ]
    },
    {
      "cell_type": "markdown",
      "metadata": {
        "id": "lHLlr6L3gG3m"
      },
      "source": [
        "__Example No. 2__\n",
        "\n",
        "The operation of concatenating joins two strings using the $+$ symbol. The exercise shows several ways to concatenate, it being important to use space as a normal character."
      ]
    },
    {
      "cell_type": "code",
      "execution_count": 2,
      "metadata": {
        "id": "jwWo-4R8ztSh"
      },
      "outputs": [
        {
          "name": "stdout",
          "output_type": "stream",
          "text": [
            "Rick Sanchez the scientist\n",
            "Rick SanchezBad Grandpa\n",
            "Bad Grandpa Rick Sanchez\n"
          ]
        }
      ],
      "source": [
        "name = \"Rick Sanchez\"  # first string\n",
        "job = \"Bad Grandpa\"  # second string\n",
        "\n",
        "print(name + \" the scientist\")  # concatenation of string variable with a written string\n",
        "print(name + job)  # concatenation of two string variables\n",
        "print(job + \" \" + name)  # concatenation of variable, string, and again a variable"
      ]
    },
    {
      "cell_type": "markdown",
      "metadata": {
        "id": "V27QuxnFgGPR"
      },
      "source": [
        "__Example No. 3__\n",
        "\n",
        "In this example, it is shown how to compare strings using lexicographic order to determine if one is less than the other. In lexicographic order, everything is compared character by character, regardless of the size of the strings."
      ]
    },
    {
      "cell_type": "code",
      "execution_count": 3,
      "metadata": {
        "id": "ruqypQLC1qDN"
      },
      "outputs": [
        {
          "name": "stdout",
          "output_type": "stream",
          "text": [
            "Result:  True\n"
          ]
        }
      ],
      "source": [
        "print(\"Result: \", (\"house\" < \"houses\"))"
      ]
    },
    {
      "cell_type": "markdown",
      "metadata": {
        "id": "za4acDzIgFzT"
      },
      "source": [
        "__Example No. 4__\n",
        "\n",
        "In this example, it is shown how to access the elements of a string with the subscript, remembering that the index of the first character of the string is zero ($0$), and the last one will be the size minus one ($n - 1$)."
      ]
    },
    {
      "cell_type": "code",
      "execution_count": 4,
      "metadata": {
        "id": "L2jwtbvY34lQ"
      },
      "outputs": [
        {
          "name": "stdout",
          "output_type": "stream",
          "text": [
            "Character at position 0:  M\n",
            "Character at position 6:  P\n",
            "Character at position 4:  y\n",
            "Character at position -1:  n\n",
            "Character at position 5:   \n",
            "Character at position 8:  t\n"
          ]
        }
      ],
      "source": [
        "name = \"Monty Python\"\n",
        "\n",
        "print(\"Character at position 0: \", name[0])  # prints M\n",
        "print(\"Character at position 6: \", name[6])  # prints P\n",
        "print(\"Character at position 4: \", name[4])  # prints y\n",
        "print(\"Character at position -1: \", name[-1])  # prints n\n",
        "print(\"Character at position 5: \", name[5])  # prints ' '\n",
        "print(\"Character at position 8: \", name[8])  # prints t"
      ]
    },
    {
      "cell_type": "markdown",
      "metadata": {
        "id": "TuCtj1lqgFF1"
      },
      "source": [
        "__Example No. 5__\n",
        "\n",
        "In this example, it is necessary to determine if a substring is found in a string.\n",
        "\n",
        "A conditional is used with the reserved word __in__ which is based on the concept of set membership. In this way, it is determined if the substring belongs to or is inside the string."
      ]
    },
    {
      "cell_type": "code",
      "execution_count": 5,
      "metadata": {
        "id": "SdNJsoVc6HKA"
      },
      "outputs": [
        {
          "name": "stdout",
          "output_type": "stream",
          "text": [
            "yes to python\n"
          ]
        }
      ],
      "source": [
        "text = \"how to code in python\"  # base text\n",
        "if \"in python\" in text:  # conditional with the reserved word in to determine membership\n",
        "    print(\"yes to python\")\n",
        "else:  # path if the text is not there\n",
        "    print(\"no to python\")"
      ]
    },
    {
      "cell_type": "markdown",
      "metadata": {
        "id": "BnNZQK3tgEm5"
      },
      "source": [
        "__Example No. 6__\n",
        "\n",
        "In this example, it is shown that it is possible to iterate a string using the __for__ loop. In the iteration, each character is interpreted as an independent element, so it goes through the string character by character.\n",
        "\n",
        "Additionally, it is shown how a conditional can be placed inside the loop to determine the number of times a specific character appears."
      ]
    },
    {
      "cell_type": "code",
      "execution_count": 7,
      "metadata": {
        "id": "i-l1hpdg6vsz"
      },
      "outputs": [
        {
          "name": "stdout",
          "output_type": "stream",
          "text": [
            "h - e - l - l - o -   - m - y -   - f - r - i - e - n - d - s - \n",
            "counter:  1\n"
          ]
        }
      ],
      "source": [
        "greeting = \"hello my friends\"  # base string\n",
        "counter = 0  # counter for the occurrences of a character\n",
        "\n",
        "for character in greeting:  # traversal of the character string\n",
        "    if character == \"m\":\n",
        "        # verification if the character that is being obtained from the string is equal to an expected one\n",
        "        counter += 1  # increment of the occurrence counter\n",
        "    print(character, end=\" - \")  # printing of the character that is in the iteration\n",
        "\n",
        "print(\"\\ncounter: \", counter)"
      ]
    },
    {
      "cell_type": "markdown",
      "metadata": {
        "id": "8fj03fBJgD1M"
      },
      "source": [
        "__Example No. 7__\n",
        "\n",
        "The function __len__ determines the length of a string, that is, the number of characters that make up the string.\n",
        "\n",
        "Among the relevant annotations at this point is that any combination with an escape character counts as a single character, even a Unicode."
      ]
    },
    {
      "cell_type": "code",
      "execution_count": 8,
      "metadata": {
        "id": "hCLyAMaK8e4o"
      },
      "outputs": [
        {
          "name": "stdout",
          "output_type": "stream",
          "text": [
            "Size of the variable \"name\":  12\n",
            "Size of the variable \"job\":  11\n",
            "Size of the variable \"planet\":  13\n",
            "Size of the variable \"empty\":  0\n",
            "Print of the variable \"planet\":  Earth \t 敂 755\n"
          ]
        }
      ],
      "source": [
        "name = \"Rick Sanchez\"\n",
        "job = \"Bad Grandpa\"\n",
        "planet = \"Earth \\t \\u6542 755\"\n",
        "empty = \"\"\n",
        "\n",
        "# print the sizes of the variables\n",
        "print('Size of the variable \"name\": ', len(name))\n",
        "print('Size of the variable \"job\": ', len(job))\n",
        "print('Size of the variable \"planet\": ', len(planet))\n",
        "print('Size of the variable \"empty\": ', len(empty))\n",
        "\n",
        "# print to see the UNICODE character\n",
        "print('Print of the variable \"planet\": ', planet)"
      ]
    },
    {
      "cell_type": "markdown",
      "metadata": {
        "id": "ACtKlPafgDL9"
      },
      "source": [
        "__Example No. 8__\n",
        "\n",
        "The slice function obtains a portion (substring) of a string. The notation is similar to the range function, [start : end : increment]. At a minimum, the start and end values must be given, separated by colons, where by default the start is character $0$ and the end is the last character of the string. If you want to change the increment, you must add the third parameter, also separated by colons."
      ]
    },
    {
      "cell_type": "code",
      "execution_count": 12,
      "metadata": {
        "id": "9zvXPHKJ_EWn"
      },
      "outputs": [
        {
          "name": "stdout",
          "output_type": "stream",
          "text": [
            "Monty Python\n",
            "nt\n",
            "Pyth\n",
            "nohtyP\n"
          ]
        }
      ],
      "source": [
        "name = \"Monty Python\"  # base string\n",
        "# slice that brings all the elements\n",
        "print(name[:])\n",
        "# slice that brings the characters in positions two and three\n",
        "print(name[2:4])\n",
        "# slice that brings the characters starting at character six up to nine\n",
        "print(name[6:10])\n",
        "# slice that takes a part and generates the reverse of the substring\n",
        "print(name[11:5:-1])"
      ]
    },
    {
      "cell_type": "markdown",
      "metadata": {
        "id": "JHTIE1nUaU32"
      },
      "source": [
        "__Problem No. 1__\n",
        "\n",
        "_Problem:_ Develop an algorithm that determines if a string is a palindrome. A string is said to be a palindrome if it is the same when reversed.\n",
        "\n",
        "_Solution:_ The reverse of the phrase is obtained and compared with the original, and if they are the same, it is considered a palindrome."
      ]
    },
    {
      "cell_type": "code",
      "execution_count": 1,
      "metadata": {
        "id": "M4NWElM1aZZB"
      },
      "outputs": [
        {
          "name": "stdout",
          "output_type": "stream",
          "text": [
            "Yes, it is\n"
          ]
        }
      ],
      "source": [
        "phrase = \"amor a roma\"  # base string\n",
        "reverse = phrase[::-1]  # slice to get the reverse of the string\n",
        "\n",
        "# compare the base and the reverse, if they are the same, it is considered a palindrome\n",
        "if phrase == reverse:\n",
        "    print(\"Yes, it is\")\n",
        "else:\n",
        "    print(\"Too bad, it's not\")"
      ]
    },
    {
      "cell_type": "markdown",
      "metadata": {
        "id": "ZtJCCTafgAxJ"
      },
      "source": [
        "__Example No. 9__\n",
        "\n",
        "The count method gets the number of times a substring is found in a string (or in a part of it). The notation is _count(substring, start, end)_."
      ]
    },
    {
      "cell_type": "code",
      "execution_count": 2,
      "metadata": {
        "id": "9lhww3PPAPFK"
      },
      "outputs": [
        {
          "name": "stdout",
          "output_type": "stream",
          "text": [
            "Length of the string:  16\n",
            "2\n",
            "1\n",
            "1\n",
            "6\n"
          ]
        }
      ],
      "source": [
        "str_1 = \"The Looney Toons\"  # base string\n",
        "print(\"Length of the string: \", len(str_1))  # get the length of the string\n",
        "\n",
        "# Counts the number of e's in the string. The answer should be 2\n",
        "print(str_1.count(\"e\"))\n",
        "\n",
        "# Counts the number of e's in the first part of the string. The answer should be 1\n",
        "print(str_1.count(\"e\", 0, 3))\n",
        "\n",
        "# Counts the number of e's in the second part of the string. The answer should be 1\n",
        "print(str_1.count(\"e\", 4, len(str_1)))\n",
        "\n",
        "str_2 = \"abcabcabcabcabcabc\"  # second example string\n",
        "# counts the occurrences of the substring abc, the answer should be 6 in this case\n",
        "print(str_2.count(\"abc\"))"
      ]
    },
    {
      "cell_type": "markdown",
      "metadata": {
        "id": "qXOMMBXtgABr"
      },
      "source": [
        "__Example No. 10__\n",
        "\n",
        "The _find_ and _rfind_ methods get the first and last occurrence of a substring in a string (or in a part of it), respectively. The notation is _find/rfind(substring, start, end)_."
      ]
    },
    {
      "cell_type": "code",
      "execution_count": 4,
      "metadata": {
        "id": "EiLqmiS13AZ4"
      },
      "outputs": [
        {
          "name": "stdout",
          "output_type": "stream",
          "text": [
            "length: 93\n",
            "first: -1\n",
            "last: 89\n"
          ]
        }
      ],
      "source": [
        "str_1 = \"It is not despair, for despair is only for those who see the end beyond all doubt. We do not.\"  # base string\n",
        "\n",
        "print(\"length:\", len(str_1))  # print the length of the string\n",
        "\n",
        "# search for the first occurrence from left to right, it is sensitive case\n",
        "print(\"first:\", str_1.find(\"it\"))\n",
        "\n",
        "# search for the first occurrence from right to left\n",
        "print(\"last:\", str_1.rfind(\"not\"))"
      ]
    },
    {
      "cell_type": "markdown",
      "metadata": {
        "id": "wDcR3dZYf_bT"
      },
      "source": [
        "__Example No. 11__\n",
        "\n",
        "In this example, several methods are shown that operate according to uppercase and lowercase, modifications that can be made to adjust the handling according to what is expected."
      ]
    },
    {
      "cell_type": "code",
      "execution_count": 5,
      "metadata": {
        "id": "7cotmy5NCYIZ"
      },
      "outputs": [
        {
          "name": "stdout",
          "output_type": "stream",
          "text": [
            "Lower: how to code in python\n",
            "Upper: HOW TO CODE IN PYTHON\n",
            "Capitalize: How to code in python\n",
            "Title: How To Code In Python\n",
            "Swapcase: HoW TO cODE in PyTHON\n"
          ]
        }
      ],
      "source": [
        "s = \"hOw to Code IN pYthon\"  # base string\n",
        "\n",
        "print(\"Lower:\", s.lower())  # Displays the string in lowercase\n",
        "print(\"Upper:\", s.upper())  # Displays the string in uppercase\n",
        "print(\"Capitalize:\", s.capitalize())  # First letter to uppercase\n",
        "print(\"Title:\", s.title())  # First letter of each word to uppercase\n",
        "# converts from lowercase to uppercase, and from uppercase to lowercase\n",
        "print(\"Swapcase:\", s.swapcase())"
      ]
    },
    {
      "cell_type": "markdown",
      "metadata": {
        "id": "PftILVXjf-mR"
      },
      "source": [
        "__Problem No. 2__\n",
        "\n",
        "_Problem:_ A function must be created that receives a substring, and determines the number of times it appears in a string.\n",
        "\n",
        "_Solution:_ A function is created that first receives both the string and the substring, and converts them to lowercase to make the appropriate comparisons. Then, a loop is made that traverses the base string through the notion of index using the variable $i$, and through the _find_ function applied on a substring obtained through _slicing_, it finds each of the occurrences by limiting the search space in each iteration."
      ]
    },
    {
      "cell_type": "code",
      "execution_count": 9,
      "metadata": {
        "id": "kqBwD8R37dnA"
      },
      "outputs": [
        {
          "name": "stdout",
          "output_type": "stream",
          "text": [
            "index:  3\n",
            "index:  31\n",
            "Count using 'count' built-in function: 2\n",
            "\n",
            "The string 'is' appears 2 times\n"
          ]
        }
      ],
      "source": [
        "def count_occurrences(string: str, substring: str) -> int:\n",
        "    \"\"\"\n",
        "    Function that counts the number of occurrences of a substring in a string.\n",
        "\n",
        "    Parameters:\n",
        "    - string (str): The string in which the substring will be searched\n",
        "    - substring (str): The substring that will be searched in the string\n",
        "\n",
        "    Returns:\n",
        "    - int: Number of occurrences of the substring in the string\n",
        "    \"\"\"\n",
        "    string = string.lower()  # convert to lowercase to facilitate comparison\n",
        "    substring = substring.lower()  # convert to lowercase to facilitate comparison\n",
        "    counter = 0  # counter of occurrences\n",
        "    i = 0  # index to traverse the base string\n",
        "    # it is verified that the index is always within the allowed range\n",
        "    while i < len(string):\n",
        "        # using slicing, the search for the substring is done by segments\n",
        "        index = string[i:].find(substring)\n",
        "\n",
        "        # it is verified that if the substring was found in the search segment\n",
        "        if index != -1:\n",
        "            print(\"index: \", i + index)  # the index is printed\n",
        "            counter += 1  # the counter is increased\n",
        "            i += index + 1  # the search segment is decreased\n",
        "        else:\n",
        "            break  # if no more occurrences are found, the search ends\n",
        "    return counter\n",
        "\n",
        "\n",
        "str_1 = \"It is not despair, for despair is only for those who see the end beyond all doubt. We do not.\"\n",
        "substring = \"is\"\n",
        "counter = count_occurrences(str_1, substring)\n",
        "print(\"Count using 'count' built-in function:\", str_1.count(substring))\n",
        "\n",
        "print(\"\\nThe string '\" + substring + \"' appears \" + str(counter) + \" times\")"
      ]
    },
    {
      "cell_type": "markdown",
      "metadata": {
        "id": "UZc9tqL1f-CY"
      },
      "source": [
        "__Example No. 12__\n",
        "\n",
        "The _strip/lstrip/rstrip_ methods remove the desired characters to the _two sides/left/right_ of a string. The notation is strip/lstrip/rstrip(characters). If no characters are given as an argument, it removes white spaces (spaces and tabs)."
      ]
    },
    {
      "cell_type": "code",
      "execution_count": 11,
      "metadata": {
        "id": "HpOQRfbcHAoi"
      },
      "outputs": [
        {
          "name": "stdout",
          "output_type": "stream",
          "text": [
            "Remove spaces on both sides: ---++---how to code in Python---++---\n",
            "Remove symbols on both sides: how to code in Python\n",
            "Remove left side: how to code in Python---++---\n",
            "Remove right side: ---++---how to code in Python\n"
          ]
        }
      ],
      "source": [
        "str_1 = \"---++---how to code in Python---++---\"  # base string\n",
        "\n",
        "print(\n",
        "    \"Remove spaces on both sides:\", str_1.strip()\n",
        ")  # remove spaces if they exist on the ends\n",
        "print(\n",
        "    \"Remove symbols on both sides:\", str_1.strip(\"-+\")\n",
        ")  # remove these characters, -+, on both sides\n",
        "print(\n",
        "    \"Remove left side:\", str_1.lstrip(\"-+\")\n",
        ")  # remove these characters, -+, on the left end\n",
        "print(\n",
        "    \"Remove right side:\", str_1.rstrip(\"-+\")\n",
        ")  # remove these characters, -+, on the right end"
      ]
    },
    {
      "cell_type": "markdown",
      "metadata": {
        "id": "iS99546Ff9hn"
      },
      "source": [
        "__Example No. 13__\n",
        "\n",
        "The _split_ method divides a string according to a substring that serves as a delimiter, leaving the separated parts in a list. The notation is _split('substring')_. With indexes, you can access the elements of the list."
      ]
    },
    {
      "cell_type": "code",
      "execution_count": 12,
      "metadata": {
        "id": "oRyiVrcNIIDS"
      },
      "outputs": [
        {
          "name": "stdout",
          "output_type": "stream",
          "text": [
            "Full split: ['01', '06', '2021']\n",
            "day: 01 - month: 06 - year: 2021\n"
          ]
        }
      ],
      "source": [
        "sdate = \"01-06-2021\"  # example of a string representing a date\n",
        "sp = sdate.split(\"-\")  # a division, or split, is made using the hyphen\n",
        "print(\"Full split:\", sp)  # print the resulting list\n",
        "print(\"day:\", sp[0], \"- month:\", sp[1], \"- year:\", sp[2])  # print by component"
      ]
    },
    {
      "cell_type": "markdown",
      "metadata": {
        "id": "PHCTfftNf8xi"
      },
      "source": [
        "__Example No. 14__\n",
        "\n",
        "In this example, the _replace_ method is shown to replace a substring in a string with another. The notation is _replace(old_substring, new_substring)_. It is important to highlight that all matches will be replaced, so you should be careful how you handle it to avoid losing information."
      ]
    },
    {
      "cell_type": "code",
      "execution_count": 14,
      "metadata": {
        "id": "-xAn3o0oKxmI"
      },
      "outputs": [
        {
          "name": "stdout",
          "output_type": "stream",
          "text": [
            "Original: how to code in python\n",
            "First version: how to learn in python\n",
            "Second version: how to learn about python\n",
            "Final version: how to learn about software engineering\n"
          ]
        }
      ],
      "source": [
        "str_1 = \"how to code in python\"  # base string\n",
        "print(\"Original:\", str_1)\n",
        "\n",
        "rep = str_1.replace(\"code\", \"learn\")  # first replacement\n",
        "print(\"First version:\", rep)\n",
        "\n",
        "rep = rep.replace(\"in\", \"about\")  # second replacement\n",
        "print(\"Second version:\", rep)\n",
        "\n",
        "rep = rep.replace(\"python\", \"software engineering\")  # third replacement\n",
        "print(\"Final version:\", rep)"
      ]
    },
    {
      "cell_type": "markdown",
      "metadata": {
        "id": "AFtuuxRogBnu"
      },
      "source": [
        "__Problem No. 3__\n",
        "\n",
        "_Problem:_ Develop an algorithm that determines if a string is a palindrome phrase, that is, if it is a palindrome when spaces, accents, punctuation marks are removed and considering uppercase=lowercase.\n",
        "\n",
        "_Solution :_ In this case, a phrase is taken, the __replace__ function is used to eliminate all possible spaces, and using __slice__ the reverse of the *phrase* string is stored in the *reverse* variable. Then the original and reverse strings are compared, and if they are the same, after removing the spaces, it is considered that the string is a palindrome phrase."
      ]
    },
    {
      "cell_type": "code",
      "execution_count": 16,
      "metadata": {
        "id": "szBaGmFJ_lSp"
      },
      "outputs": [
        {
          "name": "stdout",
          "output_type": "stream",
          "text": [
            "Original: anitalavalatina\n",
            "Reverse: anitalavalatina\n",
            "Yes it is, yes it is\n"
          ]
        }
      ],
      "source": [
        "phrase = \"anita lava la tina\"  # base string\n",
        "# replace the spaces in the string with an empty character, this removes the spaces\n",
        "phrase = phrase.replace(\" \", \"\")\n",
        "reverse = phrase[::-1]  # using slicing, the reverse of the string is obtained\n",
        "\n",
        "print(\"Original:\", phrase)\n",
        "print(\"Reverse:\", reverse)\n",
        "# if the original string and the reverse string are the same, it is considered that the phrase is a palindrome\n",
        "if phrase == reverse:\n",
        "    print(\"Yes it is, yes it is\")\n",
        "else:\n",
        "    print(\"Too bad, it's not\")"
      ]
    },
    {
      "cell_type": "markdown",
      "metadata": {
        "id": "xEnKk529f76n"
      },
      "source": [
        "__Problem No. 4__\n",
        "\n",
        "_Problem:_ A poem must be received, and from this, the sentences and words that compose it must be obtained.\n",
        "\n",
        "_Solution:_ The poem is taken and to separate the sentences a _split_ is done using the character \".\" and using the _strip()_ function to remove spaces at the beginning and end of the sentence.\n",
        "To obtain the words, a _split_ is done using the character \" \", and using the _strip(\".\")_ function to remove dots that may be at the beginning or end of the word."
      ]
    },
    {
      "cell_type": "code",
      "execution_count": 18,
      "metadata": {
        "id": "oqmUEOU-Ie7u"
      },
      "outputs": [
        {
          "name": "stdout",
          "output_type": "stream",
          "text": [
            "SENTENCES:\n",
            "Las azucenas son azules\n",
            "Las rosas son rojas\n",
            "El mundo es feliz\n",
            "\n",
            "\n",
            "WORDS:\n",
            "Las\n",
            "azucenas\n",
            "son\n",
            "azules\n",
            "Las\n",
            "rosas\n",
            "son\n",
            "rojas\n",
            "El\n",
            "mundo\n",
            "es\n",
            "feliz\n"
          ]
        }
      ],
      "source": [
        "# very original poem XD\n",
        "poem = \"Las azucenas son azules. Las rosas son rojas. El mundo es feliz.\"\n",
        "# sentences are split understanding that the period is the character that indicates the change of sentence\n",
        "sentences = poem.split(\".\")\n",
        "\n",
        "# words are split understanding that the space is the character that indicates the change of word\n",
        "words = poem.split(\" \")\n",
        "\n",
        "print(\"SENTENCES:\")\n",
        "for sentence in sentences:  # an iteration is made through the collection of sentences\n",
        "    # the sentence is printed including a format to remove spaces at the beginning and end of it\n",
        "    print(sentence.strip())\n",
        "\n",
        "print(\"\\nWORDS:\")\n",
        "for word in words:  # an iteration is made through the collection of words\n",
        "    # the word is printed including a format to remove periods at the beginning and end of it\n",
        "    print(word.strip(\".\"))"
      ]
    }
  ],
  "metadata": {
    "colab": {
      "provenance": []
    },
    "kernelspec": {
      "display_name": "Python 3",
      "name": "python3"
    },
    "language_info": {
      "codemirror_mode": {
        "name": "ipython",
        "version": 3
      },
      "file_extension": ".py",
      "mimetype": "text/x-python",
      "name": "python",
      "nbconvert_exporter": "python",
      "pygments_lexer": "ipython3",
      "version": "3.11.0"
    }
  },
  "nbformat": 4,
  "nbformat_minor": 0
}
