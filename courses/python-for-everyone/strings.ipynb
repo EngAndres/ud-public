{
  "cells": [
    {
      "cell_type": "markdown",
      "metadata": {
        "id": "oV330u5bgHUp"
      },
      "source": [
        "***\n",
        "# Strings\n",
        "\n",
        "__Example No. 1__\n",
        "\n",
        "This is an example where a string called _str\\_1_ is created that has a happy face, using __Unicode__ and a conditional, the emoji is printed.\n",
        "Additionally, there is the string _str\\_2_ which is also an example of a string with a symbol using __Unicode__."
      ]
    },
    {
      "cell_type": "code",
      "execution_count": 1,
      "metadata": {
        "id": "ZV9h1jq_yxBg"
      },
      "outputs": [
        {
          "name": "stdout",
          "output_type": "stream",
          "text": [
            "☺\n",
            "example of string ㍄\n"
          ]
        }
      ],
      "source": [
        "str_1 = \":)\"  # creation of a string\n",
        "if str_1 == \":)\":  # validation if the string can be interpreted as a happy face\n",
        "    print(\"\\u263A\")  # Unicode code for a happy face emoji\n",
        "\n",
        "str_2 = \"example of string \\u3344\"  # creation of a string with text and Unicode\n",
        "print(str_2)"
      ]
    },
    {
      "cell_type": "markdown",
      "metadata": {
        "id": "lHLlr6L3gG3m"
      },
      "source": [
        "__Example No. 2__\n",
        "\n",
        "The operation of concatenating joins two strings using the $+$ symbol. The exercise shows several ways to concatenate, it being important to use space as a normal character."
      ]
    },
    {
      "cell_type": "code",
      "execution_count": 2,
      "metadata": {
        "id": "jwWo-4R8ztSh"
      },
      "outputs": [
        {
          "name": "stdout",
          "output_type": "stream",
          "text": [
            "Rick Sanchez the scientist\n",
            "Rick SanchezBad Grandpa\n",
            "Bad Grandpa Rick Sanchez\n"
          ]
        }
      ],
      "source": [
        "name = \"Rick Sanchez\"  # first string\n",
        "job = \"Bad Grandpa\"  # second string\n",
        "\n",
        "print(name + \" the scientist\")  # concatenation of string variable with a written string\n",
        "print(name + job)  # concatenation of two string variables\n",
        "print(job + \" \" + name)  # concatenation of variable, string, and again a variable"
      ]
    },
    {
      "cell_type": "markdown",
      "metadata": {
        "id": "V27QuxnFgGPR"
      },
      "source": [
        "__Example No. 3__\n",
        "\n",
        "In this example, it is shown how to compare strings using lexicographic order to determine if one is less than the other. In lexicographic order, everything is compared character by character, regardless of the size of the strings."
      ]
    },
    {
      "cell_type": "code",
      "execution_count": 3,
      "metadata": {
        "id": "ruqypQLC1qDN"
      },
      "outputs": [
        {
          "name": "stdout",
          "output_type": "stream",
          "text": [
            "Result:  True\n"
          ]
        }
      ],
      "source": [
        "print(\"Result: \", (\"house\" < \"houses\"))"
      ]
    },
    {
      "cell_type": "markdown",
      "metadata": {
        "id": "za4acDzIgFzT"
      },
      "source": [
        "__Example No. 4__\n",
        "\n",
        "In this example, it is shown how to access the elements of a string with the subscript, remembering that the index of the first character of the string is zero ($0$), and the last one will be the size minus one ($n - 1$)."
      ]
    },
    {
      "cell_type": "code",
      "execution_count": 4,
      "metadata": {
        "id": "L2jwtbvY34lQ"
      },
      "outputs": [
        {
          "name": "stdout",
          "output_type": "stream",
          "text": [
            "Character at position 0:  M\n",
            "Character at position 6:  P\n",
            "Character at position 4:  y\n",
            "Character at position -1:  n\n",
            "Character at position 5:   \n",
            "Character at position 8:  t\n"
          ]
        }
      ],
      "source": [
        "name = \"Monty Python\"\n",
        "\n",
        "print(\"Character at position 0: \", name[0])  # prints M\n",
        "print(\"Character at position 6: \", name[6])  # prints P\n",
        "print(\"Character at position 4: \", name[4])  # prints y\n",
        "print(\"Character at position -1: \", name[-1])  # prints n\n",
        "print(\"Character at position 5: \", name[5])  # prints ' '\n",
        "print(\"Character at position 8: \", name[8])  # prints t"
      ]
    },
    {
      "cell_type": "markdown",
      "metadata": {
        "id": "TuCtj1lqgFF1"
      },
      "source": [
        "__Example No. 5__\n",
        "\n",
        "In this example, it is necessary to determine if a substring is found in a string.\n",
        "\n",
        "A conditional is used with the reserved word __in__ which is based on the concept of set membership. In this way, it is determined if the substring belongs to or is inside the string."
      ]
    },
    {
      "cell_type": "code",
      "execution_count": 5,
      "metadata": {
        "id": "SdNJsoVc6HKA"
      },
      "outputs": [
        {
          "name": "stdout",
          "output_type": "stream",
          "text": [
            "yes to python\n"
          ]
        }
      ],
      "source": [
        "text = \"how to code in python\"  # base text\n",
        "if \"in python\" in text:  # conditional with the reserved word in to determine membership\n",
        "    print(\"yes to python\")\n",
        "else:  # path if the text is not there\n",
        "    print(\"no to python\")"
      ]
    },
    {
      "cell_type": "markdown",
      "metadata": {
        "id": "BnNZQK3tgEm5"
      },
      "source": [
        "__Example No. 6__\n",
        "\n",
        "In this example, it is shown that it is possible to iterate a string using the __for__ loop. In the iteration, each character is interpreted as an independent element, so it goes through the string character by character.\n",
        "\n",
        "Additionally, it is shown how a conditional can be placed inside the loop to determine the number of times a specific character appears."
      ]
    },
    {
      "cell_type": "code",
      "execution_count": 7,
      "metadata": {
        "id": "i-l1hpdg6vsz"
      },
      "outputs": [
        {
          "name": "stdout",
          "output_type": "stream",
          "text": [
            "h - e - l - l - o -   - m - y -   - f - r - i - e - n - d - s - \n",
            "counter:  1\n"
          ]
        }
      ],
      "source": [
        "greeting = \"hello my friends\"  # base string\n",
        "counter = 0  # counter for the occurrences of a character\n",
        "\n",
        "for character in greeting:  # traversal of the character string\n",
        "    if character == \"m\":\n",
        "        # verification if the character that is being obtained from the string is equal to an expected one\n",
        "        counter += 1  # increment of the occurrence counter\n",
        "    print(character, end=\" - \")  # printing of the character that is in the iteration\n",
        "\n",
        "print(\"\\ncounter: \", counter)"
      ]
    },
    {
      "cell_type": "markdown",
      "metadata": {
        "id": "8fj03fBJgD1M"
      },
      "source": [
        "__Example No. 7__\n",
        "\n",
        "The function __len__ determines the length of a string, that is, the number of characters that make up the string.\n",
        "\n",
        "Among the relevant annotations at this point is that any combination with an escape character counts as a single character, even a Unicode."
      ]
    },
    {
      "cell_type": "code",
      "execution_count": 8,
      "metadata": {
        "id": "hCLyAMaK8e4o"
      },
      "outputs": [
        {
          "name": "stdout",
          "output_type": "stream",
          "text": [
            "Size of the variable \"name\":  12\n",
            "Size of the variable \"job\":  11\n",
            "Size of the variable \"planet\":  13\n",
            "Size of the variable \"empty\":  0\n",
            "Print of the variable \"planet\":  Earth \t 敂 755\n"
          ]
        }
      ],
      "source": [
        "name = \"Rick Sanchez\"\n",
        "job = \"Bad Grandpa\"\n",
        "planet = \"Earth \\t \\u6542 755\"\n",
        "empty = \"\"\n",
        "\n",
        "# print the sizes of the variables\n",
        "print('Size of the variable \"name\": ', len(name))\n",
        "print('Size of the variable \"job\": ', len(job))\n",
        "print('Size of the variable \"planet\": ', len(planet))\n",
        "print('Size of the variable \"empty\": ', len(empty))\n",
        "\n",
        "# print to see the UNICODE character\n",
        "print('Print of the variable \"planet\": ', planet)  "
      ]
    },
    {
      "cell_type": "markdown",
      "metadata": {
        "id": "ACtKlPafgDL9"
      },
      "source": [
        "__Example No. 8__\n",
        "\n",
        "The slice function obtains a portion (substring) of a string. The notation is similar to the range function, [start : end : increment]. At a minimum, the start and end values must be given, separated by colons, where by default the start is character $0$ and the end is the last character of the string. If you want to change the increment, you must add the third parameter, also separated by colons."
      ]
    },
    {
      "cell_type": "code",
      "execution_count": 12,
      "metadata": {
        "id": "9zvXPHKJ_EWn"
      },
      "outputs": [
        {
          "name": "stdout",
          "output_type": "stream",
          "text": [
            "Monty Python\n",
            "nt\n",
            "Pyth\n",
            "nohtyP\n"
          ]
        }
      ],
      "source": [
        "name = \"Monty Python\"  # base string\n",
        "# slice that brings all the elements\n",
        "print(name[:])  \n",
        "# slice that brings the characters in positions two and three\n",
        "print(name[2:4])  \n",
        "# slice that brings the characters starting at character six up to nine\n",
        "print(name[6:10])  \n",
        "# slice that takes a part and generates the reverse of the substring\n",
        "print(name[11:5:-1])  "
      ]
    },
    {
      "cell_type": "markdown",
      "metadata": {
        "id": "JHTIE1nUaU32"
      },
      "source": [
        "**Problema No. 1**\n",
        "\n",
        "_Problema:_ Desarrollar un algoritmo que determine si una cadena de caracteres es palı́ndrome. Una cadena se dice palı́ndrome si al invertirla es igual a ella misma.\n",
        "\n",
        "_Solución:_ Se obtiene la inversa de la frase y se compara con la original, y si son iguales se considera que hay un palíndrome."
      ]
    },
    {
      "cell_type": "code",
      "execution_count": null,
      "metadata": {
        "id": "M4NWElM1aZZB"
      },
      "outputs": [],
      "source": [
        "frase = \"amor a roma\"  # cadena de base\n",
        "inversa = frase[::-1]  # slice para obtener la inversa de la cadena\n",
        "\n",
        "# se compara la base y la inversa, si son iguales, se considera que es palíndrome\n",
        "if (frase == inversa):  \n",
        "    print(\"Si es, si es\")\n",
        "else:\n",
        "    print(\"paila, no es\")"
      ]
    },
    {
      "cell_type": "markdown",
      "metadata": {
        "id": "ZtJCCTafgAxJ"
      },
      "source": [
        "**Ejercicio No. 16**\n",
        "\n",
        "El método count obtiene las veces que una subcadena se encuentra en\n",
        "una cadena (o en una parte de ella). La notación es\n",
        "_count(subcadena, inicio, fin)_."
      ]
    },
    {
      "cell_type": "code",
      "execution_count": null,
      "metadata": {
        "id": "9lhww3PPAPFK"
      },
      "outputs": [],
      "source": [
        "str1 = \"The avengers\"  # cadena de base\n",
        "print(\"Tamaño de la cadena: \", len(str1))  # se obtiene el tamaño de la cadena\n",
        "print(\n",
        "    str1.count(\"e\")\n",
        ")  # Cuenta la cantidad de e's en la cadena. La respuesta debe ser 3\n",
        "print(\n",
        "    str1.count(\"e\", 0, 3)\n",
        ")  # Cuenta la cantidad de e's en la primera parte cadena. La respuesta debe ser 1\n",
        "print(\n",
        "    str1.count(\"e\", 4, len(str1))\n",
        ")  # Cuenta la cantidad de e's en la segunda parte cadena. La respuesta debe ser 2\n",
        "cad = \"abcabcabcabcabcabc\"  # segunda cadena de ejemplo\n",
        "print(\n",
        "    cad.count(\"abc\")\n",
        ")  # cuenta las ocurrencias de la subdacena abc, cuya respuesta debe ser en este caos 6"
      ]
    },
    {
      "cell_type": "markdown",
      "metadata": {
        "id": "qXOMMBXtgABr"
      },
      "source": [
        "**Ejercicio No. 17**\n",
        "\n",
        "Los métodos find y rfind obtienen la primera y última ocurrencia de una\n",
        "subcadena en una cadena (o en una parte de ella), respectivamente. La\n",
        "notación es find/rfind(subcadena, inicio, fin)"
      ]
    },
    {
      "cell_type": "code",
      "execution_count": null,
      "metadata": {
        "id": "EiLqmiS13AZ4"
      },
      "outputs": [],
      "source": [
        "str2 = \"It is not despair, for despair is only for those who see the end beyond all doubt. We do not.\"  # cadena de base\n",
        "print(\"lenght:\", len(str2))  # impresión del tamaño de la cadena\n",
        "print(\n",
        "    \"first:\", str2.find(\"it\")\n",
        ")  # búsqueda de la primera ocurrencia de izquierda a derecha\n",
        "print(\n",
        "    \"last:\", str2.rfind(\"not\")\n",
        ")  # búsqueda de la primera ocurrencia de derecha a izquierda"
      ]
    },
    {
      "cell_type": "markdown",
      "metadata": {
        "id": "wDcR3dZYf_bT"
      },
      "source": [
        "**Ejercicio No. 18**\n",
        "\n",
        "En este ejercicio se muestran varios métodos que operan de acuerdo a mayúsculas y minúsculas, modificaciones que se pueden realizar para ajustar el manejo de acuerdo a lo esperado."
      ]
    },
    {
      "cell_type": "code",
      "execution_count": null,
      "metadata": {
        "id": "7cotmy5NCYIZ"
      },
      "outputs": [],
      "source": [
        "s = \"cien Años de soLedad en Macondo\"\n",
        "print(s.lower())  # Muestra la cadena en minúsculas\n",
        "print(s.upper())  # Muestra la cadena en mayúsculas\n",
        "print(s.capitalize())  # Primer letra a mayúscula\n",
        "print(s.title())  # Primer letra cada palabra a mayúscula\n",
        "print(\n",
        "    s.swapcase()\n",
        ")  # convierte de minúsculas a mayúsculas, y de mayúsculas a minúsculas"
      ]
    },
    {
      "cell_type": "markdown",
      "metadata": {
        "id": "PftILVXjf-mR"
      },
      "source": [
        "**Problema No. 5**\n",
        "\n",
        "Se debe realizar una función que reciba una subcadena, y determine la cantidad de veces que aparece en una cadena.\n",
        "\n",
        "_Solución:_ Se crea una función que primero recibe tanto la cadena como la subcadena, y las convierte en minúsculas para hacer las comparaciones apropiedas. Luego, se hace un ciclo que recorre la cadena de base a través de la noción de índice usando la variable $i$, y mediante la función *find* aplicada sobre una subcadena obtenida mediante *slicing*, encuentra cada una de las ocurrencias acotando el espacio de búsqueda en cada iteración."
      ]
    },
    {
      "cell_type": "code",
      "execution_count": null,
      "metadata": {
        "id": "kqBwD8R37dnA"
      },
      "outputs": [],
      "source": [
        "def contar_ocurrencias(cadena, subcadena):\n",
        "    \"\"\"\n",
        "    Función que cuenta la cantidad de ocurrencias de una cadena en una subcadena.\n",
        "    \"\"\"\n",
        "    cadena = cadena.lower()  # conversión a minúsculas para facilitar comparación\n",
        "    subcadena = subcadena.lower()  # conversión a minúsculas para facilitar comparación\n",
        "    contador = 0  # contador de ocurrencias\n",
        "    i = 0  # índice para recorrer la cadena de base\n",
        "    while i < len(\n",
        "        cadena\n",
        "    ):  # se verifica que siempre el índice esté en el rango permitido\n",
        "        index = cadena[i:].find(\n",
        "            subcadena\n",
        "        )  # usando slicing se hace la búsqueda de la subcadena por segmentos\n",
        "        if (\n",
        "            index != -1\n",
        "        ):  # se verifica que si se encontró la subcadena en el segmento de búsqueda\n",
        "            print(\"index \", i + index)  # se imprice el índice\n",
        "            contador += 1  # se aumenta el contador\n",
        "            i += index + 1  # se disminuye el segmento de búsqueda\n",
        "        else:\n",
        "            break  # si ya no se encuentran ocurrencias, se termina la búsqueda\n",
        "    return contador\n",
        "\n",
        "\n",
        "str2 = \"It is not despair, for despair is only for those who see the end beyond all doubt. We do not.\"\n",
        "subcadena = \"is\"\n",
        "contador = contar_ocurrencias(str2, subcadena)\n",
        "print(str2.count(subcadena))\n",
        "\n",
        "print(\"La cadena \" + subcadena + \" aparece \" + str(contador) + \" veces\")"
      ]
    },
    {
      "cell_type": "markdown",
      "metadata": {
        "id": "UZc9tqL1f-CY"
      },
      "source": [
        "**Ejercicio No. 19**\n",
        "\n",
        "El método strip/lstrip/rstrip remueve los caracteres deseados a los\n",
        "dos lados/izquierda/derecha de una cadena. La notación es strip/lstrip/rstrip(caracteres). Si no se dan caracteres como argumento, elimina espacios en blanco (espacios y tabulaciones)."
      ]
    },
    {
      "cell_type": "code",
      "execution_count": null,
      "metadata": {
        "id": "HpOQRfbcHAoi"
      },
      "outputs": [],
      "source": [
        "s = \"---++---cien años de soledad en Macondo---++---\"  # cadena de base\n",
        "print(s.strip())  # eliminación de espacios si existen a los extremos\n",
        "print(s.strip(\"-+\"))  # eliminación de estos caracteres, -+, en ambos costados\n",
        "print(s.lstrip(\"-+\"))  # eliminación de estos caracteres, -+, en el extremo izquierdo\n",
        "print(s.rstrip(\"-+\"))  # eliminación de estos caracteres, -+, en el extremo derecho"
      ]
    },
    {
      "cell_type": "markdown",
      "metadata": {
        "id": "iS99546Ff9hn"
      },
      "source": [
        "**Ejercicio No. 20**\n",
        "\n",
        "El método split divide una cadena de acuerdo a una subcadena que sirve\n",
        "como delimitador, dejando las partes separadas en una lista. La notación\n",
        "es split('subcadena'). Con subíndices se pueden acceder a los elementos de la lista."
      ]
    },
    {
      "cell_type": "code",
      "execution_count": null,
      "metadata": {
        "id": "oRyiVrcNIIDS"
      },
      "outputs": [],
      "source": [
        "sdate = \"01-06-2021\"  # ejemplo de una cadena que representa una fecha\n",
        "sp = sdate.split(\"-\")  # se hace una división, o split, usando el guión\n",
        "print(sp)  # impresión de la lista resultante\n",
        "print(\"dı́a:\", sp[0], \"- mes:\", sp[1], \"- año:\", sp[2])  # impresión por componente"
      ]
    },
    {
      "cell_type": "markdown",
      "metadata": {
        "id": "PHCTfftNf8xi"
      },
      "source": [
        "**Ejercicio No. 21**\n",
        "\n",
        "En este ejercicio se muestra el método *replace* para reemplazar una subcadena en una cadena por otra. La notación es *replace(anterior_subcadena, nueva_subcadena)*. Es importante resaltar que se reemplazarán todas las coincidencias, así que debe ser cuidadoso de como lo maneja para no perder información."
      ]
    },
    {
      "cell_type": "code",
      "execution_count": null,
      "metadata": {
        "id": "-xAn3o0oKxmI"
      },
      "outputs": [],
      "source": [
        "str1 = \"cien años de soledad\"  # cadena de base\n",
        "print(str1)\n",
        "rep = str1.replace(\"cien\", \"setenta\")  # primer reemplazo\n",
        "print(rep)\n",
        "rep = rep.replace(\"años\", \"dı́as\")  # segundo reemplazo\n",
        "print(rep)\n",
        "rep = rep.replace(\"soledad\", \"clases sincrónicas!\")  # tercer reemplazo\n",
        "print(rep)"
      ]
    },
    {
      "cell_type": "markdown",
      "metadata": {
        "id": "AFtuuxRogBnu"
      },
      "source": [
        "**Problema No. 6**\n",
        "\n",
        "Desarrollar un algoritmo que determina si una cadena de caracteres es frase palı́ndrome, esto es, si es palı́ndrome al eliminarle espacios, tı́ldes, signos de puntuación y al considerar mayúsculas=minúsculas.\n",
        "\n",
        "_Solución :_ En este caso, se toma una frase, se utiliza la función **replace** para eliminar todos los posibles espacios, y usando **slice** se guarda la inversa de la cadena *frase* en la variable *inversa*. Luego se comparan las cadenas original e inversa, y si son iguales, luego de remover los espacios, se considera que la cadena de caracteres es frase palíndrome."
      ]
    },
    {
      "cell_type": "code",
      "execution_count": null,
      "metadata": {
        "id": "szBaGmFJ_lSp"
      },
      "outputs": [],
      "source": [
        "frase = \"anita lava la tina\"  # cadena de base\n",
        "frase = frase.replace(\n",
        "    \" \", \"\"\n",
        ")  # reemplazar los espacios de la cadena por un caracter vacío, esto elimina los espacios\n",
        "inversa = frase[::-1]  # usando slicing se obtiene la inversa de la cadena\n",
        "print(inversa)\n",
        "if (\n",
        "    frase == inversa\n",
        "):  # si la cadena original y la cadena inversa son iguales, se condiera que la frase es palíndromo\n",
        "    print(\"Si es, si es\")\n",
        "else:\n",
        "    print(\"paila, no es\")"
      ]
    },
    {
      "cell_type": "markdown",
      "metadata": {
        "id": "xEnKk529f76n"
      },
      "source": [
        "**Problema No. 7**\n",
        "\n",
        "Se debe recibir un poema, a partir de este obtener las oraciones y palabras que componen el mismo.\n",
        "\n",
        "_Solución:_ Se toma el poema y para separar las frases se hace un _split_ utilizando el caracter *\".\"*, y usando la función _strip()_ para eliminar los espacios al inicio y al final de la frase.\n",
        "Para obtener las palabras, se hace un _split_ utilizando el caracter *\" \"*, y usando la función _strip(\".\")_ para eliminar los puntos que puedan estar al inicio o final de la palabra."
      ]
    },
    {
      "cell_type": "code",
      "execution_count": null,
      "metadata": {
        "id": "oqmUEOU-Ie7u"
      },
      "outputs": [],
      "source": [
        "# poema muy original XD\n",
        "poema = \"Las azucenas son azules. Las rosas son rojas. El mundo es feliz.\"\n",
        "oraciones = poema.split(\n",
        "    \".\"\n",
        ")  # se dividen las frases entendiendo que el punto es el caracter que indica el cambio de frase\n",
        "palabras = poema.split(\n",
        "    \" \"\n",
        ")  # se dividen las palabras entendiendo que el espacio es el caracter que indiva el cambio de palabra\n",
        "\n",
        "print(\"ORACIONES:\")\n",
        "for oracion in oraciones:  # se hace una iteracción por la colección de oraciones\n",
        "    print(\n",
        "        oracion.strip()\n",
        "    )  # se imprime la oración incluyendo un formateo para eliminar espacios al inicio y al final de la misma\n",
        "\n",
        "print(\"\\n\\nPALABRAS:\")\n",
        "for palabra in palabras:  # se hace una iteracción por la colección de palabras\n",
        "    print(\n",
        "        palabra.strip(\".\")\n",
        "    )  # se imprime la palabra incluyendo un formateo para eliminar puntos al inicio y al final de la misma"
      ]
    }
  ],
  "metadata": {
    "colab": {
      "provenance": []
    },
    "kernelspec": {
      "display_name": "Python 3",
      "name": "python3"
    },
    "language_info": {
      "codemirror_mode": {
        "name": "ipython",
        "version": 3
      },
      "file_extension": ".py",
      "mimetype": "text/x-python",
      "name": "python",
      "nbconvert_exporter": "python",
      "pygments_lexer": "ipython3",
      "version": "3.11.0rc2"
    }
  },
  "nbformat": 4,
  "nbformat_minor": 0
}
