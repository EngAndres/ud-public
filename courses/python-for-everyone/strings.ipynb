{
  "nbformat": 4,
  "nbformat_minor": 0,
  "metadata": {
    "colab": {
      "provenance": []
    },
    "kernelspec": {
      "name": "python3",
      "display_name": "Python 3"
    },
    "language_info": {
      "name": "python"
    }
  },
  "cells": [
    {
      "cell_type": "markdown",
      "metadata": {
        "id": "fcuuWIHyY0ys"
      },
      "source": [
        "***\n",
        "# Estructuras Cíclicas - Ciclo While (Mientras)\n",
        "**Ejercicio No. 1**\n",
        "\n",
        "A continuación se presenta un ejercicio muy sencillo usando un ciclo __while__, o _mientras_, el cual evalúa una condición hasta que esta se cumpla.\n",
        "De manera práctica, en este ejercicio se tiene una variable _i_ la cual se utiliza para contar de 1 en 1, es decir, se utiliza como una _variable contadora_."
      ]
    },
    {
      "cell_type": "code",
      "metadata": {
        "id": "K_g9aUBFTYwE"
      },
      "source": [
        "i = 0  # inicialización de la variable\n",
        "while i <= 6:   # evaluación de la condición\n",
        "    print(i)    # bloque del ciclo, en este caso una impresión\n",
        "    i += 1      # actualización de la variable que se utiliza en la condición\n",
        "print('vemos')  # impresión luego de que se acaba el ciclo"
      ],
      "execution_count": null,
      "outputs": []
    },
    {
      "cell_type": "markdown",
      "metadata": {
        "id": "6H7TovTyePSb"
      },
      "source": [
        "**Ejercicio No. 2**\n",
        "\n",
        "A continuación se presenta un ejercicio utilizando un ciclo __while__ para mostrar el comportamiendo de dos variables, en general ambas _variables acumuladoras_, y una condición a la cual se espera llegar porque el valor de _i_ crece más rapido que _j_. Igualmente, se hace la impresión de ambas variables para ver el cambio en el tiempo, similar a hacer una traza del programa."
      ]
    },
    {
      "cell_type": "code",
      "metadata": {
        "id": "0K_2ded6foQy"
      },
      "source": [
        "# inicializar las variables\n",
        "i = 2\n",
        "j = 25\n",
        "while i < j: # condición del ciclo\n",
        "  print(i, j, sep=\", \")  #impresión de las variables, en el bloque del ciclo\n",
        "  # actualización de las variables involucradas en el ciclo\n",
        "  i *= 2\n",
        "  j += 10\n",
        "\n",
        "# impresiones luego del final del ciclo\n",
        "print(\"The End\")\n",
        "print(i, j, sep=\", \") # valores finales de las variables, en donde la condición no se cumple"
      ],
      "execution_count": null,
      "outputs": []
    },
    {
      "cell_type": "markdown",
      "metadata": {
        "id": "1hBMUP2IhobW"
      },
      "source": [
        "**Problema No. 1**\n",
        "\n",
        "Dado que los números reales que son representables en un computador son\n",
        "finitos, entonces es posible hablar del menor número positivo representable\n",
        "en la máquina.\n",
        "\n",
        "El algoritmo consiste en comenzar con una variable en un valor de uno (1)\n",
        "e ir dividiendo la variable por dos (2) repetidamente mientras que se pueda distinguir de cero (0). El último valor distinguible de cero, se conoce como el mı́nimo número positivo de la máquina."
      ]
    },
    {
      "cell_type": "markdown",
      "metadata": {
        "id": "O6lQTVwugSo8"
      },
      "source": [
        "_Solución 1:_ Se crea una función usando un ciclo __while__ se puede hacer la división hasta que el computador no pueda distingir la división del número 0.0"
      ]
    },
    {
      "cell_type": "code",
      "metadata": {
        "id": "c0-_ar85hosA"
      },
      "source": [
        "def min_maquina():\n",
        "  Xi = 1.0 # inicialización de variables\n",
        "  Xo = Xi\n",
        "  Xi = Xo / 2.0\n",
        "  while Xi > 0.0: # condición para determinar si el número es distinguible de cero o no\n",
        "    Xo = Xi\n",
        "    Xi = Xo / 2.0 # división que permite encontrar la progresión geométrica\n",
        "  return Xo\n",
        "\n",
        "# recuerde que para concatenar cadenas de caracteres debe hacer cast al número entero\n",
        "print(\"El número más pequeño es \" + str(min_maquina()))"
      ],
      "execution_count": null,
      "outputs": []
    },
    {
      "cell_type": "markdown",
      "metadata": {
        "id": "k-99-CVsy6sE"
      },
      "source": [
        "_Solución 2:_ Se crea una función usando un ciclo __do while__, usando el concepto de banderas (_flags_), se puede hacer la división hasta que el computador no pueda distingir la división del número 0.0. Recuerde que un ciclo de este tipo asegura que el bloque del ciclo se ejecute como mínimo una vez."
      ]
    },
    {
      "cell_type": "code",
      "metadata": {
        "id": "KwZs2krimIwn"
      },
      "source": [
        "def min_maquina_do():\n",
        "  Xi = 1.0 # inicialización de variable\n",
        "  bandera = True # flag o bandera para asegurar mínimo una ejecución\n",
        "  while bandera or Xi > 0.0: # ciclo con condición para acercase a 0.0\n",
        "    bandera = False\n",
        "    Xo = Xi\n",
        "    Xi = Xo / 2.0 # división para hacer la progresión geométrica\n",
        "  return Xo\n",
        "\n",
        "# uso de str() para hacer cast de float a string\n",
        "print(\"El número más pequeño es \" + str(min_maquina_do()))"
      ],
      "execution_count": null,
      "outputs": []
    },
    {
      "cell_type": "markdown",
      "metadata": {
        "id": "U5H0WUm8gMlr"
      },
      "source": [
        "**Ejercicio No. 3**\n",
        "\n",
        "Desarrollar un programa que lea números enteros y los sume hasta que lea un cero (0).\n"
      ]
    },
    {
      "cell_type": "markdown",
      "metadata": {
        "id": "IXVS6eTjQ71E"
      },
      "source": [
        "_Solución 1:_ Uso de un ciclo __while__ para resolver el ejercicio que termina cuando se ingrese un cero."
      ]
    },
    {
      "cell_type": "code",
      "metadata": {
        "id": "z0_rnmumpq02"
      },
      "source": [
        "suma = 0 # variable acumuladora\n",
        "while True: # ciclo infinito hasta que ocurra la terminación forzada del ciclo\n",
        "  dato = int(input(\"Rote número:\"))  # ingreso de número con cast de string a entero\n",
        "  if dato == 0:            # valicación de condición para acabar el ciclo\n",
        "    break                  # instrucción que termina de manera forzada el ciclo\n",
        "  suma += dato             # incremento de la variable acumuladora\n",
        "print(\"Suma: \" + str(suma))"
      ],
      "execution_count": null,
      "outputs": []
    },
    {
      "cell_type": "markdown",
      "metadata": {
        "id": "CTgmrrmupqg_"
      },
      "source": [
        "_Solución 2:_ Uso de ciclo __Do While__ para resolver el ejercicio usando banderas y terminando el ciclo si se ingresa un cero."
      ]
    },
    {
      "cell_type": "code",
      "metadata": {
        "id": "vIOcmxe2rhA8"
      },
      "source": [
        "suma = 0 # esta variable va a acumular toda la suma de los datos\n",
        "dato = 0 # valor esperado del usuario\n",
        "bandera = True  # bandera para asegurar mínimo una ejecución del ciclo\n",
        "while bandera or dato != 0:  # ciclo que se repite mientras el usuario escriba un valor distinto de cero\n",
        "  bandera = False\n",
        "  dato = int(input(\"Rote número:\")) # solicitar al usuario un número, haciendo cast de string a int\n",
        "  suma += dato     # incremento de la variable acumuladora\n",
        "print(\"Suma: \" + str(suma))"
      ],
      "execution_count": null,
      "outputs": []
    },
    {
      "cell_type": "markdown",
      "metadata": {
        "id": "rkrDYFnUgKf3"
      },
      "source": [
        "***\n",
        "# Estructuras Cíclicas - Ciclo For (Para)\n",
        "**Ejercicio No. 4**\n",
        "\n",
        "Dada una lista de frutas imprimos todos sus elementos.\n",
        "\n",
        "_Solución:_ En este caso se usa un ciclo __for__ para recorrer la colección, en este caso una lista, avanzando elemento por elemento de la colección."
      ]
    },
    {
      "cell_type": "code",
      "metadata": {
        "id": "jhfN3jcis0ky"
      },
      "source": [
        "# lista de frutas\n",
        "frutas = [\"Tomate de árbol\", \"Maracuyá \", \"Guayaba\", \"Limón\", \"Naranja\", \"Granadilla\"]\n",
        "# recorrido por cada elemento de la colección\n",
        "for fruta in frutas:\n",
        "    print(fruta)"
      ],
      "execution_count": null,
      "outputs": []
    },
    {
      "cell_type": "markdown",
      "metadata": {
        "id": "d186L9_wgKLa"
      },
      "source": [
        "**Ejercicio No. 5**\n",
        "\n",
        "Dada una lista de frutas imprimos todos sus elementos hasta encontrar la fruta \"Guayaba\".\n",
        "\n",
        "_Solución:_ En este caso, aparte de usar un ciclo **for**, se hace uso de un condicional y de una instrucción para la terminación forzada del ciclo una vez se encuentre la fruta en cuestión."
      ]
    },
    {
      "cell_type": "code",
      "metadata": {
        "id": "JVKjNzq8uNpc"
      },
      "source": [
        "# lista de frutas\n",
        "frutas = [\"Tomate de árbol\", \"Maracuyá \", \"Guayaba\", \"Limón\", \"Naranja\", \"Granadilla\", \"Mango\"]\n",
        "# recorrido por cada elemento de la colección\n",
        "for fruta in frutas:\n",
        "    print(fruta)\n",
        "    if fruta == \"Guayaba\": # validación de si el elemento corresponde a la fruta a validar\n",
        "      break                # instrucción para la terminación forzada del ciclo"
      ],
      "execution_count": null,
      "outputs": []
    },
    {
      "cell_type": "markdown",
      "metadata": {
        "id": "a3_jyyjEgJr3"
      },
      "source": [
        "**Ejercicio No. 6**\n",
        "\n",
        "El programa que se presenta a continuación permite imprimir una colección de números usando la función de _range_, e imprimiendo cada elemento usando un ciclo __for__ (tradicional su uso para recorrer elemento a elemento la colección).\n",
        "Recuerde que la función _range_ genera una colección que corresponde a una sucesión de números de acuerdo a los parámetros colocados: _range(inicio_incluido, fin_excluido, incremento)_. Por defecto, el *inicio_incluido* es $0$ y el *incremento* es $1$."
      ]
    },
    {
      "cell_type": "code",
      "metadata": {
        "id": "d85iwDGJ3g1u"
      },
      "source": [
        "for i in range(1,6,5): # range con sus parámetros completos\n",
        "  print(i, end=\", \")"
      ],
      "execution_count": null,
      "outputs": []
    },
    {
      "cell_type": "markdown",
      "metadata": {
        "id": "WSDKWtEpgJTZ"
      },
      "source": [
        "**Ejercicio No. 7**\n",
        "\n",
        "Las funciones a continuación permiten calcular la suma de los primeros n números naturales, es decir, permiten calcular la expresión: $1 + 2 + 3 + · · · + (n − 1) + n$.\n",
        "\n",
        "Esto es tener la misma expresión: $\\sum_{i=1}^n i$.\n",
        "\n",
        "_Solución:_\n",
        "La primera función resuelve el problema usando un ciclo __while__, usando una variable contadora $i$ y una variable acumuladora $s$.\n",
        "\n",
        "La segunda función resuelve el problema usando un ciclo __for__, usando la función _range_ y una variable acumuladora $s$."
      ]
    },
    {
      "cell_type": "code",
      "metadata": {
        "id": "ocFhenla-IPr"
      },
      "source": [
        "# función que resuelve el ejercicio usando un ciclo while\n",
        "def suma_while(n):\n",
        "  s = 0 # variable acumuladora\n",
        "  i = 1 # variable contadora\n",
        "  while(i <= n): # ciclo incluyendo el valor de n\n",
        "    s += i # incrementar la acumuladora\n",
        "    i += 1 # incrementar la contadora\n",
        "  return s\n",
        "\n",
        "# función que resuelve el ejercicio usando un ciclo for\n",
        "def suma_for(n):\n",
        "  s = 0 # variable acumuladora\n",
        "  for i in range(1, n + 1): # generar la sucesión basado en el range\n",
        "    s += i # incrementar la acumuladora\n",
        "  return s\n",
        "\n",
        "numero = int(input(\"n? = \"))\n",
        "print(suma_while(numero))\n",
        "print(suma_for(numero))"
      ],
      "execution_count": null,
      "outputs": []
    },
    {
      "cell_type": "markdown",
      "metadata": {
        "id": "mZ_sYC30gIIJ"
      },
      "source": [
        "**Problema No. 2**\n",
        "\n",
        "Imprimir un listado con los números del 1 al 100 cada uno con su respectivo cuadrado.\n",
        "\n",
        "_Solución:_ Se utiliza la función _range_ desde $1$ hasta $101$ (que realmente colocará como último número al $100$), y al resultado de la función _range_ se le itera con un ciclo **for**. En el cuerpo del ciclo se calcula el cuadrado de cada uno de los elementos de la colección."
      ]
    },
    {
      "cell_type": "code",
      "metadata": {
        "id": "jD_OUnNv_1Vd"
      },
      "source": [
        "for i in range(1,101): # iteración de la función range\n",
        "  cuadrado = i ** 2  # cálculo del cuadrado del elemento en cuestión\n",
        "  print(i, cuadrado, sep=\",\")"
      ],
      "execution_count": null,
      "outputs": []
    },
    {
      "cell_type": "markdown",
      "metadata": {
        "id": "2XVzzSoHgH37"
      },
      "source": [
        "**Problema No. 3**\n",
        "\n",
        "Imprimir los números pares en forma descendente hasta $2$ que son\n",
        "menores o iguales a un número natural $n ≥ 2$ dado.\n",
        "\n",
        "_Solución:_"
      ]
    },
    {
      "cell_type": "code",
      "metadata": {
        "id": "KXugPq0sAfSE"
      },
      "source": [
        "n = int(input()) # recibe un valor de n escrito por el usuario\n",
        "while n % 2 == 1 or n < 2: # se hace la validación de que si el número es impar o menor que cero, se vuelva a solicitar\n",
        "  n = int(input(\"Ingrese un número par mayor que 2:\"))\n",
        "\n",
        "for par in range(n, 1, -2): # range que genera números desde n hasta 2, con decremento de 2 (o incremento de -2)\n",
        "  print(par, end=\", \")"
      ],
      "execution_count": null,
      "outputs": []
    },
    {
      "cell_type": "markdown",
      "metadata": {
        "id": "oV330u5bgHUp"
      },
      "source": [
        "***\n",
        "# Cadenas de Caracteres\n",
        "\n",
        "**Ejercicio No. 8**\n",
        "\n",
        "Este es un ejercicio en donde se crea una cadena de caracteres llamada *str_2* que si tiene una carita feliz, utilizando **Unicode** y un condicional, se imprime el emoji.\n",
        "Adicionalmente, se tiene la cadena *str_1* la cual es un ejemplo de una cadena también con un símbolo usando **Unicode**."
      ]
    },
    {
      "cell_type": "code",
      "metadata": {
        "id": "ZV9h1jq_yxBg"
      },
      "source": [
        "str_2 = ':)'  # creación de una cadena\n",
        "if str_2 == ':)': # validación de si la cadena se puede interpretar como una carita feliz\n",
        "  print('\\u263A')  # código Unicode para un emoji de carita feliz\n",
        "str_1 = 'ejemplo de cadena \\u3344' # creación de cadena con texto y Unicode\n",
        "print(str_1)"
      ],
      "execution_count": null,
      "outputs": []
    },
    {
      "cell_type": "markdown",
      "metadata": {
        "id": "lHLlr6L3gG3m"
      },
      "source": [
        "**Ejercicio No. 9**\n",
        "\n",
        "La operación de concatenar pega dos cadenas de caracteres usando el símbolo $+$. En el ejercicio se muestran varias formas de concatenar, siendo importante que se use el espacio como un caracter normal."
      ]
    },
    {
      "cell_type": "code",
      "metadata": {
        "id": "jwWo-4R8ztSh"
      },
      "source": [
        "nombre = \"Minch Yoda\"   # primera cadena\n",
        "trabajo = \"Stars War\"   # segunda cadena\n",
        "print(nombre + \" el maestro\") # concatenación de variable string con una cadena escrita\n",
        "print(nombre + trabajo)  # concatenación de dos variables tipo string\n",
        "print(trabajo + ' '  + nombre)  # concatenación de variable, cadena de caracteres, y de nuevo una variable"
      ],
      "execution_count": null,
      "outputs": []
    },
    {
      "cell_type": "markdown",
      "metadata": {
        "id": "V27QuxnFgGPR"
      },
      "source": [
        "**Ejercicio No. 10**\n",
        "\n",
        "En este ejercicio se muestra como comparar cadenas usando el orden lexicográfico para determinar si una es menor que la otra. En el orden lexicográfico se compara todo caracter a caracter, independiente del tamaño de las cadenas."
      ]
    },
    {
      "cell_type": "code",
      "metadata": {
        "id": "ruqypQLC1qDN"
      },
      "source": [
        "print( (\"casa\" < \"casas\") )"
      ],
      "execution_count": null,
      "outputs": []
    },
    {
      "cell_type": "markdown",
      "metadata": {
        "id": "za4acDzIgFzT"
      },
      "source": [
        "**Ejercicio No. 11**\n",
        "\n",
        "En este ejercicio se muestra como con el subíndice se accede los elementos de una cadena, recordando que el ı́ndice del primer caracter la cadena es cero ($0$), y el útimo será el tamaño menos uno ($n - 1$)."
      ]
    },
    {
      "cell_type": "code",
      "metadata": {
        "id": "L2jwtbvY34lQ"
      },
      "source": [
        "nombre = \"Minch Yoda\"\n",
        "print('Caracter en la posición 0: ', nombre[0]) # imprime M\n",
        "print('Caracter en la posición 6: ', nombre[6]) # imprime Y\n",
        "print('Caracter en la posición 4: ', nombre[4]) # imprime h\n",
        "print('Caracter en la posición 2: ', nombre[2]) # imprime n\n",
        "print('Caracter en la posición 5: ', nombre[5]) # imprime ' '\n",
        "print('Caracter en la posición 8: ', nombre[8]) # imprime d\n"
      ],
      "execution_count": null,
      "outputs": []
    },
    {
      "cell_type": "markdown",
      "metadata": {
        "id": "TuCtj1lqgFF1"
      },
      "source": [
        "**Ejercicio No. 12**\n",
        "\n",
        "En este ejercicio se debe determinar si una subcadena se encuentra en una cadena de caracteres.\n",
        "\n",
        "_Solución:_ Se utiliza un condicional con la palabra reservada **in** que está basada en el concepto de pertenencia de conjuntos. De esta manera, se determina si la subcadena pertenece o está adentro de la cadena."
      ]
    },
    {
      "cell_type": "code",
      "metadata": {
        "id": "SdNJsoVc6HKA"
      },
      "source": [
        "text = 'cien años de soledad'  # texto de base\n",
        "if 'años de' in text: # condicional con la palabra reservada in para determinar pertenencia\n",
        "  print('yes')\n",
        "else: # camino si el texto no está\n",
        "  print('no')"
      ],
      "execution_count": null,
      "outputs": []
    },
    {
      "cell_type": "markdown",
      "metadata": {
        "id": "BnNZQK3tgEm5"
      },
      "source": [
        "**Ejercicio No. 13**\n",
        "\n",
        "En este ejercicio se muestra que es posible iterar una cadena de caracteres usando el ciclo **for**. En la iteración, se interpreta cada caracter como un elemento independiente, así que recorre la cadena caracter a caracter.\n",
        "\n",
        "Adicionalmente, se muestra como se puede colocar un condicional dentro del ciclo para determinar la cantidad de veces que aparece un caracter específico."
      ]
    },
    {
      "cell_type": "code",
      "metadata": {
        "id": "i-l1hpdg6vsz"
      },
      "source": [
        "saludo = \"hola amigos mios\"  # cadena de base\n",
        "contador = 0  # contador para las ocurrencias de un caracter\n",
        "for caracter in saludo:   # recorrido de la cadena de caracteres\n",
        "  if caracter == \"m\": # verificación de si el caracter que se está obteniendo de la cadena es igual a uno esperado\n",
        "    contador += 1   # incremento del contador de ocurrencias\n",
        "  print(caracter, end = ' - ') # impresión del caracter que está en la iteración\n",
        "print(\"contador: \", contador)"
      ],
      "execution_count": null,
      "outputs": []
    },
    {
      "cell_type": "markdown",
      "metadata": {
        "id": "8fj03fBJgD1M"
      },
      "source": [
        "**Ejercicio No. 14**\n",
        "\n",
        "La función **len** determina la longitud de una cadena de caracteres, es decir, la cantidad de caracteres por los cuales está compuesta la cadena.\n",
        "Entre las anotaciones relevantes en este punto se tiene que cualquier combinación con un caracter es escape, cuenta como un solo caracter, incluso un Unicode."
      ]
    },
    {
      "cell_type": "code",
      "metadata": {
        "id": "hCLyAMaK8e4o"
      },
      "source": [
        "nombre = \"Minch Yoda\"\n",
        "trabajo = \"Stars War\"\n",
        "planeta = \"Tatoon \\t \\u6542 cinco\"\n",
        "vacia = \"\"\n",
        "# impresiones de los tamaños de todas las variables\n",
        "print('Tamaño de la variable \\\"nombre\\\": ', len(nombre))\n",
        "print('Tamaño de la variable \\\"trabajo\\\": ', len(trabajo))\n",
        "print('Impresión de la variable \\\"planeta\\\": ', planeta) # impresión para ver el caracter UNICODE\n",
        "print('Tamaño de la variable \\\"planeta\\\": ', len(planeta))\n",
        "print('Tamaño de la variable \\\"vacia\\\": ', len(vacia))"
      ],
      "execution_count": null,
      "outputs": []
    },
    {
      "cell_type": "markdown",
      "metadata": {
        "id": "ACtKlPafgDL9"
      },
      "source": [
        "**Ejercicio No. 15**\n",
        "\n",
        "La función slice obtiene una porción (subcadena) de una cadena. La notación es similar a la función range, [inicio:fin:incremento]. Como mínimo se deben dar los valores de inicio y fin separados por dos puntos, en donde por defecto el inicio es el caracter $0$ y el final es el último caracter de la cadena. Si se quiere cambiar el incremento, se debe agregar el tercer parámetro, también separado por dos puntos."
      ]
    },
    {
      "cell_type": "code",
      "metadata": {
        "id": "9zvXPHKJ_EWn"
      },
      "source": [
        "nombre = \"Minch Yoda\"  # cadena de base\n",
        "print(nombre[:])       # slice que trae todos los elementos\n",
        "print(nombre[2:4])     # slice que trae los caracteres en las posiciones dos y tres\n",
        "print(nombre[6:10])    # slice que trae los caracteres iniciando en el caracter seis hasta el nueve\n",
        "print(nombre[9:5:-1])  # slice que toma una parte y genera la inversa de la cadena"
      ],
      "execution_count": null,
      "outputs": []
    },
    {
      "cell_type": "markdown",
      "metadata": {
        "id": "JHTIE1nUaU32"
      },
      "source": [
        "**Problema No. 4**\n",
        "\n",
        "Desarrollar un algoritmo que determine si una cadena de caracteres es palı́ndrome. Una cadena se dice palı́ndrome si al invertirla es igual a ella misma.\n",
        "\n",
        "_Solución:_ Se obtiene la inversa de la frase y se compara con la original, y si son iguales se considera que hay un palíndrome."
      ]
    },
    {
      "cell_type": "code",
      "metadata": {
        "id": "M4NWElM1aZZB"
      },
      "source": [
        "frase = \"amor a roma\"  # cadena de base\n",
        "inversa = frase[::-1]  # slice para obtener la inversa de la cadena\n",
        "if frase == inversa:   # se compara la base y la inversa, si son iguales, se considera que es palíndrome\n",
        "  print(\"Si es, si es\")\n",
        "else:\n",
        "  print(\"paila, no es\")"
      ],
      "execution_count": null,
      "outputs": []
    },
    {
      "cell_type": "markdown",
      "metadata": {
        "id": "ZtJCCTafgAxJ"
      },
      "source": [
        "**Ejercicio No. 16**\n",
        "\n",
        "El método count obtiene las veces que una subcadena se encuentra en\n",
        "una cadena (o en una parte de ella). La notación es\n",
        "_count(subcadena, inicio, fin)_."
      ]
    },
    {
      "cell_type": "code",
      "metadata": {
        "id": "9lhww3PPAPFK"
      },
      "source": [
        "str1 = \"The avengers\" # cadena de base\n",
        "print(\"Tamaño de la cadena: \", len(str1)) # se obtiene el tamaño de la cadena\n",
        "print(str1.count('e'))               # Cuenta la cantidad de e's en la cadena. La respuesta debe ser 3\n",
        "print(str1.count('e', 0, 3))         # Cuenta la cantidad de e's en la primera parte cadena. La respuesta debe ser 1\n",
        "print(str1.count('e', 4, len(str1))) # Cuenta la cantidad de e's en la segunda parte cadena. La respuesta debe ser 2\n",
        "cad = 'abcabcabcabcabcabc'  # segunda cadena de ejemplo\n",
        "print(cad.count('abc'))     # cuenta las ocurrencias de la subdacena abc, cuya respuesta debe ser en este caos 6"
      ],
      "execution_count": null,
      "outputs": []
    },
    {
      "cell_type": "markdown",
      "metadata": {
        "id": "qXOMMBXtgABr"
      },
      "source": [
        "**Ejercicio No. 17**\n",
        "\n",
        "Los métodos find y rfind obtienen la primera y última ocurrencia de una\n",
        "subcadena en una cadena (o en una parte de ella), respectivamente. La\n",
        "notación es find/rfind(subcadena, inicio, fin)"
      ]
    },
    {
      "cell_type": "code",
      "metadata": {
        "id": "EiLqmiS13AZ4"
      },
      "source": [
        "str2 = 'It is not despair, for despair is only for those who see the end beyond all doubt. We do not.' # cadena de base\n",
        "print('lenght:', len(str2)) # impresión del tamaño de la cadena\n",
        "print('first:', str2.find('it'))   # búsqueda de la primera ocurrencia de izquierda a derecha\n",
        "print('last:',  str2.rfind('not')) # búsqueda de la primera ocurrencia de derecha a izquierda"
      ],
      "execution_count": null,
      "outputs": []
    },
    {
      "cell_type": "markdown",
      "metadata": {
        "id": "wDcR3dZYf_bT"
      },
      "source": [
        "**Ejercicio No. 18**\n",
        "\n",
        "En este ejercicio se muestran varios métodos que operan de acuerdo a mayúsculas y minúsculas, modificaciones que se pueden realizar para ajustar el manejo de acuerdo a lo esperado."
      ]
    },
    {
      "cell_type": "code",
      "metadata": {
        "id": "7cotmy5NCYIZ"
      },
      "source": [
        "s = 'cien Años de soLedad en Macondo'\n",
        "print(s.lower())      # Muestra la cadena en minúsculas\n",
        "print(s.upper())      # Muestra la cadena en mayúsculas\n",
        "print(s.capitalize()) # Primer letra a mayúscula\n",
        "print(s.title())      # Primer letra cada palabra a mayúscula\n",
        "print(s.swapcase())   # convierte de minúsculas a mayúsculas, y de mayúsculas a minúsculas"
      ],
      "execution_count": null,
      "outputs": []
    },
    {
      "cell_type": "markdown",
      "metadata": {
        "id": "PftILVXjf-mR"
      },
      "source": [
        "**Problema No. 5**\n",
        "\n",
        "Se debe realizar una función que reciba una subcadena, y determine la cantidad de veces que aparece en una cadena.\n",
        "\n",
        "_Solución:_ Se crea una función que primero recibe tanto la cadena como la subcadena, y las convierte en minúsculas para hacer las comparaciones apropiedas. Luego, se hace un ciclo que recorre la cadena de base a través de la noción de índice usando la variable $i$, y mediante la función *find* aplicada sobre una subcadena obtenida mediante *slicing*, encuentra cada una de las ocurrencias acotando el espacio de búsqueda en cada iteración."
      ]
    },
    {
      "cell_type": "code",
      "metadata": {
        "id": "kqBwD8R37dnA"
      },
      "source": [
        "def contar_ocurrencias(cadena, subcadena):\n",
        "  '''\n",
        "  Función que cuenta la cantidad de ocurrencias de una cadena en una subcadena.\n",
        "  '''\n",
        "  cadena    = cadena.lower()     # conversión a minúsculas para facilitar comparación\n",
        "  subcadena = subcadena.lower()  # conversión a minúsculas para facilitar comparación\n",
        "  contador  = 0  # contador de ocurrencias\n",
        "  i = 0          # índice para recorrer la cadena de base\n",
        "  while i < len(cadena): # se verifica que siempre el índice esté en el rango permitido\n",
        "    index = cadena[i:].find(subcadena)  # usando slicing se hace la búsqueda de la subcadena por segmentos\n",
        "    if index != -1:   # se verifica que si se encontró la subcadena en el segmento de búsqueda\n",
        "      print('index ', i + index)  # se imprice el índice\n",
        "      contador += 1               # se aumenta el contador\n",
        "      i += index + 1              # se disminuye el segmento de búsqueda\n",
        "    else:\n",
        "      break                       # si ya no se encuentran ocurrencias, se termina la búsqueda\n",
        "  return contador\n",
        "\n",
        "\n",
        "str2 = 'It is not despair, for despair is only for those who see the end beyond all doubt. We do not.'\n",
        "subcadena = \"is\"\n",
        "contador  = contar_ocurrencias(str2, subcadena)\n",
        "print(str2.count(subcadena))\n",
        "\n",
        "print(\"La cadena \" + subcadena + \" aparece \" + str(contador) + \" veces\")"
      ],
      "execution_count": null,
      "outputs": []
    },
    {
      "cell_type": "markdown",
      "metadata": {
        "id": "UZc9tqL1f-CY"
      },
      "source": [
        "**Ejercicio No. 19**\n",
        "\n",
        "El método strip/lstrip/rstrip remueve los caracteres deseados a los\n",
        "dos lados/izquierda/derecha de una cadena. La notación es strip/lstrip/rstrip(caracteres). Si no se dan caracteres como argumento, elimina espacios en blanco (espacios y tabulaciones)."
      ]
    },
    {
      "cell_type": "code",
      "metadata": {
        "id": "HpOQRfbcHAoi"
      },
      "source": [
        "s = '---++---cien años de soledad en Macondo---++---' # cadena de base\n",
        "print(s.strip())      # eliminación de espacios si existen a los extremos\n",
        "print(s.strip('-+'))  # eliminación de estos caracteres, -+, en ambos costados\n",
        "print(s.lstrip('-+')) # eliminación de estos caracteres, -+, en el extremo izquierdo\n",
        "print(s.rstrip('-+')) # eliminación de estos caracteres, -+, en el extremo derecho"
      ],
      "execution_count": null,
      "outputs": []
    },
    {
      "cell_type": "markdown",
      "metadata": {
        "id": "iS99546Ff9hn"
      },
      "source": [
        "**Ejercicio No. 20**\n",
        "\n",
        "El método split divide una cadena de acuerdo a una subcadena que sirve\n",
        "como delimitador, dejando las partes separadas en una lista. La notación\n",
        "es split('subcadena'). Con subíndices se pueden acceder a los elementos de la lista."
      ]
    },
    {
      "cell_type": "code",
      "metadata": {
        "id": "oRyiVrcNIIDS"
      },
      "source": [
        "sdate = \"01-06-2021\"  # ejemplo de una cadena que representa una fecha\n",
        "sp = sdate.split(\"-\") # se hace una división, o split, usando el guión\n",
        "print(sp) # impresión de la lista resultante\n",
        "print('dı́a:', sp[0], '- mes:', sp[1], '- año:', sp[2])  # impresión por componente"
      ],
      "execution_count": null,
      "outputs": []
    },
    {
      "cell_type": "markdown",
      "metadata": {
        "id": "PHCTfftNf8xi"
      },
      "source": [
        "**Ejercicio No. 21**\n",
        "\n",
        "En este ejercicio se muestra el método *replace* para reemplazar una subcadena en una cadena por otra. La notación es *replace(anterior_subcadena, nueva_subcadena)*. Es importante resaltar que se reemplazarán todas las coincidencias, así que debe ser cuidadoso de como lo maneja para no perder información."
      ]
    },
    {
      "cell_type": "code",
      "metadata": {
        "id": "-xAn3o0oKxmI"
      },
      "source": [
        "str1 = 'cien años de soledad' # cadena de base\n",
        "print(str1)\n",
        "rep = str1.replace('cien', 'setenta') # primer reemplazo\n",
        "print(rep)\n",
        "rep = rep.replace('años', 'dı́as')  # segundo reemplazo\n",
        "print(rep)\n",
        "rep = rep.replace('soledad', 'clases sincrónicas!') # tercer reemplazo\n",
        "print(rep)"
      ],
      "execution_count": null,
      "outputs": []
    },
    {
      "cell_type": "markdown",
      "metadata": {
        "id": "AFtuuxRogBnu"
      },
      "source": [
        "**Problema No. 6**\n",
        "\n",
        "Desarrollar un algoritmo que determina si una cadena de caracteres es frase palı́ndrome, esto es, si es palı́ndrome al eliminarle espacios, tı́ldes, signos de puntuación y al considerar mayúsculas=minúsculas.\n",
        "\n",
        "_Solución :_ En este caso, se toma una frase, se utiliza la función **replace** para eliminar todos los posibles espacios, y usando **slice** se guarda la inversa de la cadena *frase* en la variable *inversa*. Luego se comparan las cadenas original e inversa, y si son iguales, luego de remover los espacios, se considera que la cadena de caracteres es frase palíndrome."
      ]
    },
    {
      "cell_type": "code",
      "metadata": {
        "id": "szBaGmFJ_lSp"
      },
      "source": [
        "frase = \"anita lava la tina\"  # cadena de base\n",
        "frase = frase.replace(' ', '') # reemplazar los espacios de la cadena por un caracter vacío, esto elimina los espacios\n",
        "inversa = frase[::-1]  # usando slicing se obtiene la inversa de la cadena\n",
        "print(inversa)\n",
        "if frase == inversa: # si la cadena original y la cadena inversa son iguales, se condiera que la frase es palíndromo\n",
        "  print(\"Si es, si es\")\n",
        "else:\n",
        "  print(\"paila, no es\")"
      ],
      "execution_count": null,
      "outputs": []
    },
    {
      "cell_type": "markdown",
      "metadata": {
        "id": "xEnKk529f76n"
      },
      "source": [
        "**Problema No. 7**\n",
        "\n",
        "Se debe recibir un poema, a partir de este obtener las oraciones y palabras que componen el mismo.\n",
        "\n",
        "_Solución:_ Se toma el poema y para separar las frases se hace un _split_ utilizando el caracter *\".\"*, y usando la función _strip()_ para eliminar los espacios al inicio y al final de la frase.\n",
        "Para obtener las palabras, se hace un _split_ utilizando el caracter *\" \"*, y usando la función _strip(\".\")_ para eliminar los puntos que puedan estar al inicio o final de la palabra."
      ]
    },
    {
      "cell_type": "code",
      "metadata": {
        "id": "oqmUEOU-Ie7u"
      },
      "source": [
        "# poema muy original XD\n",
        "poema = \"Las azucenas son azules. Las rosas son rojas. El mundo es feliz.\"\n",
        "oraciones = poema.split('.') # se dividen las frases entendiendo que el punto es el caracter que indica el cambio de frase\n",
        "palabras = poema.split(' ')  # se dividen las palabras entendiendo que el espacio es el caracter que indiva el cambio de palabra\n",
        "\n",
        "print('ORACIONES:')\n",
        "for oracion in oraciones: # se hace una iteracción por la colección de oraciones\n",
        "  print(oracion.strip())  # se imprime la oración incluyendo un formateo para eliminar espacios al inicio y al final de la misma\n",
        "\n",
        "print('\\n\\nPALABRAS:')\n",
        "for palabra in palabras:    # se hace una iteracción por la colección de palabras\n",
        "  print(palabra.strip('.')) # se imprime la palabra incluyendo un formateo para eliminar puntos al inicio y al final de la misma"
      ],
      "execution_count": null,
      "outputs": []
    }
  ]
}