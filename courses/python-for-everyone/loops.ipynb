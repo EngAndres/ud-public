{
  "cells": [
    {
      "cell_type": "markdown",
      "metadata": {
        "id": "fcuuWIHyY0ys"
      },
      "source": [
        "***\n",
        "# Estructuras Cíclicas - Ciclo While (Mientras)\n",
        "**Ejercicio No. 1**\n",
        "\n",
        "A continuación se presenta un ejercicio muy sencillo usando un ciclo __while__, o _mientras_, el cual evalúa una condición hasta que esta se cumpla.\n",
        "De manera práctica, en este ejercicio se tiene una variable _i_ la cual se utiliza para contar de 1 en 1, es decir, se utiliza como una _variable contadora_."
      ]
    },
    {
      "cell_type": "code",
      "execution_count": null,
      "metadata": {
        "id": "K_g9aUBFTYwE"
      },
      "outputs": [],
      "source": [
        "i = 0  # inicialización de la variable\n",
        "while i <= 6:   # evaluación de la condición\n",
        "    print(i)    # bloque del ciclo, en este caso una impresión\n",
        "    i += 1      # actualización de la variable que se utiliza en la condición\n",
        "print('vemos')  # impresión luego de que se acaba el ciclo"
      ]
    },
    {
      "cell_type": "markdown",
      "metadata": {
        "id": "6H7TovTyePSb"
      },
      "source": [
        "**Ejercicio No. 2**\n",
        "\n",
        "A continuación se presenta un ejercicio utilizando un ciclo __while__ para mostrar el comportamiendo de dos variables, en general ambas _variables acumuladoras_, y una condición a la cual se espera llegar porque el valor de _i_ crece más rapido que _j_. Igualmente, se hace la impresión de ambas variables para ver el cambio en el tiempo, similar a hacer una traza del programa."
      ]
    },
    {
      "cell_type": "code",
      "execution_count": null,
      "metadata": {
        "id": "0K_2ded6foQy"
      },
      "outputs": [],
      "source": [
        "# inicializar las variables\n",
        "i = 2\n",
        "j = 25\n",
        "while i < j: # condición del ciclo\n",
        "  print(i, j, sep=\", \")  #impresión de las variables, en el bloque del ciclo\n",
        "  # actualización de las variables involucradas en el ciclo\n",
        "  i *= 2\n",
        "  j += 10\n",
        "\n",
        "# impresiones luego del final del ciclo\n",
        "print(\"The End\")\n",
        "print(i, j, sep=\", \") # valores finales de las variables, en donde la condición no se cumple"
      ]
    },
    {
      "cell_type": "markdown",
      "metadata": {
        "id": "1hBMUP2IhobW"
      },
      "source": [
        "**Problema No. 1**\n",
        "\n",
        "Dado que los números reales que son representables en un computador son\n",
        "finitos, entonces es posible hablar del menor número positivo representable\n",
        "en la máquina.\n",
        "\n",
        "El algoritmo consiste en comenzar con una variable en un valor de uno (1)\n",
        "e ir dividiendo la variable por dos (2) repetidamente mientras que se pueda distinguir de cero (0). El último valor distinguible de cero, se conoce como el mı́nimo número positivo de la máquina."
      ]
    },
    {
      "cell_type": "markdown",
      "metadata": {
        "id": "O6lQTVwugSo8"
      },
      "source": [
        "_Solución 1:_ Se crea una función usando un ciclo __while__ se puede hacer la división hasta que el computador no pueda distingir la división del número 0.0"
      ]
    },
    {
      "cell_type": "code",
      "execution_count": null,
      "metadata": {
        "id": "c0-_ar85hosA"
      },
      "outputs": [],
      "source": [
        "def min_maquina():\n",
        "  Xi = 1.0 # inicialización de variables\n",
        "  Xo = Xi\n",
        "  Xi = Xo / 2.0\n",
        "  while Xi > 0.0: # condición para determinar si el número es distinguible de cero o no\n",
        "    Xo = Xi\n",
        "    Xi = Xo / 2.0 # división que permite encontrar la progresión geométrica\n",
        "  return Xo\n",
        "\n",
        "# recuerde que para concatenar cadenas de caracteres debe hacer cast al número entero\n",
        "print(\"El número más pequeño es \" + str(min_maquina()))"
      ]
    },
    {
      "cell_type": "markdown",
      "metadata": {
        "id": "k-99-CVsy6sE"
      },
      "source": [
        "_Solución 2:_ Se crea una función usando un ciclo __do while__, usando el concepto de banderas (_flags_), se puede hacer la división hasta que el computador no pueda distingir la división del número 0.0. Recuerde que un ciclo de este tipo asegura que el bloque del ciclo se ejecute como mínimo una vez."
      ]
    },
    {
      "cell_type": "code",
      "execution_count": null,
      "metadata": {
        "id": "KwZs2krimIwn"
      },
      "outputs": [],
      "source": [
        "def min_maquina_do():\n",
        "  Xi = 1.0 # inicialización de variable\n",
        "  bandera = True # flag o bandera para asegurar mínimo una ejecución\n",
        "  while bandera or Xi > 0.0: # ciclo con condición para acercase a 0.0\n",
        "    bandera = False\n",
        "    Xo = Xi\n",
        "    Xi = Xo / 2.0 # división para hacer la progresión geométrica\n",
        "  return Xo\n",
        "\n",
        "# uso de str() para hacer cast de float a string\n",
        "print(\"El número más pequeño es \" + str(min_maquina_do()))"
      ]
    },
    {
      "cell_type": "markdown",
      "metadata": {
        "id": "U5H0WUm8gMlr"
      },
      "source": [
        "**Ejercicio No. 3**\n",
        "\n",
        "Desarrollar un programa que lea números enteros y los sume hasta que lea un cero (0).\n"
      ]
    },
    {
      "cell_type": "markdown",
      "metadata": {
        "id": "IXVS6eTjQ71E"
      },
      "source": [
        "_Solución 1:_ Uso de un ciclo __while__ para resolver el ejercicio que termina cuando se ingrese un cero."
      ]
    },
    {
      "cell_type": "code",
      "execution_count": null,
      "metadata": {
        "id": "z0_rnmumpq02"
      },
      "outputs": [],
      "source": [
        "suma = 0 # variable acumuladora\n",
        "while True: # ciclo infinito hasta que ocurra la terminación forzada del ciclo\n",
        "  dato = int(input(\"Rote número:\"))  # ingreso de número con cast de string a entero\n",
        "  if dato == 0:            # valicación de condición para acabar el ciclo\n",
        "    break                  # instrucción que termina de manera forzada el ciclo\n",
        "  suma += dato             # incremento de la variable acumuladora\n",
        "print(\"Suma: \" + str(suma))"
      ]
    },
    {
      "cell_type": "markdown",
      "metadata": {
        "id": "CTgmrrmupqg_"
      },
      "source": [
        "_Solución 2:_ Uso de ciclo __Do While__ para resolver el ejercicio usando banderas y terminando el ciclo si se ingresa un cero."
      ]
    },
    {
      "cell_type": "code",
      "execution_count": null,
      "metadata": {
        "id": "vIOcmxe2rhA8"
      },
      "outputs": [],
      "source": [
        "suma = 0 # esta variable va a acumular toda la suma de los datos\n",
        "dato = 0 # valor esperado del usuario\n",
        "bandera = True  # bandera para asegurar mínimo una ejecución del ciclo\n",
        "while bandera or dato != 0:  # ciclo que se repite mientras el usuario escriba un valor distinto de cero\n",
        "  bandera = False\n",
        "  dato = int(input(\"Rote número:\")) # solicitar al usuario un número, haciendo cast de string a int\n",
        "  suma += dato     # incremento de la variable acumuladora\n",
        "print(\"Suma: \" + str(suma))"
      ]
    },
    {
      "cell_type": "markdown",
      "metadata": {
        "id": "rkrDYFnUgKf3"
      },
      "source": [
        "***\n",
        "# Estructuras Cíclicas - Ciclo For (Para)\n",
        "**Ejercicio No. 4**\n",
        "\n",
        "Dada una lista de frutas imprimos todos sus elementos.\n",
        "\n",
        "_Solución:_ En este caso se usa un ciclo __for__ para recorrer la colección, en este caso una lista, avanzando elemento por elemento de la colección."
      ]
    },
    {
      "cell_type": "code",
      "execution_count": null,
      "metadata": {
        "id": "jhfN3jcis0ky"
      },
      "outputs": [],
      "source": [
        "# lista de frutas\n",
        "frutas = [\"Tomate de árbol\", \"Maracuyá \", \"Guayaba\", \"Limón\", \"Naranja\", \"Granadilla\"]\n",
        "# recorrido por cada elemento de la colección\n",
        "for fruta in frutas:\n",
        "    print(fruta)"
      ]
    },
    {
      "cell_type": "markdown",
      "metadata": {
        "id": "d186L9_wgKLa"
      },
      "source": [
        "**Ejercicio No. 5**\n",
        "\n",
        "Dada una lista de frutas imprimos todos sus elementos hasta encontrar la fruta \"Guayaba\".\n",
        "\n",
        "_Solución:_ En este caso, aparte de usar un ciclo **for**, se hace uso de un condicional y de una instrucción para la terminación forzada del ciclo una vez se encuentre la fruta en cuestión."
      ]
    },
    {
      "cell_type": "code",
      "execution_count": null,
      "metadata": {
        "id": "JVKjNzq8uNpc"
      },
      "outputs": [],
      "source": [
        "# lista de frutas\n",
        "frutas = [\"Tomate de árbol\", \"Maracuyá \", \"Guayaba\", \"Limón\", \"Naranja\", \"Granadilla\", \"Mango\"]\n",
        "# recorrido por cada elemento de la colección\n",
        "for fruta in frutas:\n",
        "    print(fruta)\n",
        "    if fruta == \"Guayaba\": # validación de si el elemento corresponde a la fruta a validar\n",
        "      break                # instrucción para la terminación forzada del ciclo"
      ]
    },
    {
      "cell_type": "markdown",
      "metadata": {
        "id": "a3_jyyjEgJr3"
      },
      "source": [
        "**Ejercicio No. 6**\n",
        "\n",
        "El programa que se presenta a continuación permite imprimir una colección de números usando la función de _range_, e imprimiendo cada elemento usando un ciclo __for__ (tradicional su uso para recorrer elemento a elemento la colección).\n",
        "Recuerde que la función _range_ genera una colección que corresponde a una sucesión de números de acuerdo a los parámetros colocados: _range(inicio_incluido, fin_excluido, incremento)_. Por defecto, el *inicio_incluido* es $0$ y el *incremento* es $1$."
      ]
    },
    {
      "cell_type": "code",
      "execution_count": null,
      "metadata": {
        "id": "d85iwDGJ3g1u"
      },
      "outputs": [],
      "source": [
        "for i in range(1,6,5): # range con sus parámetros completos\n",
        "  print(i, end=\", \")"
      ]
    },
    {
      "cell_type": "markdown",
      "metadata": {
        "id": "WSDKWtEpgJTZ"
      },
      "source": [
        "**Ejercicio No. 7**\n",
        "\n",
        "Las funciones a continuación permiten calcular la suma de los primeros n números naturales, es decir, permiten calcular la expresión: $1 + 2 + 3 + · · · + (n − 1) + n$.\n",
        "\n",
        "Esto es tener la misma expresión: $\\sum_{i=1}^n i$.\n",
        "\n",
        "_Solución:_\n",
        "La primera función resuelve el problema usando un ciclo __while__, usando una variable contadora $i$ y una variable acumuladora $s$.\n",
        "\n",
        "La segunda función resuelve el problema usando un ciclo __for__, usando la función _range_ y una variable acumuladora $s$."
      ]
    },
    {
      "cell_type": "code",
      "execution_count": null,
      "metadata": {
        "id": "ocFhenla-IPr"
      },
      "outputs": [],
      "source": [
        "# función que resuelve el ejercicio usando un ciclo while\n",
        "def suma_while(n):\n",
        "  s = 0 # variable acumuladora\n",
        "  i = 1 # variable contadora\n",
        "  while(i <= n): # ciclo incluyendo el valor de n\n",
        "    s += i # incrementar la acumuladora\n",
        "    i += 1 # incrementar la contadora\n",
        "  return s\n",
        "\n",
        "# función que resuelve el ejercicio usando un ciclo for\n",
        "def suma_for(n):\n",
        "  s = 0 # variable acumuladora\n",
        "  for i in range(1, n + 1): # generar la sucesión basado en el range\n",
        "    s += i # incrementar la acumuladora\n",
        "  return s\n",
        "\n",
        "numero = int(input(\"n? = \"))\n",
        "print(suma_while(numero))\n",
        "print(suma_for(numero))"
      ]
    },
    {
      "cell_type": "markdown",
      "metadata": {
        "id": "mZ_sYC30gIIJ"
      },
      "source": [
        "**Problema No. 2**\n",
        "\n",
        "Imprimir un listado con los números del 1 al 100 cada uno con su respectivo cuadrado.\n",
        "\n",
        "_Solución:_ Se utiliza la función _range_ desde $1$ hasta $101$ (que realmente colocará como último número al $100$), y al resultado de la función _range_ se le itera con un ciclo **for**. En el cuerpo del ciclo se calcula el cuadrado de cada uno de los elementos de la colección."
      ]
    },
    {
      "cell_type": "code",
      "execution_count": null,
      "metadata": {
        "id": "jD_OUnNv_1Vd"
      },
      "outputs": [],
      "source": [
        "for i in range(1,101): # iteración de la función range\n",
        "  cuadrado = i ** 2  # cálculo del cuadrado del elemento en cuestión\n",
        "  print(i, cuadrado, sep=\",\")"
      ]
    },
    {
      "cell_type": "markdown",
      "metadata": {
        "id": "2XVzzSoHgH37"
      },
      "source": [
        "**Problema No. 3**\n",
        "\n",
        "Imprimir los números pares en forma descendente hasta $2$ que son\n",
        "menores o iguales a un número natural $n ≥ 2$ dado.\n",
        "\n",
        "_Solución:_"
      ]
    },
    {
      "cell_type": "code",
      "execution_count": null,
      "metadata": {
        "id": "KXugPq0sAfSE"
      },
      "outputs": [],
      "source": [
        "n = int(input()) # recibe un valor de n escrito por el usuario\n",
        "while n % 2 == 1 or n < 2: # se hace la validación de que si el número es impar o menor que cero, se vuelva a solicitar\n",
        "  n = int(input(\"Ingrese un número par mayor que 2:\"))\n",
        "\n",
        "for par in range(n, 1, -2): # range que genera números desde n hasta 2, con decremento de 2 (o incremento de -2)\n",
        "  print(par, end=\", \")"
      ]
    }
  ],
  "metadata": {
    "colab": {
      "provenance": []
    },
    "kernelspec": {
      "display_name": "Python 3",
      "name": "python3"
    },
    "language_info": {
      "name": "python"
    }
  },
  "nbformat": 4,
  "nbformat_minor": 0
}
