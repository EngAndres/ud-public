{
 "cells": [
  {
   "cell_type": "markdown",
   "metadata": {},
   "source": [
    "# Workshop I - Systems Analysis\n",
    "\n",
    "## Workshop Definition:\n",
    "\n",
    "Welcome to the first workshop of Systems Analysis course. Let’s funny me with a biological exercise.\n",
    "\n",
    "Imagine you have been hired as data analyst in an important biotechnology company.  Your boss, science chief officer, want to get some patterns in genomic data, sometimes called motifs.\n",
    "\n",
    "Here you will have some tasks in order to complete this workshop:\n",
    "Create a dummy database of genetic sequences composed of nucleotide bases (A, C, G, T), where each sequence must have between 10 and 20 bases. Your database must be composed for 50.000 genetic sequences.\n",
    "\n",
    "Get the motifs (must repeated sequence) of size 6 and 8.\n",
    "Use the Shannon Entropy measurement to filter sequences with not a good variance level.\n",
    "Get again the motifs of size 6 and 8.\n",
    "\n",
    "Write some conclusions based on your analysis.\n",
    "Write any technical concern/decision/difficulty  you think is relevant regarding your work.\n",
    "You must deliver a full report detailing each one of the previous steps. For steeps 1 to 4 you must describe the algorithms you propose and let an screenshot about the code and the output of the code. I strongly recommend you to use a Jupyter Notebook or a COLAB to write/execute your code."
   ]
  },
  {
   "cell_type": "code",
   "execution_count": null,
   "metadata": {},
   "outputs": [],
   "source": []
  }
 ],
 "metadata": {
  "language_info": {
   "name": "python"
  }
 },
 "nbformat": 4,
 "nbformat_minor": 2
}
