{
 "cells": [
  {
   "cell_type": "markdown",
   "metadata": {},
   "source": [
    "# Workshop I - Systems Analysis: Entrophy\n",
    "\n",
    "## Workshop Definition:\n",
    "\n",
    "Welcome to the first workshop of Systems Analysis course. Let’s funny me with a_ bioinformatics_ exercise.\n",
    "\n",
    "Imagine you have been hired as __data analyst__ in an important biotechnology company.  Your boss, a Science Chief Officer, want to get some _patterns_ in genomic data, sometimes called __motifs__.\n",
    "\n",
    "Here you will have some tasks in order to complete this _workshop_:\n",
    "\n",
    "1. Create a _dummy database_ of genetic sequences composed of nucleotide bases (_A_, _C_, _G_, _T_), where each sequence must have between $10$ and $20$ bases. Your database must be composed for $50.000$ genetic sequences.\n",
    "1. Get the _motifs_ (must repeated sequence) of size $6$ and $8$.\n",
    "1. Use the __Shannon Entropy__ measurement to filter sequences with not a good variance level.\n",
    "1. Get again the _motifs_ of size $6$ and $8$.\n",
    "\n",
    "Get some conclusions based on your analysis.\n",
    "\n",
    "Write any technical concern/decision/difficulty  you think is relevant regarding your work.\n",
    "You must deliver a full report detailing each one of the previous steps. For steps 1 to 4 you must describe the algorithms you propose and let an screenshot about the code and the output of the code. I strongly recommend you to use a _Jupyter Notebook_ or a _COLAB_ to write/execute your code."
   ]
  },
  {
   "cell_type": "markdown",
   "metadata": {},
   "source": [
    "1. First, a function to generate a sequence based on typical for DNA nucleotid bases is created. Here the idea is to use random numbers to get a random sequence of a random size (between 10 and 20.)"
   ]
  },
  {
   "cell_type": "code",
   "execution_count": 1,
   "metadata": {},
   "outputs": [],
   "source": [
    "import random\n",
    "\n",
    "\n",
    "def create_sequence() -> str:\n",
    "    \"\"\"\n",
    "    This function is used to generate a random genetic sequence.\n",
    "\n",
    "    Returns:\n",
    "    - str: random genetic sequence\n",
    "    \"\"\"\n",
    "    nucleotid_bases = [\"A\", \"C\", \"G\", \"T\"]\n",
    "    size_sequence = random.randint(10, 20)\n",
    "    new_sequence = [nucleotid_bases[random.randint(0, 3)] for i in range(size_sequence)]\n",
    "    return \"\".join(new_sequence)"
   ]
  },
  {
   "cell_type": "markdown",
   "metadata": {},
   "source": [
    "2. Based on `create_sequences()` function, the idea is to generate a dataset of genetic sequences, just persisting all sequences into a list."
   ]
  },
  {
   "cell_type": "code",
   "execution_count": 2,
   "metadata": {},
   "outputs": [],
   "source": [
    "def create_dataset(dataset_size: int) -> list:\n",
    "    \"\"\"\n",
    "    This function is used to create a dataset composed by a set of genetic sequences.\n",
    "\n",
    "    Parameters:\n",
    "    - dataset_size (int): size of the dummy dataset to be generated.\n",
    "\n",
    "    Returns:\n",
    "    - list: a list of genetic sequences\n",
    "    \"\"\"\n",
    "    dataset = [create_sequence() for i in range(dataset_size)]\n",
    "    return dataset"
   ]
  },
  {
   "cell_type": "markdown",
   "metadata": {},
   "source": [
    "3. As the goal is to get the motif in the sequence, first task for that purpose is to generate all possible combinations of secuences of an specific size. \n",
    "\n",
    "It means, in `size = 3`, the valid combinations would be: `[AAA, AAC, AAG, AAT, CAA, CAC, CAC,..., TTG, TTT]` "
   ]
  },
  {
   "cell_type": "code",
   "execution_count": 3,
   "metadata": {},
   "outputs": [],
   "source": [
    "def get_combinations(n: int, sequences: list, bases: list) -> list:\n",
    "    \"\"\"\n",
    "    This method is used to generate a set of combinations based on a list of nucleotid bases.\n",
    "    To make easy the process, this function is defined as a recurssion.\n",
    "\n",
    "    Parameters:\n",
    "    - n (int): amount of elements of each combination\n",
    "    - sequences (list): list of recursive sequences obtained\n",
    "    - bases (list): list of nucleotid bases to be used\n",
    "\n",
    "    Returns:\n",
    "    - list: list of combinations\n",
    "    \"\"\"\n",
    "    if n == 1:\n",
    "        return [sequence + base for sequence in sequences for base in bases]\n",
    "    else:\n",
    "        sequence_ = [sequence + base for sequence in sequences for base in bases]\n",
    "        return get_combinations(n - 1, sequence_, bases)"
   ]
  },
  {
   "cell_type": "markdown",
   "metadata": {},
   "source": [
    "4. Each motif candidate should be verified into each sequence in the dataset, just to count the motif occurences."
   ]
  },
  {
   "cell_type": "code",
   "execution_count": 4,
   "metadata": {},
   "outputs": [],
   "source": [
    "def count_motif(motif: str, sequences_dataset: list) -> int:\n",
    "    \"\"\"\n",
    "    This function is used to count the number of times a motif appears in a set of genetic sequences.\n",
    "\n",
    "    Parameters:\n",
    "    - motif (str): genetic motif to be searched.\n",
    "    - sequences_dataset (list): list of genetic sequences.\n",
    "\n",
    "    Returns:\n",
    "    - int: number of times the motif appears in the dataset.\n",
    "    \"\"\"\n",
    "    count = 0\n",
    "    for sequence in sequences_dataset:\n",
    "        count += sequence.count(motif)\n",
    "    return count"
   ]
  },
  {
   "cell_type": "markdown",
   "metadata": {},
   "source": [
    "5. Now it is time to get all motif candidates (combinations of a specific size), count occurrences for each motif, and choose as the motif winner the only one who has more ocurreces."
   ]
  },
  {
   "cell_type": "code",
   "execution_count": 5,
   "metadata": {},
   "outputs": [],
   "source": [
    "def get_motif(motif_size: int, sequences_dataset: list) -> (str, int):\n",
    "    \"\"\"\n",
    "    This function is used to get the motif with the highest count in a set of genetic sequences.\n",
    "\n",
    "    Parameters:\n",
    "    - motif_size (int): size of the motif to be searched.\n",
    "    - sequences_db (list): list of genetic sequences.\n",
    "\n",
    "    Returns:\n",
    "    - (str, int): motif with the highest count and the number of times it appears in the dataset.\n",
    "    \"\"\"\n",
    "    nucleotid_bases = [\"A\", \"C\", \"G\", \"T\"]\n",
    "    combinations = get_combinations(motif_size, [\"\"], nucleotid_bases)\n",
    "    # get motif with the highest count\n",
    "    max_counter = 0\n",
    "    motif_winner = \"\"\n",
    "    for motif_candidate in combinations:\n",
    "        temp_counter = count_motif(motif_candidate, sequences_dataset)\n",
    "        if temp_counter > max_counter:\n",
    "            max_counter = temp_counter\n",
    "            motif_winner = motif_candidate\n",
    "\n",
    "    return motif_winner, max_counter"
   ]
  },
  {
   "cell_type": "markdown",
   "metadata": {},
   "source": [
    "6. Now, just a loop of callings looking for some different motifs, in order you have a better idea about possible motifs and occurences, so you could make a better analysis. Also, motifs of size 6 and 8 will be generated."
   ]
  },
  {
   "cell_type": "code",
   "execution_count": 16,
   "metadata": {},
   "outputs": [
    {
     "name": "stdout",
     "output_type": "stream",
     "text": [
      "\n",
      "Motifs of size: 6\n",
      "('GCTCAT', 162)\n",
      "('TTACAA', 158)\n",
      "('GTTCAA', 162)\n",
      "('CATAGG', 159)\n",
      "('GTTCTC', 163)\n",
      "('CTCTCG', 162)\n",
      "('TGAAGA', 165)\n",
      "('AGGGAT', 163)\n",
      "('AAGTCG', 163)\n",
      "('GAGCAA', 163)\n",
      "\n",
      "Motifs of size: 8\n",
      "('CGTGCTTC', 20)\n",
      "('CGAAATGA', 20)\n",
      "('ACCACTCA', 19)\n",
      "('GAGCGGGC', 18)\n",
      "('ACCTATTA', 18)\n",
      "('ACATATTG', 19)\n",
      "('CGCCCTTA', 18)\n",
      "('GACGCTCT', 20)\n",
      "('GGAAACTT', 20)\n"
     ]
    },
    {
     "ename": "KeyboardInterrupt",
     "evalue": "",
     "output_type": "error",
     "traceback": [
      "\u001b[0;31m---------------------------------------------------------------------------\u001b[0m",
      "\u001b[0;31mKeyboardInterrupt\u001b[0m                         Traceback (most recent call last)",
      "Cell \u001b[0;32mIn[16], line 4\u001b[0m\n\u001b[1;32m      2\u001b[0m \u001b[38;5;28mprint\u001b[39m(\u001b[38;5;124mf\u001b[39m\u001b[38;5;124m\"\u001b[39m\u001b[38;5;130;01m\\n\u001b[39;00m\u001b[38;5;124mMotifs of size: \u001b[39m\u001b[38;5;132;01m{\u001b[39;00msize\u001b[38;5;132;01m}\u001b[39;00m\u001b[38;5;124m\"\u001b[39m)\n\u001b[1;32m      3\u001b[0m \u001b[38;5;28;01mfor\u001b[39;00m i \u001b[38;5;129;01min\u001b[39;00m \u001b[38;5;28mrange\u001b[39m(\u001b[38;5;241m10\u001b[39m):\n\u001b[0;32m----> 4\u001b[0m     \u001b[38;5;28mprint\u001b[39m(\u001b[43mget_motif\u001b[49m\u001b[43m(\u001b[49m\u001b[43msize\u001b[49m\u001b[43m,\u001b[49m\u001b[43m \u001b[49m\u001b[43mcreate_dataset\u001b[49m\u001b[43m(\u001b[49m\u001b[38;5;241;43m50000\u001b[39;49m\u001b[43m)\u001b[49m\u001b[43m)\u001b[49m)\n",
      "Cell \u001b[0;32mIn[5], line 18\u001b[0m, in \u001b[0;36mget_motif\u001b[0;34m(motif_size, sequences_dataset)\u001b[0m\n\u001b[1;32m     16\u001b[0m motif_winner \u001b[38;5;241m=\u001b[39m \u001b[38;5;124m\"\u001b[39m\u001b[38;5;124m\"\u001b[39m\n\u001b[1;32m     17\u001b[0m \u001b[38;5;28;01mfor\u001b[39;00m motif_candidate \u001b[38;5;129;01min\u001b[39;00m combinations:\n\u001b[0;32m---> 18\u001b[0m     temp_counter \u001b[38;5;241m=\u001b[39m \u001b[43mcount_motif\u001b[49m\u001b[43m(\u001b[49m\u001b[43mmotif_candidate\u001b[49m\u001b[43m,\u001b[49m\u001b[43m \u001b[49m\u001b[43msequences_dataset\u001b[49m\u001b[43m)\u001b[49m\n\u001b[1;32m     19\u001b[0m     \u001b[38;5;28;01mif\u001b[39;00m temp_counter \u001b[38;5;241m>\u001b[39m max_counter:\n\u001b[1;32m     20\u001b[0m         max_counter \u001b[38;5;241m=\u001b[39m temp_counter\n",
      "Cell \u001b[0;32mIn[4], line 14\u001b[0m, in \u001b[0;36mcount_motif\u001b[0;34m(motif, sequences_dataset)\u001b[0m\n\u001b[1;32m     12\u001b[0m count \u001b[38;5;241m=\u001b[39m \u001b[38;5;241m0\u001b[39m\n\u001b[1;32m     13\u001b[0m \u001b[38;5;28;01mfor\u001b[39;00m sequence \u001b[38;5;129;01min\u001b[39;00m sequences_dataset:\n\u001b[0;32m---> 14\u001b[0m     count \u001b[38;5;241m+\u001b[39m\u001b[38;5;241m=\u001b[39m \u001b[43msequence\u001b[49m\u001b[38;5;241;43m.\u001b[39;49m\u001b[43mcount\u001b[49m\u001b[43m(\u001b[49m\u001b[43mmotif\u001b[49m\u001b[43m)\u001b[49m\n\u001b[1;32m     15\u001b[0m \u001b[38;5;28;01mreturn\u001b[39;00m count\n",
      "\u001b[0;31mKeyboardInterrupt\u001b[0m: "
     ]
    }
   ],
   "source": [
    "for size in [6, 8]:\n",
    "    print(f\"\\nMotifs of size: {size}\")\n",
    "    for i in range(10):\n",
    "        print(get_motif(size, create_dataset(50000)))"
   ]
  },
  {
   "cell_type": "markdown",
   "metadata": {},
   "source": [
    "7. Now, as the idea is to define how Shannon Entropy could help us to filter maybe not relevant sequences in order to get more relevant motifs. You could check equation [here](https://rosettacode.org/wiki/Entropy)."
   ]
  },
  {
   "cell_type": "code",
   "execution_count": 11,
   "metadata": {},
   "outputs": [],
   "source": [
    "import math\n",
    "\n",
    "\n",
    "def calculate_shannon_entrophy(sequence: str) -> float:\n",
    "    \"\"\"\n",
    "    This function is used to calculate the Shannon Entropy of a genetic sequence.\n",
    "\n",
    "    Parameters:\n",
    "    - sequence (str): genetic sequence.\n",
    "\n",
    "    Returns:\n",
    "    - float: Shannon Entropy of the sequence.\n",
    "    \"\"\"\n",
    "    size_sequence = len(sequence)\n",
    "    bases = [\"A\", \"C\", \"G\", \"T\"]\n",
    "    entrophy = 0\n",
    "    for base in bases:\n",
    "        count = sequence.count(base)\n",
    "        if count > 0:\n",
    "            p = (count / size_sequence) * math.log2(count / size_sequence)\n",
    "        else:\n",
    "            p = 0\n",
    "        entrophy += p\n",
    "    entrophy *= -1\n",
    "    return entrophy"
   ]
  },
  {
   "cell_type": "markdown",
   "metadata": {},
   "source": [
    "8. As a Shannon Entropy Calculation function is created, it is possible to make a dataset filter before to check for motifs."
   ]
  },
  {
   "cell_type": "code",
   "execution_count": 14,
   "metadata": {},
   "outputs": [],
   "source": [
    "def filter_shannon(sequence: str) -> bool:\n",
    "    \"\"\"\n",
    "    This function is used to filter genetic sequences based on their Shannon Entropy.\n",
    "\n",
    "    Parameters:\n",
    "    - sequence (str): genetic sequence.\n",
    "\n",
    "    Returns:\n",
    "    - bool: True if the sequence passes the filter, False otherwise.\n",
    "    \"\"\"\n",
    "    return calculate_shannon_entrophy(sequence) > 1.8"
   ]
  },
  {
   "cell_type": "markdown",
   "metadata": {},
   "source": [
    "9. Last part of the workshop, it is just filter sequences in the full motif search process."
   ]
  },
  {
   "cell_type": "code",
   "execution_count": 15,
   "metadata": {},
   "outputs": [
    {
     "name": "stdout",
     "output_type": "stream",
     "text": [
      "\n",
      "Arter filter, motifs of size: 6\n",
      "Dataset size: 360, Motif: ('ACATGA', 5)\n",
      "Dataset size: 350, Motif: ('CTACGG', 6)\n",
      "Dataset size: 353, Motif: ('AGGTCT', 7)\n",
      "Dataset size: 347, Motif: ('GAGCCA', 6)\n",
      "Dataset size: 340, Motif: ('CTAGGT', 5)\n",
      "Dataset size: 363, Motif: ('AACGGT', 6)\n",
      "Dataset size: 361, Motif: ('TTTACA', 6)\n",
      "Dataset size: 369, Motif: ('ACATGG', 6)\n",
      "Dataset size: 363, Motif: ('AGGCTG', 6)\n",
      "Dataset size: 356, Motif: ('GATGCG', 6)\n",
      "\n",
      "Arter filter, motifs of size: 8\n",
      "Dataset size: 366, Motif: ('ACGGATCG', 2)\n",
      "Dataset size: 337, Motif: ('AATCTCGC', 3)\n",
      "Dataset size: 338, Motif: ('CGATAGCA', 3)\n",
      "Dataset size: 353, Motif: ('ACCAAATG', 2)\n",
      "Dataset size: 348, Motif: ('AACACTCT', 2)\n",
      "Dataset size: 349, Motif: ('AAACAGAC', 2)\n",
      "Dataset size: 339, Motif: ('AAAGTCCA', 3)\n",
      "Dataset size: 334, Motif: ('AATCACGG', 3)\n",
      "Dataset size: 342, Motif: ('CCTTTTGA', 3)\n",
      "Dataset size: 337, Motif: ('AAACGGCC', 2)\n"
     ]
    }
   ],
   "source": [
    "for size in [6, 8]:\n",
    "    print(f\"\\nArter filter, motifs of size: {size}\")\n",
    "    for i in range(10):\n",
    "        dataset = create_dataset(50000)\n",
    "        dataset = list(filter(filter_shannon, dataset))\n",
    "        print(f\"Dataset size: {len(dataset)}, Motif: {get_motif(size, dataset)}\")"
   ]
  },
  {
   "cell_type": "code",
   "execution_count": 8,
   "metadata": {},
   "outputs": [
    {
     "name": "stdout",
     "output_type": "stream",
     "text": [
      "-0.0\n",
      "0.9456603046006401\n",
      "2.0\n",
      "2.0\n",
      "1.9940302114769564\n"
     ]
    }
   ],
   "source": [
    "print(calculate_shannon_entrophy(\"AAAAAAAA\"))\n",
    "print(calculate_shannon_entrophy(\"CCCAAAACCCC\"))\n",
    "print(calculate_shannon_entrophy(\"CGATCGAT\"))\n",
    "print(calculate_shannon_entrophy(\"CGTA\"))\n",
    "print(calculate_shannon_entrophy(\"ACGTACGTACGTCGATCGATGC\"))"
   ]
  }
 ],
 "metadata": {
  "kernelspec": {
   "display_name": "class_ap",
   "language": "python",
   "name": "python3"
  },
  "language_info": {
   "codemirror_mode": {
    "name": "ipython",
    "version": 3
   },
   "file_extension": ".py",
   "mimetype": "text/x-python",
   "name": "python",
   "nbconvert_exporter": "python",
   "pygments_lexer": "ipython3",
   "version": "3.11.0"
  }
 },
 "nbformat": 4,
 "nbformat_minor": 2
}
