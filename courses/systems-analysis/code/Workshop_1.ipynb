{
 "cells": [
  {
   "cell_type": "markdown",
   "metadata": {},
   "source": [
    "# Workshop I - Systems Analysis\n",
    "\n",
    "## Workshop Definition:\n",
    "\n",
    "Welcome to the first workshop of Systems Analysis course. Let’s funny me with a biological exercise.\n",
    "\n",
    "Imagine you have been hired as data analyst in an important biotechnology company.  Your boss, science chief officer, want to get some patterns in genomic data, sometimes called motifs.\n",
    "\n",
    "Here you will have some tasks in order to complete this workshop:\n",
    "Create a dummy database of genetic sequences composed of nucleotide bases (A, C, G, T), where each sequence must have between 10 and 20 bases. Your database must be composed for 50.000 genetic sequences.\n",
    "\n",
    "Get the motifs (must repeated sequence) of size 6 and 8.\n",
    "Use the Shannon Entropy measurement to filter sequences with not a good variance level.\n",
    "Get again the motifs of size 6 and 8.\n",
    "\n",
    "Write some conclusions based on your analysis.\n",
    "Write any technical concern/decision/difficulty  you think is relevant regarding your work.\n",
    "You must deliver a full report detailing each one of the previous steps. For steeps 1 to 4 you must describe the algorithms you propose and let an screenshot about the code and the output of the code. I strongly recommend you to use a Jupyter Notebook or a COLAB to write/execute your code."
   ]
  },
  {
   "cell_type": "markdown",
   "metadata": {},
   "source": [
    "1. Create dummy database"
   ]
  },
  {
   "cell_type": "code",
   "execution_count": 82,
   "metadata": {},
   "outputs": [],
   "source": [
    "import random\n",
    "\n",
    "def create_sequence():\n",
    "    nucleotid_bases = ['A', 'C', 'G', 'T']\n",
    "    size_sequence = random.randint(10, 20)\n",
    "    new_sequence = [nucleotid_bases[random.randint(0,3)] for i in range(size_sequence)]\n",
    "    return \"\".join(new_sequence)\n"
   ]
  },
  {
   "cell_type": "code",
   "execution_count": 83,
   "metadata": {},
   "outputs": [],
   "source": [
    "def create_database():\n",
    "    db_size = 50000\n",
    "    data_base = [create_sequence() for i in range(db_size)]\n",
    "    return data_base\n"
   ]
  },
  {
   "cell_type": "code",
   "execution_count": 104,
   "metadata": {},
   "outputs": [],
   "source": [
    "def get_combinations(n, sequences, bases):\n",
    "    if n == 1:\n",
    "        return [sequence+base for sequence in sequences for base in bases]\n",
    "    else:\n",
    "        sequence_ = [sequence+base for sequence in sequences for base in bases]\n",
    "        return get_combinations(n-1, sequence_, bases)\n",
    "\n",
    "def count_motif(motif, sequences_db):\n",
    "    count = 0\n",
    "    for sequence in sequences_db:\n",
    "        count += sequence.count(motif)\n",
    "    return count\n",
    "\n",
    "def get_motif(motif_size, sequences_db):\n",
    "    nucleotid_bases = ['A', 'C', 'G', 'T']\n",
    "    combinations = get_combinations(motif_size, [\"\"], nucleotid_bases)\n",
    "    max_counter = 0\n",
    "    motif_winner = \"\"\n",
    "    for motif_candidate in combinations:\n",
    "        temp_counter = count_motif(motif_candidate, sequences_db)\n",
    "        if temp_counter > max_counter:\n",
    "            max_counter = temp_counter\n",
    "            motif_winner = motif_candidate\n",
    "    return motif_winner, max_counter\n",
    "\n",
    "print(get_motif(6, create_database()))"
   ]
  }
 ],
 "metadata": {
  "kernelspec": {
   "display_name": "class_ap",
   "language": "python",
   "name": "python3"
  },
  "language_info": {
   "codemirror_mode": {
    "name": "ipython",
    "version": 3
   },
   "file_extension": ".py",
   "mimetype": "text/x-python",
   "name": "python",
   "nbconvert_exporter": "python",
   "pygments_lexer": "ipython3",
   "version": "3.11.0"
  }
 },
 "nbformat": 4,
 "nbformat_minor": 2
}
