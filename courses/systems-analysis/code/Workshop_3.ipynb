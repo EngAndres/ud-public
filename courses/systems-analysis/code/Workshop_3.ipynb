{
 "cells": [
  {
   "cell_type": "markdown",
   "metadata": {},
   "source": [
    "# Workshop No. 3\n",
    "\n",
    "As you are becoming an expert on understand systems, it is the time to create an __expert system__.\n",
    "\n",
    "Also, as you shoud know, you professor love movies a lot. So, you want to help him to choose next movies to watch. In this sense, you will take information for next movies from a popular website called ___IMDb___ where there is different information about movies and opinions.\n",
    "\n",
    "However, you do not want to spend money to get movies information using a _webAPI_. But, as you are a good _computer engineer_, you know there is a technique called _web scrapping_, and you could get information using _HTML_ from an website, and put this information into a _DataFrame_ just to make easier data processing.\n",
    "\n",
    "In this case, you are gonna use _request_ package to get HTML code from ___IMDb___ site, _beautiful soup_ package to make web scrapping, and _pandas_ to have a dataframe to handle data."
   ]
  },
  {
   "cell_type": "code",
   "execution_count": null,
   "metadata": {},
   "outputs": [],
   "source": [
    "# neccesary libraries\n",
    "!pip install --upgrade pip\n",
    "!pip install requests\n",
    "!pip install beautifulsoup4\n",
    "!pip install pandas"
   ]
  },
  {
   "cell_type": "markdown",
   "metadata": {},
   "source": [
    "## 1. Get Movies Data\n",
    "\n",
    "In the link [IMDb Upcoming Relases](https://www.imdb.com/calendar/?ref_=rlm&region=US&type=MOVIE) there are next movies with some related data as genre or star actors. So, using html tags, you could take information and save it into python variables. At the end, here you want to have a DataFrame with movies information."
   ]
  },
  {
   "cell_type": "code",
   "execution_count": 1,
   "metadata": {},
   "outputs": [],
   "source": [
    "# import libraries\n",
    "import requests\n",
    "from bs4 import BeautifulSoup\n",
    "\n",
    "def get_web_html(url: str) -> BeautifulSoup:\n",
    "    \"\"\"\n",
    "    This method gets the HTML from a website using scrapping.\n",
    "\n",
    "    Args:\n",
    "        url: URL to scrape.\n",
    "\n",
    "    Returns:\n",
    "        A BeautifulSoup object with the HTML.\n",
    "    \"\"\"\n",
    "    # headers to avoid 403 error, cos' IMDb blocks requests from bots\n",
    "    headers = {\n",
    "        \"User-Agent\": \"Mozilla/5.0 (Windows NT 10.0; Win64; x64) AppleWebKit/537.36 (KHTML, like Gecko) Chrome/58.0.3029.110 Safari/537.3\"\n",
    "    }\n",
    "\n",
    "    # get HTML and save it in a variable\n",
    "    response = requests.get(url, headers=headers)\n",
    "    return BeautifulSoup(response.text, \"html.parser\")\n",
    "\n",
    "\n"
   ]
  },
  {
   "cell_type": "code",
   "execution_count": 2,
   "metadata": {},
   "outputs": [],
   "source": [
    "# import libraries\n",
    "from bs4 import BeautifulSoup\n",
    "\n",
    "\n",
    "def get_title_year(movie_data: BeautifulSoup) -> tuple:\n",
    "    \"\"\"\n",
    "    This methog gets the title, year, and link of a movie data using scrapping.\n",
    "\n",
    "    Args:\n",
    "        movie_data: BeautifulSoup object with movie data.\n",
    "\n",
    "    Returns:\n",
    "        A tuple with title, year, and link.\n",
    "    \"\"\"\n",
    "    # process main title of subdivission\n",
    "    base_url = \"https://www.imdb.com\"\n",
    "    ref_data = movie_data.find(\"a\")\n",
    "    title = ref_data.text.split(\"(\")[0].strip()\n",
    "    year = ref_data.text.split(\"(\")[1].replace(\")\", \"\")\n",
    "    link = base_url + ref_data[\"href\"]\n",
    "    return title, year, link\n",
    "\n",
    "\n",
    "def get_genre_actors(movie_data: BeautifulSoup) -> list:\n",
    "    \"\"\"\n",
    "    This method gets genre and actors from a movie data using scrapping.\n",
    "\n",
    "    Args:\n",
    "        movie_data: BeautifulSoup object with movie data.\n",
    "\n",
    "    Returns:\n",
    "        A list with genre and actors.\n",
    "    \"\"\"\n",
    "    # process ul tags to get genre and actors\n",
    "    data = []\n",
    "    ul_tags = movie_data.find_all(\"ul\")\n",
    "    for ul_tag in ul_tags:\n",
    "        temp = []\n",
    "        for li_tag in ul_tag.find_all(\"li\"):\n",
    "            temp.append(li_tag.find(\"span\").get_text())\n",
    "        data.append(\", \".join(temp))\n",
    "    return data"
   ]
  },
  {
   "cell_type": "code",
   "execution_count": 3,
   "metadata": {},
   "outputs": [
    {
     "name": "stdout",
     "output_type": "stream",
     "text": [
      "                     Title  Year                         Genre  \\\n",
      "0                  Furiosa  2024     Action, Adventure, Sci-Fi   \n",
      "1  Garfield: Fuera de casa  2024  Animation, Adventure, Comedy   \n",
      "2                    Sight  2023     Biography, Drama, History   \n",
      "\n",
      "                                              Actors  \n",
      "0  Anya Taylor-Joy, Chris Hemsworth, Tom Burke, A...  \n",
      "1  Chris Pratt, Samuel L. Jackson, Hannah Wadding...  \n",
      "2  Terry Chen, Greg Kinnear, Natasha Mumba, Fionn...  \n"
     ]
    }
   ],
   "source": [
    "# import libraries\n",
    "from bs4 import BeautifulSoup\n",
    "import pandas as pd\n",
    "\n",
    "\n",
    "def generate_dataframe(url: str) -> pd.DataFrame:\n",
    "    \"\"\"\n",
    "    This method generates a DataFrame with movie data from IMDb.\n",
    "\n",
    "    Args:\n",
    "        url: URL to scrape.\n",
    "\n",
    "    Returns:\n",
    "        A DataFrame with movie data.\n",
    "    \"\"\"\n",
    "    # movies datastructure definition\n",
    "    imdb = get_web_html(url)\n",
    "    movies = []\n",
    "    movies_metadata = [\"Title\", \"Year\", \"Genre\", \"Actors\"]\n",
    "\n",
    "    # process HTML using scrapping going to each division with the class ipc-metadata-list-summary-item__tc\n",
    "    movies_html = imdb.find_all(\"div\", class_=\"ipc-metadata-list-summary-item__tc\")\n",
    "    for movie in movies_html:\n",
    "        # get each movie data into a clean html structure\n",
    "        movie_data = BeautifulSoup(str(movie), \"html.parser\")\n",
    "\n",
    "        # get movie data\n",
    "        title, year, link = get_title_year(movie_data)\n",
    "        data = get_genre_actors(movie_data)\n",
    "\n",
    "        # create a dictionary to have a nice data movie structure\n",
    "        movie_clean_data = {\n",
    "            \"Title\": title,\n",
    "            \"Year\": year,\n",
    "            \"Genre\": data[0],\n",
    "            \"Actors\": data[1] if len(data) > 1 else \"\",\n",
    "        }\n",
    "        # create a list of dictionaries to create a DataFrame\n",
    "        movies.append(movie_clean_data)\n",
    "\n",
    "    # create movies dataframe\n",
    "    return pd.DataFrame(movies, columns=movies_metadata)\n",
    "    \n",
    "# ================================ MAIN =================================== #\n",
    "# url to scrape\n",
    "url = \"https://www.imdb.com/calendar/?ref_=rlm&region=US&type=MOVIE\"\n",
    "movies_df = generate_dataframe(url)\n",
    "print(movies_df.head(3))\n",
    "    "
   ]
  },
  {
   "cell_type": "markdown",
   "metadata": {},
   "source": [
    "## 2. Time to build a Decision Tree\n",
    "\n",
    "In order to create an expert system, you must define a decision tree. It means, a sequence of conditionals in order to get a result, it is like to build a flowchart composed for a lot of conditionals.\n",
    "\n",
    "In this part, you must to go to any site like _draw.io_ and create a __flowchart__ about how you think is the best decision process: _what questions do you want to make?_\n",
    "\n",
    "Remember, make the right questions is a pretty important step at any taks you want to do.\n",
    "\n",
    "As follows is the algorithm used in the ___expert system___ (replace image called _expert\\_system.png_):\n",
    "\n",
    "![Expert System](expert_system.png)\n"
   ]
  },
  {
   "cell_type": "markdown",
   "metadata": {},
   "source": [
    "### 2.1 Your proposal\n",
    "\n",
    "_In this section you must write your system analysis, and justify the questions selection and order. Also, define system components, system sensibility, anything you consider important to solve this problem._"
   ]
  },
  {
   "cell_type": "markdown",
   "metadata": {},
   "source": [
    "## 3. Put your expert system at work\n",
    "\n",
    "Now it is the time to write code in order to create your first and __classical expert system__. Here it is important to use conditionals, and based on conditionals apply filters in _pandas dataframe_.\n",
    "\n",
    "![Classical AI](classical_ai.jpg)"
   ]
  },
  {
   "cell_type": "code",
   "execution_count": 46,
   "metadata": {},
   "outputs": [],
   "source": [
    "# HERE write your code"
   ]
  },
  {
   "cell_type": "markdown",
   "metadata": {},
   "source": [
    "***\n",
    "\n",
    "# Some Useful Examples\n",
    "\n",
    "I know you are learning about _python_, _coding_, and this technologies. As follows there are some simple examples about how you can use filtering in _pandas_."
   ]
  },
  {
   "cell_type": "code",
   "execution_count": 5,
   "metadata": {},
   "outputs": [
    {
     "name": "stdout",
     "output_type": "stream",
     "text": [
      "    Title  Year                      Genre  \\\n",
      "2   Sight  2023  Biography, Drama, History   \n",
      "3  Rapito  2023             Drama, History   \n",
      "8    Ezra  2023              Comedy, Drama   \n",
      "\n",
      "                                              Actors  \n",
      "2  Terry Chen, Greg Kinnear, Natasha Mumba, Fionn...  \n",
      "3  Paolo Pierobon, Fausto Russo Alesi, Barbara Ro...  \n",
      "8  Robert De Niro, Vera Farmiga, Tony Goldwyn, Ro...  \n"
     ]
    }
   ],
   "source": [
    "# filter by an exact value\n",
    "filtered_movies_df = movies_df[movies_df['Year'] == '2023']\n",
    "print(filtered_movies_df.head(3))"
   ]
  },
  {
   "cell_type": "code",
   "execution_count": 6,
   "metadata": {},
   "outputs": [
    {
     "name": "stdout",
     "output_type": "stream",
     "text": [
      "                  Title  Year                      Genre  \\\n",
      "6         Terra Infirma  2024  Action, Thriller, Western   \n",
      "7   In a Violent Nature  2024    Drama, Horror, Thriller   \n",
      "11       April 29, 1992  2024    Action, Drama, Thriller   \n",
      "\n",
      "                                               Actors  \n",
      "6   Bruce Greenwood, Adam Beach, Wes Studi, Gísli ...  \n",
      "7   Ry Barrett, Andrea Pavlovic, Cameron Love, Ree...  \n",
      "11  Ray Liotta, Scott Eastwood, Tyrese Gibson, Dyl...  \n"
     ]
    }
   ],
   "source": [
    "# filter by a string option\n",
    "filtered_movies_df = movies_df[movies_df['Genre'].str.contains('Thriller', na=False)]\n",
    "print(filtered_movies_df.head(3))"
   ]
  }
 ],
 "metadata": {
  "kernelspec": {
   "display_name": "udistrital",
   "language": "python",
   "name": "python3"
  },
  "language_info": {
   "codemirror_mode": {
    "name": "ipython",
    "version": 3
   },
   "file_extension": ".py",
   "mimetype": "text/x-python",
   "name": "python",
   "nbconvert_exporter": "python",
   "pygments_lexer": "ipython3",
   "version": "3.11.0rc2"
  }
 },
 "nbformat": 4,
 "nbformat_minor": 2
}
