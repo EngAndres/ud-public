{
 "cells": [
  {
   "cell_type": "markdown",
   "metadata": {},
   "source": [
    "# Simulation of Condor\n",
    "\n",
    "This is a simple simulation about users accessing condor services and how this could produce different queues."
   ]
  },
  {
   "cell_type": "markdown",
   "metadata": {},
   "source": [
    "## 1. First Step\n",
    "\n",
    "Get time metrics to define events."
   ]
  },
  {
   "cell_type": "code",
   "execution_count": 1,
   "metadata": {},
   "outputs": [],
   "source": [
    "# Constants of the simulation\n",
    "\n",
    "SERVERS = 3\n",
    "SERVER_1 = {\n",
    "    \"enroll\": {\"type\": \"uniform\", \"time\": [2, 5]},\n",
    "    \"check\": {\"type\": \"normal\", \"time\": {\"mu\": 5, \"sigma\": 1}},\n",
    "}\n",
    "\n",
    "SERVER_2 = {\n",
    "    \"enroll\": {\"type\": \"uniform\", \"time\": [3, 7]},\n",
    "    \"check\": {\"type\": \"normal\", \"time\": {\"mu\": 3, \"sigma\": 1}},\n",
    "}\n",
    "\n",
    "SERVER_3 = {\n",
    "    \"enroll\": {\"type\": \"normal\", \"time\": {\"mu\": 6, \"sigma\": 1}},\n",
    "    \"check\": {\"type\": \"uniform\", \"time\": [3, 6]},\n",
    "}\n",
    "\n",
    "STUDENTS_ARRIVAL = {\n",
    "    \"event\": {\"type\": \"normal\", \"time\": {\"mu\": 3, \"sigma\": 1}},\n",
    "    \"action\": {\"enroll\": 0.6, \"check\": 0.4},\n",
    "}"
   ]
  },
  {
   "cell_type": "markdown",
   "metadata": {},
   "source": [
    "## 2. Second Step: Generate Random Variables\n",
    "\n",
    "Here some functions sdould be used to generate random numbers based on distributions."
   ]
  },
  {
   "cell_type": "code",
   "execution_count": 2,
   "metadata": {},
   "outputs": [],
   "source": [
    "import random\n",
    "\n",
    "\n",
    "def generate_uniform_random(min_time: int, max_time: int) -> int:\n",
    "    \"\"\"This function generates a random number based\n",
    "    on both lower and upper bounds.\n",
    "\n",
    "    Args:\n",
    "        min_time (int): Lower bound\n",
    "        max_time (int): Upper bound\n",
    "\n",
    "    Returns:\n",
    "        int: Random number\n",
    "    \"\"\"\n",
    "    return round(min_time + (max_time - min_time) * random.random())\n",
    "\n",
    "\n",
    "def generate_normal_random(mu: int, sigma: int) -> int:\n",
    "    \"\"\"This function generates a random number based\n",
    "    on normal distribution.\n",
    "\n",
    "    Args:\n",
    "        mu (int): Mean\n",
    "        sigma (int): Standard deviation\n",
    "\n",
    "    Returns:\n",
    "        int: Random number\n",
    "    \"\"\"\n",
    "    return round(random.gauss(mu, sigma))"
   ]
  },
  {
   "cell_type": "markdown",
   "metadata": {},
   "source": [
    "## Third Step: Define Queue and Events"
   ]
  },
  {
   "cell_type": "code",
   "execution_count": 3,
   "metadata": {},
   "outputs": [],
   "source": [
    "# Entity class\n",
    "class Student:\n",
    "    def __init__(\n",
    "        self, id: int, arrival_time: int, type_action: str\n",
    "    ):\n",
    "        self.id = id\n",
    "        self.arrival_time = arrival_time\n",
    "        self.type_action = type_action\n",
    "\n",
    "class Server:\n",
    "    def __init__(self, name: str, distribution: dict):\n",
    "        self.name = name\n",
    "        self.distribution = distribution\n",
    "        self.busy = False"
   ]
  },
  {
   "cell_type": "code",
   "execution_count": 4,
   "metadata": {},
   "outputs": [],
   "source": [
    "def next_student_arrival(current_time: int) -> int:\n",
    "    distribution = STUDENTS_ARRIVAL[\"event\"][\"type\"]\n",
    "    if distribution == \"uniform\":\n",
    "        min = STUDENTS_ARRIVAL[\"event\"][\"time\"][0]\n",
    "        max = STUDENTS_ARRIVAL[\"event\"][\"time\"][1]\n",
    "        uniform_random = generate_uniform_random(min, max)\n",
    "        return current_time + uniform_random\n",
    "    elif distribution == \"normal\":\n",
    "        mu = STUDENTS_ARRIVAL[\"event\"][\"time\"][\"mu\"]\n",
    "        sigma = STUDENTS_ARRIVAL[\"event\"][\"time\"][\"sigma\"]\n",
    "        normal_random = generate_normal_random(mu, sigma)\n",
    "        return current_time + normal_random"
   ]
  },
  {
   "cell_type": "code",
   "execution_count": null,
   "metadata": {},
   "outputs": [],
   "source": [
    "students_queue = []\n",
    "servers = [Server(\"s1\", SERVER_1), Server(\"s2\", SERVER_2), Server(\"s3\", SERVER_3)]\n",
    "\n",
    "time = 0\n",
    "limit_time = 200\n",
    "id_student = 1\n",
    "\n",
    "EVENTS = {\n",
    "    \"student_arrival\": next_student_arrival(time),\n",
    "    \"server_1_available\": -1,\n",
    "    \"server_2_available\": -1,\n",
    "    \"server_3_available\": -1\n",
    "}\n",
    "\n",
    "\n",
    "while time <= limit_time:\n",
    "    if EVENTS[\"student_arrival\"] == time:\n",
    "        student = Student(\n",
    "            id=id_student,\n",
    "            arrival_time=time,\n",
    "            type_action=\"enroll\" if random.random() < STUDENTS_ARRIVAL[\"action\"][\"enroll\"] else \"check\"\n",
    "        )\n",
    "        students_queue.append(student)\n",
    "        EVENTS[\"student_arrival\"] = next_student_arrival(time)    \n",
    "        id_student += 1\n",
    "\n",
    "    if servers[0].busy and EVENTS[\"server_1_available\"] == time:\n",
    "        servers[0].busy = False\n",
    "    if servers[1].busy and EVENTS[\"server_2_available\"] == time:\n",
    "        servers[1].busy = False\n",
    "    if servers[2].busy and EVENTS[\"server_3_available\"] == time:\n",
    "        servers[2].busy = False\n",
    "\n",
    "    if len(students_queue) > 0:\n",
    "        \n",
    "\n",
    "    time += 1"
   ]
  }
 ],
 "metadata": {
  "kernelspec": {
   "display_name": "3.11.10",
   "language": "python",
   "name": "python3"
  },
  "language_info": {
   "codemirror_mode": {
    "name": "ipython",
    "version": 3
   },
   "file_extension": ".py",
   "mimetype": "text/x-python",
   "name": "python",
   "nbconvert_exporter": "python",
   "pygments_lexer": "ipython3",
   "version": "3.11.10"
  }
 },
 "nbformat": 4,
 "nbformat_minor": 2
}
