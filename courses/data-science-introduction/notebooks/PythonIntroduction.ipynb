{
 "cells": [
  {
   "cell_type": "markdown",
   "metadata": {},
   "source": [
    "# Python Introduction\n",
    "\n",
    "_Python_ is high-level, interpreted, weakly typed, multi-paradigm, and general purpose programming language.\n",
    "\n",
    "## Variables in Python\n",
    "\n",
    "In Python, __variables__ are used to _store_ data values. A __variable__ is created when a value is assigned to it using the _assignment operator_ (=). \n",
    "\n",
    "For example, to assign the value $10$ to a _variable_ named `x`, we can use the following code:\n",
    "\n",
    "```python\n",
    "x = 10\n",
    "```\n",
    "\n",
    "After the assignment, the _variable_ `x` will hold the value $10$, and we can use it in our code to perform operations or manipulate the data.\n",
    "\n",
    "__Variables__ in Python are _dynamically typed_, which means that the type of a variable is determined at _runtime_ based on the value assigned to it. This allows us to assign different types of values to the same variable.\n",
    "\n",
    "Python also supports _multiple assignment_, where we can assign values to multiple variables in a single line. For example:\n",
    "\n",
    "```python\n",
    "a, b, c = 1, 2, 3\n",
    "```\n",
    "\n",
    "In this case, the values $1$, $2$, and $3$ are assigned to _variables_ `a`, `b`, and `c` respectively.\n",
    "\n",
    "__Variables__ in Python are _case-sensitive_, which means that `x` and `X` are considered as _different_ variables.\n",
    "\n",
    "Overall, variables in Python are a fundamental concept that allows us to store and manipulate data in our programs.\n",
    "```\n",
    "```"
   ]
  },
  {
   "cell_type": "code",
   "execution_count": 1,
   "metadata": {},
   "outputs": [
    {
     "name": "stdout",
     "output_type": "stream",
     "text": [
      "<class 'int'>\n",
      "a <class 'str'> 131449064723360\n",
      "John <class 'str'> 131448709530864\n",
      "12.3 <class 'float'> 131449003127248\n"
     ]
    }
   ],
   "source": [
    "# create variables\n",
    "x = 15\n",
    "name = \"John\"\n",
    "weight = 12.3\n",
    "\n",
    "# get type(?)\n",
    "type_x = type(x)\n",
    "print(type_x)\n",
    "x = \"a\"\n",
    "type_x = type(x)\n",
    "type_name = type(name)\n",
    "type_weight = type(weight)\n",
    "\n",
    "# get memory reference\n",
    "mem_x = id(x)\n",
    "mem_name = id(name)\n",
    "mem_weight = id(weight)\n",
    "\n",
    "# print out\n",
    "print(x, type_x, mem_x)\n",
    "print(name, type_name, mem_name)\n",
    "print(weight, type_weight, mem_weight)"
   ]
  },
  {
   "cell_type": "markdown",
   "metadata": {},
   "source": [
    "## Conditionals\n",
    "\n",
    "Conditionals are used to make decisions in a program based on certain conditions.\n",
    "In _Python_, conditionals are implemented using `if`, `elif`, and `else` statements.\n",
    "\n",
    "- The `if` statement is used to check a condition and execute a block of code if the condition is __true__.\n",
    "- The `elif` statement is used to check additional conditions if the previous conditions are __false__.\n",
    "- The `else` statement is used to execute a block of code if none of the previous conditions are __true__.\n",
    "\n",
    "__Conditionals__ allow the program to take different paths based on the values of variables or the result of _comparisons_.\n",
    "They are essential for controlling the _flow of execution_ in a program and making it more dynamic and responsive."
   ]
  },
  {
   "cell_type": "code",
   "execution_count": 12,
   "metadata": {},
   "outputs": [
    {
     "name": "stdout",
     "output_type": "stream",
     "text": [
      "Son diferentes\n"
     ]
    }
   ],
   "source": [
    "# simple conditional\n",
    "a = 5\n",
    "b = 5\n",
    "c = 7\n",
    "\n",
    "if (a == b) and (a == c):\n",
    "    print(\"Son iguales\")\n",
    "else:\n",
    "    print(\"Son diferentes\")"
   ]
  },
  {
   "cell_type": "code",
   "execution_count": 17,
   "metadata": {},
   "outputs": [
    {
     "name": "stdout",
     "output_type": "stream",
     "text": [
      "A meat lasagna\n"
     ]
    }
   ],
   "source": [
    "# nested conditional\n",
    "food = \"lasagna vag\"\n",
    "if \"veg\" in food:\n",
    "    if \"vegetarian\" in food:\n",
    "        print(\"A vegetarian lasagna\")\n",
    "    else:\n",
    "        print(\"A vegan lasagna\")\n",
    "else:   \n",
    "    print(\"A meat lasagna\")\n"
   ]
  },
  {
   "cell_type": "code",
   "execution_count": 21,
   "metadata": {},
   "outputs": [
    {
     "name": "stdout",
     "output_type": "stream",
     "text": [
      "Don't bother me\n"
     ]
    }
   ],
   "source": [
    "# elif conditional\n",
    "movie = input()\n",
    "\n",
    "if movie == \"terror\":\n",
    "    print(\"Friday 13th\")\n",
    "elif movie == \"thriller\":\n",
    "    print(\"Shutter Island\")\n",
    "elif movie == \"comedy\":\n",
    "    print(\"White Chicks\")\n",
    "elif movie == \"animated\":\n",
    "    print(\"Ratatoille\")\n",
    "else:\n",
    "    print(\"Don't bother me\")"
   ]
  },
  {
   "cell_type": "markdown",
   "metadata": {},
   "source": [
    "## Loops and Range\n",
    "\n",
    "### Range\n",
    "\n",
    "The `range` _function_ in _Python_ generates a __sequence of numbers__ within a specified range. It is commonly used in for loops to iterate over a sequence of numbers. The `range` function can take up to _three arguments_: start, stop, and step. The `start` argument specifies the starting value of the sequence (default is $0$), the `stop` argument specifies the ending value (exclusive), and the `step` argument specifies the increment (default is $1$). The `range` _function_ returns an __iterable object__ that can be converted to a list or used directly in a loop.\n",
    "\n",
    "### Loops\n",
    "\n",
    "__Loops__ are control structures that allow us to repeat a block of code multiple times.\n",
    "In _Python_, there are two types of _loops_: the `for` loop and the `while` loop.\n",
    "\n",
    "- The `for` loop is used to iterate over a __sequence__ (such as a list, tuple, or string) or other iterable objects. It executes a block of code for _each item_ in the sequence. The loop variable takes on the value of each item in the sequence, _one by one_.\n",
    "- The `while` loop is used to repeatedly execute a block of code as long as a __certain condition__ is ___true___. It continues to execute the code until the condition becomes ___false___. \n",
    " \n",
    "Both types of loops can be used to automate repetitive tasks and make the code more efficient.\n",
    "\n"
   ]
  },
  {
   "cell_type": "code",
   "execution_count": 28,
   "metadata": {},
   "outputs": [
    {
     "name": "stdout",
     "output_type": "stream",
     "text": [
      "[0, 1, 2, 3, 4, 5, 6, 7, 8, 9]\n",
      "[3, 4, 5, 6, 7, 8, 9, 10, 11, 12, 13, 14, 15, 16, 17, 18, 19, 20, 21, 22, 23, 24]\n",
      "[1, 3, 5, 7, 9, 11, 13, 15, 17, 19, 21, 23, 25, 27, 29, 31, 33, 35, 37, 39, 41, 43, 45, 47, 49]\n",
      "[4, 3, 2, 1, 0, -1]\n"
     ]
    }
   ],
   "source": [
    "# range just with stop\n",
    "values = range(10)\n",
    "print(list(values))\n",
    "\n",
    "# range with start and stop\n",
    "values = range(3, 25)\n",
    "print(list(values))\n",
    "\n",
    "# range jumping by odd numbers\n",
    "values = range(1, 50, 2)\n",
    "print(list(values))\n",
    "\n",
    "# range making a countdown\n",
    "values = range(4, -2, -1)\n",
    "print(list(values))"
   ]
  },
  {
   "cell_type": "code",
   "execution_count": 30,
   "metadata": {},
   "outputs": [
    {
     "name": "stdout",
     "output_type": "stream",
     "text": [
      "hdfsajhkasd\n"
     ]
    }
   ],
   "source": [
    "# while loop\n",
    "word = input()\n",
    "while word != \"exit\":\n",
    "    print(word)\n",
    "    word = input()"
   ]
  },
  {
   "cell_type": "code",
   "execution_count": 34,
   "metadata": {},
   "outputs": [
    {
     "name": "stdout",
     "output_type": "stream",
     "text": [
      "0\n",
      "1\n",
      "2\n",
      "3\n",
      "4\n",
      "5\n",
      "6\n",
      "7\n",
      "8\n",
      "9\n",
      "10\n"
     ]
    }
   ],
   "source": [
    "# for loop \n",
    "for i in range(11):\n",
    "    print(i)"
   ]
  },
  {
   "cell_type": "code",
   "execution_count": 35,
   "metadata": {},
   "outputs": [],
   "source": [
    "# while loop with brake\n",
    "while True:\n",
    "    on = input(\"Status:\")\n",
    "    if on != \"on\":\n",
    "        break"
   ]
  },
  {
   "cell_type": "code",
   "execution_count": 38,
   "metadata": {},
   "outputs": [
    {
     "name": "stdout",
     "output_type": "stream",
     "text": [
      "Invalid option\n",
      "Invalid option\n"
     ]
    }
   ],
   "source": [
    "# while loop with continue \n",
    "while True:\n",
    "    on = input(\"Write status\")\n",
    "    if on == \"stand by\":\n",
    "        continue\n",
    "    elif on == \"off\":\n",
    "        break\n",
    "    print(\"Invalid option\")"
   ]
  },
  {
   "cell_type": "markdown",
   "metadata": {},
   "source": [
    "## Lists\n",
    "\n",
    "A `list` is a __collection__ of items that are _ordered_ and _changeable_.\n",
    "\n",
    "__Lists__ are defined by enclosing items in _square brackets_ [ ] and separating them with commas.\n",
    "\n",
    "__Lists__ can contain elements of _different data types_, such as integers, strings, or even other lists.\n",
    "\n",
    "__Lists__ in Python are _mutable_, meaning that you can modify the elements of a list after it is created.\n"
   ]
  },
  {
   "cell_type": "code",
   "execution_count": 39,
   "metadata": {},
   "outputs": [
    {
     "name": "stdout",
     "output_type": "stream",
     "text": [
      "Step 1 [1, 2.3, 'djalkjsd', 'q23q', 3]\n",
      "Step 2 [1, 2.3, 'djalkjsd', 'q23q', 3, True]\n",
      "Ste 3 [1, 'ads', 2.3, 'djalkjsd', 'q23q', 3, True]\n"
     ]
    }
   ],
   "source": [
    "list_1 = [1, 2.3, \"djalkjsd\", \"q23q\", 3]\n",
    "print(\"Step 1\", list_1)\n",
    "\n",
    "# adding using append\n",
    "list_1.append(True)\n",
    "print(\"Step 2\", list_1)\n",
    "\n",
    "# addint using insert\n",
    "list_1.insert(1, \"ads\")\n",
    "print(\"Ste 3\", list_1)"
   ]
  },
  {
   "cell_type": "code",
   "execution_count": 40,
   "metadata": {},
   "outputs": [
    {
     "name": "stdout",
     "output_type": "stream",
     "text": [
      "Remove 1 [1, 'ads', 2.3, 'djalkjsd', 3, True]\n",
      "Remove 2 [1, 'ads', 2.3, 'djalkjsd', 3]\n",
      "Remove 3 [1, 'ads', 'djalkjsd', 3]\n"
     ]
    }
   ],
   "source": [
    "# removing with remove\n",
    "list_1.remove('q23q')\n",
    "print(\"Remove 1\", list_1)\n",
    "\n",
    "# removing with pop \n",
    "list_1.pop()\n",
    "print(\"Remove 2\", list_1)\n",
    "\n",
    "# removing with pop by index\n",
    "list_1.pop(2)\n",
    "print(\"Remove 3\", list_1)"
   ]
  },
  {
   "cell_type": "code",
   "execution_count": 64,
   "metadata": {},
   "outputs": [
    {
     "name": "stdout",
     "output_type": "stream",
     "text": [
      "Ocurences of ads: 1\n",
      "Index of ads: 1\n",
      "[1, 'ads', 'djalkjsd', 3]\n",
      "Reverse: [3, 'djalkjsd', 'ads', 1]\n"
     ]
    }
   ],
   "source": [
    "# count elements\n",
    "counter = list_1.count(\"ads\")\n",
    "print(\"Ocurences of ads:\", counter)\n",
    "\n",
    "# index of\n",
    "index = list_1.index(\"ads\")\n",
    "print(\"Index of ads:\", index)\n",
    "\n",
    "# reverse\n",
    "print(list_1)\n",
    "list_1.reverse()\n",
    "print(\"Reverse:\", list_1)"
   ]
  },
  {
   "cell_type": "code",
   "execution_count": 69,
   "metadata": {},
   "outputs": [
    {
     "name": "stdout",
     "output_type": "stream",
     "text": [
      "[1, 'B', 3]\n",
      "131448709811904 131448709811904\n",
      "-----\n",
      "[1, 2, 3]\n",
      "[1, 'B', 3]\n",
      "131448700049600 131448700582528\n"
     ]
    }
   ],
   "source": [
    "# assignation by reference\n",
    "list_a = [1, 2, 3]\n",
    "list_b = list_a\n",
    "list_b[1] = \"B\"\n",
    "print(list_a)\n",
    "print(id(list_a), id(list_b))\n",
    "print(\"-\"*5)\n",
    "# assignation by value\n",
    "list_a = [1, 2, 3]\n",
    "list_b = list_a.copy()\n",
    "list_b[1] = \"B\"\n",
    "print(list_a)\n",
    "print(list_b)\n",
    "print(id(list_a), id(list_b))"
   ]
  },
  {
   "cell_type": "code",
   "execution_count": 72,
   "metadata": {},
   "outputs": [
    {
     "name": "stdout",
     "output_type": "stream",
     "text": [
      "[[1, 2, 3], ['a', 'b', 'c'], 6, 'ads']\n",
      "List of list\n",
      "d it not part of the list\n",
      "**********\n",
      "[1, 2, 3]\n",
      "['a', 'b', 'c']\n",
      "6\n",
      "ads\n"
     ]
    }
   ],
   "source": [
    "# a list of lists\n",
    "a = [[1, 2, 3], ['a', 'b', 'c'], 6, 'ads']\n",
    "print(a)\n",
    "\n",
    "# conditionals (postive) with lists\n",
    "if [1, 2, 3] in a:\n",
    "    print(\"List of list\")\n",
    "\n",
    "# conditinals (negative) with lists\n",
    "if 'd' not in a[1]:\n",
    "    print(\"d it not part of the list\")\n",
    "print('*'*10)\n",
    "# traversing the list\n",
    "for item in a:\n",
    "    print(item)\n"
   ]
  },
  {
   "cell_type": "code",
   "execution_count": 79,
   "metadata": {},
   "outputs": [
    {
     "name": "stdout",
     "output_type": "stream",
     "text": [
      "Original list: ['a', 'b', 'c', 'd', 'e', 'f', 'g', 'h', 'i', 'j', 'k', 'l', 'm', 'n', 'o']\n",
      "index 6 until end: ['g', 'h', 'i', 'j', 'k', 'l', 'm', 'n', 'o']\n",
      "stop in index 9: ['a', 'b', 'c', 'd', 'e', 'f', 'g', 'h', 'i', 'j']\n",
      "since index 2 until index 5: ['c', 'd', 'e']\n",
      "reverse ['o', 'n', 'm', 'l', 'k', 'j', 'i', 'h', 'g', 'f', 'e', 'd', 'c', 'b', 'a']\n"
     ]
    }
   ],
   "source": [
    "b = list(\"abcdefghijklmno\")\n",
    "print(\"Original list:\", b)\n",
    "\n",
    "# slicing with start\n",
    "print(\"index 6 until end:\", b[6::])\n",
    "\n",
    "# slicing with stop\n",
    "print(\"stop in index 9:\", b[:10:])\n",
    "\n",
    "# slicing with start and stop\n",
    "print(\"since index 2 until index 5:\", b[2:5:])\n",
    "\n",
    "# slicing in reverse\n",
    "print(\"reverse\", b[::-1])"
   ]
  },
  {
   "cell_type": "markdown",
   "metadata": {},
   "source": [
    "## Dictionaries\n",
    "\n",
    "__Dictionaries__ are a _built-in data structure_ in Python that allow you to store and retrieve data using __key-value pairs__.\n",
    "\n",
    "A _dictionary_ (`dict`) is created using _curly braces_ {} and populated with key-value pairs.\n",
    "The __keys__ could be __strings__, numbers or tuples, and the __values__ can be of _any data type_.\n",
    "The __dictionary__ is then accessed using the _keys_ to __retrieve__ the corresponding _values_."
   ]
  },
  {
   "cell_type": "code",
   "execution_count": 88,
   "metadata": {},
   "outputs": [
    {
     "name": "stdout",
     "output_type": "stream",
     "text": [
      "{'name': 'Pepito', 'code': 123, 'average': 3.5}\n",
      "{'name': 'Pepito', 'code': 123, 'average': 3.8, 'email': 'pepito@udistrital.edu.co'}\n",
      "Name: Pepito\n",
      "Email: pepito@udistrital.edu.co\n",
      "{'name': 'Pepito', 'code': 123, 'email': 'pepito@udistrital.edu.co'}\n"
     ]
    }
   ],
   "source": [
    "# a simple dictionary\n",
    "student = {\n",
    "    \"name\": \"Pepito\",\n",
    "    \"code\": 123,\n",
    "    \"average\": 3.5\n",
    "}\n",
    "print(student)\n",
    "\n",
    "# adding a new key\n",
    "student[\"email\"] = \"pepito@udistrital.edu.co\"\n",
    "student[\"average\"] = 3.8\n",
    "print(student)\n",
    "print(\"Name:\", student['name'])\n",
    "print(\"Email:\", student['email'])\n",
    "\n",
    "# removing a key\n",
    "del student[\"average\"]\n",
    "print(student)"
   ]
  },
  {
   "cell_type": "code",
   "execution_count": 91,
   "metadata": {},
   "outputs": [
    {
     "name": "stdout",
     "output_type": "stream",
     "text": [
      "{1: {'average': 3.5, 'name': 'Pepito'}, 2: {'average': 3.8, 'name': 'Pepita'}}\n",
      "{'average': 3.5, 'name': 'Pepito'}\n",
      "**********\n",
      "{'name': 'Pepito', 'average': 3.5}\n",
      "{'name': 'Pepita', 'average': 3.8}\n"
     ]
    }
   ],
   "source": [
    "from pprint import pprint\n",
    "\n",
    "# a dictionary of dictionaries\n",
    "dict_a = {\n",
    "    1: {\n",
    "        \"name\": \"Pepito\",\n",
    "        \"average\": 3.5\n",
    "    },\n",
    "    2: {\n",
    "        \"name\": \"Pepita\",\n",
    "        \"average\": 3.8\n",
    "    }\n",
    "}\n",
    "pprint(dict_a)\n",
    "pprint(dict_a[1])\n",
    "print(\"*\"*10)\n",
    "# a list of dictionaties\n",
    "dict_b = [\n",
    "    {\n",
    "        \"name\": \"Pepito\",\n",
    "        \"average\": 3.5\n",
    "    },\n",
    "    {\n",
    "        \"name\": \"Pepita\",\n",
    "        \"average\": 3.8\n",
    "    }\n",
    "]\n",
    "for element in dict_b:\n",
    "    print(element)   "
   ]
  },
  {
   "cell_type": "code",
   "execution_count": null,
   "metadata": {},
   "outputs": [],
   "source": [
    "# reading a JSON in python into a dictionary\n"
   ]
  },
  {
   "cell_type": "code",
   "execution_count": null,
   "metadata": {},
   "outputs": [],
   "source": [
    "# getting keys\n",
    "\n",
    "\n",
    "# getting values\n",
    "\n",
    "\n",
    "# traversal with a loop\n"
   ]
  },
  {
   "cell_type": "markdown",
   "metadata": {},
   "source": [
    "## Sets\n",
    "\n",
    "__Sets__ are _unordered collections_ of _unique elements_. They are commonly used to perform mathematical __set operations__ such as _union_, _intersection_, and _difference_.\n",
    "\n",
    "To use __sets__ in _Python_, you can create a set by enclosing comma-separated elements within _curly braces_ {}. You can also use the `set()` function to create a __set__ _from_ an _iterable object_.\n",
    "\n",
    "Note that sets __do not allow__ _duplicate_ elements, so any duplicate elements will be _automatically removed_."
   ]
  },
  {
   "cell_type": "code",
   "execution_count": null,
   "metadata": {},
   "outputs": [],
   "source": [
    "# creating a set\n",
    "\n",
    "\n",
    "# creating a set from a list\n"
   ]
  },
  {
   "cell_type": "code",
   "execution_count": null,
   "metadata": {},
   "outputs": [],
   "source": [
    "# adding an element \n",
    "\n",
    "\n",
    "# removing an element\n"
   ]
  },
  {
   "cell_type": "code",
   "execution_count": null,
   "metadata": {},
   "outputs": [],
   "source": [
    "# union\n",
    "\n",
    "\n",
    "# intersection\n",
    "\n",
    "\n",
    "# difference\n",
    "\n",
    "\n",
    "# symmetric difference\n"
   ]
  },
  {
   "cell_type": "markdown",
   "metadata": {},
   "source": [
    "## Tuples\n",
    "\n",
    "__Tuples__ are _immutable sequences_, and similar to _lists_, that can _store multiple items_.\n",
    "\n",
    "They are defined using _parentheses_ and can contain elements of _different data types_.\n",
    "\n",
    "Tuples are commonly used to __group related data__ together and can be accessed using _indexing_.\n",
    "\n",
    "Unlike _lists_, tuples __cannot__ be _modified_ once created, making them useful for storing data that _should not be changed_."
   ]
  },
  {
   "cell_type": "code",
   "execution_count": null,
   "metadata": {},
   "outputs": [],
   "source": [
    "# tuple of different data types\n",
    "\n",
    "\n",
    "# accessing by index\n",
    "\n",
    "\n",
    "# try-except to add an element\n",
    "\n",
    "\n",
    "# try-except to remove an element\n"
   ]
  },
  {
   "cell_type": "code",
   "execution_count": null,
   "metadata": {},
   "outputs": [],
   "source": [
    "# create a tuple from a list\n",
    "\n",
    "\n",
    "# traversal with a loop and with a conditional\n"
   ]
  },
  {
   "cell_type": "markdown",
   "metadata": {},
   "source": [
    "## List Comprehensions\n",
    "\n",
    "__List comprehensions__ provide a concise way to _create lists_ based on existing lists or other _iterable objects_. It allows you to transform and filter elements from the original iterable in a _single line of code_.\n",
    "\n",
    "The general syntax of a list comprehension is:\n",
    "`[expression for item in iterable if condition]`\n",
    "\n",
    "- `expression` is the value or transformation applied to each item in the iterable.\n",
    "- `item` is the variable that represents each element in the iterable.\n",
    "- `iterable` is the original list or other iterable object.\n",
    "- `condition` (optional) is a filter that determines whether an item should be included in the new list.\n",
    "\n",
    "__List comprehensions__ are often used as a more readable and concise alternative to traditional for loops when creating _new lists_. They can be used to perform __operations__ such as _filtering_, _mapping_, and _transforming elements_.\n",
    "\n",
    "_Python_ that can help _simplify code_ and make it more expressive."
   ]
  },
  {
   "cell_type": "code",
   "execution_count": null,
   "metadata": {},
   "outputs": [],
   "source": [
    "# power of 2 since range\n",
    "\n",
    "\n",
    "# increase 1 to elements of a list\n",
    "\n",
    "\n",
    "# filtering even numbers of a list\n",
    "\n",
    "\n",
    "# filtering names with a 'e'\n"
   ]
  },
  {
   "cell_type": "markdown",
   "metadata": {},
   "source": [
    "## Functions\n",
    "\n",
    "A __function__ in _Python_ is a block of organized, _reusable code_ that is used to perform a _single_, related _action_. __Functions__ provide better _modularity_ for your application and a high degree of _code reusing_. They are defined using the `def` _keyword_, can accept parameters, and can return results.\n",
    "\n",
    "### Built-In Functions\n",
    "\n",
    "A __built-in function__ in _Python_ is a _function_ that is pre-defined and available for use _without_ the need for `import` or definition by the user. These functions are an _integral part_ of the _Python_ language and provide basic functionality, such as converting types, performing mathematical calculations, and interacting with the core parts of the language.\n",
    "\n",
    "### Variadic Functions\n",
    "\n",
    "A __variadic function__ in _Python_ is a _function_ that can accept an arbitrary number of arguments. This allows the function to be _flexible_ in the number of values it processes. __Variadic functions__ are defined using the `*args` syntax for _positional_ arguments and `**kwargs` for _keyword_ arguments, enabling them to handle a varying amount of input data gracefully."
   ]
  },
  {
   "cell_type": "code",
   "execution_count": null,
   "metadata": {},
   "outputs": [],
   "source": [
    "# function with no return\n"
   ]
  },
  {
   "cell_type": "code",
   "execution_count": null,
   "metadata": {},
   "outputs": [],
   "source": [
    "# function with parameters and doctype\n"
   ]
  },
  {
   "cell_type": "code",
   "execution_count": null,
   "metadata": {},
   "outputs": [],
   "source": [
    "# function returning a tuple\n"
   ]
  },
  {
   "cell_type": "code",
   "execution_count": null,
   "metadata": {},
   "outputs": [],
   "source": [
    "# function with a docstring\n"
   ]
  },
  {
   "cell_type": "code",
   "execution_count": null,
   "metadata": {},
   "outputs": [],
   "source": [
    "# function with variable parameters in a tuple\n"
   ]
  },
  {
   "cell_type": "code",
   "execution_count": null,
   "metadata": {},
   "outputs": [],
   "source": [
    "# function with variable parameters in a dictionary\n"
   ]
  },
  {
   "cell_type": "code",
   "execution_count": null,
   "metadata": {},
   "outputs": [],
   "source": [
    "# recursive function\n"
   ]
  },
  {
   "cell_type": "markdown",
   "metadata": {},
   "source": [
    "## Iterators\n",
    "\n",
    "__Iterators__ are objects that allow iteration over a _collection of elements_. They provide a way to access the elements of a collection _one by one_, without the need to know the underlying structure of the collection.\n",
    "\n",
    "In _Python_, __iterators__ are implemented using the `iter()` and `next()` methods. When there are no more elements to return, the `next__()` method raises the `StopIteration` _exception_.\n",
    "\n",
    "__Iterators__ are commonly used in _for loops_ to iterate over elements in a sequence, such as _lists_, _tuples_, or _strings_.\n",
    "\n",
    "### Map Function\n",
    "\n",
    "The `map` _function_ in _Python_ applies a given function to each item of an iterable (like a list, tuple, etc.) and returns a __map object__ (which is an _iterator_) of the results. This is often used to perform _some operation_ on a collection of items and _generate a new collection_ containing the results.\n",
    "\n",
    "### Filter Function \n",
    "\n",
    "The `filter` _function_ in _Python_ takes a function and an iterable as arguments and constructs an iterator from those elements of the iterable for which the function _returns_ __true__. Essentially, it filters out the elements in a collection, only _keeping those that satisfy a specific condition_."
   ]
  },
  {
   "cell_type": "code",
   "execution_count": null,
   "metadata": {},
   "outputs": [],
   "source": [
    "# filter a list a dictionaries with just UD studients\n"
   ]
  },
  {
   "cell_type": "code",
   "execution_count": null,
   "metadata": {},
   "outputs": [],
   "source": [
    "# change a list of numbers in strings formats and apply power of 4\n"
   ]
  },
  {
   "cell_type": "markdown",
   "metadata": {},
   "source": [
    "## Lambda Functions\n",
    "\n",
    "A __lambda function__ in _Python_ is a small _anonymous function_ that can take any number of arguments but can only have _one expression_. It is defined using the `lambda` keyword, followed by a comma-separated list of parameters, a colon, and the expression to be evaluated. __Lambda functions__ are commonly used when a small function is needed for a _short period of time_ and it is not necessary to define a named function. They are often used in combination with higher-order functions like `map()`, `filter()`, and `reduce()`.\n",
    "\n"
   ]
  },
  {
   "cell_type": "code",
   "execution_count": null,
   "metadata": {},
   "outputs": [],
   "source": [
    "# lambda function in a variable\n",
    "\n",
    "\n",
    "# lambdas function of two parameters in a variable\n",
    "\n",
    "\n",
    "# sort a list of tuples by the second item\n",
    "\n",
    "\n",
    "# filter a list to include multiple of 3\n",
    "\n",
    "\n",
    "# create a new list with the cube of each number\n",
    "\n",
    "\n",
    "# sort a list of strings based on length\n"
   ]
  },
  {
   "cell_type": "markdown",
   "metadata": {},
   "source": [
    "## Classes\n",
    "\n",
    " A `class` is a blueprint for creating objects in Python. It defines a set of _attributes_ and _methods_ that the objects of the class will have. "
   ]
  },
  {
   "cell_type": "code",
   "execution_count": null,
   "metadata": {},
   "outputs": [],
   "source": [
    "# create an abstract class\n"
   ]
  },
  {
   "cell_type": "code",
   "execution_count": null,
   "metadata": {},
   "outputs": [],
   "source": [
    "# create a concrete class\n"
   ]
  },
  {
   "cell_type": "code",
   "execution_count": null,
   "metadata": {},
   "outputs": [],
   "source": [
    "# instanciate a concrete object\n"
   ]
  }
 ],
 "metadata": {
  "kernelspec": {
   "display_name": "Python 3",
   "language": "python",
   "name": "python3"
  },
  "language_info": {
   "codemirror_mode": {
    "name": "ipython",
    "version": 3
   },
   "file_extension": ".py",
   "mimetype": "text/x-python",
   "name": "python",
   "nbconvert_exporter": "python",
   "pygments_lexer": "ipython3",
   "version": "3.11.9"
  }
 },
 "nbformat": 4,
 "nbformat_minor": 2
}
