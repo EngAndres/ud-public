{
 "cells": [
  {
   "cell_type": "markdown",
   "metadata": {},
   "source": [
    "# Python Introduction\n",
    "\n",
    "_Python_ is high-level, interpreted, weakly typed, multi-paradigm, and general purpose programming language.\n",
    "\n",
    "## Variables in Python\n",
    "\n",
    "In Python, __variables__ are used to _store_ data values. A __variable__ is created when a value is assigned to it using the _assignment operator_ (=). \n",
    "\n",
    "For example, to assign the value $10$ to a _variable_ named `x`, we can use the following code:\n",
    "\n",
    "```python\n",
    "x = 10\n",
    "```\n",
    "\n",
    "After the assignment, the _variable_ `x` will hold the value $10$, and we can use it in our code to perform operations or manipulate the data.\n",
    "\n",
    "__Variables__ in Python are _dynamically typed_, which means that the type of a variable is determined at _runtime_ based on the value assigned to it. This allows us to assign different types of values to the same variable.\n",
    "\n",
    "Python also supports _multiple assignment_, where we can assign values to multiple variables in a single line. For example:\n",
    "\n",
    "```python\n",
    "a, b, c = 1, 2, 3\n",
    "```\n",
    "\n",
    "In this case, the values $1$, $2$, and $3$ are assigned to _variables_ `a`, `b`, and `c` respectively.\n",
    "\n",
    "__Variables__ in Python are _case-sensitive_, which means that `x` and `X` are considered as _different_ variables.\n",
    "\n",
    "Overall, variables in Python are a fundamental concept that allows us to store and manipulate data in our programs.\n",
    "```\n",
    "```"
   ]
  },
  {
   "cell_type": "code",
   "execution_count": 1,
   "metadata": {},
   "outputs": [
    {
     "name": "stdout",
     "output_type": "stream",
     "text": [
      "<class 'int'>\n",
      "a <class 'str'> 131449064723360\n",
      "John <class 'str'> 131448709530864\n",
      "12.3 <class 'float'> 131449003127248\n"
     ]
    }
   ],
   "source": [
    "# create variables\n",
    "x = 15\n",
    "name = \"John\"\n",
    "weight = 12.3\n",
    "\n",
    "# get type(?)\n",
    "type_x = type(x)\n",
    "print(type_x)\n",
    "x = \"a\"\n",
    "type_x = type(x)\n",
    "type_name = type(name)\n",
    "type_weight = type(weight)\n",
    "\n",
    "# get memory reference\n",
    "mem_x = id(x)\n",
    "mem_name = id(name)\n",
    "mem_weight = id(weight)\n",
    "\n",
    "# print out\n",
    "print(x, type_x, mem_x)\n",
    "print(name, type_name, mem_name)\n",
    "print(weight, type_weight, mem_weight)"
   ]
  },
  {
   "cell_type": "markdown",
   "metadata": {},
   "source": [
    "## Conditionals\n",
    "\n",
    "Conditionals are used to make decisions in a program based on certain conditions.\n",
    "In _Python_, conditionals are implemented using `if`, `elif`, and `else` statements.\n",
    "\n",
    "- The `if` statement is used to check a condition and execute a block of code if the condition is __true__.\n",
    "- The `elif` statement is used to check additional conditions if the previous conditions are __false__.\n",
    "- The `else` statement is used to execute a block of code if none of the previous conditions are __true__.\n",
    "\n",
    "__Conditionals__ allow the program to take different paths based on the values of variables or the result of _comparisons_.\n",
    "They are essential for controlling the _flow of execution_ in a program and making it more dynamic and responsive."
   ]
  },
  {
   "cell_type": "code",
   "execution_count": 12,
   "metadata": {},
   "outputs": [
    {
     "name": "stdout",
     "output_type": "stream",
     "text": [
      "Son diferentes\n"
     ]
    }
   ],
   "source": [
    "# simple conditional\n",
    "a = 5\n",
    "b = 5\n",
    "c = 7\n",
    "\n",
    "if (a == b) and (a == c):\n",
    "    print(\"Son iguales\")\n",
    "else:\n",
    "    print(\"Son diferentes\")"
   ]
  },
  {
   "cell_type": "code",
   "execution_count": 17,
   "metadata": {},
   "outputs": [
    {
     "name": "stdout",
     "output_type": "stream",
     "text": [
      "A meat lasagna\n"
     ]
    }
   ],
   "source": [
    "# nested conditional\n",
    "food = \"lasagna vag\"\n",
    "if \"veg\" in food:\n",
    "    if \"vegetarian\" in food:\n",
    "        print(\"A vegetarian lasagna\")\n",
    "    else:\n",
    "        print(\"A vegan lasagna\")\n",
    "else:   \n",
    "    print(\"A meat lasagna\")\n"
   ]
  },
  {
   "cell_type": "code",
   "execution_count": 21,
   "metadata": {},
   "outputs": [
    {
     "name": "stdout",
     "output_type": "stream",
     "text": [
      "Don't bother me\n"
     ]
    }
   ],
   "source": [
    "# elif conditional\n",
    "movie = input()\n",
    "\n",
    "if movie == \"terror\":\n",
    "    print(\"Friday 13th\")\n",
    "elif movie == \"thriller\":\n",
    "    print(\"Shutter Island\")\n",
    "elif movie == \"comedy\":\n",
    "    print(\"White Chicks\")\n",
    "elif movie == \"animated\":\n",
    "    print(\"Ratatoille\")\n",
    "else:\n",
    "    print(\"Don't bother me\")"
   ]
  },
  {
   "cell_type": "markdown",
   "metadata": {},
   "source": [
    "## Loops and Range\n",
    "\n",
    "### Range\n",
    "\n",
    "The `range` _function_ in _Python_ generates a __sequence of numbers__ within a specified range. It is commonly used in for loops to iterate over a sequence of numbers. The `range` function can take up to _three arguments_: start, stop, and step. The `start` argument specifies the starting value of the sequence (default is $0$), the `stop` argument specifies the ending value (exclusive), and the `step` argument specifies the increment (default is $1$). The `range` _function_ returns an __iterable object__ that can be converted to a list or used directly in a loop.\n",
    "\n",
    "### Loops\n",
    "\n",
    "__Loops__ are control structures that allow us to repeat a block of code multiple times.\n",
    "In _Python_, there are two types of _loops_: the `for` loop and the `while` loop.\n",
    "\n",
    "- The `for` loop is used to iterate over a __sequence__ (such as a list, tuple, or string) or other iterable objects. It executes a block of code for _each item_ in the sequence. The loop variable takes on the value of each item in the sequence, _one by one_.\n",
    "- The `while` loop is used to repeatedly execute a block of code as long as a __certain condition__ is ___true___. It continues to execute the code until the condition becomes ___false___. \n",
    " \n",
    "Both types of loops can be used to automate repetitive tasks and make the code more efficient.\n",
    "\n"
   ]
  },
  {
   "cell_type": "code",
   "execution_count": 28,
   "metadata": {},
   "outputs": [
    {
     "name": "stdout",
     "output_type": "stream",
     "text": [
      "[0, 1, 2, 3, 4, 5, 6, 7, 8, 9]\n",
      "[3, 4, 5, 6, 7, 8, 9, 10, 11, 12, 13, 14, 15, 16, 17, 18, 19, 20, 21, 22, 23, 24]\n",
      "[1, 3, 5, 7, 9, 11, 13, 15, 17, 19, 21, 23, 25, 27, 29, 31, 33, 35, 37, 39, 41, 43, 45, 47, 49]\n",
      "[4, 3, 2, 1, 0, -1]\n"
     ]
    }
   ],
   "source": [
    "# range just with stop\n",
    "values = range(10)\n",
    "print(list(values))\n",
    "\n",
    "# range with start and stop\n",
    "values = range(3, 25)\n",
    "print(list(values))\n",
    "\n",
    "# range jumping by odd numbers\n",
    "values = range(1, 50, 2)\n",
    "print(list(values))\n",
    "\n",
    "# range making a countdown\n",
    "values = range(4, -2, -1)\n",
    "print(list(values))"
   ]
  },
  {
   "cell_type": "code",
   "execution_count": 30,
   "metadata": {},
   "outputs": [
    {
     "name": "stdout",
     "output_type": "stream",
     "text": [
      "hdfsajhkasd\n"
     ]
    }
   ],
   "source": [
    "# while loop\n",
    "word = input()\n",
    "while word != \"exit\":\n",
    "    print(word)\n",
    "    word = input()"
   ]
  },
  {
   "cell_type": "code",
   "execution_count": 34,
   "metadata": {},
   "outputs": [
    {
     "name": "stdout",
     "output_type": "stream",
     "text": [
      "0\n",
      "1\n",
      "2\n",
      "3\n",
      "4\n",
      "5\n",
      "6\n",
      "7\n",
      "8\n",
      "9\n",
      "10\n"
     ]
    }
   ],
   "source": [
    "# for loop \n",
    "for i in range(11):\n",
    "    print(i)"
   ]
  },
  {
   "cell_type": "code",
   "execution_count": 35,
   "metadata": {},
   "outputs": [],
   "source": [
    "# while loop with brake\n",
    "while True:\n",
    "    on = input(\"Status:\")\n",
    "    if on != \"on\":\n",
    "        break"
   ]
  },
  {
   "cell_type": "code",
   "execution_count": 38,
   "metadata": {},
   "outputs": [
    {
     "name": "stdout",
     "output_type": "stream",
     "text": [
      "Invalid option\n",
      "Invalid option\n"
     ]
    }
   ],
   "source": [
    "# while loop with continue \n",
    "while True:\n",
    "    on = input(\"Write status\")\n",
    "    if on == \"stand by\":\n",
    "        continue\n",
    "    elif on == \"off\":\n",
    "        break\n",
    "    print(\"Invalid option\")"
   ]
  },
  {
   "cell_type": "markdown",
   "metadata": {},
   "source": [
    "## Lists\n",
    "\n",
    "A `list` is a __collection__ of items that are _ordered_ and _changeable_.\n",
    "\n",
    "__Lists__ are defined by enclosing items in _square brackets_ [ ] and separating them with commas.\n",
    "\n",
    "__Lists__ can contain elements of _different data types_, such as integers, strings, or even other lists.\n",
    "\n",
    "__Lists__ in Python are _mutable_, meaning that you can modify the elements of a list after it is created.\n"
   ]
  },
  {
   "cell_type": "code",
   "execution_count": 39,
   "metadata": {},
   "outputs": [
    {
     "name": "stdout",
     "output_type": "stream",
     "text": [
      "Step 1 [1, 2.3, 'djalkjsd', 'q23q', 3]\n",
      "Step 2 [1, 2.3, 'djalkjsd', 'q23q', 3, True]\n",
      "Ste 3 [1, 'ads', 2.3, 'djalkjsd', 'q23q', 3, True]\n"
     ]
    }
   ],
   "source": [
    "list_1 = [1, 2.3, \"djalkjsd\", \"q23q\", 3]\n",
    "print(\"Step 1\", list_1)\n",
    "\n",
    "# adding using append\n",
    "list_1.append(True)\n",
    "print(\"Step 2\", list_1)\n",
    "\n",
    "# addint using insert\n",
    "list_1.insert(1, \"ads\")\n",
    "print(\"Ste 3\", list_1)"
   ]
  },
  {
   "cell_type": "code",
   "execution_count": 40,
   "metadata": {},
   "outputs": [
    {
     "name": "stdout",
     "output_type": "stream",
     "text": [
      "Remove 1 [1, 'ads', 2.3, 'djalkjsd', 3, True]\n",
      "Remove 2 [1, 'ads', 2.3, 'djalkjsd', 3]\n",
      "Remove 3 [1, 'ads', 'djalkjsd', 3]\n"
     ]
    }
   ],
   "source": [
    "# removing with remove\n",
    "list_1.remove('q23q')\n",
    "print(\"Remove 1\", list_1)\n",
    "\n",
    "# removing with pop \n",
    "list_1.pop()\n",
    "print(\"Remove 2\", list_1)\n",
    "\n",
    "# removing with pop by index\n",
    "list_1.pop(2)\n",
    "print(\"Remove 3\", list_1)"
   ]
  },
  {
   "cell_type": "code",
   "execution_count": 64,
   "metadata": {},
   "outputs": [
    {
     "name": "stdout",
     "output_type": "stream",
     "text": [
      "Ocurences of ads: 1\n",
      "Index of ads: 1\n",
      "[1, 'ads', 'djalkjsd', 3]\n",
      "Reverse: [3, 'djalkjsd', 'ads', 1]\n"
     ]
    }
   ],
   "source": [
    "# count elements\n",
    "counter = list_1.count(\"ads\")\n",
    "print(\"Ocurences of ads:\", counter)\n",
    "\n",
    "# index of\n",
    "index = list_1.index(\"ads\")\n",
    "print(\"Index of ads:\", index)\n",
    "\n",
    "# reverse\n",
    "print(list_1)\n",
    "list_1.reverse()\n",
    "print(\"Reverse:\", list_1)"
   ]
  },
  {
   "cell_type": "code",
   "execution_count": 69,
   "metadata": {},
   "outputs": [
    {
     "name": "stdout",
     "output_type": "stream",
     "text": [
      "[1, 'B', 3]\n",
      "131448709811904 131448709811904\n",
      "-----\n",
      "[1, 2, 3]\n",
      "[1, 'B', 3]\n",
      "131448700049600 131448700582528\n"
     ]
    }
   ],
   "source": [
    "# assignation by reference\n",
    "list_a = [1, 2, 3]\n",
    "list_b = list_a\n",
    "list_b[1] = \"B\"\n",
    "print(list_a)\n",
    "print(id(list_a), id(list_b))\n",
    "print(\"-\"*5)\n",
    "# assignation by value\n",
    "list_a = [1, 2, 3]\n",
    "list_b = list_a.copy()\n",
    "list_b[1] = \"B\"\n",
    "print(list_a)\n",
    "print(list_b)\n",
    "print(id(list_a), id(list_b))"
   ]
  },
  {
   "cell_type": "code",
   "execution_count": 72,
   "metadata": {},
   "outputs": [
    {
     "name": "stdout",
     "output_type": "stream",
     "text": [
      "[[1, 2, 3], ['a', 'b', 'c'], 6, 'ads']\n",
      "List of list\n",
      "d it not part of the list\n",
      "**********\n",
      "[1, 2, 3]\n",
      "['a', 'b', 'c']\n",
      "6\n",
      "ads\n"
     ]
    }
   ],
   "source": [
    "# a list of lists\n",
    "a = [[1, 2, 3], ['a', 'b', 'c'], 6, 'ads']\n",
    "print(a)\n",
    "\n",
    "# conditionals (postive) with lists\n",
    "if [1, 2, 3] in a:\n",
    "    print(\"List of list\")\n",
    "\n",
    "# conditinals (negative) with lists\n",
    "if 'd' not in a[1]:\n",
    "    print(\"d it not part of the list\")\n",
    "print('*'*10)\n",
    "# traversing the list\n",
    "for item in a:\n",
    "    print(item)\n"
   ]
  },
  {
   "cell_type": "code",
   "execution_count": 79,
   "metadata": {},
   "outputs": [
    {
     "name": "stdout",
     "output_type": "stream",
     "text": [
      "Original list: ['a', 'b', 'c', 'd', 'e', 'f', 'g', 'h', 'i', 'j', 'k', 'l', 'm', 'n', 'o']\n",
      "index 6 until end: ['g', 'h', 'i', 'j', 'k', 'l', 'm', 'n', 'o']\n",
      "stop in index 9: ['a', 'b', 'c', 'd', 'e', 'f', 'g', 'h', 'i', 'j']\n",
      "since index 2 until index 5: ['c', 'd', 'e']\n",
      "reverse ['o', 'n', 'm', 'l', 'k', 'j', 'i', 'h', 'g', 'f', 'e', 'd', 'c', 'b', 'a']\n"
     ]
    }
   ],
   "source": [
    "b = list(\"abcdefghijklmno\")\n",
    "print(\"Original list:\", b)\n",
    "\n",
    "# slicing with start\n",
    "print(\"index 6 until end:\", b[6::])\n",
    "\n",
    "# slicing with stop\n",
    "print(\"stop in index 9:\", b[:10:])\n",
    "\n",
    "# slicing with start and stop\n",
    "print(\"since index 2 until index 5:\", b[2:5:])\n",
    "\n",
    "# slicing in reverse\n",
    "print(\"reverse\", b[::-1])"
   ]
  },
  {
   "cell_type": "markdown",
   "metadata": {},
   "source": [
    "## Dictionaries\n",
    "\n",
    "__Dictionaries__ are a _built-in data structure_ in Python that allow you to store and retrieve data using __key-value pairs__.\n",
    "\n",
    "A _dictionary_ (`dict`) is created using _curly braces_ {} and populated with key-value pairs.\n",
    "The __keys__ could be __strings__, numbers or tuples, and the __values__ can be of _any data type_.\n",
    "The __dictionary__ is then accessed using the _keys_ to __retrieve__ the corresponding _values_."
   ]
  },
  {
   "cell_type": "code",
   "execution_count": 88,
   "metadata": {},
   "outputs": [
    {
     "name": "stdout",
     "output_type": "stream",
     "text": [
      "{'name': 'Pepito', 'code': 123, 'average': 3.5}\n",
      "{'name': 'Pepito', 'code': 123, 'average': 3.8, 'email': 'pepito@udistrital.edu.co'}\n",
      "Name: Pepito\n",
      "Email: pepito@udistrital.edu.co\n",
      "{'name': 'Pepito', 'code': 123, 'email': 'pepito@udistrital.edu.co'}\n"
     ]
    }
   ],
   "source": [
    "# a simple dictionary\n",
    "student = {\n",
    "    \"name\": \"Pepito\",\n",
    "    \"code\": 123,\n",
    "    \"average\": 3.5\n",
    "}\n",
    "print(student)\n",
    "\n",
    "# adding a new key\n",
    "student[\"email\"] = \"pepito@udistrital.edu.co\"\n",
    "student[\"average\"] = 3.8\n",
    "print(student)\n",
    "print(\"Name:\", student['name'])\n",
    "print(\"Email:\", student['email'])\n",
    "\n",
    "# removing a key\n",
    "del student[\"average\"]\n",
    "print(student)"
   ]
  },
  {
   "cell_type": "code",
   "execution_count": 91,
   "metadata": {},
   "outputs": [
    {
     "name": "stdout",
     "output_type": "stream",
     "text": [
      "{1: {'average': 3.5, 'name': 'Pepito'}, 2: {'average': 3.8, 'name': 'Pepita'}}\n",
      "{'average': 3.5, 'name': 'Pepito'}\n",
      "**********\n",
      "{'name': 'Pepito', 'average': 3.5}\n",
      "{'name': 'Pepita', 'average': 3.8}\n"
     ]
    }
   ],
   "source": [
    "from pprint import pprint\n",
    "\n",
    "# a dictionary of dictionaries\n",
    "dict_a = {\n",
    "    1: {\n",
    "        \"name\": \"Pepito\",\n",
    "        \"average\": 3.5\n",
    "    },\n",
    "    2: {\n",
    "        \"name\": \"Pepita\",\n",
    "        \"average\": 3.8\n",
    "    }\n",
    "}\n",
    "pprint(dict_a)\n",
    "pprint(dict_a[1])\n",
    "print(\"*\"*10)\n",
    "# a list of dictionaties\n",
    "dict_b = [\n",
    "    {\n",
    "        \"name\": \"Pepito\",\n",
    "        \"average\": 3.5\n",
    "    },\n",
    "    {\n",
    "        \"name\": \"Pepita\",\n",
    "        \"average\": 3.8\n",
    "    }\n",
    "]\n",
    "for element in dict_b:\n",
    "    print(element)   "
   ]
  },
  {
   "cell_type": "code",
   "execution_count": 93,
   "metadata": {},
   "outputs": [
    {
     "name": "stdout",
     "output_type": "stream",
     "text": [
      "<class 'dict'>\n",
      "{'id': 1, 'name': 'Alice Johnson', 'career': 'Computer Science', 'college': 'Tech University'}\n",
      "{'id': 2, 'name': 'Bob Smith', 'career': 'Mechanical Engineering', 'college': 'Engineering Institute'}\n",
      "{'id': 3, 'name': 'Carol Williams', 'career': 'Electrical Engineering', 'college': 'Tech University'}\n",
      "{'id': 4, 'name': 'David Jones', 'career': 'Biology', 'college': 'Science College'}\n",
      "{'id': 5, 'name': 'Eva Brown', 'career': 'Physics', 'college': 'Tech University'}\n",
      "{'id': 6, 'name': 'Frank Davis', 'career': 'Chemistry', 'college': 'Science College'}\n",
      "{'id': 7, 'name': 'Grace Wilson', 'career': 'Mathematics', 'college': 'Tech University'}\n",
      "{'id': 8, 'name': 'Henry Miller', 'career': 'Computer Engineering', 'college': 'Engineering Institute'}\n",
      "{'id': 9, 'name': 'Isabel Taylor', 'career': 'Environmental Science', 'college': 'Science College'}\n",
      "{'id': 10, 'name': 'Jack Anderson', 'career': 'Software Engineering', 'college': 'Tech University'}\n",
      "{'id': 11, 'name': 'Kylie Thomas', 'career': 'Information Technology', 'college': 'Tech University'}\n",
      "{'id': 12, 'name': 'Liam Jackson', 'career': 'Civil Engineering', 'college': 'Engineering Institute'}\n",
      "{'id': 13, 'name': 'Mia White', 'career': 'Architecture', 'college': 'Architecture Academy'}\n",
      "{'id': 14, 'name': 'Noah Harris', 'career': 'Graphic Design', 'college': 'Design Institute'}\n",
      "{'id': 15, 'name': 'Olivia Martin', 'career': 'Art History', 'college': 'Liberal Arts College'}\n",
      "{'id': 16, 'name': 'Peyton Garcia', 'career': 'Political Science', 'college': 'Liberal Arts College'}\n",
      "{'id': 17, 'name': 'Quinn Robinson', 'career': 'Economics', 'college': 'Business School'}\n",
      "{'id': 18, 'name': 'Ryan Clark', 'career': 'Marketing', 'college': 'Business School'}\n",
      "{'id': 19, 'name': 'Sophia Lewis', 'career': 'Accounting', 'college': 'Business School'}\n",
      "{'id': 20, 'name': 'Tyler Walker', 'career': 'Entrepreneurship', 'college': 'Business School'}\n",
      "{'id': 21, 'name': 'Uma King', 'career': 'Psychology', 'college': 'Liberal Arts College'}\n",
      "{'id': 22, 'name': 'Victor Lee', 'career': 'Sociology', 'college': 'Liberal Arts College'}\n",
      "{'id': 23, 'name': 'Wendy Hall', 'career': 'Nursing', 'college': 'Health Sciences Institute'}\n",
      "{'id': 24, 'name': 'Xavier Young', 'career': 'Medicine', 'college': 'Health Sciences Institute'}\n",
      "{'id': 25, 'name': 'Yara Scott', 'career': 'Dentistry', 'college': 'Health Sciences Institute'}\n",
      "{'id': 26, 'name': 'Zane Adams', 'career': 'Pharmacy', 'college': 'Health Sciences Institute'}\n",
      "{'id': 27, 'name': 'Amy Campbell', 'career': 'Veterinary', 'college': 'Health Sciences Institute'}\n",
      "{'id': 28, 'name': 'Brian Mitchell', 'career': 'Biomedical Engineering', 'college': 'Engineering Institute'}\n",
      "{'id': 29, 'name': 'Charlotte Perez', 'career': 'Aerospace Engineering', 'college': 'Engineering Institute'}\n",
      "{'id': 30, 'name': 'Derek Johnson', 'career': 'Philosophy', 'college': 'Liberal Arts College'}\n",
      "{'id': 31, 'name': 'Elena Roberts', 'career': 'History', 'college': 'Liberal Arts College'}\n",
      "{'id': 32, 'name': 'Felix Turner', 'career': 'Linguistics', 'college': 'Liberal Arts College'}\n",
      "{'id': 33, 'name': 'Gina Phillips', 'career': 'Literature', 'college': 'Liberal Arts College'}\n",
      "{'id': 34, 'name': 'Hugo Martinez', 'career': 'Music', 'college': 'Liberal Arts College'}\n",
      "{'id': 35, 'name': 'Irene Murphy', 'career': 'Theatre', 'college': 'Liberal Arts College'}\n",
      "{'id': 36, 'name': 'Jake Nelson', 'career': 'Film Studies', 'college': 'Liberal Arts College'}\n",
      "{'id': 37, 'name': 'Kara Carter', 'career': 'Journalism', 'college': 'Liberal Arts College'}\n",
      "{'id': 38, 'name': 'Leo Howard', 'career': 'Education', 'college': 'Education College'}\n",
      "{'id': 39, 'name': 'Megan Reed', 'career': 'Social Work', 'college': 'Liberal Arts College'}\n",
      "{'id': 40, 'name': 'Nathan Bailey', 'career': 'Anthropology', 'college': 'Liberal Arts College'}\n",
      "{'id': 41, 'name': 'Oliver Flores', 'career': 'International Relations', 'college': 'Liberal Arts College'}\n",
      "{'id': 42, 'name': 'Paige Hernandez', 'career': 'Public Health', 'college': 'Health Sciences Institute'}\n",
      "{'id': 43, 'name': 'Quincy Morris', 'career': 'Nutrition Science', 'college': 'Health Sciences Institute'}\n",
      "{'id': 44, 'name': 'Riley Green', 'career': 'Kinesiology', 'college': 'Health Sciences Institute'}\n",
      "{'id': 45, 'name': 'Samantha Gonzalez', 'career': 'Forensic Science', 'college': 'Science College'}\n",
      "{'id': 46, 'name': 'Travis Ward', 'career': 'Criminal Justice', 'college': 'Liberal Arts College'}\n",
      "{'id': 47, 'name': 'Ulysses Simmons', 'career': 'Environmental Engineering', 'college': 'Engineering Institute'}\n",
      "{'id': 48, 'name': 'Vivian Cook', 'career': 'Agricultural Sciences', 'college': 'Science College'}\n",
      "{'id': 49, 'name': 'Winston Rivera', 'career': 'Animal Science', 'college': 'Science College'}\n",
      "{'id': 50, 'name': 'Xena Diaz', 'career': 'Marine Biology', 'college': 'Science College'}\n"
     ]
    }
   ],
   "source": [
    "import json\n",
    "\n",
    "# reading a JSON in python into a dictionary\n",
    "with open(\"json-files/Students.json\", \"r\", encoding=\"utf-8\") as f:\n",
    "    students = json.load(f)\n",
    "\n",
    "print(type(students))\n",
    "for student in students[\"students\"]: \n",
    "    print(student)"
   ]
  },
  {
   "cell_type": "code",
   "execution_count": 98,
   "metadata": {},
   "outputs": [
    {
     "name": "stdout",
     "output_type": "stream",
     "text": [
      "dict_keys(['id', 'name', 'career', 'college'])\n",
      "dict_values([1, 'Alice Johnson', 'Computer Science', 'Tech University'])\n",
      "dict_items([('id', 1), ('name', 'Alice Johnson'), ('career', 'Computer Science'), ('college', 'Tech University')])\n",
      "----------\n",
      "Key id : 1\n",
      "Key name : Alice Johnson\n",
      "Key career : Computer Science\n",
      "Key college : Tech University\n",
      "----------\n",
      "id  :  1\n",
      "name  :  Alice Johnson\n",
      "career  :  Computer Science\n",
      "college  :  Tech University\n"
     ]
    }
   ],
   "source": [
    "# getting keys\n",
    "print(students['students'][0].keys())\n",
    "\n",
    "# getting values\n",
    "print(students['students'][0].values())\n",
    "\n",
    "# getting pairs\n",
    "print(students['students'][0].items())\n",
    "\n",
    "# traversal with a loop by keys\n",
    "print(\"-\"*10)\n",
    "student_1 = students['students'][0]\n",
    "for key in student_1.keys():\n",
    "    print(\"Key\", key, \":\", student_1[key])\n",
    "\n",
    "# traversal with a loop by items\n",
    "print(\"-\"*10)\n",
    "for k,v in student_1.items():\n",
    "    print(k, \" : \", v)"
   ]
  },
  {
   "cell_type": "markdown",
   "metadata": {},
   "source": [
    "## Sets\n",
    "\n",
    "__Sets__ are _unordered collections_ of _unique elements_. They are commonly used to perform mathematical __set operations__ such as _union_, _intersection_, and _difference_.\n",
    "\n",
    "To use __sets__ in _Python_, you can create a set by enclosing comma-separated elements within _curly braces_ {}. You can also use the `set()` function to create a __set__ _from_ an _iterable object_.\n",
    "\n",
    "Note that sets __do not allow__ _duplicate_ elements, so any duplicate elements will be _automatically removed_."
   ]
  },
  {
   "cell_type": "code",
   "execution_count": 100,
   "metadata": {},
   "outputs": [
    {
     "name": "stdout",
     "output_type": "stream",
     "text": [
      "Set 1: {'b', 'c', 'a'}\n",
      "List 1: [1, 2, 3, 3, 45, 4, 5, 5, 5, 34, 23, 2, 2, 3, 34, 45, 5, 56, 6, 6, 7, 7, 8]\n",
      "Set 2: {1, 2, 3, 4, 5, 34, 6, 7, 8, 45, 23, 56}\n"
     ]
    }
   ],
   "source": [
    "# creating a set\n",
    "set_1 = {'a', 'b', 'c'}\n",
    "print(\"Set 1:\", set_1)\n",
    "\n",
    "# creating a set from a list\n",
    "list_1 = [1,2,3,3,45,4,5,5,5,34,23,2,2,3,34,45,5,56,6,6,7,7,8]\n",
    "set_2 = set(list_1)\n",
    "print(\"List 1:\", list_1)\n",
    "print(\"Set 2:\", set_2)"
   ]
  },
  {
   "cell_type": "code",
   "execution_count": 102,
   "metadata": {},
   "outputs": [
    {
     "name": "stdout",
     "output_type": "stream",
     "text": [
      "{'b', 'd', 'c', 'a'}\n",
      "{'b', 'd', 'c'}\n"
     ]
    }
   ],
   "source": [
    "# adding an element \n",
    "set_1.add('d')\n",
    "print(set_1)\n",
    "\n",
    "# removing an element\n",
    "set_1.remove('a')\n",
    "print(set_1)"
   ]
  },
  {
   "cell_type": "code",
   "execution_count": 104,
   "metadata": {},
   "outputs": [
    {
     "name": "stdout",
     "output_type": "stream",
     "text": [
      "{1, 2, 3, 4} {1, 2, 3, 4}\n",
      "{2, 3} {2, 3}\n",
      "{1} {1}\n",
      "{1, 4} {1, 4}\n"
     ]
    }
   ],
   "source": [
    "a = {1, 2, 3}\n",
    "b = {2, 3, 4}\n",
    "\n",
    "# union\n",
    "union_1 = a.union(b)\n",
    "union_2 = a | b\n",
    "\n",
    "# intersection\n",
    "intersection_1 = a.intersection(b)\n",
    "intersection_2 = a & b\n",
    "\n",
    "# difference\n",
    "difference_1 = a.difference(b)\n",
    "difference_2 = a - b\n",
    "\n",
    "# symmetric difference\n",
    "symmetric_1 = a.symmetric_difference(b)\n",
    "symmetric_2 = a ^ b\n",
    "\n",
    "print(\"Union\", union_1, union_2)\n",
    "print(\"Intersection\", intersection_1, intersection_2)\n",
    "print(\"Difference\", difference_1, difference_2)\n",
    "print(\"Symmetric Difference\", symmetric_1, symmetric_2)"
   ]
  },
  {
   "cell_type": "markdown",
   "metadata": {},
   "source": [
    "## Tuples\n",
    "\n",
    "__Tuples__ are _immutable sequences_, and similar to _lists_, that can _store multiple items_.\n",
    "\n",
    "They are defined using _parentheses_ and can contain elements of _different data types_.\n",
    "\n",
    "Tuples are commonly used to __group related data__ together and can be accessed using _indexing_.\n",
    "\n",
    "Unlike _lists_, tuples __cannot__ be _modified_ once created, making them useful for storing data that _should not be changed_."
   ]
  },
  {
   "cell_type": "code",
   "execution_count": 107,
   "metadata": {},
   "outputs": [
    {
     "name": "stdout",
     "output_type": "stream",
     "text": [
      "Full Tuple: (1, 2.3, False)\n",
      "Element 2: False\n",
      "Course Error. 'tuple' object has no attribute 'insert'\n",
      "Course Error. 'tuple' object doesn't support item deletion\n"
     ]
    }
   ],
   "source": [
    "# tuple of different data types\n",
    "tuple_1 = (1, 2.3, False)\n",
    "print(\"Full Tuple:\", tuple_1)\n",
    "\n",
    "# accessing by index\n",
    "print(\"Element 2:\", tuple_1[2])\n",
    "\n",
    "# try-except to add an element\n",
    "try:\n",
    "    tuple_1.insert(1, \"e\")\n",
    "except Exception as e:\n",
    "    print(\"Course Error.\", e)\n",
    "\n",
    "# try-except to remove an element\n",
    "try:\n",
    "    del tuple_1[2]\n",
    "except Exception as e:\n",
    "    print(\"Course Error.\", e)"
   ]
  },
  {
   "cell_type": "code",
   "execution_count": 109,
   "metadata": {},
   "outputs": [
    {
     "name": "stdout",
     "output_type": "stream",
     "text": [
      "<class 'list'> <class 'tuple'>\n",
      "1\n",
      "4\n",
      "6\n",
      "a\n",
      "b\n"
     ]
    }
   ],
   "source": [
    "# create a tuple from a list\n",
    "list_1 = [1, 4, 6, 'a', 'b']\n",
    "tuple_2 = tuple(list_1)\n",
    "print(type(list_1), type(tuple_2))\n",
    "\n",
    "# traversal with a loop and with a conditional\n",
    "for element in tuple_2:\n",
    "    print(element)"
   ]
  },
  {
   "cell_type": "markdown",
   "metadata": {},
   "source": [
    "## List Comprehensions\n",
    "\n",
    "__List comprehensions__ provide a concise way to _create lists_ based on existing lists or other _iterable objects_. It allows you to transform and filter elements from the original iterable in a _single line of code_.\n",
    "\n",
    "The general syntax of a list comprehension is:\n",
    "`[expression for item in iterable if condition]`\n",
    "\n",
    "- `expression` is the value or transformation applied to each item in the iterable.\n",
    "- `item` is the variable that represents each element in the iterable.\n",
    "- `iterable` is the original list or other iterable object.\n",
    "- `condition` (optional) is a filter that determines whether an item should be included in the new list.\n",
    "\n",
    "__List comprehensions__ are often used as a more readable and concise alternative to traditional for loops when creating _new lists_. They can be used to perform __operations__ such as _filtering_, _mapping_, and _transforming elements_.\n",
    "\n",
    "_Python_ that can help _simplify code_ and make it more expressive."
   ]
  },
  {
   "cell_type": "code",
   "execution_count": 113,
   "metadata": {},
   "outputs": [
    {
     "name": "stdout",
     "output_type": "stream",
     "text": [
      "Example 1: [1, 4, 9, 16, 25, 36, 49, 64, 81, 100]\n",
      "Example 2: [5, 6, 7, 8, 9, 10, 11, 12]\n",
      "Example 3: [6, 8, 10, 12]\n",
      "Example 4: ['Alice', 'Claire']\n"
     ]
    }
   ],
   "source": [
    "# power of 2 since range\n",
    "list_1 = [i**2 for i in range(1,11)]\n",
    "print(\"Example 1:\", list_1)\n",
    "\n",
    "# increase 1 to elements of a list\n",
    "list_temp = list(range(4, 12))\n",
    "list_2 = [i+1 for i in list_temp]\n",
    "print(\"Example 2:\", list_2)\n",
    "\n",
    "# filtering even numbers of a list\n",
    "list_3 = [i for i in list_2 if i % 2 == 0]\n",
    "print(\"Example 3:\", list_3)\n",
    "\n",
    "# filtering names with a 'e'\n",
    "names = [\"Alice\", \"Bob\", \"Claire\", \"Dakota\"]\n",
    "list_4 = [item for item in names if 'e' in item]\n",
    "print(\"Example 4:\", list_4)"
   ]
  },
  {
   "cell_type": "markdown",
   "metadata": {},
   "source": [
    "## Functions\n",
    "\n",
    "A __function__ in _Python_ is a block of organized, _reusable code_ that is used to perform a _single_, related _action_. __Functions__ provide better _modularity_ for your application and a high degree of _code reusing_. They are defined using the `def` _keyword_, can accept parameters, and can return results.\n",
    "\n",
    "### Built-In Functions\n",
    "\n",
    "A __built-in function__ in _Python_ is a _function_ that is pre-defined and available for use _without_ the need for `import` or definition by the user. These functions are an _integral part_ of the _Python_ language and provide basic functionality, such as converting types, performing mathematical calculations, and interacting with the core parts of the language.\n",
    "\n",
    "### Variadic Functions\n",
    "\n",
    "A __variadic function__ in _Python_ is a _function_ that can accept an arbitrary number of arguments. This allows the function to be _flexible_ in the number of values it processes. __Variadic functions__ are defined using the `*args` syntax for _positional_ arguments and `**kwargs` for _keyword_ arguments, enabling them to handle a varying amount of input data gracefully."
   ]
  },
  {
   "cell_type": "code",
   "execution_count": 114,
   "metadata": {},
   "outputs": [
    {
     "name": "stdout",
     "output_type": "stream",
     "text": [
      "Hello Pepita\n",
      "Hello Juanita\n"
     ]
    }
   ],
   "source": [
    "# function with no return\n",
    "def say_hello(name):\n",
    "    print(\"Hello\", name)\n",
    "\n",
    "say_hello(\"Pepita\")\n",
    "say_hello(\"Juanita\")"
   ]
  },
  {
   "cell_type": "code",
   "execution_count": 116,
   "metadata": {},
   "outputs": [
    {
     "name": "stdout",
     "output_type": "stream",
     "text": [
      "7.8\n"
     ]
    }
   ],
   "source": [
    "# function with parameters and typehint\n",
    "\n",
    "def sum(x: int, y: int) -> int:\n",
    "    return x + y\n",
    "\n",
    "print(sum(4, 3.8))"
   ]
  },
  {
   "cell_type": "code",
   "execution_count": 117,
   "metadata": {},
   "outputs": [
    {
     "name": "stdout",
     "output_type": "stream",
     "text": [
      "4 7\n",
      "7 43\n"
     ]
    }
   ],
   "source": [
    "# function returning a tuple\n",
    "def min_max(x_1: int, x_2: int) -> tuple:\n",
    "    if x_1 <= x_2:\n",
    "        return x_1, x_2\n",
    "    else:\n",
    "        return x_2, x_1\n",
    "    \n",
    "min_, max_ = min_max(4,7)\n",
    "print(min_, max_)\n",
    "min_, max_ = min_max(43,7)\n",
    "print(min_, max_)"
   ]
  },
  {
   "cell_type": "code",
   "execution_count": null,
   "metadata": {},
   "outputs": [],
   "source": [
    "# function with a docstring\n",
    "def min_max(x_1: int, x_2: int) -> tuple:\n",
    "    \"\"\"\n",
    "    This function takes two values and define which one\n",
    "    is the minimum and which one is the maximum.\n",
    "\n",
    "    Args:\n",
    "        x_1 (int): First number\n",
    "        x_2 (int): Second number\n",
    "\n",
    "    Return:\n",
    "        A tuple with the numbers minimum and maximum respectivaly.\n",
    "    \"\"\"\n",
    "    if x_1 <= x_2:\n",
    "        return x_1, x_2\n",
    "    else:\n",
    "        return x_2, x_1"
   ]
  },
  {
   "cell_type": "code",
   "execution_count": null,
   "metadata": {},
   "outputs": [],
   "source": [
    "# function with variable parameters in a tuple\n",
    "def sum_values(*args):\n",
    "    sum_total = 0\n",
    "    for parameter in args:\n",
    "        sum_total += parameter\n",
    "    return sum_total\n",
    "        \n",
    "print(sum_values(1,3,4))\n",
    "print(sum_values(3.2, 3.4, 2.2, 4, 2, 4))"
   ]
  },
  {
   "cell_type": "code",
   "execution_count": 121,
   "metadata": {},
   "outputs": [
    {
     "name": "stdout",
     "output_type": "stream",
     "text": [
      "name : Pepita\n",
      "age : 12\n",
      "----------\n",
      "name : Pepito\n",
      "email : peito@udistrital.edu.c\n"
     ]
    }
   ],
   "source": [
    "# function with variable parameters in a dictionary\n",
    "def print_student(**kwargs):\n",
    "    for k,v in kwargs.items():\n",
    "        print(k, \":\", v)\n",
    "\n",
    "print_student(name=\"Pepita\", age=12)\n",
    "print(\"-\"*10)\n",
    "print_student(name=\"Pepito\", email=\"pepito@udistrital.edu.co\")"
   ]
  },
  {
   "cell_type": "code",
   "execution_count": 124,
   "metadata": {},
   "outputs": [
    {
     "name": "stdout",
     "output_type": "stream",
     "text": [
      "0\n"
     ]
    }
   ],
   "source": [
    "# recursive function\n",
    "def fibonnaci(i: int) -> int:\n",
    "    \"\"\"\n",
    "    This function calculates the i-th term of Fibonnaci series.\n",
    "\n",
    "    Args:\n",
    "        i (int): i-th term of the serie\n",
    "\n",
    "    Return:\n",
    "        The i-th term of the serie\n",
    "    \"\"\"\n",
    "    if i == 1:\n",
    "        return 0\n",
    "    elif i == 2:\n",
    "        return 1\n",
    "    else:\n",
    "        return fibonnaci(i - 1) + fibonnaci(i - 2)\n",
    "    \n",
    "print(fibonnaci(1))"
   ]
  },
  {
   "cell_type": "markdown",
   "metadata": {},
   "source": [
    "## Iterators\n",
    "\n",
    "__Iterators__ are objects that allow iteration over a _collection of elements_. They provide a way to access the elements of a collection _one by one_, without the need to know the underlying structure of the collection.\n",
    "\n",
    "In _Python_, __iterators__ are implemented using the `iter()` and `next()` methods. When there are no more elements to return, the `next__()` method raises the `StopIteration` _exception_.\n",
    "\n",
    "__Iterators__ are commonly used in _for loops_ to iterate over elements in a sequence, such as _lists_, _tuples_, or _strings_.\n",
    "\n",
    "### Map Function\n",
    "\n",
    "The `map` _function_ in _Python_ applies a given function to each item of an iterable (like a list, tuple, etc.) and returns a __map object__ (which is an _iterator_) of the results. This is often used to perform _some operation_ on a collection of items and _generate a new collection_ containing the results.\n",
    "\n",
    "### Filter Function \n",
    "\n",
    "The `filter` _function_ in _Python_ takes a function and an iterable as arguments and constructs an iterator from those elements of the iterable for which the function _returns_ __true__. Essentially, it filters out the elements in a collection, only _keeping those that satisfy a specific condition_."
   ]
  },
  {
   "cell_type": "code",
   "execution_count": null,
   "metadata": {},
   "outputs": [],
   "source": [
    "# filter a list a dictionaries with just UD studients\n"
   ]
  },
  {
   "cell_type": "code",
   "execution_count": null,
   "metadata": {},
   "outputs": [],
   "source": [
    "# change a list of numbers in strings formats and apply power of 4\n"
   ]
  },
  {
   "cell_type": "markdown",
   "metadata": {},
   "source": [
    "## Lambda Functions\n",
    "\n",
    "A __lambda function__ in _Python_ is a small _anonymous function_ that can take any number of arguments but can only have _one expression_. It is defined using the `lambda` keyword, followed by a comma-separated list of parameters, a colon, and the expression to be evaluated. __Lambda functions__ are commonly used when a small function is needed for a _short period of time_ and it is not necessary to define a named function. They are often used in combination with higher-order functions like `map()`, `filter()`, and `reduce()`.\n",
    "\n"
   ]
  },
  {
   "cell_type": "code",
   "execution_count": null,
   "metadata": {},
   "outputs": [],
   "source": [
    "# lambda function in a variable\n",
    "\n",
    "\n",
    "# lambdas function of two parameters in a variable\n",
    "\n",
    "\n",
    "# sort a list of tuples by the second item\n",
    "\n",
    "\n",
    "# filter a list to include multiple of 3\n",
    "\n",
    "\n",
    "# create a new list with the cube of each number\n",
    "\n",
    "\n",
    "# sort a list of strings based on length\n"
   ]
  },
  {
   "cell_type": "markdown",
   "metadata": {},
   "source": [
    "## Classes\n",
    "\n",
    " A `class` is a blueprint for creating objects in Python. It defines a set of _attributes_ and _methods_ that the objects of the class will have. "
   ]
  },
  {
   "cell_type": "code",
   "execution_count": null,
   "metadata": {},
   "outputs": [],
   "source": [
    "# create an abstract class\n"
   ]
  },
  {
   "cell_type": "code",
   "execution_count": null,
   "metadata": {},
   "outputs": [],
   "source": [
    "# create a concrete class\n"
   ]
  },
  {
   "cell_type": "code",
   "execution_count": null,
   "metadata": {},
   "outputs": [],
   "source": [
    "# instanciate a concrete object\n"
   ]
  }
 ],
 "metadata": {
  "kernelspec": {
   "display_name": "Python 3",
   "language": "python",
   "name": "python3"
  },
  "language_info": {
   "codemirror_mode": {
    "name": "ipython",
    "version": 3
   },
   "file_extension": ".py",
   "mimetype": "text/x-python",
   "name": "python",
   "nbconvert_exporter": "python",
   "pygments_lexer": "ipython3",
   "version": "3.11.9"
  }
 },
 "nbformat": 4,
 "nbformat_minor": 2
}
