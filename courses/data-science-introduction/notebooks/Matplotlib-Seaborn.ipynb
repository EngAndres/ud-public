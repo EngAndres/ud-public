{
 "cells": [
  {
   "cell_type": "markdown",
   "metadata": {},
   "source": [
    "# MatPlotLib\n",
    "\n",
    "__Matplotlib__ is a _Python_ package that provides a comprehensive library for creating static, animated, and interactive __visualizations__ in Python. It is widely used for _data visualization_ and is capable of producing a wide variety of plots, charts, histograms, and other graphical representations of data. __Matplotlib__ is highly customizable and offers a range of options for controlling the appearance and style of plots. It integrates well with other libraries such as _NumPy_ and _Pandas_, making it a powerful tool for exploratory data analysis and scientific visualization."
   ]
  },
  {
   "cell_type": "code",
   "execution_count": null,
   "metadata": {},
   "outputs": [],
   "source": [
    "# Introdcution to Matplotlib\n",
    "# !pip install matplotlib\n"
   ]
  },
  {
   "cell_type": "markdown",
   "metadata": {},
   "source": [
    "### Scatter Plots\n",
    "\n",
    "A __scatter plot__ is a type of plot that shows _individual data points _along the\n",
    "$x$ and $y$ axis. __Scatter plots__ are used to observe _relationships_ between\n",
    "variables."
   ]
  },
  {
   "cell_type": "code",
   "execution_count": null,
   "metadata": {},
   "outputs": [],
   "source": [
    "# Scatter plot with one class\n",
    "\n",
    "import matplotlib.pyplot as plt\n",
    "import numpy as np\n",
    "\n",
    "# Generate random data\n",
    "\n",
    "# Create scatter plot\n",
    "\n",
    "# Display the plot\n"
   ]
  },
  {
   "cell_type": "code",
   "execution_count": null,
   "metadata": {},
   "outputs": [],
   "source": [
    "import matplotlib.pyplot as plt\n",
    "import numpy as np\n",
    "\n",
    "# Generate random data for class 1\n",
    "\n",
    "# Generate random data for class 2\n",
    "\n",
    "# Create scatter plot for class 1 in red\n",
    "\n",
    "# Create scatter plot for class 2 in blue\n",
    "\n",
    "# Adding legend\n",
    "\n",
    "# Display the plot\n"
   ]
  },
  {
   "cell_type": "markdown",
   "metadata": {},
   "source": [
    "### Line Plots\n",
    "\n",
    "A __line plot__ is a type of plot that displays information as a series of data\n",
    "points called _markers_ connected by straight line segments. __Line plots__ are\n",
    "used to observe the _trend_ in data over intervals of time."
   ]
  },
  {
   "cell_type": "code",
   "execution_count": null,
   "metadata": {},
   "outputs": [],
   "source": [
    "import matplotlib.pyplot as plt\n",
    "import numpy as np\n",
    "\n",
    "\n",
    "# Generate a time axis\n",
    "\n",
    "# Generate random data for three time series\n",
    "\n",
    "# Plot each time series\n",
    "\n",
    "# Adding legend\n",
    "\n",
    "# Adding titles and labels\n",
    "\n",
    "# Display the plot\n"
   ]
  },
  {
   "cell_type": "markdown",
   "metadata": {},
   "source": [
    "### Bar Plots\n",
    "\n",
    "A __bar plot__ is a type of plot that presents _categorical data_ with rectangular\n",
    "bars with lengths proportional to the values that they represent. __Bar plots__\n",
    "are used to compare _quantitative data_ across different categories."
   ]
  },
  {
   "cell_type": "code",
   "execution_count": null,
   "metadata": {},
   "outputs": [],
   "source": [
    "import matplotlib.pyplot as plt\n",
    "import numpy as np\n",
    "\n",
    "# Class labels\n",
    "\n",
    "# Generate random values for each class\n",
    "\n",
    "# Create bar plot\n",
    "\n",
    "# Adding titles and labels\n",
    "\n",
    "# Display the plot\n"
   ]
  },
  {
   "cell_type": "code",
   "execution_count": null,
   "metadata": {},
   "outputs": [],
   "source": [
    "import matplotlib.pyplot as plt\n",
    "import numpy as np\n",
    "\n",
    "# Class labels\n",
    "\n",
    "# Generate random values for each class\n",
    "\n",
    "# Specify colors for each bar\n",
    "\n",
    "# Create bar plot with different colors\n",
    "\n",
    "# Adding titles and labels\n",
    "\n",
    "# Display the plot\n"
   ]
  },
  {
   "cell_type": "code",
   "execution_count": null,
   "metadata": {},
   "outputs": [],
   "source": [
    "import matplotlib.pyplot as plt\n",
    "import numpy as np\n",
    "\n",
    "# Group and class labels\n",
    "\n",
    "# Generate random data: a value for each class in each group\n",
    "\n",
    "# Colors for each class\n",
    "\n",
    "# Set the positions and width for the bars\n",
    "\n",
    "# Plotting each class\n",
    "\n",
    "# Adding features to the plot\n",
    "\n",
    "# Display the plot\n"
   ]
  },
  {
   "cell_type": "markdown",
   "metadata": {},
   "source": [
    "### SubPlots\n",
    "\n",
    "__Subplots__ are groups of smaller axes that can _exist together_ within a\n",
    "single figure. __Subplots__ are useful when you want to show _multiple plots_ in the\n",
    "same figure."
   ]
  },
  {
   "cell_type": "code",
   "execution_count": null,
   "metadata": {},
   "outputs": [],
   "source": [
    "import matplotlib.pyplot as plt\n",
    "import numpy as np\n",
    "\n",
    "# Create a figure and a 2x2 grid of subplots\n",
    "\n",
    "# Generate random data for the bar plot\n",
    "\n",
    "# Generate random data for the scatter plot\n",
    "\n",
    "# Generate random data for the line plot\n",
    "\n",
    "# Create a bar plot in the first subplot\n",
    "\n",
    "# Create a scatter plot in the second subplot\n",
    "\n",
    "# Create a line plot in the third subplot\n",
    "\n",
    "# Adjust layout to prevent overlap\n",
    "\n",
    "# Display the figure with subplots\n"
   ]
  },
  {
   "cell_type": "markdown",
   "metadata": {},
   "source": [
    "### Histograms\n",
    "\n",
    "A __histogram__ is a type of plot that displays the _distribution_ of a dataset. __Histograms__ are used to show the _frequency_ of values in a dataset"
   ]
  },
  {
   "cell_type": "code",
   "execution_count": null,
   "metadata": {},
   "outputs": [],
   "source": [
    "import matplotlib.pyplot as plt\n",
    "import numpy as np\n",
    "\n",
    "# Generate random data for three classes\n",
    "\n",
    "# Plot histograms for each class\n",
    "\n",
    "# Adding legend\n",
    "\n",
    "# Adding titles and labels\n",
    "\n",
    "# Display the plot\n"
   ]
  },
  {
   "cell_type": "markdown",
   "metadata": {},
   "source": [
    "### Box Plots\n",
    "\n",
    "A __box plot__ is a type of plot that displays the _distribution_ of a dataset. __Box plots__ are used to show the _spread_ and _central tendency_ of values in a dataset."
   ]
  },
  {
   "cell_type": "code",
   "execution_count": null,
   "metadata": {},
   "outputs": [],
   "source": [
    "import matplotlib.pyplot as plt\n",
    "import numpy as np\n",
    "\n",
    "# Generate random data for three classes\n",
    "\n",
    "# Combine data into a list\n",
    "\n",
    "# Create box plot\n",
    "\n",
    "# Adding titles and labels\n",
    "\n",
    "# Custom tick labels for the x-axis\n",
    "\n",
    "# Display the plot\n"
   ]
  },
  {
   "cell_type": "markdown",
   "metadata": {},
   "source": [
    "### HeatMaps\n",
    "\n",
    "A __heatmap__ is a type of plot that displays the _intensity_ of data at the intersection of two variables. __Heatmaps__ are used to show the _correlation_ between variables in a dataset."
   ]
  },
  {
   "cell_type": "code",
   "execution_count": null,
   "metadata": {},
   "outputs": [],
   "source": [
    "import matplotlib.pyplot as plt\n",
    "import numpy as np\n",
    "\n",
    "# Number of classes\n",
    "\n",
    "# Generate a random matrix for the heatmap data\n",
    "\n",
    "# Class labels\n",
    "\n",
    "# Create the heatmap\n",
    "\n",
    "# Add color bar to the side\n",
    "\n",
    "# Add titles and labels\n",
    "\n",
    "# Set the tick labels\n",
    "\n",
    "# Display the plot\n"
   ]
  },
  {
   "cell_type": "markdown",
   "metadata": {},
   "source": [
    "### WordClouds"
   ]
  },
  {
   "cell_type": "code",
   "execution_count": null,
   "metadata": {},
   "outputs": [],
   "source": [
    "# pip install wordcloud\n",
    " \n",
    "from wordcloud import WordCloud\n",
    "import matplotlib.pyplot as plt\n",
    "\n",
    "# Sample text for generating word cloud\n",
    "\n",
    "# Generate a word cloud image\n",
    "\n",
    "# Display the generated image using Matplotlib\n"
   ]
  },
  {
   "cell_type": "markdown",
   "metadata": {},
   "source": [
    "### Animations\n",
    "\n",
    "__Animation__ is the process of creating a _sequence of images_ that change over time."
   ]
  },
  {
   "cell_type": "code",
   "execution_count": null,
   "metadata": {},
   "outputs": [],
   "source": [
    "import numpy as np\n",
    "import matplotlib.pyplot as plt\n",
    "from matplotlib.animation import FuncAnimation\n",
    "from IPython.display import HTML\n",
    "\n",
    "# Set up the figure and axis\n",
    "\n",
    "# Adjust the axis limits\n",
    "\n",
    "# Create the animation\n",
    "\n",
    "# Display the animation in a Jupyter notebook\n"
   ]
  },
  {
   "cell_type": "markdown",
   "metadata": {},
   "source": [
    "### Widgets\n",
    "\n",
    "__Widgets__ can be used to create _interactive visualizations_ in a Jupyter notebook. __Widgets__ can be used to create _sliders_, _buttons_, and other _interactive elements_."
   ]
  },
  {
   "cell_type": "code",
   "execution_count": null,
   "metadata": {},
   "outputs": [],
   "source": [
    "import numpy as np\n",
    "import matplotlib.pyplot as plt\n",
    "import ipywidgets as widgets\n",
    "from IPython.display import display\n",
    "\n",
    "# Setup the plot output widget\n",
    "\n",
    "# Define the function to update the plot\n",
    "\n",
    "# Create a dropdown widget for selecting the plot type\n",
    "\n",
    "# Create a button widget to generate the plot\n",
    "\n",
    "# Define the button click event handler\n",
    "\n",
    "# Display the widgets\n",
    "\n",
    "# Initially generate a plot\n"
   ]
  },
  {
   "cell_type": "markdown",
   "metadata": {},
   "source": [
    "# Seaborn\n",
    "\n",
    "__Seaborn__ provides a _high-level interface_ for creating informative and attractive statistical graphics. \n",
    "It is built on top of __matplotlib__ and integrates well with pandas data structures, making it easy to _visualize data_ from data frames and arrays."
   ]
  },
  {
   "cell_type": "code",
   "execution_count": null,
   "metadata": {},
   "outputs": [],
   "source": [
    "#!pip install seaborn\n",
    "import seaborn as sns"
   ]
  },
  {
   "cell_type": "markdown",
   "metadata": {},
   "source": [
    "### Correlations\n",
    "\n",
    "A __spurious correlation__ is a _statistical relationship_ between two variables\n",
    "that is not causally related. __Spurious correlations__ are often the result of\n",
    "confounding variables."
   ]
  },
  {
   "cell_type": "code",
   "execution_count": null,
   "metadata": {},
   "outputs": [],
   "source": [
    "import numpy as np\n",
    "import pandas as pd\n",
    "import seaborn as sns\n",
    "import matplotlib.pyplot as plt\n",
    "\n",
    "# Generate a time series for the x-axis\n",
    "\n",
    "# Generate random data for two variables\n",
    "\n",
    "# Create a DataFrame to hold the data\n",
    "\n",
    "# Create a spurious correlation plot\n"
   ]
  },
  {
   "cell_type": "markdown",
   "metadata": {},
   "source": [
    "### Maps and Geography\n",
    "\n",
    "__Mapping__ is the process of creating a visual representation of an _area_. __Mapping__ is used to show the _geographic distribution_ of data."
   ]
  },
  {
   "cell_type": "code",
   "execution_count": null,
   "metadata": {},
   "outputs": [],
   "source": [
    "#!pip install geopandas\n",
    "#!pip install cartopy\n",
    "\n",
    "import numpy as np\n",
    "import matplotlib.pyplot as plt\n",
    "import seaborn as sns\n",
    "import geopandas as gpd\n",
    "import cartopy.crs as ccrs\n",
    "\n",
    "# Set Seaborn style\n",
    "\n",
    "# Generate random geographical coordinates\n",
    "\n",
    "# Create a GeoDataFrame with the random points\n",
    "\n",
    "# Load a GeoDataFrame with world map\n",
    "\n",
    "# Plot the world map\n",
    "\n",
    "# Plot the random points on the map\n",
    "\n",
    "# Set title and labels\n"
   ]
  }
 ],
 "metadata": {
  "kernelspec": {
   "display_name": "data_science_course",
   "language": "python",
   "name": "python3"
  },
  "language_info": {
   "codemirror_mode": {
    "name": "ipython",
    "version": 3
   },
   "file_extension": ".py",
   "mimetype": "text/x-python",
   "name": "python",
   "nbconvert_exporter": "python",
   "pygments_lexer": "ipython3",
   "version": "3.11.9"
  }
 },
 "nbformat": 4,
 "nbformat_minor": 2
}
