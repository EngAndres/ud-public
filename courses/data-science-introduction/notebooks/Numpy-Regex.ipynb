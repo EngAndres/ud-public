{
 "cells": [
  {
   "cell_type": "markdown",
   "metadata": {},
   "source": [
    "# Numpy\n",
    "\n",
    "__Numpy__ is a _Python package_ that stands for ___Numerical Python___. It is a _library_ for the _Python_ programming language, adding support for large, _multi-dimensional arrays_ and _matrices_, along with a _large collection_ of high-level mathematical functions to operate on these _arrays_.\n",
    "\n",
    "__Numpy__ provides a powerful _N-dimensional_ array object, useful for performing mathematical and logical operations on arrays. It also has _functions_ for working in domain of _linear algebra_, _Fourier transform_, and _matrices_.\n",
    "\n",
    "By importing `numpy as np`, we can access all the functions and methods provided by the _numpy_ package using the `np` alias."
   ]
  },
  {
   "cell_type": "code",
   "execution_count": 2,
   "metadata": {},
   "outputs": [
    {
     "name": "stdout",
     "output_type": "stream",
     "text": [
      "Part1: [1 2 3 4 5] <class 'numpy.ndarray'>\n",
      "Part 2 [10 12 14 16 18 20 22 24 26 28 30 32 34 36 38 40 42 44 46 48 50]\n",
      "Part 3: [0.  0.1 0.2 0.3 0.4 0.5 0.6 0.7 0.8 0.9 1. ]\n",
      "Part 4:\n",
      " [[0. 0. 0. 0.]\n",
      " [0. 0. 0. 0.]\n",
      " [0. 0. 0. 0.]]\n",
      "Part 4.1:\n",
      " [[1. 1. 1. 1. 1. 1. 1. 1. 1. 1.]]\n",
      "Step 5: \n",
      "int64\n",
      "float64\n"
     ]
    }
   ],
   "source": [
    "import numpy as np\n",
    "\n",
    "# create an array\n",
    "array1 = np.array([1, 2, 3, 4, 5])\n",
    "print(\"Part1:\", array1, type(array1))\n",
    "\n",
    "# create an array with range\n",
    "array = np.arange(10, 51, 2)\n",
    "print(\"Part 2\", array)\n",
    "\n",
    "# create an array with linspace\n",
    "array = np.linspace(0,1,11)\n",
    "print(\"Part 3:\", array)\n",
    "\n",
    "# create a matrix of zeros\n",
    "zeros = np.zeros((3,4))\n",
    "print(\"Part 4:\\n\", zeros)\n",
    "ones = np.ones((1,10))\n",
    "print(\"Part 4.1:\\n\", ones)\n",
    "\n",
    "# get array data type\n",
    "print(\"Step 5: \")\n",
    "print(array1.dtype)\n",
    "print(array.dtype)"
   ]
  },
  {
   "cell_type": "code",
   "execution_count": 3,
   "metadata": {},
   "outputs": [
    {
     "name": "stdout",
     "output_type": "stream",
     "text": [
      "Step 1: (11,)\n",
      "Step 2: (3, 4)\n",
      "Step 3: 1\n",
      "Step 4: 2\n"
     ]
    }
   ],
   "source": [
    "# get shape of array\n",
    "print(\"Step 1:\", array.shape)\n",
    "\n",
    "# get shape of matrix\n",
    "print(\"Step 2:\", zeros.shape)\n",
    "\n",
    "# get number of dimensions of array\n",
    "print(\"Step 3:\", array1.ndim)\n",
    "\n",
    "# get number of dimensions of matrix\n",
    "print(\"Step 4:\", ones.ndim)"
   ]
  },
  {
   "cell_type": "code",
   "execution_count": 4,
   "metadata": {},
   "outputs": [
    {
     "name": "stdout",
     "output_type": "stream",
     "text": [
      "Step 1: 11\n",
      "Step 2: 0.4 0.0\n"
     ]
    }
   ],
   "source": [
    "# get number of elements in array\n",
    "length = array.size\n",
    "print(\"Step 1:\", length)\n",
    "\n",
    "# get element by index\n",
    "element_array = array[4]\n",
    "element_matrix = zeros[1, 2]\n",
    "print(\"Step 2:\", element_array, element_matrix)"
   ]
  },
  {
   "cell_type": "code",
   "execution_count": 5,
   "metadata": {},
   "outputs": [
    {
     "name": "stdout",
     "output_type": "stream",
     "text": [
      "Sum: 5.500000000000001\n",
      "Mean: 0.5000000000000001\n",
      "Standard Deviation: 0.31622776601683794\n",
      "Variance: 0.1\n",
      "Minimum: 0.0\n",
      "Maximum: 1.0\n"
     ]
    }
   ],
   "source": [
    "# descriptive statistics\n",
    " \n",
    "# get sum of array\n",
    "sum = array.sum()\n",
    "print(\"Sum:\", sum)\n",
    "\n",
    "# get mean of array\n",
    "mean = array.mean()\n",
    "print(\"Mean:\", mean)\n",
    "\n",
    "# get standard deviation of array\n",
    "std = array.std()\n",
    "print(\"Standard Deviation:\", std)\n",
    "\n",
    "# get variance of array\n",
    "var = array.var()\n",
    "print(\"Variance:\", var)\n",
    "\n",
    "# get min of array\n",
    "min = array.min()\n",
    "print(\"Minimum:\", min)\n",
    "\n",
    "# get max of array\n",
    "max = array.max()\n",
    "print(\"Maximum:\", max)"
   ]
  },
  {
   "cell_type": "code",
   "execution_count": 6,
   "metadata": {},
   "outputs": [
    {
     "name": "stdout",
     "output_type": "stream",
     "text": [
      "Matrix:\n",
      " [[1 2 3]\n",
      " [4 5 6]\n",
      " [7 8 9]]\n",
      "Slice:\n",
      " [[2 3]\n",
      " [5 6]]\n",
      "Matrix 2:\n",
      " [[  1 100   3]\n",
      " [  4   5   6]\n",
      " [  7   8   9]]\n"
     ]
    }
   ],
   "source": [
    "# slice a matrix\n",
    "matrix = np.array([[1, 2, 3], [4, 5, 6], [7, 8, 9]])\n",
    "print(\"Matrix:\\n\", matrix)\n",
    "slice = matrix[:2, 1:]\n",
    "print(\"Slice:\\n\", slice)\n",
    "\n",
    "# is the slice by reference or by value?\n",
    "slice[0, 0] = 100\n",
    "print(\"Matrix 2:\\n\", matrix)"
   ]
  },
  {
   "cell_type": "markdown",
   "metadata": {},
   "source": [
    "## Linear Algebra with Numpy\n",
    "\n",
    "_Numpy_ is a powerful _Python_ package that provides support for _linear algebra_ operations. It allows us to perform various mathematical operations on _arrays_ and _matrices_ efficiently.\n",
    "\n",
    "With __Numpy__, we can easily solve _linear algebra_ problems such as finding solutions to systems of linear equations, calculating matrix determinants, eigenvalues, eigenvectors, and much more."
   ]
  },
  {
   "cell_type": "markdown",
   "metadata": {},
   "source": [
    "# "
   ]
  },
  {
   "cell_type": "code",
   "execution_count": 7,
   "metadata": {},
   "outputs": [
    {
     "name": "stdout",
     "output_type": "stream",
     "text": [
      "[-0.2  1.8]\n"
     ]
    }
   ],
   "source": [
    "# solve a system of linear equations\n",
    "equations = np.array([[2, 3], [3, 7]])\n",
    "answers = np.array([5, 12])\n",
    "solution = np.linalg.solve(equations, answers)\n",
    "print(solution)"
   ]
  },
  {
   "cell_type": "code",
   "execution_count": 8,
   "metadata": {},
   "outputs": [
    {
     "name": "stdout",
     "output_type": "stream",
     "text": [
      "[[ 1.4 -0.6]\n",
      " [-0.6  0.4]]\n"
     ]
    }
   ],
   "source": [
    "# get the inverse of a matrix\n",
    "inverse = np.linalg.inv(equations)\n",
    "print(inverse)"
   ]
  },
  {
   "cell_type": "code",
   "execution_count": 9,
   "metadata": {},
   "outputs": [
    {
     "name": "stdout",
     "output_type": "stream",
     "text": [
      "4.999999999999998\n"
     ]
    }
   ],
   "source": [
    "# get the determinant of a matrix\n",
    "determinant = np.linalg.det(equations)\n",
    "print(determinant)"
   ]
  },
  {
   "cell_type": "code",
   "execution_count": 10,
   "metadata": {},
   "outputs": [
    {
     "name": "stdout",
     "output_type": "stream",
     "text": [
      "Dot: 32\n"
     ]
    }
   ],
   "source": [
    "# get the dot product of two arrays\n",
    "array_1 = np.array([1, 2, 3])\n",
    "array_2 = np.array([4, 5, 6])\n",
    "print(\"Dot:\", np.dot(array_1, array_2))"
   ]
  },
  {
   "cell_type": "code",
   "execution_count": 11,
   "metadata": {},
   "outputs": [
    {
     "name": "stdout",
     "output_type": "stream",
     "text": [
      "Cross: [-3  6 -3]\n"
     ]
    }
   ],
   "source": [
    "# get the cross product of two arrays\n",
    "# cross = [2*6-3*5 3*4-1*6 1*5-2*4]\n",
    "print(\"Cross:\",np.cross(array_1, array_2))"
   ]
  },
  {
   "cell_type": "code",
   "execution_count": 12,
   "metadata": {},
   "outputs": [
    {
     "name": "stdout",
     "output_type": "stream",
     "text": [
      "3.7416573867739413\n"
     ]
    }
   ],
   "source": [
    "# get the norm of an array\n",
    "# norm(array_1) = sqrt(1² + 2² + 3²)\n",
    "print(np.linalg.norm(array_1))"
   ]
  },
  {
   "cell_type": "code",
   "execution_count": 13,
   "metadata": {},
   "outputs": [
    {
     "name": "stdout",
     "output_type": "stream",
     "text": [
      "Eigenvalues: [0.59487516 8.40512484]\n",
      "Eigenvector:\n",
      " [[-0.90558942 -0.4241554 ]\n",
      " [ 0.4241554  -0.90558942]]\n"
     ]
    }
   ],
   "source": [
    "# get the eigenvalues and eigenvectors of a matrix\n",
    "eigenvalues, eigenvectors = np.linalg.eig(equations)\n",
    "print(\"Eigenvalues:\", eigenvalues)\n",
    "print(\"Eigenvector:\\n\", eigenvectors)"
   ]
  },
  {
   "cell_type": "markdown",
   "metadata": {},
   "source": [
    "## Vectorization\n",
    "\n",
    "__Vectorization__ is a technique in computer programming that allows us to perform operations on _entire arrays or matrices_ instead of looping through each element individually. This approach leverages the power of optimized, low-level operations provided by libraries like __NumPy__.\n",
    "\n",
    "By using _vectorized operations_, we can significantly improve the _performance_ of our code, as it takes advantage of parallel processing capabilities of modern _CPUs_. Instead of writing explicit loops, we can express our computations as _mathematical expressions_ on arrays, making our code more concise and readable.\n",
    "\n",
    "For example, instead of iterating over each element of an array to calculate the square root, we can simply apply the `np.sqrt()` function to the _entire array_. This not only simplifies the code but also improves its efficiency.\n",
    "\n",
    "In addition to arithmetic operations, __vectorization__ also enables us to perform logical operations, mathematical functions, and other operations on arrays and matrices. This makes it a powerful tool for _scientific computing_, _data analysis_, and _machine learning_ tasks.\n",
    "\n",
    "Overall, __vectorization__ is a fundamental concept in array programming that allows us to write efficient and concise code by operating on entire arrays or matrices at once. It is a key technique to leverage the full potential of libraries like __NumPy__ and optimize our computations."
   ]
  },
  {
   "cell_type": "code",
   "execution_count": 14,
   "metadata": {},
   "outputs": [],
   "source": [
    "import memory_profiler\n",
    "import time\n",
    "\n",
    "# decorator to time a function\n",
    "def time_function(func):\n",
    "    def wrapper(*args, **kwargs):\n",
    "        start = time.time()\n",
    "        result = func(*args, **kwargs)\n",
    "        end = time.time()\n",
    "        print(f\"Time taken: {end - start}\")\n",
    "        return result\n",
    "    return wrapper\n",
    "\n",
    "# decorator to get memory usage of a function\n",
    "def memory_function(func):\n",
    "    def wrapper(*args, **kwargs):\n",
    "        result = memory_profiler.memory_usage((func, args, kwargs))\n",
    "        print(f\"Memory used: {result[0]}\")\n",
    "        return result\n",
    "    return wrapper"
   ]
  },
  {
   "cell_type": "code",
   "execution_count": 15,
   "metadata": {},
   "outputs": [
    {
     "name": "stdout",
     "output_type": "stream",
     "text": [
      "Shape: (5000, 5000)\n",
      "Vectorized\n",
      "Memory used: 659.91796875\n",
      "Time taken: 0.13384652137756348\n",
      "Loop\n",
      "Memory used: 278.4765625\n",
      "Time taken: 29.520958423614502\n"
     ]
    }
   ],
   "source": [
    "# calculare the square root of a matrix with vertorization\n",
    "@time_function\n",
    "@memory_function\n",
    "def sqrt_vectorized(matrix):\n",
    "    return np.sqrt(matrix)\n",
    "\n",
    "# calculate the square root of a matrix with a loop\n",
    "@time_function\n",
    "@memory_function\n",
    "def sqrt_loop(matrix):\n",
    "    result = np.zeros_like(matrix)\n",
    "    for i in range(matrix.shape[0]):\n",
    "        for j in range(matrix.shape[1]):\n",
    "            result[i, j] = np.sqrt(matrix[i, j])\n",
    "    return result\n",
    "\n",
    "# ------- Test --------\n",
    "size = 5000\n",
    "matrix = np.random.rand(size, size)\n",
    "print(\"Shape:\", matrix.shape)\n",
    "print(\"Vectorized\")\n",
    "t = sqrt_vectorized(matrix.copy())\n",
    "print(\"\\nLoop\")\n",
    "t = sqrt_loop(matrix)"
   ]
  },
  {
   "cell_type": "code",
   "execution_count": 16,
   "metadata": {},
   "outputs": [
    {
     "name": "stdout",
     "output_type": "stream",
     "text": [
      "Shape: (100000000,)\n",
      "Vectorized\n",
      "Memory used: 1804.4921875\n",
      "Time taken: 0.49916863441467285\n",
      "Loops\n",
      "Memory used: 1804.57421875\n",
      "Time taken: 31.070863246917725\n"
     ]
    }
   ],
   "source": [
    "# calculate the sum of two arrays witn vectorization\n",
    "@time_function\n",
    "@memory_function\n",
    "def sum_vectorized(array_1: np.array, array_2: np.array):\n",
    "    return array_1 + array_2\n",
    "\n",
    "# calculate the sum of two arrays with a loop\n",
    "@time_function\n",
    "@memory_function\n",
    "def sum_loops(array_1, array_2):\n",
    "    result = np.zeros_like(array_1)\n",
    "    for i in range(array_1.size):\n",
    "        result[i] = array_1[i] + array_2[i]\n",
    "    return result\n",
    "\n",
    "#---------- Test -----------\n",
    "size = 100000000\n",
    "array_1 = np.random.rand(size)\n",
    "array_2 = np.random.rand(size)\n",
    "print(\"Shape:\", array_1.shape)\n",
    "print(\"Vectorized\")\n",
    "t = sum_vectorized(array_1, array_2)\n",
    "print(\"\\nLoops\")\n",
    "t = sum_loops(array_1, array_2)"
   ]
  },
  {
   "cell_type": "code",
   "execution_count": 17,
   "metadata": {},
   "outputs": [
    {
     "name": "stdout",
     "output_type": "stream",
     "text": [
      "Shape: (100000000,)   -- Scalar: 1\n",
      "Vectorized:\n",
      "Memory used: 2567.65625\n",
      "Time taken: 0.6349039077758789\n",
      "Loops:\n",
      "Memory used: 2567.67578125\n",
      "Time taken: 22.94003701210022\n"
     ]
    }
   ],
   "source": [
    "# calculate broadcasted multiplication of and array and a scalar with vectorization\n",
    "@time_function\n",
    "@memory_function\n",
    "def broadcasted_vectorized(array: np.array, scalar: int):\n",
    "    return array * scalar\n",
    "\n",
    "# calculate broadcasted multiplication of and array and a scalar with a loop\n",
    "@time_function\n",
    "@memory_function\n",
    "def broadcasted_loop(array: np.array, scalar: int):\n",
    "    result = np.zeros_like(array)\n",
    "    for i in range(array.size):\n",
    "        result[i] = array[i] * scalar\n",
    "    return result\n",
    "\n",
    "# ------------ Test ------------------\n",
    "size = 100000000\n",
    "array = np.random.rand(size)\n",
    "scalar = np.random.randint(10)\n",
    "print(\"Shape:\", array.shape, \"  -- Scalar:\", scalar)\n",
    "print(\"Vectorized:\")\n",
    "t = broadcasted_vectorized(array, scalar)\n",
    "print(\"\\nLoops:\")\n",
    "t = broadcasted_loop(array, scalar)"
   ]
  },
  {
   "cell_type": "code",
   "execution_count": 18,
   "metadata": {},
   "outputs": [
    {
     "name": "stdout",
     "output_type": "stream",
     "text": [
      "Vectorized:\n",
      "Memory used: 2567.82421875\n",
      "Time taken: 0.8963615894317627\n",
      "Lambda:\n",
      "Memory used: 2567.82421875\n",
      "Time taken: 19.725606441497803\n",
      "Loop:\n",
      "Memory used: 2567.82421875\n",
      "Time taken: 15.469332218170166\n"
     ]
    }
   ],
   "source": [
    "# filter an array with a loop\n",
    "@time_function\n",
    "@memory_function\n",
    "def is_even_vectorized(array):\n",
    "    return array[array % 2 == 0]\n",
    "\n",
    "# filter an array with a lambda function\n",
    "@time_function\n",
    "@memory_function\n",
    "def is_even_lambda(array):\n",
    "    return list( filter(lambda x: x%2==0, array) )\n",
    "\n",
    "\n",
    "# loops\n",
    "@time_function\n",
    "@memory_function\n",
    "def is_even_loop(array):\n",
    "    result = []\n",
    "    for x in array:\n",
    "        if x % 2 == 0:\n",
    "            result.append(x)\n",
    "    result\n",
    "\n",
    "# ------------- Test -----------\n",
    "size = 100000000\n",
    "array = np.random.rand(size)\n",
    "print(\"Vectorized:\")\n",
    "t = is_even_vectorized(array)\n",
    "print(\"\\nLambda:\")\n",
    "t = is_even_lambda(array)\n",
    "print(\"\\nLoop:\")\n",
    "t = is_even_loop(array)"
   ]
  },
  {
   "cell_type": "markdown",
   "metadata": {},
   "source": [
    "# Strings\n",
    "\n",
    "A __string__ is a _sequence of characters_ enclosed in single quotes ( `''`) or double quotes (`\"\"`).\n",
    "\n",
    "In __Python__, strings are _immutable_, which means they cannot be changed once created.\n",
    "\n",
    "__Strings__ can be _concatenated_ using the `+` operator, and _repeated_ using the `*` operator.\n",
    "\n",
    "Various _string_ methods are available to perform operations like finding the _length_, _converting case_, _splitting_, and _joining_ strings."
   ]
  },
  {
   "cell_type": "code",
   "execution_count": 34,
   "metadata": {},
   "outputs": [
    {
     "name": "stdout",
     "output_type": "stream",
     "text": [
      "Different\n",
      "hello less than ud\n"
     ]
    }
   ],
   "source": [
    "# compare strings using conditionals\n",
    "s_1 = \"hello\"\n",
    "s_2 = \"ud\"\n",
    "\n",
    "if s_1 == s_2:\n",
    "    print(\"Equal\")\n",
    "\n",
    "if s_1 != s_2:\n",
    "    print(\"Different\")\n",
    "\n",
    "if s_1 < s_2:\n",
    "    print(s_1, \"less than\", s_2)"
   ]
  },
  {
   "cell_type": "code",
   "execution_count": 38,
   "metadata": {},
   "outputs": [
    {
     "name": "stdout",
     "output_type": "stream",
     "text": [
      "Substring found\n"
     ]
    }
   ],
   "source": [
    "# check if a substring is in a string\n",
    "sub = \"ell\"\n",
    "if sub in s_1:\n",
    "    print(\"Substring found\")\n",
    "else:\n",
    "    print(\"Substring not found\")"
   ]
  },
  {
   "cell_type": "code",
   "execution_count": 39,
   "metadata": {},
   "outputs": [
    {
     "name": "stdout",
     "output_type": "stream",
     "text": [
      "h\n",
      "e\n",
      "l\n",
      "l\n",
      "o\n"
     ]
    }
   ],
   "source": [
    "# traverse a string with a loop\n",
    "for char in s_1:\n",
    "    print(char)"
   ]
  },
  {
   "cell_type": "code",
   "execution_count": 42,
   "metadata": {},
   "outputs": [
    {
     "name": "stdout",
     "output_type": "stream",
     "text": [
      "Length s_1: 5\n",
      "Length s_2: 2\n",
      "Concatenate 1: hello ud\n",
      "Concatenate 2 (Yoda): ud hello\n",
      "Repeat: hellohellohellohellohellohello\n"
     ]
    }
   ],
   "source": [
    "# get length of a string\n",
    "print(\"Length s_1:\", len(s_1))\n",
    "print(\"Length s_2:\", len(s_2))\n",
    "\n",
    "# concatenate strings\n",
    "print(\"Concatenate 1:\", s_1 + \" \" + s_2)\n",
    "print(\"Concatenate 2 (Yoda):\", s_2 + ' ' +s_1)\n",
    "\n",
    "# repeat a string\n",
    "print(\"Repeat:\", s_1 * 6)"
   ]
  },
  {
   "cell_type": "code",
   "execution_count": 46,
   "metadata": {},
   "outputs": [
    {
     "name": "stdout",
     "output_type": "stream",
     "text": [
      "Que le pasa a Lupita? hello\n",
      "Que le pasa a Lupita? hello ud\n"
     ]
    }
   ],
   "source": [
    "name = \"Lupita\"\n",
    "\n",
    "# format using format method\n",
    "print(\"Que le pasa a {}? {}\".format(name, s_1))\n",
    "\n",
    "# format using f-strings\n",
    "print(f'Que le pasa a {name}? {s_1} {s_2}')"
   ]
  },
  {
   "cell_type": "code",
   "execution_count": 51,
   "metadata": {},
   "outputs": [
    {
     "name": "stdout",
     "output_type": "stream",
     "text": [
      "['Ana', 'Bob', 'Claire', 'Dennis'] <class 'list'>\n",
      "Ana, Bob, Claire, Dennis <class 'str'>\n"
     ]
    }
   ],
   "source": [
    "# split a string\n",
    "names_s = \"Ana-Bob-Claire-Dennis\"\n",
    "names = names_s.split('-')\n",
    "print(names, type(names))\n",
    "\n",
    "# join a list of strings\n",
    "names_joined = \", \".join(names)\n",
    "print(names_joined, type(names_joined))"
   ]
  },
  {
   "cell_type": "code",
   "execution_count": 69,
   "metadata": {},
   "outputs": [
    {
     "name": "stdout",
     "output_type": "stream",
     "text": [
      "Replace: ANA, Bob, Claire, Dennis\n",
      "hellohellohello\n",
      "Index: 1\n",
      "Count a: 2\n",
      "Count nn: 1\n",
      "Lower:  ana, bob, claire, dennis\n",
      "Upper: ANA, BOB, CLAIRE, DENNIS\n",
      "Title: Ana, Bob, Claire, Dennis\n",
      "Inverse: aNA, bOB, cLAIRE, dENNIS\n"
     ]
    }
   ],
   "source": [
    "# replace a substring\n",
    "print(\"Replace:\", names_joined.replace(\"na\", \"NA\"))\n",
    "\n",
    "# find the index of a substring\n",
    "s_3 = s_1 * 3\n",
    "print(s_3)\n",
    "print(\"Index:\", s_3.find(\"el\"))\n",
    "\n",
    "# count occurrences of a substring\n",
    "print(\"Count a:\", names_joined.count('a'))\n",
    "print(\"Count nn:\", names_joined.count('nn'))\n",
    "\n",
    "# Cases\n",
    "print(\"Lower: \", names_joined.lower())\n",
    "print(\"Upper:\", names_joined.upper())\n",
    "print(\"Title:\", names_joined.title())\n",
    "print(\"Inverse:\", names_joined.swapcase())"
   ]
  },
  {
   "cell_type": "markdown",
   "metadata": {},
   "source": [
    "# DateTimes\n",
    "\n",
    "__Datetimes__ in _Python_ are objects that represent _dates_ and _times_. They are used to perform various operations related to dates and times, such as _calculating time differences_, _formatting dates_, and _parsing strings_ into datetime objects.\n"
   ]
  },
  {
   "cell_type": "code",
   "execution_count": 80,
   "metadata": {},
   "outputs": [
    {
     "name": "stdout",
     "output_type": "stream",
     "text": [
      "Now: 2024-06-26 10:27:22.291523\n",
      "Custom date: 2015-10-25 17:00:00\n",
      "Time: 10:27:22.291523\n",
      "Now in Colombia: 2024-06-26 10:27:22.321485-05:00\n"
     ]
    }
   ],
   "source": [
    "from datetime import datetime\n",
    "\n",
    "# Create a datetime object representing the current date and time\n",
    "current = datetime.now()\n",
    "print(\"Now:\", current)\n",
    "\n",
    "# Create a date object representing a specific date\n",
    "date_1 = datetime(year=2015, month=10, day=25, hour=17)\n",
    "print(\"Custom date:\", date_1)\n",
    "\n",
    "# Create a time object representing a specific time\n",
    "print(\"Time:\", datetime.time(current))\n",
    "\n",
    "# Get the current datetime with a specific timezone\n",
    "from pytz import timezone\n",
    "colombia_tz = timezone(\"America/Bogota\")\n",
    "current_colombia = datetime.now(colombia_tz)\n",
    "print(\"Now in Colombia:\", current_colombia)\n"
   ]
  },
  {
   "cell_type": "code",
   "execution_count": 86,
   "metadata": {},
   "outputs": [
    {
     "name": "stdout",
     "output_type": "stream",
     "text": [
      "Format y-m(letter)-d h-m-s: 2024-Jun-26 10:27:22\n",
      "Format d(letter), m(letter), d(num), y: Wednesday, Jun, 26, 2024\n",
      "Date 2: <class 'datetime.datetime'> 2023-02-21 00:00:00\n"
     ]
    }
   ],
   "source": [
    "# Use strftime to format a date and time\n",
    "print(\"Format y-m(letter)-d h-m-s:\", current_colombia.strftime(\"%Y-%b-%d %H:%M:%S\"))\n",
    "print(\"Format d(letter), m(letter), d(num), y:\", current_colombia.strftime(\"%A, %b, %d, %Y\"))\n",
    "\n",
    "# Use strptime to parse a date and time string\n",
    "date_string = \"2023-02-21\"\n",
    "date_2 = datetime.strptime(date_string, \"%Y-%m-%d\")\n",
    "print(\"Date 2:\", type(date_2), date_2)"
   ]
  },
  {
   "cell_type": "code",
   "execution_count": 89,
   "metadata": {},
   "outputs": [
    {
     "name": "stdout",
     "output_type": "stream",
     "text": [
      "Tomorrow: 2024-06-27 10:27:22.321485-05:00\n",
      "Yesterday: 2024-06-25 10:27:22.321485-05:00\n",
      "Deadline: 2024-06-26 10:57:22.321485-05:00\n",
      "Close seconds: 2024-06-26 10:27:30.321485-05:00\n"
     ]
    }
   ],
   "source": [
    "# Timedelta object representing the difference between two dates and times\n",
    "from datetime import timedelta\n",
    "print(\"Tomorrow:\", current_colombia + timedelta(days=1))\n",
    "print(\"Yesterday:\", current_colombia - timedelta(days=1))\n",
    "print(\"Deadline:\", current_colombia + timedelta(minutes=30))\n",
    "print(\"Close seconds:\", current_colombia + timedelta(seconds=8))"
   ]
  },
  {
   "cell_type": "markdown",
   "metadata": {},
   "source": [
    "# Regular Expressions\n",
    "\n",
    "__Regular expressions__, also known as __regex__, are powerful tools for _pattern matching_ and _text manipulation_ in Python. They allow you to search, match, and manipulate strings based on specific __patterns__.\n",
    "\n",
    "In _Python_, regular expressions are supported through the `re` module. This module provides functions and methods for working with regular expressions.\n",
    "\n",
    "To use __regular expressions__ in _Python_, you need to import the `re` module. Once imported, you can use various functions and methods provided by the module to perform operations such as _pattern matching_, _searching_, _replacing_, and _splitting strings_.\n",
    "\n",
    "__Regular expressions__ in _Python_ are defined using a combination of special characters and metacharacters that represent _patterns_. "
   ]
  },
  {
   "cell_type": "code",
   "execution_count": 99,
   "metadata": {},
   "outputs": [
    {
     "name": "stdout",
     "output_type": "stream",
     "text": [
      "substring found\n",
      "Words: ['hello', 'world', 'ud', 'summer', 'vacations', 'sooner']\n",
      "Words s: ['summer', 'sooner']\n",
      "Numbers:, ['123', '456']\n"
     ]
    }
   ],
   "source": [
    "import re\n",
    "\n",
    "# use regex to find a substring\n",
    "string = \"hello world, ud summer vacations sooner\"\n",
    "substring = \"world,\"\n",
    "if re.search(substring, string):\n",
    "    print(\"substring found\")\n",
    "else:\n",
    "    print(\"substring not found\")\n",
    "\n",
    "# use regex to find all words\n",
    "words = re.findall(r'\\w+', string)\n",
    "print(\"Words:\", words)"
   ]
  },
  {
   "cell_type": "code",
   "execution_count": 100,
   "metadata": {},
   "outputs": [
    {
     "name": "stdout",
     "output_type": "stream",
     "text": [
      "Words s: ['summer', 'sooner']\n",
      "Numbers:, ['123', '456']\n"
     ]
    }
   ],
   "source": [
    "# use regex to find all words whom start with specific letter\n",
    "words_s = re.findall(r'\\b[s]\\w+', string)\n",
    "print(\"Words s:\", words_s)\n",
    "\n",
    "# find numbers using regex\n",
    "string_num = \"abc 123 def 456\"\n",
    "numbers = re.findall(r'\\d+', string_num)\n",
    "print(\"Numbers:,\", numbers)"
   ]
  },
  {
   "cell_type": "code",
   "execution_count": 105,
   "metadata": {},
   "outputs": [
    {
     "name": "stdout",
     "output_type": "stream",
     "text": [
      "Replace: hello world, Universidad Distrital summer vacations sooner\n",
      "Replace numbers: abc XX def XX\n",
      "Words: ['abc ', ' def ', '']\n"
     ]
    }
   ],
   "source": [
    "# use regex to replace a substring\n",
    "print(\"Replace:\", re.sub(r'ud', \"Universidad Distrital\", string))\n",
    "print(\"Replace numbers:\", re.sub(r'\\d+', \"XX\", string_num))\n",
    "\n",
    "# use regex to split a string\n",
    "print(\"Words:\", re.split(r'\\d+', string_num))"
   ]
  },
  {
   "cell_type": "code",
   "execution_count": 130,
   "metadata": {},
   "outputs": [
    {
     "name": "stdout",
     "output_type": "stream",
     "text": [
      "dflksjfgjsdaflk;gjsd;lkfgjsh;dlfgjl;sdkjfg\n",
      "None\n",
      "Matches: ['d', 'd', 'a', 'd', 'd', 'd']\n",
      "Matches: ['dl', 'dk']\n"
     ]
    }
   ],
   "source": [
    "# use regex to match a string\n",
    "print(string)\n",
    "match_ = re.match('[hello]', string)\n",
    "print(match_)\n",
    "if re.match(r'ell', string):\n",
    "    print(\"Match found\")\n",
    "\n",
    "# use regex to find all posibilities of a pattern\n",
    "string = \"dflksjfgjsdaflk;gjsd;lkfgjsh;dlfgjl;sdkjfg\"\n",
    "\n",
    "pattern = '[a-d]'\n",
    "print(\"Matches:\", re.findall(pattern, string))\n",
    "\n",
    "pattern = '[d][j-l]'\n",
    "print(\"Matches:\", re.findall(pattern, string))"
   ]
  },
  {
   "cell_type": "code",
   "execution_count": 142,
   "metadata": {},
   "outputs": [
    {
     "name": "stdout",
     "output_type": "stream",
     "text": [
      "Valid email\n"
     ]
    }
   ],
   "source": [
    "# validate an email address\n",
    "email = \"test.a2_class_223.ssd@udistrital.edu.co\"\n",
    "pattern = r'^[a-z][a-z0-9._]*@udistrital.edu.co$'\n",
    "if re.match(pattern, email):\n",
    "    print(\"Valid email\")\n",
    "else:\n",
    "    print(\"Invalid email\")"
   ]
  }
 ],
 "metadata": {
  "kernelspec": {
   "display_name": "data_science_course",
   "language": "python",
   "name": "python3"
  },
  "language_info": {
   "codemirror_mode": {
    "name": "ipython",
    "version": 3
   },
   "file_extension": ".py",
   "mimetype": "text/x-python",
   "name": "python",
   "nbconvert_exporter": "python",
   "pygments_lexer": "ipython3",
   "version": "3.11.9"
  }
 },
 "nbformat": 4,
 "nbformat_minor": 2
}
