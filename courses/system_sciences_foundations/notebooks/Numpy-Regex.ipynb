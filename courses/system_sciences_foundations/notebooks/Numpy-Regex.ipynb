{
 "cells": [
  {
   "cell_type": "markdown",
   "metadata": {},
   "source": [
    "# Numpy\n",
    "\n",
    "__Numpy__ is a _Python package_ that stands for ___Numerical Python___. It is a _library_ for the _Python_ programming language, adding support for large, _multi-dimensional arrays_ and _matrices_, along with a _large collection_ of high-level mathematical functions to operate on these _arrays_.\n",
    "\n",
    "__Numpy__ provides a powerful _N-dimensional_ array object, useful for performing mathematical and logical operations on arrays. It also has _functions_ for working in domain of _linear algebra_, _Fourier transform_, and _matrices_.\n",
    "\n",
    "By importing `numpy as np`, we can access all the functions and methods provided by the _numpy_ package using the `np` alias."
   ]
  },
  {
   "cell_type": "code",
   "execution_count": 2,
   "metadata": {},
   "outputs": [],
   "source": [
    "import numpy as np\n",
    "\n",
    "# create an array\n",
    "array = np.array([1, 2, 3, 4, 5])\n",
    "\n",
    "\n",
    "# create an array with range\n",
    "array = np.arange(10, 51, 2)\n",
    "\n",
    "# create an array with linspace\n",
    "array = np.linspace(0, 1, 20)\n",
    "\n",
    "# create a matrix of zeros\n",
    "zeros = np.zeros((3, 3))\n",
    "\n",
    "# data type\n",
    "dtype = array.dtype"
   ]
  },
  {
   "cell_type": "code",
   "execution_count": null,
   "metadata": {},
   "outputs": [],
   "source": [
    "# get shape of array\n",
    "shape = array.shape\n",
    "\n",
    "# get shape of matrix\n",
    "shape = zeros.shape\n",
    "\n",
    "# get number of dimensions of array\n",
    "dimensions = array.ndim\n",
    "\n",
    "# get number of dimensions of matrix\n",
    "dimensions = zeros.ndim"
   ]
  },
  {
   "cell_type": "code",
   "execution_count": 26,
   "metadata": {},
   "outputs": [],
   "source": [
    "# get number of elements in array\n",
    "length = array.size\n",
    "\n",
    "# get element by index\n",
    "element_array = array[3]\n",
    "element_matrix = zeros[1, 1]"
   ]
  },
  {
   "cell_type": "code",
   "execution_count": null,
   "metadata": {},
   "outputs": [],
   "source": [
    "# descriptive statistics\n",
    "\n",
    "# get sum of array\n",
    "sum = array.sum()\n",
    "\n",
    "# get mean of array\n",
    "mean = array.mean()\n",
    "\n",
    "# get standard deviation of array\n",
    "std = array.std()\n",
    "\n",
    "# get variance of array\n",
    "var = array.var()\n",
    "\n",
    "# get min of array\n",
    "min = array.min()\n",
    "\n",
    "# get max of array\n",
    "max = array.max()"
   ]
  },
  {
   "cell_type": "code",
   "execution_count": 5,
   "metadata": {},
   "outputs": [
    {
     "name": "stdout",
     "output_type": "stream",
     "text": [
      "[[2 3]\n",
      " [5 6]]\n",
      "[[  1 100   3]\n",
      " [  4   5   6]\n",
      " [  7   8   9]]\n"
     ]
    }
   ],
   "source": [
    "# slice a matrix\n",
    "matrix = np.array([[1, 2, 3], [4, 5, 6], [7, 8, 9]])\n",
    "slice = matrix[:2, 1:]\n",
    "print(slice)\n",
    "\n",
    "# is the slice by reference or by value?\n",
    "slice[0, 0] = 100\n",
    "print(matrix)"
   ]
  },
  {
   "cell_type": "markdown",
   "metadata": {},
   "source": [
    "## Linear Algebra with Numpy\n",
    "\n",
    "_Numpy_ is a powerful _Python_ package that provides support for _linear algebra_ operations. It allows us to perform various mathematical operations on _arrays_ and _matrices_ efficiently.\n",
    "\n",
    "With __Numpy__, we can easily solve _linear algebra_ problems such as finding solutions to systems of linear equations, calculating matrix determinants, eigenvalues, eigenvectors, and much more."
   ]
  },
  {
   "cell_type": "markdown",
   "metadata": {},
   "source": [
    "# "
   ]
  },
  {
   "cell_type": "code",
   "execution_count": 27,
   "metadata": {},
   "outputs": [],
   "source": [
    "# solve a system of linear equations\n",
    "equations = np.array([[2, 1], [3, 5]])\n",
    "answers = np.array([1, 2])\n",
    "solution = np.linalg.solve(equations, answers)\n",
    "\n",
    "# to solve a system of linear equations, the number of equations must equal the number of unknowns"
   ]
  },
  {
   "cell_type": "code",
   "execution_count": 28,
   "metadata": {},
   "outputs": [
    {
     "name": "stdout",
     "output_type": "stream",
     "text": [
      "[[-2.   1. ]\n",
      " [ 1.5 -0.5]]\n"
     ]
    }
   ],
   "source": [
    "# get the inverse of a matrix\n",
    "matrix = np.array([[1, 2], [3, 4]])\n",
    "inverse = np.linalg.inv(matrix)\n",
    "print(inverse)\n",
    "\n",
    "# to get the inverse of a matrix, \n",
    "# the matrix must be square (number of rows = number of columns)\n",
    "# the matrix must be non-singular (determinant is not zero)\n",
    "# Inversa = [[d/ad-bc, -b/ad-bc], [-c/ad-bc, a/ad-bc]]"
   ]
  },
  {
   "cell_type": "code",
   "execution_count": 29,
   "metadata": {},
   "outputs": [
    {
     "name": "stdout",
     "output_type": "stream",
     "text": [
      "-2.0000000000000004\n"
     ]
    }
   ],
   "source": [
    "# get the determinant of a matrix\n",
    "determinat = np.linalg.det(matrix)\n",
    "print(determinat)\n",
    "\n",
    "# the determinant of a matrix is a scalar value  calculated with next formula\n",
    "# det(A) = ad - bc"
   ]
  },
  {
   "cell_type": "code",
   "execution_count": 30,
   "metadata": {},
   "outputs": [
    {
     "name": "stdout",
     "output_type": "stream",
     "text": [
      "32\n"
     ]
    }
   ],
   "source": [
    "# get the dot product of two arrays\n",
    "array1 = np.array([1, 2, 3])\n",
    "array2 = np.array([4, 5, 6])\n",
    "dot = np.dot(array1, array2)\n",
    "print(dot)\n",
    "# dot = 1*4 + 2*5 + 3*6"
   ]
  },
  {
   "cell_type": "code",
   "execution_count": 31,
   "metadata": {},
   "outputs": [
    {
     "name": "stdout",
     "output_type": "stream",
     "text": [
      "[-3  6 -3]\n"
     ]
    }
   ],
   "source": [
    "# get the cross product of two arrays\n",
    "cross = np.cross(array1, array2)\n",
    "print(cross)\n",
    "# cross = [2*6-3*5, 3*4-1*6, 1*5-2*4]"
   ]
  },
  {
   "cell_type": "code",
   "execution_count": 32,
   "metadata": {},
   "outputs": [
    {
     "name": "stdout",
     "output_type": "stream",
     "text": [
      "3.7416573867739413\n"
     ]
    }
   ],
   "source": [
    "# get the norm of an array\n",
    "norm = np.linalg.norm(array1)\n",
    "print(norm)\n",
    "# norm = sqrt(1^2 + 2^2 + 3^2)"
   ]
  },
  {
   "cell_type": "code",
   "execution_count": 33,
   "metadata": {},
   "outputs": [
    {
     "name": "stdout",
     "output_type": "stream",
     "text": [
      "[-0.37228132  5.37228132]\n",
      "[[-0.82456484 -0.41597356]\n",
      " [ 0.56576746 -0.90937671]]\n"
     ]
    }
   ],
   "source": [
    "# get the eigenvalues and eigenvectors of a matrix\n",
    "eigenvalues, eigenvectors = np.linalg.eig(matrix)\n",
    "print(eigenvalues)\n",
    "print(eigenvectors)\n",
    "# the eigenvalues of a matrix are the values that satisfy the equation det(A - λI) = 0\n",
    "# the eigenvectors of a matrix are the vectors that satisfy the equation A*v = λ*v\n",
    "\n",
    "# eigenvectors are used in principal component analysis (PCA) to reduce the dimensionality of data  "
   ]
  },
  {
   "cell_type": "markdown",
   "metadata": {},
   "source": [
    "## Vectorization\n",
    "\n",
    "__Vectorization__ is a technique in computer programming that allows us to perform operations on _entire arrays or matrices_ instead of looping through each element individually. This approach leverages the power of optimized, low-level operations provided by libraries like __NumPy__.\n",
    "\n",
    "By using _vectorized operations_, we can significantly improve the _performance_ of our code, as it takes advantage of parallel processing capabilities of modern _CPUs_. Instead of writing explicit loops, we can express our computations as _mathematical expressions_ on arrays, making our code more concise and readable.\n",
    "\n",
    "For example, instead of iterating over each element of an array to calculate the square root, we can simply apply the `np.sqrt()` function to the _entire array_. This not only simplifies the code but also improves its efficiency.\n",
    "\n",
    "In addition to arithmetic operations, __vectorization__ also enables us to perform logical operations, mathematical functions, and other operations on arrays and matrices. This makes it a powerful tool for _scientific computing_, _data analysis_, and _machine learning_ tasks.\n",
    "\n",
    "Overall, __vectorization__ is a fundamental concept in array programming that allows us to write efficient and concise code by operating on entire arrays or matrices at once. It is a key technique to leverage the full potential of libraries like __NumPy__ and optimize our computations."
   ]
  },
  {
   "cell_type": "code",
   "execution_count": 34,
   "metadata": {},
   "outputs": [],
   "source": [
    "import memory_profiler\n",
    "import time\n",
    "\n",
    "# decorator to time a function\n",
    "def time_function(func):\n",
    "    def wrapper(*args, **kwargs):\n",
    "        start = time.time()\n",
    "        result = func(*args, **kwargs)\n",
    "        end = time.time()\n",
    "        print(f\"Time taken: {end - start}\")\n",
    "        return result\n",
    "    return wrapper\n",
    "\n",
    "# decorator to get memory usage of a function\n",
    "def memory_function(func):\n",
    "    def wrapper(*args, **kwargs):\n",
    "        result = memory_profiler.memory_usage((func, args, kwargs))\n",
    "        print(f\"Memory used: {result[0]}\")\n",
    "        return result\n",
    "    return wrapper"
   ]
  },
  {
   "cell_type": "code",
   "execution_count": null,
   "metadata": {},
   "outputs": [],
   "source": [
    "# calculare the square root of a matrix with vertorization\n",
    "@time_function\n",
    "@memory_function\n",
    "def sqrt_vectorized(matrix):\n",
    "    return np.sqrt(matrix)\n",
    "\n",
    "# calculate the square root of a matrix with a loop\n",
    "@time_function\n",
    "@memory_function\n",
    "def sqrt_loop(matrix):\n",
    "    result = np.zeros_like(matrix)\n",
    "    for i in range(matrix.shape[0]):\n",
    "        for j in range(matrix.shape[1]):\n",
    "            result[i, j] = np.sqrt(matrix[i, j])\n",
    "    return result\n",
    "\n",
    "size = 1000\n",
    "matrix = np.random.rand(size, size)\n",
    "print(\"Shape:\", matrix.shape)\n",
    "print(\"Vectorized\")\n",
    "t = sqrt_vectorized(matrix)\n",
    "print(\"Loop\")\n",
    "t = sqrt_loop(matrix)"
   ]
  },
  {
   "cell_type": "code",
   "execution_count": null,
   "metadata": {},
   "outputs": [],
   "source": [
    "# calculate the sum of two arrays witn vectorization\n",
    "@time_function\n",
    "@memory_function\n",
    "def sum_vectorized(array1, array2):\n",
    "    return array1 + array2\n",
    "\n",
    "# calculate the sum of two arrays with a loop\n",
    "@time_function\n",
    "@memory_function\n",
    "def sum_loop(array1, array2):\n",
    "    result = np.zeros_like(array1)\n",
    "    for i in range(array1.shape[0]):\n",
    "        result[i] = array1[i] + array2[i]\n",
    "    return result\n",
    "\n",
    "size = 10000000\n",
    "array1 = np.random.rand(size)\n",
    "array2 = np.random.rand(size)\n",
    "print(\"Shape:\", array1.shape)\n",
    "print(\"Vectorized\")\n",
    "t = sum_vectorized(array1, array2)\n",
    "print(\"Loop\")\n",
    "t = sum_loop(array1, array2)"
   ]
  },
  {
   "cell_type": "code",
   "execution_count": null,
   "metadata": {},
   "outputs": [],
   "source": [
    "# calculate broadcasted multiplication of and array and a scalar with vectorization\n",
    "@time_function\n",
    "@memory_function\n",
    "def broadcasted_vectorized(array, scalar):\n",
    "    return array * scalar\n",
    "\n",
    "# calculate broadcasted multiplication of and array and a scalar with a loop\n",
    "@time_function\n",
    "@memory_function\n",
    "def broadcasted_loop(array, scalar):\n",
    "    result = np.zeros_like(array)\n",
    "    for i in range(array.shape[0]):\n",
    "        result[i] = array[i] * scalar\n",
    "    return result\n",
    "\n",
    "size = 10000000\n",
    "array = np.random.rand(size)\n",
    "scalar = np.random.rand(1)\n",
    "print(\"Shape:\", array.shape)\n",
    "print(\"Vectorized\")\n",
    "t = broadcasted_vectorized(array, scalar)\n",
    "print(\"Loop\")\n",
    "t = broadcasted_loop(array, scalar)"
   ]
  },
  {
   "cell_type": "code",
   "execution_count": null,
   "metadata": {},
   "outputs": [],
   "source": [
    "# filter an array with vectorization\n",
    "@time_function\n",
    "@memory_function\n",
    "def is_even(x):\n",
    "    return x % 2 == 0\n",
    "\n",
    "# filter an array with a loop\n",
    "@time_function\n",
    "@memory_function\n",
    "def is_even_loop(array):\n",
    "    result = []\n",
    "    for x in array:\n",
    "        if x % 2 == 0:\n",
    "            result.append(x)\n",
    "    return result\n",
    "\n",
    "# filter an array with a lambda function\n",
    "@time_function\n",
    "@memory_function\n",
    "def is_even_lambda(array):\n",
    "    return list(filter(lambda x: x % 2 == 0, array))\n",
    "\n",
    "size = 10000000\n",
    "array = np.random.randint(0, 100, size)\n",
    "print(\"Shape:\", array.shape)\n",
    "print(\"Vectorized\")\n",
    "t = is_even(array)\n",
    "print(\"Loop\")\n",
    "t = is_even_loop(array)\n",
    "print(\"Lambda\")\n",
    "t = is_even_lambda(array)"
   ]
  },
  {
   "cell_type": "markdown",
   "metadata": {},
   "source": [
    "# Strings\n",
    "\n",
    "A __string__ is a _sequence of characters_ enclosed in single quotes ( `''`) or double quotes (`\"\"`).\n",
    "\n",
    "In __Python__, strings are _immutable_, which means they cannot be changed once created.\n",
    "\n",
    "__Strings__ can be _concatenated_ using the `+` operator, and _repeated_ using the `*` operator.\n",
    "\n",
    "Various _string_ methods are available to perform operations like finding the _length_, _converting case_, _splitting_, and _joining_ strings."
   ]
  },
  {
   "cell_type": "code",
   "execution_count": null,
   "metadata": {},
   "outputs": [],
   "source": [
    "# compare strings using conditionals\n",
    "string1 = \"hello\"\n",
    "string2 = \"world\"\n",
    "\n",
    "if string1 == string2:\n",
    "    print(\"Equal\")\n",
    "if string1 != string2:\n",
    "    print(\"Not equal\")\n",
    "if string1 < string2:\n",
    "    print(\"Less than\")"
   ]
  },
  {
   "cell_type": "code",
   "execution_count": null,
   "metadata": {},
   "outputs": [],
   "source": [
    "# check if a substring is in a string\n",
    "substring = \"ell\"\n",
    "if substring in string1:\n",
    "    print(\"Substring found\")"
   ]
  },
  {
   "cell_type": "code",
   "execution_count": null,
   "metadata": {},
   "outputs": [],
   "source": [
    "# traverse a string with a loop\n",
    "for char in string1:\n",
    "    print(char)"
   ]
  },
  {
   "cell_type": "code",
   "execution_count": null,
   "metadata": {},
   "outputs": [],
   "source": [
    "# get length of a string\n",
    "\n",
    "\n",
    "# concatenate strings\n",
    "\n",
    "\n",
    "# repeat a string\n"
   ]
  },
  {
   "cell_type": "code",
   "execution_count": null,
   "metadata": {},
   "outputs": [],
   "source": [
    "# format using format method\n",
    "print(\"Hello, {}!\".format(\"world\"))\n",
    "\n",
    "# format using f-strings\n",
    "print(f\"Hello, {string2}!\")"
   ]
  },
  {
   "cell_type": "code",
   "execution_count": null,
   "metadata": {},
   "outputs": [],
   "source": [
    "# split a string\n",
    "\n",
    "\n",
    "# join a list of strings\n"
   ]
  },
  {
   "cell_type": "code",
   "execution_count": null,
   "metadata": {},
   "outputs": [],
   "source": [
    "# replace a substring\n",
    "\n",
    "\n",
    "# find the index of a substring\n",
    "index = string1.find(substring)\n",
    "\n",
    "# count occurrences of a substring\n",
    "count = string1.count(substring)"
   ]
  },
  {
   "cell_type": "markdown",
   "metadata": {},
   "source": [
    "# DateTimes\n",
    "\n",
    "__Datetimes__ in _Python_ are objects that represent _dates_ and _times_. They are used to perform various operations related to dates and times, such as _calculating time differences_, _formatting dates_, and _parsing strings_ into datetime objects.\n"
   ]
  },
  {
   "cell_type": "code",
   "execution_count": null,
   "metadata": {},
   "outputs": [],
   "source": [
    "from datetime import datetime\n",
    "\n",
    "# Create a datetime object representing the current date and time\n",
    "current = datetime.now()\n",
    "print(current)\n",
    "\n",
    "# Create a date object representing a specific date\n",
    "date_var = datetime(2020, 12, 31)\n",
    "\n",
    "# Create a time object representing a specific time\n",
    "time_var = datetime.time(datetime.now())\n",
    "\n",
    "# Get the current datetime with a specific timezone\n",
    "from pytz import timezone\n",
    "import pytz\n",
    "colombia = timezone('America/Bogota')\n",
    "current_colombia = datetime.now(colombia)\n",
    "print(current_colombia)"
   ]
  },
  {
   "cell_type": "code",
   "execution_count": null,
   "metadata": {},
   "outputs": [],
   "source": [
    "# Use strftime to format a date and time\n",
    "formated = current.strftime(\"%Y-%m-%d %H:%M:%S\")\n",
    "print(formated)\n",
    "formated = current.strftime(\"%A, %B %d, %Y\")\n",
    "print(formated)\n",
    "\n",
    "# Use strptime to parse a date and time string\n",
    "date_string = \"2024-06-22\"\n",
    "date = datetime.strptime(date_string, \"%Y-%m-%d\")\n",
    "print(date)"
   ]
  },
  {
   "cell_type": "code",
   "execution_count": null,
   "metadata": {},
   "outputs": [],
   "source": [
    "from datetime import timedelta\n",
    "\n",
    "# Timedelta object representing the difference between two dates and times\n",
    "tomorrow = current + timedelta(days=1)\n",
    "print(tomorrow)"
   ]
  },
  {
   "cell_type": "markdown",
   "metadata": {},
   "source": [
    "# Regular Expressions\n",
    "\n",
    "__Regular expressions__, also known as __regex__, are powerful tools for _pattern matching_ and _text manipulation_ in Python. They allow you to search, match, and manipulate strings based on specific __patterns__.\n",
    "\n",
    "In _Python_, regular expressions are supported through the `re` module. This module provides functions and methods for working with regular expressions.\n",
    "\n",
    "To use __regular expressions__ in _Python_, you need to import the `re` module. Once imported, you can use various functions and methods provided by the module to perform operations such as _pattern matching_, _searching_, _replacing_, and _splitting strings_.\n",
    "\n",
    "__Regular expressions__ in _Python_ are defined using a combination of special characters and metacharacters that represent _patterns_. "
   ]
  },
  {
   "cell_type": "code",
   "execution_count": 6,
   "metadata": {},
   "outputs": [
    {
     "name": "stdout",
     "output_type": "stream",
     "text": [
      "Substring found\n",
      "['hello', 'world']\n",
      "['hello']\n",
      "['123']\n"
     ]
    }
   ],
   "source": [
    "import re\n",
    "\n",
    "# use regex to find a substring\n",
    "string = \"hello, world\"\n",
    "substring = \"world\"\n",
    "if re.search(substring, string):\n",
    "    print(\"Substring found\")\n",
    "\n",
    "# use regex to find all substrings\n",
    "substrings = re.findall(r\"\\w+\", string)\n",
    "print(substrings)\n",
    "\n",
    "# use regex to find all words starting with a specific letter\n",
    "words = re.findall(r\"\\b[h]\\w+\", string)\n",
    "print(words)\n",
    "\n",
    "# use regex to find numbers in a string\n",
    "string = \"hello, 123\"\n",
    "numbers = re.findall(r\"\\d+\", string)\n",
    "print(numbers)"
   ]
  },
  {
   "cell_type": "code",
   "execution_count": 62,
   "metadata": {},
   "outputs": [
    {
     "name": "stdout",
     "output_type": "stream",
     "text": [
      "hi, 123\n",
      "['hello', '123']\n"
     ]
    }
   ],
   "source": [
    "# use regex to replace a substring\n",
    "new_string = re.sub(r\"hello\", \"hi\", string)\n",
    "print(new_string)\n",
    "\n",
    "# use regex to split a string\n",
    "words = re.split(r\"\\W+\", string)\n",
    "print(words)"
   ]
  },
  {
   "cell_type": "code",
   "execution_count": null,
   "metadata": {},
   "outputs": [],
   "source": [
    "# use regex to match a string\n",
    "match = re.match(r\"hello\", string)\n",
    "if match:\n",
    "    print(\"Match found\")\n",
    "\n",
    "# use regex to find all posibilities of a pattern\n",
    "string = \"avbdgfkjghjgkjiulkjlkjfgcgfcsrtdtfhjhkkhgfdfd\"\n",
    "pattern = \"[a-d]\"\n",
    "matches = re.findall(pattern, string)\n",
    "print(matches)\n",
    "\n",
    "pattern = \"[j][fg]\"\n",
    "matches = re.findall(pattern, string)\n",
    "print(matches)"
   ]
  },
  {
   "cell_type": "code",
   "execution_count": 18,
   "metadata": {},
   "outputs": [
    {
     "name": "stdout",
     "output_type": "stream",
     "text": [
      "Valid email\n"
     ]
    }
   ],
   "source": [
    "# validate an email address\n",
    "email = \"test@udistrital.edu.co\"\n",
    "pattern = r\"^[a-z][a-zA-Z0-9_.-]*@udistrital.edu.co$\"\n",
    "if re.match(pattern, email):\n",
    "    print(\"Valid email\")"
   ]
  }
 ],
 "metadata": {
  "kernelspec": {
   "display_name": "data_science_course",
   "language": "python",
   "name": "python3"
  },
  "language_info": {
   "codemirror_mode": {
    "name": "ipython",
    "version": 3
   },
   "file_extension": ".py",
   "mimetype": "text/x-python",
   "name": "python",
   "nbconvert_exporter": "python",
   "pygments_lexer": "ipython3",
   "version": "3.11.9"
  }
 },
 "nbformat": 4,
 "nbformat_minor": 2
}
