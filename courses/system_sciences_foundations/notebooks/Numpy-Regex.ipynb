{
 "cells": [
  {
   "cell_type": "code",
   "execution_count": null,
   "metadata": {},
   "outputs": [],
   "source": [
    "!pip install numpy\n",
    "!pip freeze"
   ]
  },
  {
   "cell_type": "markdown",
   "metadata": {},
   "source": [
    "# Numpy\n",
    "\n",
    "__Numpy__ is a _Python package_ that stands for ___Numerical Python___. It is a _library_ for the _Python_ programming language, adding support for large, _multi-dimensional arrays_ and _matrices_, along with a _large collection_ of high-level mathematical functions to operate on these _arrays_.\n",
    "\n",
    "__Numpy__ provides a powerful _N-dimensional_ array object, useful for performing mathematical and logical operations on arrays. It also has _functions_ for working in domain of _linear algebra_, _Fourier transform_, and _matrices_.\n",
    "\n",
    "By importing `numpy as np`, we can access all the functions and methods provided by the _numpy_ package using the `np` alias."
   ]
  },
  {
   "cell_type": "code",
   "execution_count": 3,
   "metadata": {},
   "outputs": [
    {
     "name": "stdout",
     "output_type": "stream",
     "text": [
      "[1 2 3 4 5]\n",
      "[10 12 14 16 18 20 22 24 26 28 30 32 34 36 38 40 42 44 46 48 50]\n",
      "[0.         0.05263158 0.10526316 0.15789474 0.21052632 0.26315789\n",
      " 0.31578947 0.36842105 0.42105263 0.47368421 0.52631579 0.57894737\n",
      " 0.63157895 0.68421053 0.73684211 0.78947368 0.84210526 0.89473684\n",
      " 0.94736842 1.        ]\n",
      "[[0. 0. 0.]\n",
      " [0. 0. 0.]\n",
      " [0. 0. 0.]]\n",
      "float64\n"
     ]
    }
   ],
   "source": [
    "import numpy as np\n",
    "\n",
    "# create an array\n",
    "array = np.array([1, 2, 3, 4, 5])\n",
    "print(array)\n",
    "\n",
    "# create an array with range\n",
    "array = np.arange(10, 51, 2)\n",
    "print(array)\n",
    "\n",
    "# create an array with linspace\n",
    "array = np.linspace(0, 1, 20)\n",
    "print(array)\n",
    "\n",
    "# create a matrix of zeros\n",
    "zeros = np.zeros((3, 3))\n",
    "print(zeros)\n",
    "\n",
    "# data type\n",
    "dtype = array.dtype\n",
    "print(dtype)"
   ]
  },
  {
   "cell_type": "code",
   "execution_count": null,
   "metadata": {},
   "outputs": [],
   "source": [
    "# get shape of array\n",
    "shape = array.shape\n",
    "\n",
    "# get shape of matrix\n",
    "shape = zeros.shape\n",
    "\n",
    "# get number of dimensions of array\n",
    "dimensions = array.ndim\n",
    "\n",
    "# get number of dimensions of matrix\n",
    "dimensions = zeros.ndim"
   ]
  },
  {
   "cell_type": "code",
   "execution_count": 26,
   "metadata": {},
   "outputs": [],
   "source": [
    "# get number of elements in array\n",
    "length = array.size\n",
    "\n",
    "# get element by index\n",
    "element_array = array[3]\n",
    "element_matrix = zeros[1, 1]"
   ]
  },
  {
   "cell_type": "code",
   "execution_count": 4,
   "metadata": {},
   "outputs": [
    {
     "name": "stdout",
     "output_type": "stream",
     "text": [
      "[0.         0.05263158 0.10526316 0.15789474 0.21052632 0.26315789\n",
      " 0.31578947 0.36842105 0.42105263 0.47368421 0.52631579 0.57894737\n",
      " 0.63157895 0.68421053 0.73684211 0.78947368 0.84210526 0.89473684\n",
      " 0.94736842 1.        ] 10.0 0.5 0.30348848933344197 0.09210526315789473 0.0 1.0\n"
     ]
    }
   ],
   "source": [
    "# descriptive statistics\n",
    "\n",
    "# get sum of array\n",
    "sum = array.sum()\n",
    "\n",
    "# get mean of array\n",
    "mean = array.mean()\n",
    "\n",
    "# get standard deviation of array\n",
    "std = array.std()\n",
    "\n",
    "# get variance of array\n",
    "var = array.var()\n",
    "\n",
    "# get min of array\n",
    "min = array.min()\n",
    "\n",
    "# get max of array\n",
    "max = array.max()\n",
    "\n",
    "print(array, sum, mean, std, var, min, max)"
   ]
  },
  {
   "cell_type": "code",
   "execution_count": 5,
   "metadata": {},
   "outputs": [
    {
     "name": "stdout",
     "output_type": "stream",
     "text": [
      "[[2 3]\n",
      " [5 6]]\n",
      "[[  1 100   3]\n",
      " [  4   5   6]\n",
      " [  7   8   9]]\n"
     ]
    }
   ],
   "source": [
    "# slice a matrix\n",
    "matrix = np.array([[1, 2, 3], [4, 5, 6], [7, 8, 9]])\n",
    "slice = matrix[:2, 1:]\n",
    "print(slice)\n",
    "\n",
    "# is the slice by reference or by value?\n",
    "slice[0, 0] = 100\n",
    "print(matrix)"
   ]
  },
  {
   "cell_type": "markdown",
   "metadata": {},
   "source": [
    "## Linear Algebra with Numpy\n",
    "\n",
    "_Numpy_ is a powerful _Python_ package that provides support for _linear algebra_ operations. It allows us to perform various mathematical operations on _arrays_ and _matrices_ efficiently.\n",
    "\n",
    "With __Numpy__, we can easily solve _linear algebra_ problems such as finding solutions to systems of linear equations, calculating matrix determinants, eigenvalues, eigenvectors, and much more."
   ]
  },
  {
   "cell_type": "markdown",
   "metadata": {},
   "source": [
    "# "
   ]
  },
  {
   "cell_type": "code",
   "execution_count": 5,
   "metadata": {},
   "outputs": [
    {
     "name": "stdout",
     "output_type": "stream",
     "text": [
      "[0.42857143 0.14285714]\n"
     ]
    }
   ],
   "source": [
    "# solve a system of linear equations\n",
    "equations = np.array([[2, 1], [3, 5]])\n",
    "answers = np.array([1, 2])\n",
    "solution = np.linalg.solve(equations, answers)\n",
    "\n",
    "# to solve a system of linear equations, the number of equations must equal the number of unknowns\n",
    "print(solution)"
   ]
  },
  {
   "cell_type": "code",
   "execution_count": 6,
   "metadata": {},
   "outputs": [
    {
     "name": "stdout",
     "output_type": "stream",
     "text": [
      "[[-2.   1. ]\n",
      " [ 1.5 -0.5]]\n"
     ]
    }
   ],
   "source": [
    "# get the inverse of a matrix\n",
    "matrix = np.array([[1, 2], [3, 4]])\n",
    "inverse = np.linalg.inv(matrix)\n",
    "print(inverse)\n",
    "\n",
    "# to get the inverse of a matrix, \n",
    "# the matrix must be square (number of rows = number of columns)\n",
    "# the matrix must be non-singular (determinant is not zero)\n",
    "# Inversa = [[d/ad-bc, -b/ad-bc], [-c/ad-bc, a/ad-bc]]"
   ]
  },
  {
   "cell_type": "code",
   "execution_count": 29,
   "metadata": {},
   "outputs": [
    {
     "name": "stdout",
     "output_type": "stream",
     "text": [
      "-2.0000000000000004\n"
     ]
    }
   ],
   "source": [
    "# get the determinant of a matrix\n",
    "determinat = np.linalg.det(matrix)\n",
    "print(determinat)\n",
    "\n",
    "# the determinant of a matrix is a scalar value  calculated with next formula\n",
    "# det(A) = ad - bc"
   ]
  },
  {
   "cell_type": "code",
   "execution_count": 7,
   "metadata": {},
   "outputs": [
    {
     "name": "stdout",
     "output_type": "stream",
     "text": [
      "32\n"
     ]
    }
   ],
   "source": [
    "# get the dot product of two arrays\n",
    "array1 = np.array([1, 2, 3])\n",
    "array2 = np.array([4, 5, 6])\n",
    "dot = np.dot(array1, array2)\n",
    "print(dot)\n",
    "# dot = 1*4 + 2*5 + 3*6"
   ]
  },
  {
   "cell_type": "code",
   "execution_count": 8,
   "metadata": {},
   "outputs": [
    {
     "name": "stdout",
     "output_type": "stream",
     "text": [
      "[-3  6 -3]\n"
     ]
    }
   ],
   "source": [
    "# get the cross product of two arrays\n",
    "cross = np.cross(array1, array2)\n",
    "print(cross)\n",
    "# cross = [2*6-3*5, 3*4-1*6, 1*5-2*4]"
   ]
  },
  {
   "cell_type": "code",
   "execution_count": 32,
   "metadata": {},
   "outputs": [
    {
     "name": "stdout",
     "output_type": "stream",
     "text": [
      "3.7416573867739413\n"
     ]
    }
   ],
   "source": [
    "# get the norm of an array\n",
    "norm = np.linalg.norm(array1)\n",
    "print(norm)\n",
    "# norm = sqrt(1^2 + 2^2 + 3^2)"
   ]
  },
  {
   "cell_type": "code",
   "execution_count": 9,
   "metadata": {},
   "outputs": [
    {
     "name": "stdout",
     "output_type": "stream",
     "text": [
      "[-0.37228132  5.37228132] /n\n",
      "[[-0.82456484 -0.41597356]\n",
      " [ 0.56576746 -0.90937671]]\n"
     ]
    }
   ],
   "source": [
    "# get the eigenvalues and eigenvectors of a matrix\n",
    "eigenvalues, eigenvectors = np.linalg.eig(matrix)\n",
    "print(eigenvalues, \"/n\")\n",
    "print(eigenvectors)\n",
    "# the eigenvalues of a matrix are the values that satisfy the equation det(A - λI) = 0\n",
    "# the eigenvectors of a matrix are the vectors that satisfy the equation A*v = λ*v\n",
    "\n",
    "# eigenvectors are used in principal component analysis (PCA) to reduce the dimensionality of data  "
   ]
  },
  {
   "cell_type": "markdown",
   "metadata": {},
   "source": [
    "## Vectorization\n",
    "\n",
    "__Vectorization__ is a technique in computer programming that allows us to perform operations on _entire arrays or matrices_ instead of looping through each element individually. This approach leverages the power of optimized, low-level operations provided by libraries like __NumPy__.\n",
    "\n",
    "By using _vectorized operations_, we can significantly improve the _performance_ of our code, as it takes advantage of parallel processing capabilities of modern _CPUs_. Instead of writing explicit loops, we can express our computations as _mathematical expressions_ on arrays, making our code more concise and readable.\n",
    "\n",
    "For example, instead of iterating over each element of an array to calculate the square root, we can simply apply the `np.sqrt()` function to the _entire array_. This not only simplifies the code but also improves its efficiency.\n",
    "\n",
    "In addition to arithmetic operations, __vectorization__ also enables us to perform logical operations, mathematical functions, and other operations on arrays and matrices. This makes it a powerful tool for _scientific computing_, _data analysis_, and _machine learning_ tasks.\n",
    "\n",
    "Overall, __vectorization__ is a fundamental concept in array programming that allows us to write efficient and concise code by operating on entire arrays or matrices at once. It is a key technique to leverage the full potential of libraries like __NumPy__ and optimize our computations."
   ]
  },
  {
   "cell_type": "code",
   "execution_count": 1,
   "metadata": {},
   "outputs": [
    {
     "name": "stdout",
     "output_type": "stream",
     "text": [
      "Requirement already satisfied: memory_profiler in /Users/casierrav/.pyenv/versions/3.13.3/envs/ud/lib/python3.13/site-packages (0.61.0)\n",
      "Requirement already satisfied: psutil in /Users/casierrav/.pyenv/versions/3.13.3/envs/ud/lib/python3.13/site-packages (from memory_profiler) (7.0.0)\n",
      "\n",
      "\u001b[1m[\u001b[0m\u001b[34;49mnotice\u001b[0m\u001b[1;39;49m]\u001b[0m\u001b[39;49m A new release of pip is available: \u001b[0m\u001b[31;49m25.0.1\u001b[0m\u001b[39;49m -> \u001b[0m\u001b[32;49m25.1.1\u001b[0m\n",
      "\u001b[1m[\u001b[0m\u001b[34;49mnotice\u001b[0m\u001b[1;39;49m]\u001b[0m\u001b[39;49m To update, run: \u001b[0m\u001b[32;49mpip install --upgrade pip\u001b[0m\n"
     ]
    }
   ],
   "source": [
    "!pip install memory_profiler\n",
    "import memory_profiler\n",
    "import time\n",
    "\n",
    "# decorator to time a function\n",
    "def time_function(func):\n",
    "    def wrapper(*args, **kwargs):\n",
    "        start = time.time()\n",
    "        result = func(*args, **kwargs)\n",
    "        end = time.time()\n",
    "        print(f\"Time taken: {end - start}\")\n",
    "        return result\n",
    "    return wrapper\n",
    "\n",
    "# decorator to get memory usage of a function\n",
    "def memory_function(func):\n",
    "    def wrapper(*args, **kwargs):\n",
    "        result = memory_profiler.memory_usage((func, args, kwargs))\n",
    "        print(f\"Memory used: {result[0]}\")\n",
    "        return result\n",
    "    return wrapper"
   ]
  },
  {
   "cell_type": "code",
   "execution_count": 3,
   "metadata": {},
   "outputs": [
    {
     "name": "stdout",
     "output_type": "stream",
     "text": [
      "Shape: (10000, 10000)\n",
      "Vectorized\n",
      "Memory used: 842.93359375\n",
      "Time taken: 4.553240060806274\n",
      "Loop\n"
     ]
    },
    {
     "name": "stderr",
     "output_type": "stream",
     "text": [
      "Process MemTimer-2:\n",
      "Traceback (most recent call last):\n",
      "  File \"/Users/casierrav/.pyenv/versions/3.13.3/lib/python3.13/multiprocessing/process.py\", line 313, in _bootstrap\n",
      "    self.run()\n",
      "    ~~~~~~~~^^\n",
      "  File \"/Users/casierrav/.pyenv/versions/ud/lib/python3.13/site-packages/memory_profiler.py\", line 262, in run\n",
      "    stop = self.pipe.poll(self.interval)\n",
      "  File \"/Users/casierrav/.pyenv/versions/3.13.3/lib/python3.13/multiprocessing/connection.py\", line 257, in poll\n",
      "    return self._poll(timeout)\n",
      "           ~~~~~~~~~~^^^^^^^^^\n",
      "  File \"/Users/casierrav/.pyenv/versions/3.13.3/lib/python3.13/multiprocessing/connection.py\", line 440, in _poll\n",
      "    r = wait([self], timeout)\n",
      "  File \"/Users/casierrav/.pyenv/versions/3.13.3/lib/python3.13/multiprocessing/connection.py\", line 1148, in wait\n",
      "    ready = selector.select(timeout)\n",
      "  File \"/Users/casierrav/.pyenv/versions/3.13.3/lib/python3.13/selectors.py\", line 398, in select\n",
      "    fd_event_list = self._selector.poll(timeout)\n",
      "KeyboardInterrupt\n"
     ]
    },
    {
     "ename": "KeyboardInterrupt",
     "evalue": "",
     "output_type": "error",
     "traceback": [
      "\u001b[31m---------------------------------------------------------------------------\u001b[39m",
      "\u001b[31mKeyboardInterrupt\u001b[39m                         Traceback (most recent call last)",
      "\u001b[36mCell\u001b[39m\u001b[36m \u001b[39m\u001b[32mIn[3]\u001b[39m\u001b[32m, line 24\u001b[39m\n\u001b[32m     22\u001b[39m t = sqrt_vectorized(matrix)\n\u001b[32m     23\u001b[39m \u001b[38;5;28mprint\u001b[39m(\u001b[33m\"\u001b[39m\u001b[33mLoop\u001b[39m\u001b[33m\"\u001b[39m)\n\u001b[32m---> \u001b[39m\u001b[32m24\u001b[39m t = \u001b[43msqrt_loop\u001b[49m\u001b[43m(\u001b[49m\u001b[43mmatrix\u001b[49m\u001b[43m)\u001b[49m\n",
      "\u001b[36mCell\u001b[39m\u001b[36m \u001b[39m\u001b[32mIn[1]\u001b[39m\u001b[32m, line 9\u001b[39m, in \u001b[36mtime_function.<locals>.wrapper\u001b[39m\u001b[34m(*args, **kwargs)\u001b[39m\n\u001b[32m      7\u001b[39m \u001b[38;5;28;01mdef\u001b[39;00m\u001b[38;5;250m \u001b[39m\u001b[34mwrapper\u001b[39m(*args, **kwargs):\n\u001b[32m      8\u001b[39m     start = time.time()\n\u001b[32m----> \u001b[39m\u001b[32m9\u001b[39m     result = \u001b[43mfunc\u001b[49m\u001b[43m(\u001b[49m\u001b[43m*\u001b[49m\u001b[43margs\u001b[49m\u001b[43m,\u001b[49m\u001b[43m \u001b[49m\u001b[43m*\u001b[49m\u001b[43m*\u001b[49m\u001b[43mkwargs\u001b[49m\u001b[43m)\u001b[49m\n\u001b[32m     10\u001b[39m     end = time.time()\n\u001b[32m     11\u001b[39m     \u001b[38;5;28mprint\u001b[39m(\u001b[33mf\u001b[39m\u001b[33m\"\u001b[39m\u001b[33mTime taken: \u001b[39m\u001b[38;5;132;01m{\u001b[39;00mend\u001b[38;5;250m \u001b[39m-\u001b[38;5;250m \u001b[39mstart\u001b[38;5;132;01m}\u001b[39;00m\u001b[33m\"\u001b[39m)\n",
      "\u001b[36mCell\u001b[39m\u001b[36m \u001b[39m\u001b[32mIn[1]\u001b[39m\u001b[32m, line 18\u001b[39m, in \u001b[36mmemory_function.<locals>.wrapper\u001b[39m\u001b[34m(*args, **kwargs)\u001b[39m\n\u001b[32m     17\u001b[39m \u001b[38;5;28;01mdef\u001b[39;00m\u001b[38;5;250m \u001b[39m\u001b[34mwrapper\u001b[39m(*args, **kwargs):\n\u001b[32m---> \u001b[39m\u001b[32m18\u001b[39m     result = \u001b[43mmemory_profiler\u001b[49m\u001b[43m.\u001b[49m\u001b[43mmemory_usage\u001b[49m\u001b[43m(\u001b[49m\u001b[43m(\u001b[49m\u001b[43mfunc\u001b[49m\u001b[43m,\u001b[49m\u001b[43m \u001b[49m\u001b[43margs\u001b[49m\u001b[43m,\u001b[49m\u001b[43m \u001b[49m\u001b[43mkwargs\u001b[49m\u001b[43m)\u001b[49m\u001b[43m)\u001b[49m\n\u001b[32m     19\u001b[39m     \u001b[38;5;28mprint\u001b[39m(\u001b[33mf\u001b[39m\u001b[33m\"\u001b[39m\u001b[33mMemory used: \u001b[39m\u001b[38;5;132;01m{\u001b[39;00mresult[\u001b[32m0\u001b[39m]\u001b[38;5;132;01m}\u001b[39;00m\u001b[33m\"\u001b[39m)\n\u001b[32m     20\u001b[39m     \u001b[38;5;28;01mreturn\u001b[39;00m result\n",
      "\u001b[36mFile \u001b[39m\u001b[32m~/.pyenv/versions/ud/lib/python3.13/site-packages/memory_profiler.py:379\u001b[39m, in \u001b[36mmemory_usage\u001b[39m\u001b[34m(proc, interval, timeout, timestamps, include_children, multiprocess, max_usage, retval, stream, backend, max_iterations)\u001b[39m\n\u001b[32m    376\u001b[39m \u001b[38;5;66;03m# When there is an exception in the \"proc\" - the (spawned) monitoring processes don't get killed.\u001b[39;00m\n\u001b[32m    377\u001b[39m \u001b[38;5;66;03m# Therefore, the whole process hangs indefinitely. Here, we are ensuring that the process gets killed!\u001b[39;00m\n\u001b[32m    378\u001b[39m \u001b[38;5;28;01mtry\u001b[39;00m:\n\u001b[32m--> \u001b[39m\u001b[32m379\u001b[39m     returned = \u001b[43mf\u001b[49m\u001b[43m(\u001b[49m\u001b[43m*\u001b[49m\u001b[43margs\u001b[49m\u001b[43m,\u001b[49m\u001b[43m \u001b[49m\u001b[43m*\u001b[49m\u001b[43m*\u001b[49m\u001b[43mkw\u001b[49m\u001b[43m)\u001b[49m\n\u001b[32m    380\u001b[39m     parent_conn.send(\u001b[32m0\u001b[39m)  \u001b[38;5;66;03m# finish timing\u001b[39;00m\n\u001b[32m    381\u001b[39m     ret = parent_conn.recv()\n",
      "\u001b[36mCell\u001b[39m\u001b[36m \u001b[39m\u001b[32mIn[3]\u001b[39m\u001b[32m, line 15\u001b[39m, in \u001b[36msqrt_loop\u001b[39m\u001b[34m(matrix)\u001b[39m\n\u001b[32m     13\u001b[39m \u001b[38;5;28;01mfor\u001b[39;00m i \u001b[38;5;129;01min\u001b[39;00m \u001b[38;5;28mrange\u001b[39m(matrix.shape[\u001b[32m0\u001b[39m]):\n\u001b[32m     14\u001b[39m     \u001b[38;5;28;01mfor\u001b[39;00m j \u001b[38;5;129;01min\u001b[39;00m \u001b[38;5;28mrange\u001b[39m(matrix.shape[\u001b[32m1\u001b[39m]):\n\u001b[32m---> \u001b[39m\u001b[32m15\u001b[39m         result[i, j] = np.sqrt(matrix[i, j])\n\u001b[32m     16\u001b[39m \u001b[38;5;28;01mreturn\u001b[39;00m result\n",
      "\u001b[31mKeyboardInterrupt\u001b[39m: "
     ]
    }
   ],
   "source": [
    "import numpy as np\n",
    "# calculare the square root of a matrix with vertorization\n",
    "@time_function\n",
    "@memory_function\n",
    "def sqrt_vectorized(matrix):\n",
    "    return np.sqrt(matrix)\n",
    "\n",
    "# calculate the square root of a matrix with a loop\n",
    "@time_function\n",
    "@memory_function\n",
    "def sqrt_loop(matrix):\n",
    "    result = np.zeros_like(matrix)\n",
    "    for i in range(matrix.shape[0]):\n",
    "        for j in range(matrix.shape[1]):\n",
    "            result[i, j] = np.sqrt(matrix[i, j])\n",
    "    return result\n",
    "\n",
    "size = 10000\n",
    "matrix = np.random.rand(size, size)\n",
    "print(\"Shape:\", matrix.shape)\n",
    "print(\"Vectorized\")\n",
    "t = sqrt_vectorized(matrix)\n",
    "print(\"Loop\")\n",
    "t = sqrt_loop(matrix)"
   ]
  },
  {
   "cell_type": "code",
   "execution_count": null,
   "metadata": {},
   "outputs": [],
   "source": [
    "# calculate the sum of two arrays witn vectorization\n",
    "@time_function\n",
    "@memory_function\n",
    "def sum_vectorized(array1, array2):\n",
    "    return array1 + array2\n",
    "\n",
    "# calculate the sum of two arrays with a loop\n",
    "@time_function\n",
    "@memory_function\n",
    "def sum_loop(array1, array2):\n",
    "    result = np.zeros_like(array1)\n",
    "    for i in range(array1.shape[0]):\n",
    "        result[i] = array1[i] + array2[i]\n",
    "    return result\n",
    "\n",
    "size = 10000000\n",
    "array1 = np.random.rand(size)\n",
    "array2 = np.random.rand(size)\n",
    "print(\"Shape:\", array1.shape)\n",
    "print(\"Vectorized\")\n",
    "t = sum_vectorized(array1, array2)\n",
    "print(\"Loop\")\n",
    "t = sum_loop(array1, array2)"
   ]
  },
  {
   "cell_type": "code",
   "execution_count": null,
   "metadata": {},
   "outputs": [],
   "source": [
    "# calculate broadcasted multiplication of and array and a scalar with vectorization\n",
    "@time_function\n",
    "@memory_function\n",
    "def broadcasted_vectorized(array, scalar):\n",
    "    return array * scalar\n",
    "\n",
    "# calculate broadcasted multiplication of and array and a scalar with a loop\n",
    "@time_function\n",
    "@memory_function\n",
    "def broadcasted_loop(array, scalar):\n",
    "    result = np.zeros_like(array)\n",
    "    for i in range(array.shape[0]):\n",
    "        result[i] = array[i] * scalar\n",
    "    return result\n",
    "\n",
    "size = 10000000\n",
    "array = np.random.rand(size)\n",
    "scalar = np.random.rand(1)\n",
    "print(\"Shape:\", array.shape)\n",
    "print(\"Vectorized\")\n",
    "t = broadcasted_vectorized(array, scalar)\n",
    "print(\"Loop\")\n",
    "t = broadcasted_loop(array, scalar)"
   ]
  },
  {
   "cell_type": "code",
   "execution_count": null,
   "metadata": {},
   "outputs": [],
   "source": [
    "# filter an array with vectorization\n",
    "@time_function\n",
    "@memory_function\n",
    "def is_even(x):\n",
    "    return x % 2 == 0\n",
    "\n",
    "# filter an array with a loop\n",
    "@time_function\n",
    "@memory_function\n",
    "def is_even_loop(array):\n",
    "    result = []\n",
    "    for x in array:\n",
    "        if x % 2 == 0:\n",
    "            result.append(x)\n",
    "    return result\n",
    "\n",
    "# filter an array with a lambda function\n",
    "@time_function\n",
    "@memory_function\n",
    "def is_even_lambda(array):\n",
    "    return list(filter(lambda x: x % 2 == 0, array))\n",
    "\n",
    "size = 10000000\n",
    "array = np.random.randint(0, 100, size)\n",
    "print(\"Shape:\", array.shape)\n",
    "print(\"Vectorized\")\n",
    "t = is_even(array)\n",
    "print(\"Loop\")\n",
    "t = is_even_loop(array)\n",
    "print(\"Lambda\")\n",
    "t = is_even_lambda(array)"
   ]
  },
  {
   "cell_type": "markdown",
   "metadata": {},
   "source": [
    "# Strings\n",
    "\n",
    "A __string__ is a _sequence of characters_ enclosed in single quotes ( `''`) or double quotes (`\"\"`).\n",
    "\n",
    "In __Python__, strings are _immutable_, which means they cannot be changed once created.\n",
    "\n",
    "__Strings__ can be _concatenated_ using the `+` operator, and _repeated_ using the `*` operator.\n",
    "\n",
    "Various _string_ methods are available to perform operations like finding the _length_, _converting case_, _splitting_, and _joining_ strings."
   ]
  },
  {
   "cell_type": "code",
   "execution_count": null,
   "metadata": {},
   "outputs": [],
   "source": [
    "# compare strings using conditionals\n",
    "string1 = \"hello\"\n",
    "string2 = \"world\"\n",
    "\n",
    "if string1 == string2:\n",
    "    print(\"Equal\")\n",
    "if string1 != string2:\n",
    "    print(\"Not equal\")\n",
    "if string1 < string2:\n",
    "    print(\"Less than\")"
   ]
  },
  {
   "cell_type": "code",
   "execution_count": null,
   "metadata": {},
   "outputs": [],
   "source": [
    "# check if a substring is in a string\n",
    "substring = \"ell\"\n",
    "if substring in string1:\n",
    "    print(\"Substring found\")"
   ]
  },
  {
   "cell_type": "code",
   "execution_count": null,
   "metadata": {},
   "outputs": [],
   "source": [
    "# traverse a string with a loop\n",
    "for char in string1:\n",
    "    print(char)"
   ]
  },
  {
   "cell_type": "code",
   "execution_count": null,
   "metadata": {},
   "outputs": [],
   "source": [
    "# get length of a string\n",
    "\n",
    "\n",
    "# concatenate strings\n",
    "\n",
    "\n",
    "# repeat a string\n"
   ]
  },
  {
   "cell_type": "code",
   "execution_count": null,
   "metadata": {},
   "outputs": [],
   "source": [
    "# format using format method\n",
    "print(\"Hello, {}!\".format(\"world\"))\n",
    "\n",
    "# format using f-strings\n",
    "print(f\"Hello, {string2}!\")"
   ]
  },
  {
   "cell_type": "code",
   "execution_count": null,
   "metadata": {},
   "outputs": [],
   "source": [
    "# split a string\n",
    "\n",
    "\n",
    "# join a list of strings\n"
   ]
  },
  {
   "cell_type": "code",
   "execution_count": null,
   "metadata": {},
   "outputs": [],
   "source": [
    "# replace a substring\n",
    "\n",
    "\n",
    "# find the index of a substring\n",
    "index = string1.find(substring)\n",
    "\n",
    "# count occurrences of a substring\n",
    "count = string1.count(substring)"
   ]
  },
  {
   "cell_type": "markdown",
   "metadata": {},
   "source": [
    "# DateTimes\n",
    "\n",
    "__Datetimes__ in _Python_ are objects that represent _dates_ and _times_. They are used to perform various operations related to dates and times, such as _calculating time differences_, _formatting dates_, and _parsing strings_ into datetime objects.\n"
   ]
  },
  {
   "cell_type": "code",
   "execution_count": null,
   "metadata": {},
   "outputs": [],
   "source": [
    "from datetime import datetime\n",
    "\n",
    "# Create a datetime object representing the current date and time\n",
    "current = datetime.now()\n",
    "print(current)\n",
    "\n",
    "# Create a date object representing a specific date\n",
    "date_var = datetime(2020, 12, 31)\n",
    "\n",
    "# Create a time object representing a specific time\n",
    "time_var = datetime.time(datetime.now())\n",
    "\n",
    "# Get the current datetime with a specific timezone\n",
    "from pytz import timezone\n",
    "import pytz\n",
    "colombia = timezone('America/Bogota')\n",
    "current_colombia = datetime.now(colombia)\n",
    "print(current_colombia)"
   ]
  },
  {
   "cell_type": "code",
   "execution_count": null,
   "metadata": {},
   "outputs": [],
   "source": [
    "# Use strftime to format a date and time\n",
    "formated = current.strftime(\"%Y-%m-%d %H:%M:%S\")\n",
    "print(formated)\n",
    "formated = current.strftime(\"%A, %B %d, %Y\")\n",
    "print(formated)\n",
    "\n",
    "# Use strptime to parse a date and time string\n",
    "date_string = \"2024-06-22\"\n",
    "date = datetime.strptime(date_string, \"%Y-%m-%d\")\n",
    "print(date)"
   ]
  },
  {
   "cell_type": "code",
   "execution_count": null,
   "metadata": {},
   "outputs": [],
   "source": [
    "from datetime import timedelta\n",
    "\n",
    "# Timedelta object representing the difference between two dates and times\n",
    "tomorrow = current + timedelta(days=1)\n",
    "print(tomorrow)"
   ]
  },
  {
   "cell_type": "markdown",
   "metadata": {},
   "source": [
    "# Regular Expressions\n",
    "\n",
    "__Regular expressions__, also known as __regex__, are powerful tools for _pattern matching_ and _text manipulation_ in Python. They allow you to search, match, and manipulate strings based on specific __patterns__.\n",
    "\n",
    "In _Python_, regular expressions are supported through the `re` module. This module provides functions and methods for working with regular expressions.\n",
    "\n",
    "To use __regular expressions__ in _Python_, you need to import the `re` module. Once imported, you can use various functions and methods provided by the module to perform operations such as _pattern matching_, _searching_, _replacing_, and _splitting strings_.\n",
    "\n",
    "__Regular expressions__ in _Python_ are defined using a combination of special characters and metacharacters that represent _patterns_. "
   ]
  },
  {
   "cell_type": "code",
   "execution_count": null,
   "metadata": {},
   "outputs": [
    {
     "name": "stdout",
     "output_type": "stream",
     "text": [
      "Substring found\n",
      "['hello', 'world']\n",
      "['hello']\n",
      "['123']\n"
     ]
    }
   ],
   "source": [
    "import re\n",
    "\n",
    "# use regex to find a substring\n",
    "string = \"hello, world\"\n",
    "substring = \"world\"\n",
    "if re.search(substring, string):\n",
    "    print(\"Substring found\")\n",
    "\n",
    "# use regex to find all substrings\n",
    "substrings = re.findall(r\"\\w+\", string)\n",
    "print(substrings)\n",
    "\n",
    "# use regex to find all words starting with a specific letter\n",
    "words = re.findall(r\"\\b[h]\\w+\", string)\n",
    "print(words)\n",
    "\n",
    "# use regex to find numbers in a string\n",
    "string = \"hello, 123\"\n",
    "numbers = re.findall(r\"\\d+\", string)\n",
    "print(numbers)"
   ]
  },
  {
   "cell_type": "code",
   "execution_count": 62,
   "metadata": {},
   "outputs": [
    {
     "name": "stdout",
     "output_type": "stream",
     "text": [
      "hi, 123\n",
      "['hello', '123']\n"
     ]
    }
   ],
   "source": [
    "# use regex to replace a substring\n",
    "new_string = re.sub(r\"hello\", \"hi\", string)\n",
    "print(new_string)\n",
    "\n",
    "# use regex to split a string\n",
    "words = re.split(r\"\\W+\", string)\n",
    "print(words)"
   ]
  },
  {
   "cell_type": "code",
   "execution_count": null,
   "metadata": {},
   "outputs": [],
   "source": [
    "# use regex to match a string\n",
    "match = re.match(r\"hello\", string)\n",
    "if match:\n",
    "    print(\"Match found\")\n",
    "\n",
    "# use regex to find all posibilities of a pattern\n",
    "string = \"avbdgfkjghjgkjiulkjlkjfgcgfcsrtdtfhjhkkhgfdfd\"\n",
    "pattern = \"[a-d]\"\n",
    "matches = re.findall(pattern, string)\n",
    "print(matches)\n",
    "\n",
    "pattern = \"[j][fg]\"\n",
    "matches = re.findall(pattern, string)\n",
    "print(matches)"
   ]
  },
  {
   "cell_type": "code",
   "execution_count": 18,
   "metadata": {},
   "outputs": [
    {
     "name": "stdout",
     "output_type": "stream",
     "text": [
      "Valid email\n"
     ]
    }
   ],
   "source": [
    "# validate an email address\n",
    "email = \"test@udistrital.edu.co\"\n",
    "pattern = r\"^[a-z][a-zA-Z0-9_.-]*@udistrital.edu.co$\"\n",
    "if re.match(pattern, email):\n",
    "    print(\"Valid email\")"
   ]
  }
 ],
 "metadata": {
  "kernelspec": {
   "display_name": "ud",
   "language": "python",
   "name": "python3"
  },
  "language_info": {
   "codemirror_mode": {
    "name": "ipython",
    "version": 3
   },
   "file_extension": ".py",
   "mimetype": "text/x-python",
   "name": "python",
   "nbconvert_exporter": "python",
   "pygments_lexer": "ipython3",
   "version": "3.13.3"
  }
 },
 "nbformat": 4,
 "nbformat_minor": 2
}
