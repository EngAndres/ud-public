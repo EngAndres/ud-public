{
 "cells": [
  {
   "cell_type": "markdown",
   "metadata": {},
   "source": [
    "# Resources Management\n",
    "\n",
    "When you are developing software, is pretty important to think in resource consumption of your codes. In first instance, because oftenly you do not have infinite resources, or even enough resources to run some algorithms. secondly, because you need to save money, and codes with better performance and resources management will lead to reduce money spending."
   ]
  },
  {
   "cell_type": "markdown",
   "metadata": {},
   "source": [
    "## WriteRead Plain Text Files\n",
    "\n",
    "One of the most basic options is to use plain text files to save temporal information, or setup information (however, there is better formats for this purpose as _yaml_). "
   ]
  },
  {
   "cell_type": "code",
   "execution_count": 5,
   "metadata": {},
   "outputs": [
    {
     "name": "stdout",
     "output_type": "stream",
     "text": [
      "Content \"Hello, world!\" has been written to example.txt\n",
      "Content read from example.txt: Hello, world!\n"
     ]
    }
   ],
   "source": [
    "def write_to_file(file_path: str, content: str):\n",
    "    \"\"\"\n",
    "    This function is used to write in a typical plain text file.\n",
    "\n",
    "    Parameters:\n",
    "    - file_path (str): Path to save the file\n",
    "    - content (str): Content to be writen in the file\n",
    "    \"\"\"\n",
    "    # remember, w is for \"write\" grant\n",
    "    with open(file_path, 'w') as file:\n",
    "        file.write(content)\n",
    "\n",
    "def read_from_file(file_path: str) -> str:\n",
    "    \"\"\"\n",
    "    This function us used to read information from a plain text file.\n",
    "\n",
    "    Parameters:\n",
    "    - file_path: Path to the file to be read\n",
    "    \"\"\"\n",
    "    # remember, r is for \"read\" grant\n",
    "    with open(file_path, 'r') as file:\n",
    "        content = file.read()\n",
    "        return content\n",
    "\n",
    "# Example usage of write_to_file function\n",
    "file_path = 'example.txt'\n",
    "content = 'Hello, world!'\n",
    "write_to_file(file_path, content)\n",
    "print(f'Content \"{content}\" has been written to {file_path}')\n",
    "\n",
    "# Example usage of read_from_file function\n",
    "read_content = read_from_file(file_path)\n",
    "print(f'Content read from {file_path}: {read_content}')"
   ]
  },
  {
   "cell_type": "markdown",
   "metadata": {},
   "source": [
    "## Read/Write JSON Files\n",
    "\n",
    "Another typical format is __JSON__ (_JavaScript Object Notation_), a very common format used tointerchange information in web development and data science training. __JSON__ is a _key-value_ data structure, similar to a dictionary in _python_. "
   ]
  },
  {
   "cell_type": "code",
   "execution_count": 6,
   "metadata": {},
   "outputs": [
    {
     "name": "stdout",
     "output_type": "stream",
     "text": [
      "Data {'name': 'Alice', 'age': 25, 'gender': 'F'} has been written to data.json.\n",
      "\n",
      "Data read from data.json: {'name': 'Alice', 'age': 25, 'gender': 'F'}\n",
      "Type of data read from data.json: <class 'dict'>\n"
     ]
    }
   ],
   "source": [
    "# required python library to work with json. This one is built-in.\n",
    "import json\n",
    "\n",
    "def write_to_json(file_path, data):\n",
    "    \"\"\"\n",
    "    This function is used to write information into a JSON file.\n",
    "\n",
    "    Parameters:\n",
    "    - file_path (str): Path to save the file\n",
    "    - content (str): Content to be writen in the file\n",
    "    \"\"\"\n",
    "    # remember, w is for \"write\" grant\n",
    "    with open(file_path, 'w') as file:\n",
    "        json.dump(data, file)\n",
    "\n",
    "def read_from_json(file_path) -> dict:\n",
    "    \"\"\"\n",
    "    This function us used to read information from a JSON file.\n",
    "\n",
    "    Parameters:\n",
    "    - file_path: Path to the file to be read\n",
    "\n",
    "    Returns:\n",
    "    dict: information of the JSON file\n",
    "    \"\"\"\n",
    "    # remember, r is for \"read\" grant\n",
    "    with open(file_path, 'r') as file:\n",
    "        data = json.load(file)\n",
    "        return data\n",
    "\n",
    "# Example usage of write_to_json function\n",
    "file_path = 'data.json'\n",
    "data = {'name': 'Alice', 'age': 25, 'gender': 'F'}\n",
    "write_to_json(file_path, data)\n",
    "print(f'Data {data} has been written to {file_path}.\\n')\n",
    "\n",
    "# Example usage of read_from_json function\n",
    "read_data = read_from_json(file_path)\n",
    "print(f'Data read from {file_path}: {read_data}')\n",
    "print(f'Type of data read from {file_path}: {type(read_data)}')\n"
   ]
  },
  {
   "cell_type": "markdown",
   "metadata": {},
   "source": [
    "## Read/Write Pickle Objects\n",
    "\n",
    "_Pickling_ is the process to sreralize an object in _python_, it means to convert an object to a bytes data structure. It helps to reduce the size of the object, for example if you want to share its information.\n",
    "\n"
   ]
  },
  {
   "cell_type": "code",
   "execution_count": 7,
   "metadata": {},
   "outputs": [
    {
     "name": "stdout",
     "output_type": "stream",
     "text": [
      "Original object size: 184 bytes\n",
      "Pickle file size: 52 bytes\n",
      "Data {'name': 'Alice', 'age': 25, 'gender': 'F'} has been written to data.pickle.\n",
      "\n",
      "Data read from data.pickle: {'name': 'Alice', 'age': 25, 'gender': 'F'}.\n",
      "Type of data read from data.pickle: <class 'dict'>.\n"
     ]
    }
   ],
   "source": [
    "# import libraries to pickling and to get information from operative system\n",
    "import pickle\n",
    "import sys\n",
    "import os\n",
    "\n",
    "def get_size(obj: object) -> int:\n",
    "    \"\"\"\n",
    "    Get the size of an object in bytes.\n",
    "    \n",
    "    Parameters:\n",
    "    - obj: Object to be analized\n",
    "\n",
    "    Returns:\n",
    "    int: size in bytes of the object\n",
    "    \"\"\"\n",
    "    return sys.getsizeof(obj)\n",
    "\n",
    "def show_size(func):\n",
    "    \"\"\"Decorator to display the size of the original object and the pickle item.\"\"\"\n",
    "    def wrapper(*args, **kwargs):\n",
    "        original_size = get_size(args[1])\n",
    "        print(f\"Original object size: {original_size} bytes\")\n",
    "\n",
    "        result = func(*args, **kwargs)\n",
    "\n",
    "        pickle_size = os.path.getsize(args[0])\n",
    "        print(f\"Pickle file size: {pickle_size} bytes\")\n",
    "\n",
    "        return result\n",
    "    return wrapper\n",
    "\n",
    "@show_size\n",
    "def write_to_pickle(file_path, content):\n",
    "    \"\"\"\n",
    "    Write data to a pickle file.\n",
    "    \n",
    "    Parameters:\n",
    "    - file_path (str): Path to save the file\n",
    "    - content (str): Content to be writen in the file\n",
    "    \"\"\"\n",
    "    with open(file_path, 'wb') as file:\n",
    "        pickle.dump(content, file)\n",
    "\n",
    "def read_from_pickle(file_path):\n",
    "    \"\"\"Read data from a pickle file.\"\"\"\n",
    "    with open(file_path, 'rb') as file:\n",
    "        data = pickle.load(file)\n",
    "        return data\n",
    "\n",
    "# Example usage of write_to_pickle function\n",
    "file_path = 'data.pickle'\n",
    "data = {'name': 'Alice', 'age': 25, 'gender': 'F'}\n",
    "write_to_pickle(file_path, data)\n",
    "print(f'Data {data} has been written to {file_path}.\\n')\n",
    "\n",
    "# Example usage of read_from_pickle function\n",
    "read_data = read_from_pickle(file_path)\n",
    "print(f'Data read from {file_path}: {read_data}.')\n",
    "print(f'Type of data read from {file_path}: {type(read_data)}.')\n"
   ]
  },
  {
   "cell_type": "markdown",
   "metadata": {},
   "source": [
    "## Threads Use"
   ]
  },
  {
   "cell_type": "code",
   "execution_count": 4,
   "metadata": {},
   "outputs": [
    {
     "name": "stdout",
     "output_type": "stream",
     "text": [
      "Sequential tasks started\n",
      "Task 1 completed\n",
      "Task 2 completed\n",
      "Task 3 completed\n",
      "Sequential tasks completed\n",
      "Time spent: 6.0008039474487305 seconds\n",
      "Parallel tasks started\n",
      "Task 1 completed\n",
      "Task 2 completed\n",
      "Task 3 completed\n",
      "Parallel tasks completed\n",
      "Time spent: 3.0023438930511475 seconds\n"
     ]
    }
   ],
   "source": [
    "import time\n",
    "import threading\n",
    "\n",
    "def measure_time(func):\n",
    "    \"\"\"Decorator to measure the time spent on a function.\"\"\"\n",
    "    def wrapper(*args, **kwargs):\n",
    "        start_time = time.time()\n",
    "        result = func(*args, **kwargs)\n",
    "        end_time = time.time()\n",
    "        elapsed_time = end_time - start_time\n",
    "        print(f\"Time spent: {elapsed_time} seconds\")\n",
    "        return result\n",
    "    return wrapper\n",
    "\n",
    "@measure_time\n",
    "def sequential_tasks():\n",
    "    \"\"\"Perform sequential tasks with sleep.\"\"\"\n",
    "    print(\"Sequential tasks started\")\n",
    "    time.sleep(1)\n",
    "    print(\"Task 1 completed\")\n",
    "    time.sleep(2)\n",
    "    print(\"Task 2 completed\")\n",
    "    time.sleep(3)\n",
    "    print(\"Task 3 completed\")\n",
    "    print(\"Sequential tasks completed\")\n",
    "\n",
    "@measure_time\n",
    "def parallel_tasks():\n",
    "    \"\"\"Perform parallel tasks using threads.\"\"\"\n",
    "    print(\"Parallel tasks started\")\n",
    "\n",
    "    def task1():\n",
    "        time.sleep(1)\n",
    "        print(\"Task 1 completed\")\n",
    "\n",
    "    def task2():\n",
    "        time.sleep(2)\n",
    "        print(\"Task 2 completed\")\n",
    "\n",
    "    def task3():\n",
    "        time.sleep(3)\n",
    "        print(\"Task 3 completed\")\n",
    "\n",
    "    # Create threads for each task\n",
    "    thread1 = threading.Thread(target=task1)\n",
    "    thread2 = threading.Thread(target=task2)\n",
    "    thread3 = threading.Thread(target=task3)\n",
    "\n",
    "    # Start the threads\n",
    "    thread1.start()\n",
    "    thread2.start()\n",
    "    thread3.start()\n",
    "\n",
    "    # Wait for all threads to complete\n",
    "    thread1.join()\n",
    "    thread2.join()\n",
    "    thread3.join()\n",
    "\n",
    "    print(\"Parallel tasks completed\")\n",
    "\n",
    "# Run sequential tasks\n",
    "sequential_tasks()\n",
    "\n",
    "# Run parallel tasks\n",
    "parallel_tasks()\n"
   ]
  }
 ],
 "metadata": {
  "kernelspec": {
   "display_name": "udistrital",
   "language": "python",
   "name": "python3"
  },
  "language_info": {
   "codemirror_mode": {
    "name": "ipython",
    "version": 3
   },
   "file_extension": ".py",
   "mimetype": "text/x-python",
   "name": "python",
   "nbconvert_exporter": "python",
   "pygments_lexer": "ipython3",
   "version": "3.11.0rc2"
  }
 },
 "nbformat": 4,
 "nbformat_minor": 2
}
