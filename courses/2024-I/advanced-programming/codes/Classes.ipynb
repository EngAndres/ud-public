{
 "cells": [
  {
   "cell_type": "markdown",
   "metadata": {},
   "source": [
    "# Object-Oriented Design"
   ]
  },
  {
   "cell_type": "markdown",
   "metadata": {},
   "source": [
    "## Inheritance"
   ]
  },
  {
   "cell_type": "code",
   "execution_count": 2,
   "metadata": {},
   "outputs": [],
   "source": [
    "class Vehicle:\n",
    "\n",
    "    def __init__(self):\n",
    "        self.year = None\n",
    "\n",
    "    def stop(self):\n",
    "        print(\"Stop vehicle\")\n",
    "# ======================================\n",
    "class Car(Vehicle):\n",
    "    def stop(self):\n",
    "        print(\"Stop car!!\")\n",
    "        \n",
    "\n",
    "    def stop(self, type='emergency'):\n",
    "        print(f\"stop car! {type}\")\n",
    "        \n",
    "class Moto(Vehicle):\n",
    "    pass\n"
   ]
  },
  {
   "cell_type": "code",
   "execution_count": 3,
   "metadata": {},
   "outputs": [
    {
     "name": "stdout",
     "output_type": "stream",
     "text": [
      "Stop vehicle\n",
      "<class '__main__.Vehicle'> None === True\n",
      "stop car! emergency\n",
      "stop car! now\n",
      "<class '__main__.Car'> None None ----- True\n",
      "Stop vehicle\n",
      "<class '__main__.Moto'> None\n"
     ]
    }
   ],
   "source": [
    "vehicle = Vehicle()\n",
    "car = Car()\n",
    "moto = Moto()\n",
    "\n",
    "print(type(vehicle), vehicle.stop(), \"===\", isinstance(vehicle, Vehicle))\n",
    "print(type(car), car.stop(), car.stop(\"now\"), \"-----\", isinstance(car, Vehicle))\n",
    "print(type(moto), moto.stop())"
   ]
  },
  {
   "cell_type": "code",
   "execution_count": 9,
   "metadata": {},
   "outputs": [
    {
     "name": "stdout",
     "output_type": "stream",
     "text": [
      "vehicle is a Vehicle\n",
      "stop car! emergency\n"
     ]
    }
   ],
   "source": [
    "object_ = car\n",
    "if isinstance(object_, Vehicle):\n",
    "    print(\"vehicle is a Vehicle\")\n",
    "    object_.stop()"
   ]
  },
  {
   "cell_type": "markdown",
   "metadata": {},
   "source": [
    "## Encapsulation"
   ]
  },
  {
   "cell_type": "code",
   "execution_count": null,
   "metadata": {},
   "outputs": [],
   "source": [
    "import numpy as np\n",
    "\n",
    "class Student():\n",
    "    \n",
    "    def __init__(self, name):\n",
    "        self.__name = name\n",
    "        self.__average = None\n",
    "        self.__max_grade = 10 \n",
    "\n",
    "    def get_name(self, grant=False):\n",
    "        if grant == True:\n",
    "            return self.__name\n",
    "        else:\n",
    "            raise ValueError(\"You are not allowed to access the name.\")\n",
    "\n",
    "    def set_average(self, grades: list):\n",
    "        for grade in grades:\n",
    "            if grade < 0 or grade > self.__max_grade:\n",
    "                raise ValueError(\"Grade our of range.\"):\n",
    "\n",
    "        self.__average = np.mean(grades)\n",
    "\n",
    "    def win_scholarship(self, minimum_average: float) -> bool:\n",
    "        \"\"\"\n",
    "        This function returns True if the student has an average greater than or equal to minimum_average.\n",
    "        \n",
    "        Parameters:\n",
    "        - minimum_average (float): the minimum average required to win the scholarship.\n",
    "\n",
    "        Returns:\n",
    "        - bool: True if the student has an average greater than or equal to minimum_average, False otherwise.\n",
    "        \"\"\"\n",
    "        if self.__average >= minimum_average:\n",
    "            return True\n",
    "        else:\n",
    "            return False"
   ]
  },
  {
   "cell_type": "markdown",
   "metadata": {},
   "source": []
  }
 ],
 "metadata": {
  "kernelspec": {
   "display_name": "udistrital",
   "language": "python",
   "name": "python3"
  },
  "language_info": {
   "codemirror_mode": {
    "name": "ipython",
    "version": 3
   },
   "file_extension": ".py",
   "mimetype": "text/x-python",
   "name": "python",
   "nbconvert_exporter": "python",
   "pygments_lexer": "ipython3",
   "version": "3.11.0"
  }
 },
 "nbformat": 4,
 "nbformat_minor": 2
}
