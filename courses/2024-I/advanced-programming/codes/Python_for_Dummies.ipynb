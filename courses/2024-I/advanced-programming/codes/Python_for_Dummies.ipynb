{
 "cells": [
  {
   "cell_type": "markdown",
   "metadata": {},
   "source": [
    "# Python for Dummies\n",
    "\n",
    "This is a notebook to teach simple python sugar syntaxis.\n",
    "\n",
    "## Advanced Programming Course\n",
    "\n",
    "This is a _course_ where we want to learn Object-oriented design.\n",
    "\n",
    "In this ___course___, we want to use __iPython__ console:\n",
    "```[bash]\n",
    "pip install ipython\n",
    "```"
   ]
  },
  {
   "cell_type": "markdown",
   "metadata": {},
   "source": [
    "## Variables\n",
    "\n",
    "This section is about python variables and types."
   ]
  },
  {
   "cell_type": "code",
   "execution_count": 1,
   "metadata": {},
   "outputs": [
    {
     "name": "stdout",
     "output_type": "stream",
     "text": [
      "5 Hello False 3.14\n"
     ]
    }
   ],
   "source": [
    "# create some random variables\n",
    "x = 5\n",
    "y = \"Hello\"\n",
    "z = False\n",
    "w = 3.14\n",
    "\n",
    "print(x, y, z, w)"
   ]
  },
  {
   "cell_type": "code",
   "execution_count": 2,
   "metadata": {},
   "outputs": [
    {
     "name": "stdout",
     "output_type": "stream",
     "text": [
      "<class 'int'> <class 'str'> <class 'float'> <class 'bool'>\n"
     ]
    }
   ],
   "source": [
    "print(type(x), type(y), type(w), type(z))"
   ]
  },
  {
   "cell_type": "markdown",
   "metadata": {},
   "source": [
    "This is an example of native data types casting:"
   ]
  },
  {
   "cell_type": "code",
   "execution_count": 9,
   "metadata": {},
   "outputs": [
    {
     "name": "stdout",
     "output_type": "stream",
     "text": [
      "0 3\n",
      "120983109283 64\n"
     ]
    }
   ],
   "source": [
    "bool_2_integer = int(False)\n",
    "float_2_integer = int(w)\n",
    "print(bool_2_integer, float_2_integer)\n",
    "\n",
    "integer_2_string = str(120983109283)\n",
    "string_2_integer = int(\"64\")\n",
    "print(integer_2_string, string_2_integer)"
   ]
  },
  {
   "cell_type": "markdown",
   "metadata": {},
   "source": [
    "### String Management"
   ]
  },
  {
   "cell_type": "code",
   "execution_count": 15,
   "metadata": {},
   "outputs": [
    {
     "name": "stdout",
     "output_type": "stream",
     "text": [
      ", l o !\n",
      "Size of greeting is: 13, and the value is: Hello, World!\n"
     ]
    }
   ],
   "source": [
    "# string index start 0\n",
    "greeting = \"Hello, World!\"\n",
    "\n",
    "print(greeting[5], greeting[10], greeting[8], greeting[12])\n",
    "print(f\"Size of greeting is: {len(greeting)}, and the value is: {greeting}\")"
   ]
  },
  {
   "cell_type": "markdown",
   "metadata": {},
   "source": [
    "Slicing is a method to obtaing a substring in pretty easy way"
   ]
  },
  {
   "cell_type": "code",
   "execution_count": 18,
   "metadata": {},
   "outputs": [
    {
     "name": "stdout",
     "output_type": "stream",
     "text": [
      "Hello\n",
      "World\n",
      "First word is: Hello, and the Second one is: World\n"
     ]
    }
   ],
   "source": [
    "word_1 = greeting[0:5]\n",
    "word_2 = greeting[7:12]\n",
    "print(word_1)\n",
    "print(word_2)\n",
    "print(f\"First word is: {word_1}, and the Second one is: {word_2}\")"
   ]
  },
  {
   "cell_type": "code",
   "execution_count": 20,
   "metadata": {},
   "outputs": [
    {
     "name": "stdout",
     "output_type": "stream",
     "text": [
      "!dlroW ,olleH\n",
      "H\n"
     ]
    }
   ],
   "source": [
    "# inverse\n",
    "reverse = greeting[::-1]\n",
    "print(reverse)\n",
    "print(reverse[-1])"
   ]
  },
  {
   "cell_type": "markdown",
   "metadata": {},
   "source": [
    "Additional funtions\"split and strip"
   ]
  },
  {
   "cell_type": "code",
   "execution_count": 29,
   "metadata": {},
   "outputs": [
    {
     "name": "stdout",
     "output_type": "stream",
     "text": [
      "['Roses', 'are', 'red,', 'and', 'violets', 'are', 'blue']\n",
      "['2034', 'Mar', '04']\n",
      "       sjsjsjsjs      jsjsjs   \n",
      "sjsjsjsjs      jsjsjs\n",
      "       sjsjsjsjs      jsjsjs   \n"
     ]
    }
   ],
   "source": [
    "sentence = \"Roses are red, and violets are blue\"\n",
    "print(sentence.split(\" \"))\n",
    "\n",
    "date_ = \"2034-Mar-04\"\n",
    "print(date_.split(\"-\"))\n",
    "\n",
    "\n",
    "sentence_2 = \"       sjsjsjsjs      jsjsjs   \"\n",
    "print(sentence_2)\n",
    "print(sentence_2.strip())\n",
    "print(sentence_2.strip(\"=\"))"
   ]
  },
  {
   "cell_type": "markdown",
   "metadata": {},
   "source": [
    "How to handle with lowers and uppers?"
   ]
  },
  {
   "cell_type": "code",
   "execution_count": 38,
   "metadata": {},
   "outputs": [
    {
     "name": "stdout",
     "output_type": "stream",
     "text": [
      "This is A tEst of a StrIng\n",
      "this is a test of a string\n",
      "THIS IS A TEST OF A STRING\n",
      "This is a test of a string\n",
      "This Is A Test Of A String\n"
     ]
    }
   ],
   "source": [
    "test_sentence = \"This is A tEst of a StrIng\"\n",
    "lower_ = test_sentence.lower()\n",
    "upper_ = test_sentence.upper()\n",
    "capitalize_ = test_sentence.capitalize()\n",
    "title_ = test_sentence.title()\n",
    "print(test_sentence, lower_, upper_, capitalize_, title_, sep=\"\\n\")"
   ]
  },
  {
   "cell_type": "markdown",
   "metadata": {},
   "source": [
    "### Conditionals\n",
    "A conditional is a validation of a logic statment."
   ]
  },
  {
   "cell_type": "code",
   "execution_count": 44,
   "metadata": {},
   "outputs": [
    {
     "name": "stdout",
     "output_type": "stream",
     "text": [
      "the other way\n"
     ]
    }
   ],
   "source": [
    "x = 3\n",
    "if x == 2:\n",
    "    x = 7\n",
    "    print(\"blah blah\")\n",
    "    print(\"x is 2\")\n",
    "    print(x)\n",
    "else:\n",
    "    print(\"the other way\")"
   ]
  },
  {
   "cell_type": "markdown",
   "metadata": {},
   "source": [
    "Nested conditionals:"
   ]
  },
  {
   "cell_type": "code",
   "execution_count": 46,
   "metadata": {},
   "outputs": [
    {
     "name": "stdout",
     "output_type": "stream",
     "text": [
      "no color\n",
      "-1\n"
     ]
    }
   ],
   "source": [
    "color = \"redo\"\n",
    "if color ==\"blue\":\n",
    "       x = 2\n",
    "    print(\"color is blue\")\n",
    "elif color == \"yellow\":\n",
    "    x = 5\n",
    "  print(\"color is yellow\")\n",
    "elif color == \"red\":\n",
    "          x = 8\n",
    "    print(\"color is red\")\n",
    "else:\n",
    "    x=-1\n",
    "    print(\"no color\")\n",
    "\n",
    "print(x)"
   ]
  },
  {
   "cell_type": "markdown",
   "metadata": {},
   "source": [
    "Nested conditionals:"
   ]
  },
  {
   "cell_type": "code",
   "execution_count": 3,
   "metadata": {},
   "outputs": [
    {
     "name": "stdout",
     "output_type": "stream",
     "text": [
      "x less than 5\n"
     ]
    }
   ],
   "source": [
    "x = 4\n",
    "if x > 5:\n",
    "    if x > 7:\n",
    "        x = 10\n",
    "        print(\"x is greater than both 5 and 7\", x)\n",
    "    else:\n",
    "        print(\"x less or equal than 7\")\n",
    "else:\n",
    "    print(\"x less than 5\")\n"
   ]
  },
  {
   "cell_type": "markdown",
   "metadata": {},
   "source": [
    "## Lists and List comprehession and Loops"
   ]
  },
  {
   "cell_type": "code",
   "execution_count": 11,
   "metadata": {},
   "outputs": [
    {
     "name": "stdout",
     "output_type": "stream",
     "text": [
      "[2, 'Carlos', 'Programming', 3.2, True] <class 'list'>\n",
      "[2, 'Carlos', 'Programming', 3.2, True, 'new_element'] <class 'list'>\n",
      "[2, 'Programming', 3.2, True, 'new_element'] <class 'list'>\n",
      "Carlos\n",
      "[2, 'Programming', 'UD', 3.2, True, 'new_element'] <class 'list'>\n",
      "3.2\n"
     ]
    }
   ],
   "source": [
    "list_example = [2, \"Carlos\", 'Programming', 3.2, True]\n",
    "print(list_example, type(list_example))\n",
    "\n",
    "list_example.append(\"new_element\")\n",
    "print(list_example, type(list_example))\n",
    "\n",
    "save_ = list_example.pop(1)\n",
    "print(list_example, type(list_example))\n",
    "print(save_)\n",
    "\n",
    "list_example.insert(2, 'UD')\n",
    "print(list_example, type(list_example))\n",
    "\n",
    "print(list_example[3])"
   ]
  },
  {
   "cell_type": "markdown",
   "metadata": {},
   "source": [
    "Slicing in list"
   ]
  },
  {
   "cell_type": "code",
   "execution_count": 13,
   "metadata": {},
   "outputs": [
    {
     "name": "stdout",
     "output_type": "stream",
     "text": [
      "['UD', 3.2, True]\n"
     ]
    }
   ],
   "source": [
    "print(list_example[2:5])"
   ]
  },
  {
   "cell_type": "markdown",
   "metadata": {},
   "source": [
    "Conditionals on List"
   ]
  },
  {
   "cell_type": "code",
   "execution_count": 16,
   "metadata": {},
   "outputs": [
    {
     "name": "stdout",
     "output_type": "stream",
     "text": [
      "Element not in\n",
      "not is\n"
     ]
    }
   ],
   "source": [
    "if \"UDE\" in list_example:\n",
    "    print(\"element is\")\n",
    "else:\n",
    "    print(\"Element not in\")\n",
    "\n",
    "if \"Carlos\" not in list_example:\n",
    "    print(\"not is\")"
   ]
  },
  {
   "cell_type": "markdown",
   "metadata": {},
   "source": [
    "Loops with List:"
   ]
  },
  {
   "cell_type": "code",
   "execution_count": 19,
   "metadata": {},
   "outputs": [
    {
     "name": "stdout",
     "output_type": "stream",
     "text": [
      "size 6\n",
      "2\n",
      "Programming\n",
      "UD\n",
      "3.2\n",
      "True\n",
      "new_element\n"
     ]
    }
   ],
   "source": [
    "# print all elements\n",
    "print(\"size\", len(list_example))\n",
    "\n",
    "for elem in list_example:\n",
    "    print(elem)"
   ]
  },
  {
   "cell_type": "code",
   "execution_count": 20,
   "metadata": {},
   "outputs": [
    {
     "name": "stdout",
     "output_type": "stream",
     "text": [
      "Programming\n",
      "UD\n",
      "new_element\n"
     ]
    }
   ],
   "source": [
    "for elem in list_example:\n",
    "    if type(elem) == str:\n",
    "        print(elem)"
   ]
  },
  {
   "cell_type": "markdown",
   "metadata": {},
   "source": [
    "List comprehesion"
   ]
  },
  {
   "cell_type": "code",
   "execution_count": 23,
   "metadata": {},
   "outputs": [
    {
     "name": "stdout",
     "output_type": "stream",
     "text": [
      "[0, 1, 2, 3, 4, 5, 6, 7, 8, 9, 10, 11, 12, 13, 14, 15, 16, 17, 18, 19, 20, 21, 22, 23, 24, 25, 26, 27, 28, 29, 30, 31, 32, 33, 34, 35, 36, 37, 38, 39, 40, 41, 42, 43, 44, 45, 46, 47, 48, 49, 50, 51, 52, 53, 54, 55, 56, 57, 58, 59, 60, 61, 62, 63, 64, 65, 66, 67, 68, 69, 70, 71, 72, 73, 74, 75, 76, 77, 78, 79, 80, 81, 82, 83, 84, 85, 86, 87, 88, 89, 90, 91, 92, 93, 94, 95, 96, 97, 98, 99]\n",
      "[1, 4, 9, 16, 25]\n"
     ]
    }
   ],
   "source": [
    "list_numbers = [i for i in range(100)]\n",
    "print(list_numbers)\n",
    "\n",
    "list_numbers_2 = [i**2 for i in range(1,6)]\n",
    "print(list_numbers_2)"
   ]
  },
  {
   "cell_type": "markdown",
   "metadata": {},
   "source": [
    "Range"
   ]
  },
  {
   "cell_type": "code",
   "execution_count": 30,
   "metadata": {},
   "outputs": [
    {
     "name": "stdout",
     "output_type": "stream",
     "text": [
      "[1, 3, 5, 7, 9, 11, 13, 15, 17]\n",
      "[2, 4, 6, 8, 10, 12, 14, 16, 18, 20, 22, 24, 26, 28, 30, 32, 34, 36, 38, 40, 42, 44, 46, 48, 50]\n",
      "[10, 9, 8, 7, 6, 5, 4, 3, 2, 1]\n",
      "[0, 3, 6, 9, 12, 15, 18, 21, 24, 27, 30, 33, 36, 39, 42, 45, 48, 51, 54, 57, 60, 63, 66, 69, 72, 75, 78, 81, 84, 87, 90, 93, 96, 99]\n"
     ]
    }
   ],
   "source": [
    "print(list(range(1,18,2)))\n",
    "print(list(range(2,51,2)))\n",
    "print(list(range(10,0,-1)))\n",
    "\n",
    "print(list(range(0,101,3)))"
   ]
  },
  {
   "cell_type": "markdown",
   "metadata": {},
   "source": [
    "For for old men:"
   ]
  },
  {
   "cell_type": "code",
   "execution_count": 34,
   "metadata": {},
   "outputs": [
    {
     "name": "stdout",
     "output_type": "stream",
     "text": [
      "0-1-2-3-4-5-6-7-8-9-"
     ]
    }
   ],
   "source": [
    "for i in range(10):  # for(int i = 0; i < 10; i++\n",
    "    print(i, end=\"-\")"
   ]
  },
  {
   "cell_type": "markdown",
   "metadata": {},
   "source": [
    "While..."
   ]
  },
  {
   "cell_type": "code",
   "execution_count": null,
   "metadata": {},
   "outputs": [],
   "source": [
    "while True:\n",
    "    word = input()\n",
    "    if word == \"quit\":\n",
    "        break \n",
    "    else:\n",
    "        print(word)"
   ]
  },
  {
   "cell_type": "markdown",
   "metadata": {},
   "source": [
    "## Dictionaries\n",
    "Key-Value data structure, shared between different programming languages\n",
    "{\n",
    "    key_1: value,\n",
    "    key_2: value,\n",
    "    ....\n",
    "}\n",
    "\n",
    "Keys: string*, int, float, tuple\n",
    "Value: anything -> list, tuple, dictionary, data type\n",
    "\n",
    "Javascript: object, Java: Maps, C++: Struct,... JSON (JavaScript Object Notation)"
   ]
  },
  {
   "cell_type": "code",
   "execution_count": 41,
   "metadata": {},
   "outputs": [
    {
     "name": "stdout",
     "output_type": "stream",
     "text": [
      "['Juan', 'Cristian', 'Carlos']\n",
      "class room\n",
      "Cristian\n"
     ]
    }
   ],
   "source": [
    "dict_example = {\n",
    "    \"id\": \"020-84\",\n",
    "    \"name\": \"Advanced Programming I\",\n",
    "    \"amount\": 22,\n",
    "    \"students\": [\"Juan\", \"Cristian\", \"Carlos\"],\n",
    "    701: \"class room\"\n",
    "}\n",
    "\n",
    "print(dict_example[\"students\"])\n",
    "print(dict_example[701])\n",
    "print(dict_example[\"students\"][1])"
   ]
  },
  {
   "cell_type": "markdown",
   "metadata": {},
   "source": [
    "Dict operations"
   ]
  },
  {
   "cell_type": "code",
   "execution_count": 43,
   "metadata": {},
   "outputs": [
    {
     "name": "stdout",
     "output_type": "stream",
     "text": [
      "{'id': '020-84', 'name': 'Advanced Programming I', 'amount': 22, 'students': ['Juan', 'Cristian', 'Carlos'], 701: 'class room', 'professor': 'Carlos Andres'}\n",
      "{'id': '020-84', 'name': 'Advanced Programming I', 'amount': 22, 'students': ['Juan', 'Cristian', 'Carlos'], 701: 'class room', 'professor': 'Eng. CASV'}\n"
     ]
    }
   ],
   "source": [
    "dict_example[\"professor\"] = \"Carlos Andres\"\n",
    "print(dict_example)\n",
    "\n",
    "dict_example[\"professor\"] = \"Eng. CASV\"\n",
    "print(dict_example)"
   ]
  },
  {
   "cell_type": "code",
   "execution_count": 44,
   "metadata": {},
   "outputs": [
    {
     "name": "stdout",
     "output_type": "stream",
     "text": [
      "{'id': '020-84', 'name': 'Advanced Programming I', 'students': ['Juan', 'Cristian', 'Carlos'], 701: 'class room', 'professor': 'Eng. CASV'}\n"
     ]
    }
   ],
   "source": [
    "# delete\n",
    "del dict_example[\"amount\"]\n",
    "print(dict_example)"
   ]
  },
  {
   "cell_type": "markdown",
   "metadata": {},
   "source": [
    "Post inside a post"
   ]
  },
  {
   "cell_type": "code",
   "execution_count": 48,
   "metadata": {},
   "outputs": [
    {
     "name": "stdout",
     "output_type": "stream",
     "text": [
      "[{'id_comment': 1, 'text': 'bad class', 'replies': ['Why?', 'agree']}, {'id_comment': 2, 'text': 'good class'}]\n"
     ]
    }
   ],
   "source": [
    "posts = {\n",
    "    \"id_post\": 1,\n",
    "    \"text\": \"This is a class about python\",\n",
    "    \"comments\": [\n",
    "        {\n",
    "            \"id_comment\": 1,\n",
    "            \"text\": \"bad class\",\n",
    "            \"replies\": [\n",
    "                \"Why?\",\n",
    "                \"agree\"\n",
    "            ]\n",
    "        },\n",
    "        {\n",
    "            \"id_comment\": 2,\n",
    "            \"text\": \"good class\"\n",
    "        }\n",
    "    ] \n",
    "}\n",
    "print(posts[\"comments\"][0][\"replies\"])"
   ]
  },
  {
   "cell_type": "markdown",
   "metadata": {},
   "source": [
    "Dictionaties and loops"
   ]
  },
  {
   "cell_type": "code",
   "execution_count": 54,
   "metadata": {},
   "outputs": [
    {
     "name": "stdout",
     "output_type": "stream",
     "text": [
      "id_post,text,comments,\n",
      "1,This is a class about python,[{'id_comment': 1, 'text': 'bad class', 'replies': ['Why?', 'agree']}, {'id_comment': 2, 'text': 'good class'}],\n",
      "id_post -> 1\n",
      "text -> This is a class about python\n",
      "comments -> [{'id_comment': 1, 'text': 'bad class', 'replies': ['Why?', 'agree']}, {'id_comment': 2, 'text': 'good class'}]\n"
     ]
    }
   ],
   "source": [
    "for key in posts:\n",
    "    print(key, end=\",\")\n",
    "print()\n",
    "\n",
    "for value in posts.values():\n",
    "    print(value, end=\",\")\n",
    "print()\n",
    "for key, value in posts.items():\n",
    "    print(f\"{key} -> {value}\")"
   ]
  },
  {
   "cell_type": "code",
   "execution_count": 55,
   "metadata": {},
   "outputs": [
    {
     "name": "stdout",
     "output_type": "stream",
     "text": [
      "dict_keys(['id', 'name', 'students', 701, 'professor'])\n",
      "dict_values(['020-84', 'Advanced Programming I', ['Juan', 'Cristian', 'Carlos'], 'class room', 'Eng. CASV'])\n",
      "dict_items([('id', '020-84'), ('name', 'Advanced Programming I'), ('students', ['Juan', 'Cristian', 'Carlos']), (701, 'class room'), ('professor', 'Eng. CASV')])\n"
     ]
    }
   ],
   "source": [
    "print(dict_example.keys())\n",
    "print(dict_example.values())\n",
    "print(dict_example.items())"
   ]
  },
  {
   "cell_type": "markdown",
   "metadata": {},
   "source": [
    "## Tuples and Sets\n",
    "Tuple: data structure (similar to list), but this one is inmutable\n",
    "\n",
    "Sets: data structure (similar to list) where elements are uniques"
   ]
  },
  {
   "cell_type": "code",
   "execution_count": 61,
   "metadata": {},
   "outputs": [
    {
     "name": "stdout",
     "output_type": "stream",
     "text": [
      "4.5\n",
      "('value',) <class 'tuple'>\n",
      "['str', 3, 4.5] <class 'list'>\n"
     ]
    }
   ],
   "source": [
    "tuple_example = (\"str\", 3, 4.5)\n",
    "print(tuple_example[2])\n",
    "\n",
    "tuple_example_2 = (\"value\",)\n",
    "print(tuple_example_2, type(tuple_example_2))\n",
    "\n",
    "# convert from tuple to list\n",
    "tuple_2_list = list(tuple_example)\n",
    "print(tuple_2_list, type(tuple_2_list))"
   ]
  },
  {
   "cell_type": "code",
   "execution_count": 66,
   "metadata": {},
   "outputs": [
    {
     "name": "stdout",
     "output_type": "stream",
     "text": [
      "[('key_1', 'value_1'), ('key_2', [1, 2, 3])] <class 'list'>\n",
      "('key_1', 'value_1') <class 'tuple'>\n",
      "{'key_1': 'value_1', 'key_2': [1, 2, 3]} <class 'dict'>\n"
     ]
    }
   ],
   "source": [
    "# convert from list to dict\n",
    "list_example = [(\"key_1\", \"value_1\"), (\"key_2\", [1, 2, 3])]\n",
    "list_2_dict = dict(list_example)\n",
    "\n",
    "print(list_example, type(list_example))\n",
    "print(list_example[0], type(list_example[0]))\n",
    "print(list_2_dict, type(list_2_dict))"
   ]
  },
  {
   "cell_type": "markdown",
   "metadata": {},
   "source": [
    "Sets"
   ]
  },
  {
   "cell_type": "code",
   "execution_count": 67,
   "metadata": {},
   "outputs": [
    {
     "name": "stdout",
     "output_type": "stream",
     "text": [
      "{0, 1, 2, 3, 4, 5, 6} <class 'set'>\n"
     ]
    }
   ],
   "source": [
    "set_example = {0, 2, 4, 5, 6, 4, 3, 2, 4, 1, 0, 2, 3, 4}\n",
    "print(set_example, type(set_example))"
   ]
  },
  {
   "cell_type": "code",
   "execution_count": 69,
   "metadata": {},
   "outputs": [
    {
     "name": "stdout",
     "output_type": "stream",
     "text": [
      "[4, 3, 2, 1, 4, 5, 6, 7, 5, 5, 4, 3, 2, 2, 2] <class 'list'> 15\n",
      "{1, 2, 3, 4, 5, 6, 7} <class 'set'> 7\n"
     ]
    }
   ],
   "source": [
    "list_ = [4, 3, 2, 1, 4, 5, 6, 7, 5, 5, 4, 3, 2, 2, 2]\n",
    "print(list_, type(list_), len(list_))\n",
    "\n",
    "set_ = set(list_)\n",
    "print(set_, type(set_), len(set_))"
   ]
  },
  {
   "cell_type": "code",
   "execution_count": 70,
   "metadata": {},
   "outputs": [
    {
     "name": "stdout",
     "output_type": "stream",
     "text": [
      "1 is 1 in list\n",
      "2 is 4 in list\n",
      "3 is 2 in list\n",
      "4 is 3 in list\n",
      "5 is 3 in list\n",
      "6 is 1 in list\n",
      "7 is 1 in list\n"
     ]
    }
   ],
   "source": [
    "for elem in set_:\n",
    "    print(f\"{elem} is {list_.count(elem)} in list\")"
   ]
  },
  {
   "cell_type": "markdown",
   "metadata": {},
   "source": [
    "## Reference and Value Variables\n",
    "\n",
    "Reference: two variables have the same value because they are pointing to same memory position\n",
    "\n",
    "Value: two variables have the same value because they are copies with different memory positions"
   ]
  },
  {
   "cell_type": "code",
   "execution_count": 72,
   "metadata": {},
   "outputs": [
    {
     "name": "stdout",
     "output_type": "stream",
     "text": [
      "[1, 2, 3]\n",
      "[1, 2, 3]\n",
      "[1, 2, 3, 4, 5, 7]\n"
     ]
    }
   ],
   "source": [
    "list_a = [1, 2, 3]\n",
    "print(list_a)\n",
    "list_b = list_a # reference\n",
    "print(list_b)\n",
    "list_a.extend([4, 5, 7])\n",
    "print(list_b)"
   ]
  },
  {
   "cell_type": "code",
   "execution_count": 73,
   "metadata": {},
   "outputs": [
    {
     "name": "stdout",
     "output_type": "stream",
     "text": [
      "[1, 2, 3, 4, 5, 7]\n",
      "[1, 2, 3, 4, 5, 7]\n",
      "[1, 2, 3, 4, 5, 7, 8, 9, 10]\n"
     ]
    }
   ],
   "source": [
    "list_c = list_a.copy() # value\n",
    "print(list_c)\n",
    "list_a.extend([8, 9, 10])\n",
    "print(list_c)\n",
    "print(list_a)"
   ]
  },
  {
   "cell_type": "markdown",
   "metadata": {},
   "source": [
    "## Functions\n",
    "\n",
    "Define the cosine as..."
   ]
  },
  {
   "cell_type": "code",
   "execution_count": 75,
   "metadata": {},
   "outputs": [
    {
     "name": "stdout",
     "output_type": "stream",
     "text": [
      "Hello, World\n",
      "3\n"
     ]
    }
   ],
   "source": [
    "# type hint -> datatypes for everything\n",
    "def max(a: int, b: int) -> int:\n",
    "    \"\"\"\n",
    "    This function is used to get the maximun between two numbers\n",
    "    This is called \"docstring\"\n",
    "\n",
    "    Parameters:\n",
    "        a (int): First number\n",
    "        b (int): Second number\n",
    "\n",
    "    Returns:\n",
    "        int: The maximum between a and b\n",
    "    \"\"\"\n",
    "    if a > b:\n",
    "        return a\n",
    "    else:\n",
    "        return b\n",
    "\n",
    "def sort_(a, b):\n",
    "    \n",
    "    # this is a one-line comment\n",
    "    if a < b:\n",
    "        return a, b\n",
    "    else:\n",
    "        return b, a\n",
    "\n",
    "def hello():\n",
    "    print(\"Hello, World\")\n",
    "\n",
    "x = 2\n",
    "y = 3\n",
    "hello()\n",
    "print( max(x, y) )"
   ]
  },
  {
   "cell_type": "markdown",
   "metadata": {},
   "source": [
    "## Classes in Python\n",
    "\n",
    "Basic definition: `class name:`\n",
    "\n",
    "if there will be inheritance: `class name(mother_class):`\n",
    "\n",
    "Constructor: `__init__(self)`\n",
    "\n",
    "Method: `def method_name(self):`\n",
    "\n",
    "Nomenclature: `_a (protected)`, `__a (private)`"
   ]
  },
  {
   "cell_type": "code",
   "execution_count": 23,
   "metadata": {},
   "outputs": [
    {
     "name": "stdout",
     "output_type": "stream",
     "text": [
      "zzzz 3.1\n",
      "zzzz 4.6\n"
     ]
    }
   ],
   "source": [
    "class Mammal:\n",
    "    \"\"\"\n",
    "    This is a generic class about mammals behaviours.\n",
    "    \n",
    "    Methods:\n",
    "    - sleep(): this method sets a mammal in sleep mode\n",
    "    \"\"\"\n",
    "    \n",
    "    def __init__(self, age: float):\n",
    "        # Class attributes\n",
    "        self.hungry_level = None\n",
    "        self.sleep_level = None\n",
    "        self._weight = None  # _ indicates -> protected\n",
    "        self.__age = age  # __ indicated -> private\n",
    "    \n",
    "    def sleep(self):\n",
    "        \"\"\"This method defines a sleep behaviour\"\"\"\n",
    "        print(f\"zzzz \" + str(self.__age))\n",
    "\n",
    "    def get_age(self) -> float:\n",
    "        return self.__age\n",
    "\n",
    "    def set_age(self, age: float):\n",
    "        self.__age = age\n",
    "\n",
    "mammal_1 = Mammal(4.6)\n",
    "mammal_2 = Mammal(3.1)\n",
    "mammal_2.sleep()\n",
    "mammal_1.sleep()"
   ]
  },
  {
   "cell_type": "code",
   "execution_count": 22,
   "metadata": {},
   "outputs": [],
   "source": [
    "from abc import ABC, abstractmethod\n",
    "\n",
    "class LifeBeing(ABC):\n",
    "    \n",
    "    @abstractmethod\n",
    "    def eat():\n",
    "        pass"
   ]
  },
  {
   "cell_type": "code",
   "execution_count": 20,
   "metadata": {},
   "outputs": [
    {
     "name": "stdout",
     "output_type": "stream",
     "text": [
      "zzzz 2.5\n",
      "Yumi yumi\n",
      "None\n"
     ]
    }
   ],
   "source": [
    "class Dog(Mammal, LifeBeing):\n",
    "\n",
    "    def __init__(self, age):\n",
    "        super().__init__(age)\n",
    "\n",
    "    def eat(self):\n",
    "        print(\"Yumi yumi\")\n",
    "\n",
    "freeoflice = Dog(2.5)\n",
    "freeoflice.sleep()\n",
    "freeoflice.eat()\n",
    "print(freeoflice.sleep_level)"
   ]
  }
 ],
 "metadata": {
  "kernelspec": {
   "display_name": "class_ap",
   "language": "python",
   "name": "python3"
  },
  "language_info": {
   "codemirror_mode": {
    "name": "ipython",
    "version": 3
   },
   "file_extension": ".py",
   "mimetype": "text/x-python",
   "name": "python",
   "nbconvert_exporter": "python",
   "pygments_lexer": "ipython3",
   "version": "3.11.0"
  }
 },
 "nbformat": 4,
 "nbformat_minor": 2
}
