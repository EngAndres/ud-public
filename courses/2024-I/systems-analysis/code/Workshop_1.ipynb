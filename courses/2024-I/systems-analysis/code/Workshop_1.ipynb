{
 "cells": [
  {
   "cell_type": "markdown",
   "metadata": {},
   "source": [
    "# Workshop I - Systems Analysis: Entrophy\n",
    "\n",
    "## Workshop Definition:\n",
    "\n",
    "Welcome to the first workshop of Systems Analysis course. Let’s funny me with a_ bioinformatics_ exercise.\n",
    "\n",
    "Imagine you have been hired as __data analyst__ in an important biotechnology company.  Your boss, a Science Chief Officer, wants to get some _patterns_ in genomic data, sometimes called __motifs__.\n",
    "\n",
    "Here you will have some tasks in order to complete this _workshop_:\n",
    "\n",
    "1. Create a _dummy database_ of genetic sequences composed of nucleotide bases (_A_, _C_, _G_, _T_), where each sequence must have between $10$ and $20$ bases. Your database must be composed for $50.000$ genetic sequences.\n",
    "1. Get the _motifs_ (must repeated sequence) of size $6$ and $8$.\n",
    "1. Use the __Shannon Entropy__ measurement to filter sequences with not a good variance level.\n",
    "1. Get again the _motifs_ of size $6$ and $8$.\n",
    "\n",
    "Get some conclusions based on your analysis.\n",
    "\n",
    "Write any technical concern/decision/difficulty  you think is relevant regarding your work.\n",
    "You must deliver a full report detailing each one of the previous steps. For steps 1 to 4 you must describe the algorithms you propose and let an screenshot about the code and the output of the code. I strongly recommend you to use a _Jupyter Notebook_ or a _COLAB_ to write/execute your code."
   ]
  },
  {
   "cell_type": "markdown",
   "metadata": {},
   "source": [
    "1. First, a function to generate a sequence based on typical for DNA nucleotid bases is created. Here the idea is to use random numbers to get a random sequence of a random size (between 10 and 20.)"
   ]
  },
  {
   "cell_type": "code",
   "execution_count": 1,
   "metadata": {},
   "outputs": [],
   "source": [
    "import random\n",
    "\n",
    "\n",
    "def create_sequence() -> str:\n",
    "    \"\"\"\n",
    "    This function is used to generate a random genetic sequence.\n",
    "\n",
    "    Returns:\n",
    "    - str: random genetic sequence\n",
    "    \"\"\"\n",
    "    nucleotid_bases = [\"A\", \"C\", \"G\", \"T\"]\n",
    "    size_sequence = random.randint(10, 20)\n",
    "    new_sequence = [nucleotid_bases[random.randint(0, 3)] for i in range(size_sequence)]\n",
    "    return \"\".join(new_sequence)"
   ]
  },
  {
   "cell_type": "markdown",
   "metadata": {},
   "source": [
    "2. Based on `create_sequences()` function, the idea is to generate a dataset of genetic sequences, just persisting all sequences into a list."
   ]
  },
  {
   "cell_type": "code",
   "execution_count": 2,
   "metadata": {},
   "outputs": [],
   "source": [
    "def create_dataset(dataset_size: int) -> list:\n",
    "    \"\"\"\n",
    "    This function is used to create a dataset composed by a set of genetic sequences.\n",
    "\n",
    "    Parameters:\n",
    "    - dataset_size (int): size of the dummy dataset to be generated.\n",
    "\n",
    "    Returns:\n",
    "    - list: a list of genetic sequences\n",
    "    \"\"\"\n",
    "    dataset = [create_sequence() for i in range(dataset_size)]\n",
    "    return dataset"
   ]
  },
  {
   "cell_type": "markdown",
   "metadata": {},
   "source": [
    "3. As the goal is to get the motif in the sequence, first task for that purpose is to generate all possible combinations of secuences of an specific size. \n",
    "\n",
    "It means, in `size = 3`, the valid combinations would be: `[AAA, AAC, AAG, AAT, CAA, CAC, CAC,..., TTG, TTT]` "
   ]
  },
  {
   "cell_type": "code",
   "execution_count": 3,
   "metadata": {},
   "outputs": [],
   "source": [
    "def get_combinations(n: int, sequences: list, bases: list) -> list:\n",
    "    \"\"\"\n",
    "    This method is used to generate a set of combinations based on a list of nucleotid bases.\n",
    "    To make easy the process, this function is defined as a recurssion.\n",
    "\n",
    "    Parameters:\n",
    "    - n (int): amount of elements of each combination\n",
    "    - sequences (list): list of recursive sequences obtained\n",
    "    - bases (list): list of nucleotid bases to be used\n",
    "\n",
    "    Returns:\n",
    "    - list: list of combinations\n",
    "    \"\"\"\n",
    "    if n == 1:\n",
    "        return [sequence + base for sequence in sequences for base in bases]\n",
    "    else:\n",
    "        sequence_ = [sequence + base for sequence in sequences for base in bases]\n",
    "        return get_combinations(n - 1, sequence_, bases)"
   ]
  },
  {
   "cell_type": "markdown",
   "metadata": {},
   "source": [
    "4. Each motif candidate should be verified into each sequence in the dataset, just to count the motif occurences."
   ]
  },
  {
   "cell_type": "code",
   "execution_count": 4,
   "metadata": {},
   "outputs": [],
   "source": [
    "def count_motif(motif: str, sequences_dataset: list) -> int:\n",
    "    \"\"\"\n",
    "    This function is used to count the number of times a motif appears in a set of genetic sequences.\n",
    "\n",
    "    Parameters:\n",
    "    - motif (str): genetic motif to be searched.\n",
    "    - sequences_dataset (list): list of genetic sequences.\n",
    "\n",
    "    Returns:\n",
    "    - int: number of times the motif appears in the dataset.\n",
    "    \"\"\"\n",
    "    count = 0\n",
    "    for sequence in sequences_dataset:\n",
    "        count += sequence.count(motif)\n",
    "    return count"
   ]
  },
  {
   "cell_type": "markdown",
   "metadata": {},
   "source": [
    "5. Now it is time to get all motif candidates (combinations of a specific size), count occurrences for each motif, and choose as the motif winner the only one who has more ocurreces."
   ]
  },
  {
   "cell_type": "code",
   "execution_count": 5,
   "metadata": {},
   "outputs": [],
   "source": [
    "def get_motif(motif_size: int, sequences_dataset: list) -> (str, int):\n",
    "    \"\"\"\n",
    "    This function is used to get the motif with the highest count in a set of genetic sequences.\n",
    "\n",
    "    Parameters:\n",
    "    - motif_size (int): size of the motif to be searched.\n",
    "    - sequences_db (list): list of genetic sequences.\n",
    "\n",
    "    Returns:\n",
    "    - (str, int): motif with the highest count and the number of times it appears in the dataset.\n",
    "    \"\"\"\n",
    "    nucleotid_bases = [\"A\", \"C\", \"G\", \"T\"]\n",
    "    combinations = get_combinations(motif_size, [\"\"], nucleotid_bases)\n",
    "    # get motif with the highest count\n",
    "    max_counter = 0\n",
    "    motif_winner = \"\"\n",
    "    for motif_candidate in combinations:\n",
    "        temp_counter = count_motif(motif_candidate, sequences_dataset)\n",
    "        if temp_counter > max_counter:\n",
    "            max_counter = temp_counter\n",
    "            motif_winner = motif_candidate\n",
    "\n",
    "    return motif_winner, max_counter"
   ]
  },
  {
   "cell_type": "markdown",
   "metadata": {},
   "source": [
    "6. Now, just a loop of callings looking for some different motifs, in order you have a better idea about possible motifs and occurences, so you could make a better analysis. Also, motifs of size 6 and 8 will be generated."
   ]
  },
  {
   "cell_type": "code",
   "execution_count": 6,
   "metadata": {},
   "outputs": [
    {
     "name": "stdout",
     "output_type": "stream",
     "text": [
      "\n",
      "Motifs of size: 6\n",
      "('TGCGCC', 163)\n",
      "('CCGGAG', 169)\n",
      "('GAGAGT', 159)\n",
      "('ATGGTG', 162)\n",
      "('CGTGAG', 173)\n",
      "('GACTTG', 164)\n",
      "('CTAACT', 164)\n",
      "('TAGGTT', 163)\n",
      "('GGATTC', 163)\n",
      "('TTGAAC', 163)\n",
      "\n",
      "Motifs of size: 8\n",
      "('AATGTCAA', 20)\n",
      "('ACAAGCAA', 19)\n",
      "('TGTTCTCA', 19)\n",
      "('TTGATGGC', 21)\n",
      "('CCGGCCTT', 18)\n",
      "('ATTGACGG', 18)\n",
      "('ACACTCTC', 21)\n",
      "('ATTGGATG', 21)\n",
      "('CCACGCCC', 19)\n",
      "('CATGGGAT', 19)\n"
     ]
    }
   ],
   "source": [
    "for size in [6, 8]:\n",
    "    print(f\"\\nMotifs of size: {size}\")\n",
    "    for i in range(10):\n",
    "        print(get_motif(size, create_dataset(50000)))"
   ]
  },
  {
   "cell_type": "markdown",
   "metadata": {},
   "source": [
    "7. Now, as the idea is to define how Shannon Entropy could help us to filter maybe not relevant sequences in order to get more relevant motifs. You could check equation [here](https://rosettacode.org/wiki/Entropy)."
   ]
  },
  {
   "cell_type": "code",
   "execution_count": 7,
   "metadata": {},
   "outputs": [],
   "source": [
    "import math\n",
    "\n",
    "\n",
    "def calculate_shannon_entrophy(sequence: str) -> float:\n",
    "    \"\"\"\n",
    "    This function is used to calculate the Shannon Entropy of a genetic sequence.\n",
    "\n",
    "    Parameters:\n",
    "    - sequence (str): genetic sequence.\n",
    "\n",
    "    Returns:\n",
    "    - float: Shannon Entropy of the sequence.\n",
    "    \"\"\"\n",
    "    size_sequence = len(sequence)\n",
    "    bases = [\"A\", \"C\", \"G\", \"T\"]\n",
    "    entrophy = 0\n",
    "    for base in bases:\n",
    "        count = sequence.count(base)\n",
    "        if count > 0:\n",
    "            p = (count / size_sequence) * math.log2(count / size_sequence)\n",
    "        else:\n",
    "            p = 0\n",
    "        entrophy += p\n",
    "    entrophy *= -1\n",
    "    return entrophy"
   ]
  },
  {
   "cell_type": "markdown",
   "metadata": {},
   "source": [
    "8. As a Shannon Entropy Calculation function is created, it is possible to make a dataset filter before to check for motifs."
   ]
  },
  {
   "cell_type": "code",
   "execution_count": 8,
   "metadata": {},
   "outputs": [],
   "source": [
    "def filter_shannon(sequence: str) -> bool:\n",
    "    \"\"\"\n",
    "    This function is used to filter genetic sequences based on their Shannon Entropy.\n",
    "\n",
    "    Parameters:\n",
    "    - sequence (str): genetic sequence.\n",
    "\n",
    "    Returns:\n",
    "    - bool: True if the sequence passes the filter, False otherwise.\n",
    "    \"\"\"\n",
    "    return calculate_shannon_entrophy(sequence) > 1.8"
   ]
  },
  {
   "cell_type": "markdown",
   "metadata": {},
   "source": [
    "9. Last part of the workshop, it is just filter sequences in the full motif search process."
   ]
  },
  {
   "cell_type": "code",
   "execution_count": 9,
   "metadata": {},
   "outputs": [
    {
     "name": "stdout",
     "output_type": "stream",
     "text": [
      "\n",
      "Arter filter, motifs of size: 6\n",
      "Dataset size: 35439, Motif: ('ACTGTC', 141)\n",
      "Dataset size: 35521, Motif: ('AATCGT', 140)\n",
      "Dataset size: 35578, Motif: ('CATCGA', 143)\n",
      "Dataset size: 35340, Motif: ('CGAGCT', 140)\n",
      "Dataset size: 35471, Motif: ('TAGCAT', 146)\n",
      "Dataset size: 35502, Motif: ('TCGTGA', 142)\n",
      "Dataset size: 35511, Motif: ('CCTTAG', 148)\n",
      "Dataset size: 35388, Motif: ('ACAGCT', 137)\n",
      "Dataset size: 35488, Motif: ('AGTCTG', 140)\n",
      "Dataset size: 35424, Motif: ('TAGTAC', 141)\n",
      "\n",
      "Arter filter, motifs of size: 8\n",
      "Dataset size: 35350, Motif: ('TCTTAAAG', 18)\n",
      "Dataset size: 35399, Motif: ('AGGTTTAG', 17)\n",
      "Dataset size: 35499, Motif: ('ACGCATAG', 18)\n",
      "Dataset size: 35310, Motif: ('CCTGGACT', 20)\n",
      "Dataset size: 35548, Motif: ('GCCGCATT', 19)\n",
      "Dataset size: 35408, Motif: ('GCAATGTG', 18)\n",
      "Dataset size: 35431, Motif: ('TTGAATCG', 21)\n",
      "Dataset size: 35407, Motif: ('TCGCATAG', 18)\n",
      "Dataset size: 35469, Motif: ('CAGGTATC', 17)\n",
      "Dataset size: 35412, Motif: ('GACGTTAC', 17)\n"
     ]
    }
   ],
   "source": [
    "for size in [6, 8]:\n",
    "    print(f\"\\nArter filter, motifs of size: {size}\")\n",
    "    for i in range(10):\n",
    "        dataset = create_dataset(50000)\n",
    "        dataset = list(filter(filter_shannon, dataset))\n",
    "        print(f\"Dataset size: {len(dataset)}, Motif: {get_motif(size, dataset)}\")"
   ]
  }
 ],
 "metadata": {
  "kernelspec": {
   "display_name": "class_ap",
   "language": "python",
   "name": "python3"
  },
  "language_info": {
   "codemirror_mode": {
    "name": "ipython",
    "version": 3
   },
   "file_extension": ".py",
   "mimetype": "text/x-python",
   "name": "python",
   "nbconvert_exporter": "python",
   "pygments_lexer": "ipython3",
   "version": "3.11.0rc2"
  }
 },
 "nbformat": 4,
 "nbformat_minor": 2
}
